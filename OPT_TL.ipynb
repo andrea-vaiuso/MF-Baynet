{
 "cells": [
  {
   "cell_type": "code",
   "execution_count": 1,
   "metadata": {},
   "outputs": [],
   "source": [
    "import numpy as np\n",
    "import torch.nn as nn\n",
    "import pandas as pd\n",
    "from scalers2 import MinMaxScaler as MMS\n",
    "from utils import PrCol\n",
    "from bnn import BNN, BNNDataset\n",
    "import optuna\n",
    "import torch\n",
    "import copy\n",
    "\n",
    "N_TRIALS = 500\n",
    "SEED = 42\n",
    "BATCH_SIZE = 64\n",
    "DEVICE = torch.device(\"cuda:0\")\n",
    "\n",
    "Color = PrCol()\n",
    "\n",
    "dataset_location = \"Dataset/bscw_dataset.csv\"\n",
    "SEP = \";\"\n",
    "input_labels = [\"mach\",\"aoa\"]\n",
    "output_labels = [\"cl\",\"cm\"]\n",
    "fidelity_column_name = \"fidelity\"\n",
    "fidelities = [\"low\",\"mid\",\"cfd\"]\n",
    "model_name_prefix = \"BSCW\"\n",
    "\n",
    "dataset = pd.read_csv(dataset_location,sep=SEP)\n",
    "scaler = MMS(dataset.drop(columns=[fidelity_column_name], inplace=False),interval=(1,2))\n",
    "normalized_datasets = []\n",
    "for fid in fidelities:\n",
    "    dataset_fidelity = dataset[dataset[fidelity_column_name] == fid]\n",
    "    dataset_fidelity_norm = scaler.scaleDataframe(dataset_fidelity.drop(columns=[fidelity_column_name], inplace=False))\n",
    "    normalized_datasets.append(dataset_fidelity_norm)\n",
    "scaler.save(f\"NormalizationData/{model_name_prefix}_norm.pkl\")\n",
    "\n",
    "dataset_lf = BNNDataset(normalized_datasets[0],input_labels,output_labels, device=DEVICE)\n",
    "dataset_mf = BNNDataset(normalized_datasets[1],input_labels,output_labels, device=DEVICE)\n",
    "dataset_hf = BNNDataset(normalized_datasets[2],input_labels,output_labels, device=DEVICE)\n",
    "dataset_all = BNNDataset(pd.concat([normalized_datasets[0], normalized_datasets[1], normalized_datasets[2]], axis=0),input_labels,output_labels,device=DEVICE)\n",
    "train_lf, valid_lf = dataset_lf.train_val_split(seed=SEED)\n",
    "train_mf, valid_mf = dataset_mf.train_val_split(seed=SEED)\n",
    "train_hf, valid_hf, test_hf = dataset_hf.train_val_test_split(train_size=0.09,val_size=0.2,seed=SEED)\n",
    "max_rows = dataset_hf.data.nlargest(2, ['mach', 'aoa'])\n",
    "train_hf = BNNDataset(pd.concat([train_hf.data,max_rows]),input_labels,output_labels, device=DEVICE)"
   ]
  },
  {
   "cell_type": "code",
   "execution_count": null,
   "metadata": {},
   "outputs": [],
   "source": []
  },
  {
   "cell_type": "code",
   "execution_count": 2,
   "metadata": {},
   "outputs": [
    {
     "name": "stderr",
     "output_type": "stream",
     "text": [
      "[I 2024-05-08 08:40:38,132] A new study created in memory with name: no-name-35c9f1fa-fd63-491e-a17e-1ee1c87a6893\n"
     ]
    },
    {
     "name": "stdout",
     "output_type": "stream",
     "text": [
      "|\u001b[92m█\u001b[0m\u001b[92m█\u001b[0m\u001b[92m█\u001b[0m\u001b[92m█\u001b[0m\u001b[92m█\u001b[0m\u001b[92m█\u001b[0m\u001b[30m█\u001b[0m\u001b[30m█\u001b[0m\u001b[30m█\u001b[0m\u001b[30m█\u001b[0m\u001b[30m█\u001b[0m\u001b[30m█\u001b[0m\u001b[30m█\u001b[0m\u001b[30m█\u001b[0m\u001b[30m█\u001b[0m\u001b[30m█\u001b[0m\u001b[30m█\u001b[0m\u001b[30m█\u001b[0m\u001b[30m█\u001b[0m\u001b[30m█\u001b[0m|(3494/10000) (0.03s avg time) ETA: ~04 min -  MSE (TRAIN) : \u001b[93m0.044329\u001b[0m, MSE (VAL) : \u001b[96m0.044082\u001b[0m -- BEST Val Loss : \u001b[92m0.038897\u001b[0m (at epoch 2992) Eary Stopping in: 0001   \r"
     ]
    },
    {
     "name": "stderr",
     "output_type": "stream",
     "text": [
      "[I 2024-05-08 08:45:15,295] Trial 0 finished with value: 0.02414100617170334 and parameters: {'std': 0.0371, 'num_layers': 5, 'units_0': 144, 'units_1': 112, 'units_2': 32, 'units_3': 32, 'units_4': 16, 'freezed_layer_from_right': 4}. Best is trial 0 with value: 0.02414100617170334.\n"
     ]
    },
    {
     "name": "stdout",
     "output_type": "stream",
     "text": [
      "|\u001b[92m█\u001b[0m\u001b[92m█\u001b[0m\u001b[30m█\u001b[0m\u001b[30m█\u001b[0m\u001b[30m█\u001b[0m\u001b[30m█\u001b[0m\u001b[30m█\u001b[0m\u001b[30m█\u001b[0m\u001b[30m█\u001b[0m\u001b[30m█\u001b[0m\u001b[30m█\u001b[0m\u001b[30m█\u001b[0m\u001b[30m█\u001b[0m\u001b[30m█\u001b[0m\u001b[30m█\u001b[0m\u001b[30m█\u001b[0m\u001b[30m█\u001b[0m\u001b[30m█\u001b[0m\u001b[30m█\u001b[0m\u001b[30m█\u001b[0m|(1118/10000) (0.03s avg time) ETA: ~04 min -  MSE (TRAIN) : \u001b[93m0.048297\u001b[0m, MSE (VAL) : \u001b[96m0.036006\u001b[0m -- BEST Val Loss : \u001b[92m0.021841\u001b[0m (at epoch 616) Eary Stopping in: 0001   \r"
     ]
    },
    {
     "name": "stderr",
     "output_type": "stream",
     "text": [
      "[I 2024-05-08 08:46:45,293] Trial 1 finished with value: 0.04787240922451019 and parameters: {'std': 0.0601, 'num_layers': 4, 'units_0': 16, 'units_1': 176, 'units_2': 160, 'units_3': 48, 'freezed_layer_from_right': 1}. Best is trial 0 with value: 0.02414100617170334.\n"
     ]
    },
    {
     "name": "stdout",
     "output_type": "stream",
     "text": [
      "|\u001b[92m█\u001b[0m\u001b[92m█\u001b[0m\u001b[92m█\u001b[0m\u001b[92m█\u001b[0m\u001b[92m█\u001b[0m\u001b[30m█\u001b[0m\u001b[30m█\u001b[0m\u001b[30m█\u001b[0m\u001b[30m█\u001b[0m\u001b[30m█\u001b[0m\u001b[30m█\u001b[0m\u001b[30m█\u001b[0m\u001b[30m█\u001b[0m\u001b[30m█\u001b[0m\u001b[30m█\u001b[0m\u001b[30m█\u001b[0m\u001b[30m█\u001b[0m\u001b[30m█\u001b[0m\u001b[30m█\u001b[0m\u001b[30m█\u001b[0m|(2639/10000) (0.02s avg time) ETA: ~03 min -  MSE (TRAIN) : \u001b[93m0.101800\u001b[0m, MSE (VAL) : \u001b[96m0.106416\u001b[0m -- BEST Val Loss : \u001b[92m0.100914\u001b[0m (at epoch 2137) Eary Stopping in: 0001   \r"
     ]
    },
    {
     "name": "stderr",
     "output_type": "stream",
     "text": [
      "[I 2024-05-08 08:49:27,826] Trial 2 finished with value: 0.022239889949560165 and parameters: {'std': 0.0181, 'num_layers': 3, 'units_0': 96, 'units_1': 80, 'units_2': 64, 'freezed_layer_from_right': 2}. Best is trial 2 with value: 0.022239889949560165.\n"
     ]
    },
    {
     "name": "stdout",
     "output_type": "stream",
     "text": [
      "|\u001b[92m█\u001b[0m\u001b[92m█\u001b[0m\u001b[92m█\u001b[0m\u001b[30m█\u001b[0m\u001b[30m█\u001b[0m\u001b[30m█\u001b[0m\u001b[30m█\u001b[0m\u001b[30m█\u001b[0m\u001b[30m█\u001b[0m\u001b[30m█\u001b[0m\u001b[30m█\u001b[0m\u001b[30m█\u001b[0m\u001b[30m█\u001b[0m\u001b[30m█\u001b[0m\u001b[30m█\u001b[0m\u001b[30m█\u001b[0m\u001b[30m█\u001b[0m\u001b[30m█\u001b[0m\u001b[30m█\u001b[0m\u001b[30m█\u001b[0m|(1912/10000) (0.02s avg time) ETA: ~03 min -  MSE (TRAIN) : \u001b[93m0.065174\u001b[0m, MSE (VAL) : \u001b[96m0.066718\u001b[0m -- BEST Val Loss : \u001b[92m0.065229\u001b[0m (at epoch 1410) Eary Stopping in: 0001   \r"
     ]
    },
    {
     "name": "stderr",
     "output_type": "stream",
     "text": [
      "[I 2024-05-08 08:54:18,624] Trial 3 finished with value: 0.02351960726082325 and parameters: {'std': 0.0136, 'num_layers': 3, 'units_0': 80, 'units_1': 96, 'units_2': 144, 'freezed_layer_from_right': 1}. Best is trial 2 with value: 0.022239889949560165.\n"
     ]
    },
    {
     "name": "stdout",
     "output_type": "stream",
     "text": [
      "|\u001b[92m█\u001b[0m\u001b[92m█\u001b[0m\u001b[92m█\u001b[0m\u001b[92m█\u001b[0m\u001b[92m█\u001b[0m\u001b[92m█\u001b[0m\u001b[92m█\u001b[0m\u001b[30m█\u001b[0m\u001b[30m█\u001b[0m\u001b[30m█\u001b[0m\u001b[30m█\u001b[0m\u001b[30m█\u001b[0m\u001b[30m█\u001b[0m\u001b[30m█\u001b[0m\u001b[30m█\u001b[0m\u001b[30m█\u001b[0m\u001b[30m█\u001b[0m\u001b[30m█\u001b[0m\u001b[30m█\u001b[0m\u001b[30m█\u001b[0m|(3579/10000) (0.03s avg time) ETA: ~04 min -  MSE (TRAIN) : \u001b[93m0.041610\u001b[0m, MSE (VAL) : \u001b[96m0.046858\u001b[0m -- BEST Val Loss : \u001b[92m0.036678\u001b[0m (at epoch 3077) Eary Stopping in: 0001   \r"
     ]
    },
    {
     "name": "stderr",
     "output_type": "stream",
     "text": [
      "[I 2024-05-08 08:57:39,767] Trial 4 finished with value: 0.034640781581401825 and parameters: {'std': 0.051100000000000007, 'num_layers': 4, 'units_0': 16, 'units_1': 112, 'units_2': 32, 'units_3': 16, 'freezed_layer_from_right': 3}. Best is trial 2 with value: 0.022239889949560165.\n"
     ]
    },
    {
     "name": "stdout",
     "output_type": "stream",
     "text": [
      "|\u001b[92m█\u001b[0m\u001b[30m█\u001b[0m\u001b[30m█\u001b[0m\u001b[30m█\u001b[0m\u001b[30m█\u001b[0m\u001b[30m█\u001b[0m\u001b[30m█\u001b[0m\u001b[30m█\u001b[0m\u001b[30m█\u001b[0m\u001b[30m█\u001b[0m\u001b[30m█\u001b[0m\u001b[30m█\u001b[0m\u001b[30m█\u001b[0m\u001b[30m█\u001b[0m\u001b[30m█\u001b[0m\u001b[30m█\u001b[0m\u001b[30m█\u001b[0m\u001b[30m█\u001b[0m\u001b[30m█\u001b[0m\u001b[30m█\u001b[0m|(801/10000) (0.03s avg time) ETA: ~05 min -  MSE (TRAIN) : \u001b[93m0.174073\u001b[0m, MSE (VAL) : \u001b[96m0.042959\u001b[0m -- BEST Val Loss : \u001b[92m0.020404\u001b[0m (at epoch 299) Eary Stopping in: 0001   \r"
     ]
    },
    {
     "name": "stderr",
     "output_type": "stream",
     "text": [
      "[I 2024-05-08 08:59:20,260] Trial 5 finished with value: 0.06953514367341995 and parameters: {'std': 0.0966, 'num_layers': 5, 'units_0': 64, 'units_1': 32, 'units_2': 128, 'units_3': 80, 'units_4': 32, 'freezed_layer_from_right': 2}. Best is trial 2 with value: 0.022239889949560165.\n"
     ]
    },
    {
     "name": "stdout",
     "output_type": "stream",
     "text": [
      "|\u001b[92m█\u001b[0m\u001b[92m█\u001b[0m\u001b[30m█\u001b[0m\u001b[30m█\u001b[0m\u001b[30m█\u001b[0m\u001b[30m█\u001b[0m\u001b[30m█\u001b[0m\u001b[30m█\u001b[0m\u001b[30m█\u001b[0m\u001b[30m█\u001b[0m\u001b[30m█\u001b[0m\u001b[30m█\u001b[0m\u001b[30m█\u001b[0m\u001b[30m█\u001b[0m\u001b[30m█\u001b[0m\u001b[30m█\u001b[0m\u001b[30m█\u001b[0m\u001b[30m█\u001b[0m\u001b[30m█\u001b[0m\u001b[30m█\u001b[0m|(1362/10000) (0.03s avg time) ETA: ~05 min -  MSE (TRAIN) : \u001b[93m0.253344\u001b[0m, MSE (VAL) : \u001b[96m0.256743\u001b[0m -- BEST Val Loss : \u001b[92m0.255532\u001b[0m (at epoch 860) Eary Stopping in: 0001   \r"
     ]
    },
    {
     "name": "stderr",
     "output_type": "stream",
     "text": [
      "[I 2024-05-08 09:04:40,458] Trial 6 finished with value: 0.038009271025657654 and parameters: {'std': 0.0031, 'num_layers': 5, 'units_0': 48, 'units_1': 128, 'units_2': 64, 'units_3': 96, 'units_4': 112, 'freezed_layer_from_right': 1}. Best is trial 2 with value: 0.022239889949560165.\n"
     ]
    },
    {
     "name": "stdout",
     "output_type": "stream",
     "text": [
      "|\u001b[92m█\u001b[0m\u001b[92m█\u001b[0m\u001b[30m█\u001b[0m\u001b[30m█\u001b[0m\u001b[30m█\u001b[0m\u001b[30m█\u001b[0m\u001b[30m█\u001b[0m\u001b[30m█\u001b[0m\u001b[30m█\u001b[0m\u001b[30m█\u001b[0m\u001b[30m█\u001b[0m\u001b[30m█\u001b[0m\u001b[30m█\u001b[0m\u001b[30m█\u001b[0m\u001b[30m█\u001b[0m\u001b[30m█\u001b[0m\u001b[30m█\u001b[0m\u001b[30m█\u001b[0m\u001b[30m█\u001b[0m\u001b[30m█\u001b[0m|(1465/10000) (0.03s avg time) ETA: ~05 min -  MSE (TRAIN) : \u001b[93m0.055577\u001b[0m, MSE (VAL) : \u001b[96m0.030980\u001b[0m -- BEST Val Loss : \u001b[92m0.014304\u001b[0m (at epoch 963) Eary Stopping in: 0001   \r"
     ]
    },
    {
     "name": "stderr",
     "output_type": "stream",
     "text": [
      "[I 2024-05-08 09:07:11,252] Trial 7 finished with value: 0.055716998875141144 and parameters: {'std': 0.0966, 'num_layers': 5, 'units_0': 176, 'units_1': 160, 'units_2': 112, 'units_3': 176, 'units_4': 16, 'freezed_layer_from_right': 1}. Best is trial 2 with value: 0.022239889949560165.\n"
     ]
    },
    {
     "name": "stdout",
     "output_type": "stream",
     "text": [
      "|\u001b[92m█\u001b[0m\u001b[92m█\u001b[0m\u001b[92m█\u001b[0m\u001b[92m█\u001b[0m\u001b[30m█\u001b[0m\u001b[30m█\u001b[0m\u001b[30m█\u001b[0m\u001b[30m█\u001b[0m\u001b[30m█\u001b[0m\u001b[30m█\u001b[0m\u001b[30m█\u001b[0m\u001b[30m█\u001b[0m\u001b[30m█\u001b[0m\u001b[30m█\u001b[0m\u001b[30m█\u001b[0m\u001b[30m█\u001b[0m\u001b[30m█\u001b[0m\u001b[30m█\u001b[0m\u001b[30m█\u001b[0m\u001b[30m█\u001b[0m|(2068/10000) (0.02s avg time) ETA: ~04 min -  MSE (TRAIN) : \u001b[93m0.254168\u001b[0m, MSE (VAL) : \u001b[96m0.256891\u001b[0m -- BEST Val Loss : \u001b[92m0.255459\u001b[0m (at epoch 1566) Eary Stopping in: 0001   \r"
     ]
    },
    {
     "name": "stderr",
     "output_type": "stream",
     "text": [
      "[I 2024-05-08 09:11:54,737] Trial 8 finished with value: 0.036388978362083435 and parameters: {'std': 0.004600000000000001, 'num_layers': 3, 'units_0': 80, 'units_1': 48, 'units_2': 160, 'freezed_layer_from_right': 1}. Best is trial 2 with value: 0.022239889949560165.\n"
     ]
    },
    {
     "name": "stdout",
     "output_type": "stream",
     "text": [
      "|\u001b[92m█\u001b[0m\u001b[92m█\u001b[0m\u001b[92m█\u001b[0m\u001b[92m█\u001b[0m\u001b[92m█\u001b[0m\u001b[92m█\u001b[0m\u001b[92m█\u001b[0m\u001b[30m█\u001b[0m\u001b[30m█\u001b[0m\u001b[30m█\u001b[0m\u001b[30m█\u001b[0m\u001b[30m█\u001b[0m\u001b[30m█\u001b[0m\u001b[30m█\u001b[0m\u001b[30m█\u001b[0m\u001b[30m█\u001b[0m\u001b[30m█\u001b[0m\u001b[30m█\u001b[0m\u001b[30m█\u001b[0m\u001b[30m█\u001b[0m|(3566/10000) (0.03s avg time) ETA: ~03 min -  MSE (TRAIN) : \u001b[93m0.036487\u001b[0m, MSE (VAL) : \u001b[96m0.032384\u001b[0m -- BEST Val Loss : \u001b[92m0.031974\u001b[0m (at epoch 3064) Eary Stopping in: 0001   \r"
     ]
    },
    {
     "name": "stderr",
     "output_type": "stream",
     "text": [
      "[I 2024-05-08 09:17:54,424] Trial 9 finished with value: 0.024483412504196167 and parameters: {'std': 0.0281, 'num_layers': 4, 'units_0': 32, 'units_1': 144, 'units_2': 16, 'units_3': 176, 'freezed_layer_from_right': 3}. Best is trial 2 with value: 0.022239889949560165.\n"
     ]
    },
    {
     "name": "stdout",
     "output_type": "stream",
     "text": [
      "|\u001b[92m█\u001b[0m\u001b[30m█\u001b[0m\u001b[30m█\u001b[0m\u001b[30m█\u001b[0m\u001b[30m█\u001b[0m\u001b[30m█\u001b[0m\u001b[30m█\u001b[0m\u001b[30m█\u001b[0m\u001b[30m█\u001b[0m\u001b[30m█\u001b[0m\u001b[30m█\u001b[0m\u001b[30m█\u001b[0m\u001b[30m█\u001b[0m\u001b[30m█\u001b[0m\u001b[30m█\u001b[0m\u001b[30m█\u001b[0m\u001b[30m█\u001b[0m\u001b[30m█\u001b[0m\u001b[30m█\u001b[0m\u001b[30m█\u001b[0m|(849/10000) (0.02s avg time) ETA: ~04 min -  MSE (TRAIN) : \u001b[93m0.041539\u001b[0m, MSE (VAL) : \u001b[96m0.047741\u001b[0m -- BEST Val Loss : \u001b[92m0.035732\u001b[0m (at epoch 347) Eary Stopping in: 0001   \r"
     ]
    },
    {
     "name": "stderr",
     "output_type": "stream",
     "text": [
      "[I 2024-05-08 09:18:44,849] Trial 10 finished with value: 0.029297303408384323 and parameters: {'std': 0.0671, 'num_layers': 2, 'units_0': 128, 'units_1': 64, 'freezed_layer_from_right': 1}. Best is trial 2 with value: 0.022239889949560165.\n"
     ]
    },
    {
     "name": "stdout",
     "output_type": "stream",
     "text": [
      "|\u001b[92m█\u001b[0m\u001b[92m█\u001b[0m\u001b[92m█\u001b[0m\u001b[30m█\u001b[0m\u001b[30m█\u001b[0m\u001b[30m█\u001b[0m\u001b[30m█\u001b[0m\u001b[30m█\u001b[0m\u001b[30m█\u001b[0m\u001b[30m█\u001b[0m\u001b[30m█\u001b[0m\u001b[30m█\u001b[0m\u001b[30m█\u001b[0m\u001b[30m█\u001b[0m\u001b[30m█\u001b[0m\u001b[30m█\u001b[0m\u001b[30m█\u001b[0m\u001b[30m█\u001b[0m\u001b[30m█\u001b[0m\u001b[30m█\u001b[0m|(1699/10000) (0.02s avg time) ETA: ~03 min -  MSE (TRAIN) : \u001b[93m0.101573\u001b[0m, MSE (VAL) : \u001b[96m0.118920\u001b[0m -- BEST Val Loss : \u001b[92m0.097938\u001b[0m (at epoch 1197) Eary Stopping in: 0001   \r"
     ]
    },
    {
     "name": "stderr",
     "output_type": "stream",
     "text": [
      "[I 2024-05-08 09:20:59,189] Trial 11 finished with value: 0.020490802824497223 and parameters: {'std': 0.0231, 'num_layers': 2, 'units_0': 112, 'units_1': 80, 'freezed_layer_from_right': 1}. Best is trial 11 with value: 0.020490802824497223.\n"
     ]
    },
    {
     "name": "stdout",
     "output_type": "stream",
     "text": [
      "|\u001b[92m█\u001b[0m\u001b[92m█\u001b[0m\u001b[92m█\u001b[0m\u001b[92m█\u001b[0m\u001b[92m█\u001b[0m\u001b[92m█\u001b[0m\u001b[92m█\u001b[0m\u001b[30m█\u001b[0m\u001b[30m█\u001b[0m\u001b[30m█\u001b[0m\u001b[30m█\u001b[0m\u001b[30m█\u001b[0m\u001b[30m█\u001b[0m\u001b[30m█\u001b[0m\u001b[30m█\u001b[0m\u001b[30m█\u001b[0m\u001b[30m█\u001b[0m\u001b[30m█\u001b[0m\u001b[30m█\u001b[0m\u001b[30m█\u001b[0m|(3831/10000) (0.02s avg time) ETA: ~03 min -  MSE (TRAIN) : \u001b[93m0.060449\u001b[0m, MSE (VAL) : \u001b[96m0.060633\u001b[0m -- BEST Val Loss : \u001b[92m0.059677\u001b[0m (at epoch 3329) Eary Stopping in: 0001   \r"
     ]
    },
    {
     "name": "stderr",
     "output_type": "stream",
     "text": [
      "[I 2024-05-08 09:26:13,699] Trial 12 finished with value: 0.018475834280252457 and parameters: {'std': 0.0261, 'num_layers': 2, 'units_0': 112, 'units_1': 80, 'freezed_layer_from_right': 1}. Best is trial 12 with value: 0.018475834280252457.\n"
     ]
    },
    {
     "name": "stdout",
     "output_type": "stream",
     "text": [
      "|\u001b[92m█\u001b[0m\u001b[92m█\u001b[0m\u001b[30m█\u001b[0m\u001b[30m█\u001b[0m\u001b[30m█\u001b[0m\u001b[30m█\u001b[0m\u001b[30m█\u001b[0m\u001b[30m█\u001b[0m\u001b[30m█\u001b[0m\u001b[30m█\u001b[0m\u001b[30m█\u001b[0m\u001b[30m█\u001b[0m\u001b[30m█\u001b[0m\u001b[30m█\u001b[0m\u001b[30m█\u001b[0m\u001b[30m█\u001b[0m\u001b[30m█\u001b[0m\u001b[30m█\u001b[0m\u001b[30m█\u001b[0m\u001b[30m█\u001b[0m|(1013/10000) (0.02s avg time) ETA: ~04 min -  MSE (TRAIN) : \u001b[93m0.152649\u001b[0m, MSE (VAL) : \u001b[96m0.155104\u001b[0m -- BEST Val Loss : \u001b[92m0.147204\u001b[0m (at epoch 511) Eary Stopping in: 0001   \r"
     ]
    },
    {
     "name": "stderr",
     "output_type": "stream",
     "text": [
      "[I 2024-05-08 09:28:03,233] Trial 13 finished with value: 0.02245694398880005 and parameters: {'std': 0.03560000000000001, 'num_layers': 2, 'units_0': 128, 'units_1': 16, 'freezed_layer_from_right': 1}. Best is trial 12 with value: 0.018475834280252457.\n"
     ]
    },
    {
     "name": "stdout",
     "output_type": "stream",
     "text": [
      "|\u001b[92m█\u001b[0m\u001b[92m█\u001b[0m\u001b[92m█\u001b[0m\u001b[92m█\u001b[0m\u001b[30m█\u001b[0m\u001b[30m█\u001b[0m\u001b[30m█\u001b[0m\u001b[30m█\u001b[0m\u001b[30m█\u001b[0m\u001b[30m█\u001b[0m\u001b[30m█\u001b[0m\u001b[30m█\u001b[0m\u001b[30m█\u001b[0m\u001b[30m█\u001b[0m\u001b[30m█\u001b[0m\u001b[30m█\u001b[0m\u001b[30m█\u001b[0m\u001b[30m█\u001b[0m\u001b[30m█\u001b[0m\u001b[30m█\u001b[0m|(2069/10000) (0.02s avg time) ETA: ~03 min -  MSE (TRAIN) : \u001b[93m0.063948\u001b[0m, MSE (VAL) : \u001b[96m0.064251\u001b[0m -- BEST Val Loss : \u001b[92m0.063140\u001b[0m (at epoch 1567) Eary Stopping in: 0001   \r"
     ]
    },
    {
     "name": "stderr",
     "output_type": "stream",
     "text": [
      "[I 2024-05-08 09:31:29,682] Trial 14 finished with value: 0.021406961604952812 and parameters: {'std': 0.0261, 'num_layers': 2, 'units_0': 112, 'units_1': 80, 'freezed_layer_from_right': 1}. Best is trial 12 with value: 0.018475834280252457.\n"
     ]
    },
    {
     "name": "stdout",
     "output_type": "stream",
     "text": [
      "|\u001b[92m█\u001b[0m\u001b[92m█\u001b[0m\u001b[30m█\u001b[0m\u001b[30m█\u001b[0m\u001b[30m█\u001b[0m\u001b[30m█\u001b[0m\u001b[30m█\u001b[0m\u001b[30m█\u001b[0m\u001b[30m█\u001b[0m\u001b[30m█\u001b[0m\u001b[30m█\u001b[0m\u001b[30m█\u001b[0m\u001b[30m█\u001b[0m\u001b[30m█\u001b[0m\u001b[30m█\u001b[0m\u001b[30m█\u001b[0m\u001b[30m█\u001b[0m\u001b[30m█\u001b[0m\u001b[30m█\u001b[0m\u001b[30m█\u001b[0m|(1254/10000) (0.02s avg time) ETA: ~04 min -  MSE (TRAIN) : \u001b[93m0.058267\u001b[0m, MSE (VAL) : \u001b[96m0.054291\u001b[0m -- BEST Val Loss : \u001b[92m0.052774\u001b[0m (at epoch 752) Eary Stopping in: 0001   \r"
     ]
    },
    {
     "name": "stderr",
     "output_type": "stream",
     "text": [
      "[I 2024-05-08 09:33:34,107] Trial 15 finished with value: 0.028142811730504036 and parameters: {'std': 0.0446, 'num_layers': 2, 'units_0': 160, 'units_1': 64, 'freezed_layer_from_right': 1}. Best is trial 12 with value: 0.018475834280252457.\n"
     ]
    },
    {
     "name": "stdout",
     "output_type": "stream",
     "text": [
      "|\u001b[92m█\u001b[0m\u001b[92m█\u001b[0m\u001b[92m█\u001b[0m\u001b[92m█\u001b[0m\u001b[92m█\u001b[0m\u001b[92m█\u001b[0m\u001b[30m█\u001b[0m\u001b[30m█\u001b[0m\u001b[30m█\u001b[0m\u001b[30m█\u001b[0m\u001b[30m█\u001b[0m\u001b[30m█\u001b[0m\u001b[30m█\u001b[0m\u001b[30m█\u001b[0m\u001b[30m█\u001b[0m\u001b[30m█\u001b[0m\u001b[30m█\u001b[0m\u001b[30m█\u001b[0m\u001b[30m█\u001b[0m\u001b[30m█\u001b[0m|(3056/10000) (0.02s avg time) ETA: ~03 min -  MSE (TRAIN) : \u001b[93m0.130310\u001b[0m, MSE (VAL) : \u001b[96m0.027713\u001b[0m -- BEST Val Loss : \u001b[92m0.020956\u001b[0m (at epoch 2554) Eary Stopping in: 0001   \r"
     ]
    },
    {
     "name": "stderr",
     "output_type": "stream",
     "text": [
      "[I 2024-05-08 09:36:16,136] Trial 16 finished with value: 0.046040523797273636 and parameters: {'std': 0.0756, 'num_layers': 3, 'units_0': 112, 'units_1': 96, 'units_2': 80, 'freezed_layer_from_right': 1}. Best is trial 12 with value: 0.018475834280252457.\n"
     ]
    },
    {
     "name": "stdout",
     "output_type": "stream",
     "text": [
      "|\u001b[92m█\u001b[0m\u001b[92m█\u001b[0m\u001b[92m█\u001b[0m\u001b[92m█\u001b[0m\u001b[30m█\u001b[0m\u001b[30m█\u001b[0m\u001b[30m█\u001b[0m\u001b[30m█\u001b[0m\u001b[30m█\u001b[0m\u001b[30m█\u001b[0m\u001b[30m█\u001b[0m\u001b[30m█\u001b[0m\u001b[30m█\u001b[0m\u001b[30m█\u001b[0m\u001b[30m█\u001b[0m\u001b[30m█\u001b[0m\u001b[30m█\u001b[0m\u001b[30m█\u001b[0m\u001b[30m█\u001b[0m\u001b[30m█\u001b[0m|(2014/10000) (0.02s avg time) ETA: ~03 min -  MSE (TRAIN) : \u001b[93m0.117877\u001b[0m, MSE (VAL) : \u001b[96m0.119086\u001b[0m -- BEST Val Loss : \u001b[92m0.117956\u001b[0m (at epoch 1512) Eary Stopping in: 0001   \r"
     ]
    },
    {
     "name": "stderr",
     "output_type": "stream",
     "text": [
      "[I 2024-05-08 09:39:15,315] Trial 17 finished with value: 0.02246893011033535 and parameters: {'std': 0.0211, 'num_layers': 2, 'units_0': 96, 'units_1': 48, 'freezed_layer_from_right': 1}. Best is trial 12 with value: 0.018475834280252457.\n"
     ]
    },
    {
     "name": "stdout",
     "output_type": "stream",
     "text": [
      "|\u001b[92m█\u001b[0m\u001b[92m█\u001b[0m\u001b[92m█\u001b[0m\u001b[92m█\u001b[0m\u001b[92m█\u001b[0m\u001b[30m█\u001b[0m\u001b[30m█\u001b[0m\u001b[30m█\u001b[0m\u001b[30m█\u001b[0m\u001b[30m█\u001b[0m\u001b[30m█\u001b[0m\u001b[30m█\u001b[0m\u001b[30m█\u001b[0m\u001b[30m█\u001b[0m\u001b[30m█\u001b[0m\u001b[30m█\u001b[0m\u001b[30m█\u001b[0m\u001b[30m█\u001b[0m\u001b[30m█\u001b[0m\u001b[30m█\u001b[0m|(2631/10000) (0.02s avg time) ETA: ~03 min -  MSE (TRAIN) : \u001b[93m0.062005\u001b[0m, MSE (VAL) : \u001b[96m0.064137\u001b[0m -- BEST Val Loss : \u001b[92m0.062997\u001b[0m (at epoch 2129) Eary Stopping in: 0001   \r"
     ]
    },
    {
     "name": "stderr",
     "output_type": "stream",
     "text": [
      "[I 2024-05-08 09:44:07,918] Trial 18 finished with value: 0.022733064368367195 and parameters: {'std': 0.011099999999999999, 'num_layers': 2, 'units_0': 144, 'units_1': 96, 'freezed_layer_from_right': 1}. Best is trial 12 with value: 0.018475834280252457.\n"
     ]
    },
    {
     "name": "stdout",
     "output_type": "stream",
     "text": [
      "|\u001b[92m█\u001b[0m\u001b[92m█\u001b[0m\u001b[92m█\u001b[0m\u001b[92m█\u001b[0m\u001b[92m█\u001b[0m\u001b[30m█\u001b[0m\u001b[30m█\u001b[0m\u001b[30m█\u001b[0m\u001b[30m█\u001b[0m\u001b[30m█\u001b[0m\u001b[30m█\u001b[0m\u001b[30m█\u001b[0m\u001b[30m█\u001b[0m\u001b[30m█\u001b[0m\u001b[30m█\u001b[0m\u001b[30m█\u001b[0m\u001b[30m█\u001b[0m\u001b[30m█\u001b[0m\u001b[30m█\u001b[0m\u001b[30m█\u001b[0m|(2579/10000) (0.02s avg time) ETA: ~03 min -  MSE (TRAIN) : \u001b[93m0.057763\u001b[0m, MSE (VAL) : \u001b[96m0.068968\u001b[0m -- BEST Val Loss : \u001b[92m0.055951\u001b[0m (at epoch 2077) Eary Stopping in: 0001   \r"
     ]
    },
    {
     "name": "stderr",
     "output_type": "stream",
     "text": [
      "[I 2024-05-08 09:48:46,997] Trial 19 finished with value: 0.02418430894613266 and parameters: {'std': 0.0391, 'num_layers': 3, 'units_0': 112, 'units_1': 16, 'units_2': 176, 'freezed_layer_from_right': 2}. Best is trial 12 with value: 0.018475834280252457.\n"
     ]
    },
    {
     "name": "stdout",
     "output_type": "stream",
     "text": [
      "|\u001b[92m█\u001b[0m\u001b[30m█\u001b[0m\u001b[30m█\u001b[0m\u001b[30m█\u001b[0m\u001b[30m█\u001b[0m\u001b[30m█\u001b[0m\u001b[30m█\u001b[0m\u001b[30m█\u001b[0m\u001b[30m█\u001b[0m\u001b[30m█\u001b[0m\u001b[30m█\u001b[0m\u001b[30m█\u001b[0m\u001b[30m█\u001b[0m\u001b[30m█\u001b[0m\u001b[30m█\u001b[0m\u001b[30m█\u001b[0m\u001b[30m█\u001b[0m\u001b[30m█\u001b[0m\u001b[30m█\u001b[0m\u001b[30m█\u001b[0m|(671/10000) (0.02s avg time) ETA: ~04 min -  MSE (TRAIN) : \u001b[93m0.062185\u001b[0m, MSE (VAL) : \u001b[96m0.175485\u001b[0m -- BEST Val Loss : \u001b[92m0.049347\u001b[0m (at epoch 169) Eary Stopping in: 0001   \r"
     ]
    },
    {
     "name": "stderr",
     "output_type": "stream",
     "text": [
      "[I 2024-05-08 09:49:35,080] Trial 20 finished with value: 0.04030688479542732 and parameters: {'std': 0.0526, 'num_layers': 2, 'units_0': 176, 'units_1': 64, 'freezed_layer_from_right': 1}. Best is trial 12 with value: 0.018475834280252457.\n"
     ]
    },
    {
     "name": "stdout",
     "output_type": "stream",
     "text": [
      "|\u001b[92m█\u001b[0m\u001b[92m█\u001b[0m\u001b[30m█\u001b[0m\u001b[30m█\u001b[0m\u001b[30m█\u001b[0m\u001b[30m█\u001b[0m\u001b[30m█\u001b[0m\u001b[30m█\u001b[0m\u001b[30m█\u001b[0m\u001b[30m█\u001b[0m\u001b[30m█\u001b[0m\u001b[30m█\u001b[0m\u001b[30m█\u001b[0m\u001b[30m█\u001b[0m\u001b[30m█\u001b[0m\u001b[30m█\u001b[0m\u001b[30m█\u001b[0m\u001b[30m█\u001b[0m\u001b[30m█\u001b[0m\u001b[30m█\u001b[0m|(1211/10000) (0.02s avg time) ETA: ~04 min -  MSE (TRAIN) : \u001b[93m0.116195\u001b[0m, MSE (VAL) : \u001b[96m0.093632\u001b[0m -- BEST Val Loss : \u001b[92m0.091239\u001b[0m (at epoch 709) Eary Stopping in: 0001   \r"
     ]
    },
    {
     "name": "stderr",
     "output_type": "stream",
     "text": [
      "[I 2024-05-08 09:51:28,551] Trial 21 finished with value: 0.02078917622566223 and parameters: {'std': 0.0266, 'num_layers': 2, 'units_0': 112, 'units_1': 80, 'freezed_layer_from_right': 1}. Best is trial 12 with value: 0.018475834280252457.\n"
     ]
    },
    {
     "name": "stdout",
     "output_type": "stream",
     "text": [
      "|\u001b[92m█\u001b[0m\u001b[92m█\u001b[0m\u001b[30m█\u001b[0m\u001b[30m█\u001b[0m\u001b[30m█\u001b[0m\u001b[30m█\u001b[0m\u001b[30m█\u001b[0m\u001b[30m█\u001b[0m\u001b[30m█\u001b[0m\u001b[30m█\u001b[0m\u001b[30m█\u001b[0m\u001b[30m█\u001b[0m\u001b[30m█\u001b[0m\u001b[30m█\u001b[0m\u001b[30m█\u001b[0m\u001b[30m█\u001b[0m\u001b[30m█\u001b[0m\u001b[30m█\u001b[0m\u001b[30m█\u001b[0m\u001b[30m█\u001b[0m|(1269/10000) (0.02s avg time) ETA: ~04 min -  MSE (TRAIN) : \u001b[93m0.119458\u001b[0m, MSE (VAL) : \u001b[96m0.107306\u001b[0m -- BEST Val Loss : \u001b[92m0.095053\u001b[0m (at epoch 767) Eary Stopping in: 0001   \r"
     ]
    },
    {
     "name": "stderr",
     "output_type": "stream",
     "text": [
      "[I 2024-05-08 09:52:42,532] Trial 22 finished with value: 0.035920917987823486 and parameters: {'std': 0.0286, 'num_layers': 2, 'units_0': 96, 'units_1': 80, 'freezed_layer_from_right': 1}. Best is trial 12 with value: 0.018475834280252457.\n"
     ]
    },
    {
     "name": "stdout",
     "output_type": "stream",
     "text": [
      "|\u001b[92m█\u001b[0m\u001b[92m█\u001b[0m\u001b[30m█\u001b[0m\u001b[30m█\u001b[0m\u001b[30m█\u001b[0m\u001b[30m█\u001b[0m\u001b[30m█\u001b[0m\u001b[30m█\u001b[0m\u001b[30m█\u001b[0m\u001b[30m█\u001b[0m\u001b[30m█\u001b[0m\u001b[30m█\u001b[0m\u001b[30m█\u001b[0m\u001b[30m█\u001b[0m\u001b[30m█\u001b[0m\u001b[30m█\u001b[0m\u001b[30m█\u001b[0m\u001b[30m█\u001b[0m\u001b[30m█\u001b[0m\u001b[30m█\u001b[0m|(1358/10000) (0.02s avg time) ETA: ~04 min -  MSE (TRAIN) : \u001b[93m0.066757\u001b[0m, MSE (VAL) : \u001b[96m0.064176\u001b[0m -- BEST Val Loss : \u001b[92m0.063418\u001b[0m (at epoch 856) Eary Stopping in: 0001   \r"
     ]
    },
    {
     "name": "stderr",
     "output_type": "stream",
     "text": [
      "[I 2024-05-08 09:53:56,625] Trial 23 finished with value: 0.02410207875072956 and parameters: {'std': 0.0306, 'num_layers': 3, 'units_0': 128, 'units_1': 112, 'units_2': 96, 'freezed_layer_from_right': 1}. Best is trial 12 with value: 0.018475834280252457.\n"
     ]
    },
    {
     "name": "stdout",
     "output_type": "stream",
     "text": [
      "|\u001b[92m█\u001b[0m\u001b[92m█\u001b[0m\u001b[92m█\u001b[0m\u001b[30m█\u001b[0m\u001b[30m█\u001b[0m\u001b[30m█\u001b[0m\u001b[30m█\u001b[0m\u001b[30m█\u001b[0m\u001b[30m█\u001b[0m\u001b[30m█\u001b[0m\u001b[30m█\u001b[0m\u001b[30m█\u001b[0m\u001b[30m█\u001b[0m\u001b[30m█\u001b[0m\u001b[30m█\u001b[0m\u001b[30m█\u001b[0m\u001b[30m█\u001b[0m\u001b[30m█\u001b[0m\u001b[30m█\u001b[0m\u001b[30m█\u001b[0m|(1565/10000) (0.02s avg time) ETA: ~04 min -  MSE (TRAIN) : \u001b[93m0.066463\u001b[0m, MSE (VAL) : \u001b[96m0.066674\u001b[0m -- BEST Val Loss : \u001b[92m0.064860\u001b[0m (at epoch 1063) Eary Stopping in: 0001   \r"
     ]
    },
    {
     "name": "stderr",
     "output_type": "stream",
     "text": [
      "[I 2024-05-08 09:58:21,709] Trial 24 finished with value: 0.02278456650674343 and parameters: {'std': 0.0191, 'num_layers': 2, 'units_0': 80, 'units_1': 80, 'freezed_layer_from_right': 1}. Best is trial 12 with value: 0.018475834280252457.\n"
     ]
    },
    {
     "name": "stdout",
     "output_type": "stream",
     "text": [
      "|\u001b[92m█\u001b[0m\u001b[92m█\u001b[0m\u001b[92m█\u001b[0m\u001b[92m█\u001b[0m\u001b[30m█\u001b[0m\u001b[30m█\u001b[0m\u001b[30m█\u001b[0m\u001b[30m█\u001b[0m\u001b[30m█\u001b[0m\u001b[30m█\u001b[0m\u001b[30m█\u001b[0m\u001b[30m█\u001b[0m\u001b[30m█\u001b[0m\u001b[30m█\u001b[0m\u001b[30m█\u001b[0m\u001b[30m█\u001b[0m\u001b[30m█\u001b[0m\u001b[30m█\u001b[0m\u001b[30m█\u001b[0m\u001b[30m█\u001b[0m|(2249/10000) (0.02s avg time) ETA: ~03 min -  MSE (TRAIN) : \u001b[93m0.066707\u001b[0m, MSE (VAL) : \u001b[96m0.069117\u001b[0m -- BEST Val Loss : \u001b[92m0.067900\u001b[0m (at epoch 1747) Eary Stopping in: 0001   \r"
     ]
    },
    {
     "name": "stderr",
     "output_type": "stream",
     "text": [
      "[I 2024-05-08 10:03:01,568] Trial 25 finished with value: 0.024026090279221535 and parameters: {'std': 0.0121, 'num_layers': 2, 'units_0': 144, 'units_1': 48, 'freezed_layer_from_right': 1}. Best is trial 12 with value: 0.018475834280252457.\n"
     ]
    },
    {
     "name": "stdout",
     "output_type": "stream",
     "text": [
      "|\u001b[92m█\u001b[0m\u001b[92m█\u001b[0m\u001b[30m█\u001b[0m\u001b[30m█\u001b[0m\u001b[30m█\u001b[0m\u001b[30m█\u001b[0m\u001b[30m█\u001b[0m\u001b[30m█\u001b[0m\u001b[30m█\u001b[0m\u001b[30m█\u001b[0m\u001b[30m█\u001b[0m\u001b[30m█\u001b[0m\u001b[30m█\u001b[0m\u001b[30m█\u001b[0m\u001b[30m█\u001b[0m\u001b[30m█\u001b[0m\u001b[30m█\u001b[0m\u001b[30m█\u001b[0m\u001b[30m█\u001b[0m\u001b[30m█\u001b[0m|(1076/10000) (0.02s avg time) ETA: ~04 min -  MSE (TRAIN) : \u001b[93m0.091523\u001b[0m, MSE (VAL) : \u001b[96m0.062438\u001b[0m -- BEST Val Loss : \u001b[92m0.035649\u001b[0m (at epoch 574) Eary Stopping in: 0001   \r"
     ]
    },
    {
     "name": "stderr",
     "output_type": "stream",
     "text": [
      "[I 2024-05-08 10:04:48,256] Trial 26 finished with value: 0.023485397920012474 and parameters: {'std': 0.0446, 'num_layers': 3, 'units_0': 112, 'units_1': 128, 'units_2': 112, 'freezed_layer_from_right': 1}. Best is trial 12 with value: 0.018475834280252457.\n"
     ]
    },
    {
     "name": "stdout",
     "output_type": "stream",
     "text": [
      "|\u001b[92m█\u001b[0m\u001b[30m█\u001b[0m\u001b[30m█\u001b[0m\u001b[30m█\u001b[0m\u001b[30m█\u001b[0m\u001b[30m█\u001b[0m\u001b[30m█\u001b[0m\u001b[30m█\u001b[0m\u001b[30m█\u001b[0m\u001b[30m█\u001b[0m\u001b[30m█\u001b[0m\u001b[30m█\u001b[0m\u001b[30m█\u001b[0m\u001b[30m█\u001b[0m\u001b[30m█\u001b[0m\u001b[30m█\u001b[0m\u001b[30m█\u001b[0m\u001b[30m█\u001b[0m\u001b[30m█\u001b[0m\u001b[30m█\u001b[0m|(936/10000) (0.02s avg time) ETA: ~04 min -  MSE (TRAIN) : \u001b[93m2.474741\u001b[0m, MSE (VAL) : \u001b[96m2.445829\u001b[0m -- BEST Val Loss : \u001b[92m2.432507\u001b[0m (at epoch 434) Eary Stopping in: 0001   \r"
     ]
    },
    {
     "name": "stderr",
     "output_type": "stream",
     "text": [
      "[I 2024-05-08 10:07:22,736] Trial 27 finished with value: 0.1929243505001068 and parameters: {'std': 0.0016, 'num_layers': 2, 'units_0': 64, 'units_1': 64, 'freezed_layer_from_right': 1}. Best is trial 12 with value: 0.018475834280252457.\n"
     ]
    },
    {
     "name": "stdout",
     "output_type": "stream",
     "text": [
      "|\u001b[92m█\u001b[0m\u001b[92m█\u001b[0m\u001b[92m█\u001b[0m\u001b[92m█\u001b[0m\u001b[92m█\u001b[0m\u001b[92m█\u001b[0m\u001b[92m█\u001b[0m\u001b[30m█\u001b[0m\u001b[30m█\u001b[0m\u001b[30m█\u001b[0m\u001b[30m█\u001b[0m\u001b[30m█\u001b[0m\u001b[30m█\u001b[0m\u001b[30m█\u001b[0m\u001b[30m█\u001b[0m\u001b[30m█\u001b[0m\u001b[30m█\u001b[0m\u001b[30m█\u001b[0m\u001b[30m█\u001b[0m\u001b[30m█\u001b[0m|(3603/10000) (0.02s avg time) ETA: ~03 min -  MSE (TRAIN) : \u001b[93m0.100896\u001b[0m, MSE (VAL) : \u001b[96m0.100014\u001b[0m -- BEST Val Loss : \u001b[92m0.095701\u001b[0m (at epoch 3101) Eary Stopping in: 0001   \r"
     ]
    },
    {
     "name": "stderr",
     "output_type": "stream",
     "text": [
      "[I 2024-05-08 10:09:56,920] Trial 28 finished with value: 0.03427542373538017 and parameters: {'std': 0.0226, 'num_layers': 3, 'units_0': 128, 'units_1': 96, 'units_2': 48, 'freezed_layer_from_right': 2}. Best is trial 12 with value: 0.018475834280252457.\n"
     ]
    },
    {
     "name": "stdout",
     "output_type": "stream",
     "text": [
      "|\u001b[92m█\u001b[0m\u001b[92m█\u001b[0m\u001b[30m█\u001b[0m\u001b[30m█\u001b[0m\u001b[30m█\u001b[0m\u001b[30m█\u001b[0m\u001b[30m█\u001b[0m\u001b[30m█\u001b[0m\u001b[30m█\u001b[0m\u001b[30m█\u001b[0m\u001b[30m█\u001b[0m\u001b[30m█\u001b[0m\u001b[30m█\u001b[0m\u001b[30m█\u001b[0m\u001b[30m█\u001b[0m\u001b[30m█\u001b[0m\u001b[30m█\u001b[0m\u001b[30m█\u001b[0m\u001b[30m█\u001b[0m\u001b[30m█\u001b[0m|(1226/10000) (0.02s avg time) ETA: ~04 min -  MSE (TRAIN) : \u001b[93m0.066358\u001b[0m, MSE (VAL) : \u001b[96m0.052434\u001b[0m -- BEST Val Loss : \u001b[92m0.045349\u001b[0m (at epoch 724) Eary Stopping in: 0001   \r"
     ]
    },
    {
     "name": "stderr",
     "output_type": "stream",
     "text": [
      "[I 2024-05-08 10:11:56,778] Trial 29 finished with value: 0.02637673169374466 and parameters: {'std': 0.0391, 'num_layers': 2, 'units_0': 144, 'units_1': 128, 'freezed_layer_from_right': 1}. Best is trial 12 with value: 0.018475834280252457.\n"
     ]
    },
    {
     "name": "stdout",
     "output_type": "stream",
     "text": [
      "|\u001b[92m█\u001b[0m\u001b[92m█\u001b[0m\u001b[92m█\u001b[0m\u001b[30m█\u001b[0m\u001b[30m█\u001b[0m\u001b[30m█\u001b[0m\u001b[30m█\u001b[0m\u001b[30m█\u001b[0m\u001b[30m█\u001b[0m\u001b[30m█\u001b[0m\u001b[30m█\u001b[0m\u001b[30m█\u001b[0m\u001b[30m█\u001b[0m\u001b[30m█\u001b[0m\u001b[30m█\u001b[0m\u001b[30m█\u001b[0m\u001b[30m█\u001b[0m\u001b[30m█\u001b[0m\u001b[30m█\u001b[0m\u001b[30m█\u001b[0m|(1806/10000) (0.03s avg time) ETA: ~04 min -  MSE (TRAIN) : \u001b[93m0.070601\u001b[0m, MSE (VAL) : \u001b[96m0.035144\u001b[0m -- BEST Val Loss : \u001b[92m0.030930\u001b[0m (at epoch 1304) Eary Stopping in: 0001   \r"
     ]
    },
    {
     "name": "stderr",
     "output_type": "stream",
     "text": [
      "[I 2024-05-08 10:14:02,132] Trial 30 finished with value: 0.03144841641187668 and parameters: {'std': 0.034100000000000005, 'num_layers': 4, 'units_0': 96, 'units_1': 112, 'units_2': 176, 'units_3': 128, 'freezed_layer_from_right': 2}. Best is trial 12 with value: 0.018475834280252457.\n"
     ]
    },
    {
     "name": "stdout",
     "output_type": "stream",
     "text": [
      "|\u001b[92m█\u001b[0m\u001b[92m█\u001b[0m\u001b[30m█\u001b[0m\u001b[30m█\u001b[0m\u001b[30m█\u001b[0m\u001b[30m█\u001b[0m\u001b[30m█\u001b[0m\u001b[30m█\u001b[0m\u001b[30m█\u001b[0m\u001b[30m█\u001b[0m\u001b[30m█\u001b[0m\u001b[30m█\u001b[0m\u001b[30m█\u001b[0m\u001b[30m█\u001b[0m\u001b[30m█\u001b[0m\u001b[30m█\u001b[0m\u001b[30m█\u001b[0m\u001b[30m█\u001b[0m\u001b[30m█\u001b[0m\u001b[30m█\u001b[0m|(1284/10000) (0.02s avg time) ETA: ~04 min -  MSE (TRAIN) : \u001b[93m0.109306\u001b[0m, MSE (VAL) : \u001b[96m0.107562\u001b[0m -- BEST Val Loss : \u001b[92m0.106615\u001b[0m (at epoch 782) Eary Stopping in: 0001   \r"
     ]
    },
    {
     "name": "stderr",
     "output_type": "stream",
     "text": [
      "[I 2024-05-08 10:16:02,425] Trial 31 finished with value: 0.02326338179409504 and parameters: {'std': 0.0251, 'num_layers': 2, 'units_0': 112, 'units_1': 80, 'freezed_layer_from_right': 1}. Best is trial 12 with value: 0.018475834280252457.\n"
     ]
    },
    {
     "name": "stdout",
     "output_type": "stream",
     "text": [
      "|\u001b[92m█\u001b[0m\u001b[92m█\u001b[0m\u001b[92m█\u001b[0m\u001b[92m█\u001b[0m\u001b[30m█\u001b[0m\u001b[30m█\u001b[0m\u001b[30m█\u001b[0m\u001b[30m█\u001b[0m\u001b[30m█\u001b[0m\u001b[30m█\u001b[0m\u001b[30m█\u001b[0m\u001b[30m█\u001b[0m\u001b[30m█\u001b[0m\u001b[30m█\u001b[0m\u001b[30m█\u001b[0m\u001b[30m█\u001b[0m\u001b[30m█\u001b[0m\u001b[30m█\u001b[0m\u001b[30m█\u001b[0m\u001b[30m█\u001b[0m|(2020/10000) (0.02s avg time) ETA: ~04 min -  MSE (TRAIN) : \u001b[93m0.087564\u001b[0m, MSE (VAL) : \u001b[96m0.090267\u001b[0m -- BEST Val Loss : \u001b[92m0.089030\u001b[0m (at epoch 1518) Eary Stopping in: 0001   \r"
     ]
    },
    {
     "name": "stderr",
     "output_type": "stream",
     "text": [
      "[I 2024-05-08 10:20:14,986] Trial 32 finished with value: 0.028758151456713676 and parameters: {'std': 0.0086, 'num_layers': 2, 'units_0': 112, 'units_1': 80, 'freezed_layer_from_right': 1}. Best is trial 12 with value: 0.018475834280252457.\n"
     ]
    },
    {
     "name": "stdout",
     "output_type": "stream",
     "text": [
      "|\u001b[92m█\u001b[0m\u001b[92m█\u001b[0m\u001b[30m█\u001b[0m\u001b[30m█\u001b[0m\u001b[30m█\u001b[0m\u001b[30m█\u001b[0m\u001b[30m█\u001b[0m\u001b[30m█\u001b[0m\u001b[30m█\u001b[0m\u001b[30m█\u001b[0m\u001b[30m█\u001b[0m\u001b[30m█\u001b[0m\u001b[30m█\u001b[0m\u001b[30m█\u001b[0m\u001b[30m█\u001b[0m\u001b[30m█\u001b[0m\u001b[30m█\u001b[0m\u001b[30m█\u001b[0m\u001b[30m█\u001b[0m\u001b[30m█\u001b[0m|(1296/10000) (0.02s avg time) ETA: ~04 min -  MSE (TRAIN) : \u001b[93m0.070173\u001b[0m, MSE (VAL) : \u001b[96m0.070382\u001b[0m -- BEST Val Loss : \u001b[92m0.067928\u001b[0m (at epoch 794) Eary Stopping in: 0001   \r"
     ]
    },
    {
     "name": "stderr",
     "output_type": "stream",
     "text": [
      "[I 2024-05-08 10:24:37,555] Trial 33 finished with value: 0.019542118534445763 and parameters: {'std': 0.0166, 'num_layers': 2, 'units_0': 160, 'units_1': 96, 'freezed_layer_from_right': 1}. Best is trial 12 with value: 0.018475834280252457.\n"
     ]
    },
    {
     "name": "stdout",
     "output_type": "stream",
     "text": [
      "|\u001b[92m█\u001b[0m\u001b[92m█\u001b[0m\u001b[30m█\u001b[0m\u001b[30m█\u001b[0m\u001b[30m█\u001b[0m\u001b[30m█\u001b[0m\u001b[30m█\u001b[0m\u001b[30m█\u001b[0m\u001b[30m█\u001b[0m\u001b[30m█\u001b[0m\u001b[30m█\u001b[0m\u001b[30m█\u001b[0m\u001b[30m█\u001b[0m\u001b[30m█\u001b[0m\u001b[30m█\u001b[0m\u001b[30m█\u001b[0m\u001b[30m█\u001b[0m\u001b[30m█\u001b[0m\u001b[30m█\u001b[0m\u001b[30m█\u001b[0m|(1090/10000) (0.02s avg time) ETA: ~04 min -  MSE (TRAIN) : \u001b[93m0.062969\u001b[0m, MSE (VAL) : \u001b[96m0.066266\u001b[0m -- BEST Val Loss : \u001b[92m0.063467\u001b[0m (at epoch 588) Eary Stopping in: 0001   \r"
     ]
    },
    {
     "name": "stderr",
     "output_type": "stream",
     "text": [
      "[I 2024-05-08 10:28:51,582] Trial 34 finished with value: 0.021218053996562958 and parameters: {'std': 0.0181, 'num_layers': 2, 'units_0': 160, 'units_1': 96, 'freezed_layer_from_right': 1}. Best is trial 12 with value: 0.018475834280252457.\n"
     ]
    },
    {
     "name": "stdout",
     "output_type": "stream",
     "text": [
      "|\u001b[92m█\u001b[0m\u001b[92m█\u001b[0m\u001b[30m█\u001b[0m\u001b[30m█\u001b[0m\u001b[30m█\u001b[0m\u001b[30m█\u001b[0m\u001b[30m█\u001b[0m\u001b[30m█\u001b[0m\u001b[30m█\u001b[0m\u001b[30m█\u001b[0m\u001b[30m█\u001b[0m\u001b[30m█\u001b[0m\u001b[30m█\u001b[0m\u001b[30m█\u001b[0m\u001b[30m█\u001b[0m\u001b[30m█\u001b[0m\u001b[30m█\u001b[0m\u001b[30m█\u001b[0m\u001b[30m█\u001b[0m\u001b[30m█\u001b[0m|(1055/10000) (0.03s avg time) ETA: ~04 min -  MSE (TRAIN) : \u001b[93m0.064918\u001b[0m, MSE (VAL) : \u001b[96m0.066252\u001b[0m -- BEST Val Loss : \u001b[92m0.066177\u001b[0m (at epoch 553) Eary Stopping in: 0001   \r"
     ]
    },
    {
     "name": "stderr",
     "output_type": "stream",
     "text": [
      "[I 2024-05-08 10:33:23,184] Trial 35 finished with value: 0.023528406396508217 and parameters: {'std': 0.015099999999999999, 'num_layers': 3, 'units_0': 160, 'units_1': 96, 'units_2': 16, 'freezed_layer_from_right': 1}. Best is trial 12 with value: 0.018475834280252457.\n"
     ]
    },
    {
     "name": "stdout",
     "output_type": "stream",
     "text": [
      "|\u001b[92m█\u001b[0m\u001b[92m█\u001b[0m\u001b[92m█\u001b[0m\u001b[30m█\u001b[0m\u001b[30m█\u001b[0m\u001b[30m█\u001b[0m\u001b[30m█\u001b[0m\u001b[30m█\u001b[0m\u001b[30m█\u001b[0m\u001b[30m█\u001b[0m\u001b[30m█\u001b[0m\u001b[30m█\u001b[0m\u001b[30m█\u001b[0m\u001b[30m█\u001b[0m\u001b[30m█\u001b[0m\u001b[30m█\u001b[0m\u001b[30m█\u001b[0m\u001b[30m█\u001b[0m\u001b[30m█\u001b[0m\u001b[30m█\u001b[0m|(1505/10000) (0.02s avg time) ETA: ~04 min -  MSE (TRAIN) : \u001b[93m0.075288\u001b[0m, MSE (VAL) : \u001b[96m0.045842\u001b[0m -- BEST Val Loss : \u001b[92m0.040389\u001b[0m (at epoch 1003) Eary Stopping in: 0001   \r"
     ]
    },
    {
     "name": "stderr",
     "output_type": "stream",
     "text": [
      "[I 2024-05-08 10:34:49,690] Trial 36 finished with value: 0.025637667626142502 and parameters: {'std': 0.058100000000000006, 'num_layers': 2, 'units_0': 80, 'units_1': 64, 'freezed_layer_from_right': 1}. Best is trial 12 with value: 0.018475834280252457.\n"
     ]
    },
    {
     "name": "stdout",
     "output_type": "stream",
     "text": [
      "|\u001b[92m█\u001b[0m\u001b[92m█\u001b[0m\u001b[92m█\u001b[0m\u001b[30m█\u001b[0m\u001b[30m█\u001b[0m\u001b[30m█\u001b[0m\u001b[30m█\u001b[0m\u001b[30m█\u001b[0m\u001b[30m█\u001b[0m\u001b[30m█\u001b[0m\u001b[30m█\u001b[0m\u001b[30m█\u001b[0m\u001b[30m█\u001b[0m\u001b[30m█\u001b[0m\u001b[30m█\u001b[0m\u001b[30m█\u001b[0m\u001b[30m█\u001b[0m\u001b[30m█\u001b[0m\u001b[30m█\u001b[0m\u001b[30m█\u001b[0m|(1796/10000) (0.02s avg time) ETA: ~04 min -  MSE (TRAIN) : \u001b[93m0.091612\u001b[0m, MSE (VAL) : \u001b[96m0.094186\u001b[0m -- BEST Val Loss : \u001b[92m0.093234\u001b[0m (at epoch 1294) Eary Stopping in: 0001   \r"
     ]
    },
    {
     "name": "stderr",
     "output_type": "stream",
     "text": [
      "[I 2024-05-08 10:39:39,470] Trial 37 finished with value: 0.024611113592982292 and parameters: {'std': 0.0076, 'num_layers': 3, 'units_0': 64, 'units_1': 112, 'units_2': 96, 'freezed_layer_from_right': 1}. Best is trial 12 with value: 0.018475834280252457.\n"
     ]
    },
    {
     "name": "stdout",
     "output_type": "stream",
     "text": [
      "|\u001b[92m█\u001b[0m\u001b[30m█\u001b[0m\u001b[30m█\u001b[0m\u001b[30m█\u001b[0m\u001b[30m█\u001b[0m\u001b[30m█\u001b[0m\u001b[30m█\u001b[0m\u001b[30m█\u001b[0m\u001b[30m█\u001b[0m\u001b[30m█\u001b[0m\u001b[30m█\u001b[0m\u001b[30m█\u001b[0m\u001b[30m█\u001b[0m\u001b[30m█\u001b[0m\u001b[30m█\u001b[0m\u001b[30m█\u001b[0m\u001b[30m█\u001b[0m\u001b[30m█\u001b[0m\u001b[30m█\u001b[0m\u001b[30m█\u001b[0m|(891/10000) (0.02s avg time) ETA: ~03 min -  MSE (TRAIN) : \u001b[93m0.044934\u001b[0m, MSE (VAL) : \u001b[96m0.050923\u001b[0m -- BEST Val Loss : \u001b[92m0.045003\u001b[0m (at epoch 389) Eary Stopping in: 0001   \r"
     ]
    },
    {
     "name": "stderr",
     "output_type": "stream",
     "text": [
      "[I 2024-05-08 10:41:55,079] Trial 38 finished with value: 0.02293073758482933 and parameters: {'std': 0.033100000000000004, 'num_layers': 2, 'units_0': 96, 'units_1': 176, 'freezed_layer_from_right': 1}. Best is trial 12 with value: 0.018475834280252457.\n"
     ]
    },
    {
     "name": "stdout",
     "output_type": "stream",
     "text": [
      "|\u001b[92m█\u001b[0m\u001b[92m█\u001b[0m\u001b[92m█\u001b[0m\u001b[92m█\u001b[0m\u001b[92m█\u001b[0m\u001b[92m█\u001b[0m\u001b[30m█\u001b[0m\u001b[30m█\u001b[0m\u001b[30m█\u001b[0m\u001b[30m█\u001b[0m\u001b[30m█\u001b[0m\u001b[30m█\u001b[0m\u001b[30m█\u001b[0m\u001b[30m█\u001b[0m\u001b[30m█\u001b[0m\u001b[30m█\u001b[0m\u001b[30m█\u001b[0m\u001b[30m█\u001b[0m\u001b[30m█\u001b[0m\u001b[30m█\u001b[0m|(3397/10000) (0.03s avg time) ETA: ~03 min -  MSE (TRAIN) : \u001b[93m0.041207\u001b[0m, MSE (VAL) : \u001b[96m0.034549\u001b[0m -- BEST Val Loss : \u001b[92m0.033840\u001b[0m (at epoch 2895) Eary Stopping in: 0001   \r"
     ]
    },
    {
     "name": "stderr",
     "output_type": "stream",
     "text": [
      "[I 2024-05-08 10:45:48,528] Trial 39 finished with value: 0.024778706952929497 and parameters: {'std': 0.0441, 'num_layers': 4, 'units_0': 128, 'units_1': 32, 'units_2': 128, 'units_3': 128, 'freezed_layer_from_right': 2}. Best is trial 12 with value: 0.018475834280252457.\n"
     ]
    },
    {
     "name": "stdout",
     "output_type": "stream",
     "text": [
      "|\u001b[92m█\u001b[0m\u001b[92m█\u001b[0m\u001b[30m█\u001b[0m\u001b[30m█\u001b[0m\u001b[30m█\u001b[0m\u001b[30m█\u001b[0m\u001b[30m█\u001b[0m\u001b[30m█\u001b[0m\u001b[30m█\u001b[0m\u001b[30m█\u001b[0m\u001b[30m█\u001b[0m\u001b[30m█\u001b[0m\u001b[30m█\u001b[0m\u001b[30m█\u001b[0m\u001b[30m█\u001b[0m\u001b[30m█\u001b[0m\u001b[30m█\u001b[0m\u001b[30m█\u001b[0m\u001b[30m█\u001b[0m\u001b[30m█\u001b[0m|(1453/10000) (0.02s avg time) ETA: ~04 min -  MSE (TRAIN) : \u001b[93m1.686876\u001b[0m, MSE (VAL) : \u001b[96m1.600783\u001b[0m -- BEST Val Loss : \u001b[92m1.599824\u001b[0m (at epoch 951) Eary Stopping in: 0001      \r"
     ]
    },
    {
     "name": "stderr",
     "output_type": "stream",
     "text": [
      "[I 2024-05-08 10:48:39,949] Trial 40 finished with value: 0.5817652344703674 and parameters: {'std': 0.0001, 'num_layers': 3, 'units_0': 160, 'units_1': 144, 'units_2': 64, 'freezed_layer_from_right': 1}. Best is trial 12 with value: 0.018475834280252457.\n"
     ]
    },
    {
     "name": "stdout",
     "output_type": "stream",
     "text": [
      "|\u001b[92m█\u001b[0m\u001b[92m█\u001b[0m\u001b[30m█\u001b[0m\u001b[30m█\u001b[0m\u001b[30m█\u001b[0m\u001b[30m█\u001b[0m\u001b[30m█\u001b[0m\u001b[30m█\u001b[0m\u001b[30m█\u001b[0m\u001b[30m█\u001b[0m\u001b[30m█\u001b[0m\u001b[30m█\u001b[0m\u001b[30m█\u001b[0m\u001b[30m█\u001b[0m\u001b[30m█\u001b[0m\u001b[30m█\u001b[0m\u001b[30m█\u001b[0m\u001b[30m█\u001b[0m\u001b[30m█\u001b[0m\u001b[30m█\u001b[0m|(1145/10000) (0.02s avg time) ETA: ~04 min -  MSE (TRAIN) : \u001b[93m0.072451\u001b[0m, MSE (VAL) : \u001b[96m0.071547\u001b[0m -- BEST Val Loss : \u001b[92m0.071012\u001b[0m (at epoch 643) Eary Stopping in: 0001   \r"
     ]
    },
    {
     "name": "stderr",
     "output_type": "stream",
     "text": [
      "[I 2024-05-08 10:52:59,585] Trial 41 finished with value: 0.018308209255337715 and parameters: {'std': 0.0161, 'num_layers': 2, 'units_0': 160, 'units_1': 96, 'freezed_layer_from_right': 1}. Best is trial 41 with value: 0.018308209255337715.\n"
     ]
    },
    {
     "name": "stdout",
     "output_type": "stream",
     "text": [
      "|\u001b[92m█\u001b[0m\u001b[92m█\u001b[0m\u001b[30m█\u001b[0m\u001b[30m█\u001b[0m\u001b[30m█\u001b[0m\u001b[30m█\u001b[0m\u001b[30m█\u001b[0m\u001b[30m█\u001b[0m\u001b[30m█\u001b[0m\u001b[30m█\u001b[0m\u001b[30m█\u001b[0m\u001b[30m█\u001b[0m\u001b[30m█\u001b[0m\u001b[30m█\u001b[0m\u001b[30m█\u001b[0m\u001b[30m█\u001b[0m\u001b[30m█\u001b[0m\u001b[30m█\u001b[0m\u001b[30m█\u001b[0m\u001b[30m█\u001b[0m|(1407/10000) (0.02s avg time) ETA: ~04 min -  MSE (TRAIN) : \u001b[93m0.071171\u001b[0m, MSE (VAL) : \u001b[96m0.071095\u001b[0m -- BEST Val Loss : \u001b[92m0.070622\u001b[0m (at epoch 905) Eary Stopping in: 0001   \r"
     ]
    },
    {
     "name": "stderr",
     "output_type": "stream",
     "text": [
      "[I 2024-05-08 10:57:22,007] Trial 42 finished with value: 0.01937251351773739 and parameters: {'std': 0.0166, 'num_layers': 2, 'units_0': 176, 'units_1': 80, 'freezed_layer_from_right': 1}. Best is trial 41 with value: 0.018308209255337715.\n"
     ]
    },
    {
     "name": "stdout",
     "output_type": "stream",
     "text": [
      "|\u001b[92m█\u001b[0m\u001b[92m█\u001b[0m\u001b[92m█\u001b[0m\u001b[30m█\u001b[0m\u001b[30m█\u001b[0m\u001b[30m█\u001b[0m\u001b[30m█\u001b[0m\u001b[30m█\u001b[0m\u001b[30m█\u001b[0m\u001b[30m█\u001b[0m\u001b[30m█\u001b[0m\u001b[30m█\u001b[0m\u001b[30m█\u001b[0m\u001b[30m█\u001b[0m\u001b[30m█\u001b[0m\u001b[30m█\u001b[0m\u001b[30m█\u001b[0m\u001b[30m█\u001b[0m\u001b[30m█\u001b[0m\u001b[30m█\u001b[0m|(1926/10000) (0.02s avg time) ETA: ~03 min -  MSE (TRAIN) : \u001b[93m0.063214\u001b[0m, MSE (VAL) : \u001b[96m0.064244\u001b[0m -- BEST Val Loss : \u001b[92m0.062857\u001b[0m (at epoch 1424) Eary Stopping in: 0001   \r"
     ]
    },
    {
     "name": "stderr",
     "output_type": "stream",
     "text": [
      "[I 2024-05-08 11:01:55,891] Trial 43 finished with value: 0.018826600164175034 and parameters: {'std': 0.015099999999999999, 'num_layers': 2, 'units_0': 176, 'units_1': 112, 'freezed_layer_from_right': 1}. Best is trial 41 with value: 0.018308209255337715.\n"
     ]
    },
    {
     "name": "stdout",
     "output_type": "stream",
     "text": [
      "|\u001b[92m█\u001b[0m\u001b[92m█\u001b[0m\u001b[30m█\u001b[0m\u001b[30m█\u001b[0m\u001b[30m█\u001b[0m\u001b[30m█\u001b[0m\u001b[30m█\u001b[0m\u001b[30m█\u001b[0m\u001b[30m█\u001b[0m\u001b[30m█\u001b[0m\u001b[30m█\u001b[0m\u001b[30m█\u001b[0m\u001b[30m█\u001b[0m\u001b[30m█\u001b[0m\u001b[30m█\u001b[0m\u001b[30m█\u001b[0m\u001b[30m█\u001b[0m\u001b[30m█\u001b[0m\u001b[30m█\u001b[0m\u001b[30m█\u001b[0m|(1416/10000) (0.02s avg time) ETA: ~04 min -  MSE (TRAIN) : \u001b[93m0.064974\u001b[0m, MSE (VAL) : \u001b[96m0.065786\u001b[0m -- BEST Val Loss : \u001b[92m0.064701\u001b[0m (at epoch 914) Eary Stopping in: 0001   \r"
     ]
    },
    {
     "name": "stderr",
     "output_type": "stream",
     "text": [
      "[I 2024-05-08 11:06:17,831] Trial 44 finished with value: 0.018265143036842346 and parameters: {'std': 0.0161, 'num_layers': 2, 'units_0': 176, 'units_1': 112, 'freezed_layer_from_right': 1}. Best is trial 44 with value: 0.018265143036842346.\n"
     ]
    },
    {
     "name": "stdout",
     "output_type": "stream",
     "text": [
      "|\u001b[92m█\u001b[0m\u001b[92m█\u001b[0m\u001b[92m█\u001b[0m\u001b[92m█\u001b[0m\u001b[30m█\u001b[0m\u001b[30m█\u001b[0m\u001b[30m█\u001b[0m\u001b[30m█\u001b[0m\u001b[30m█\u001b[0m\u001b[30m█\u001b[0m\u001b[30m█\u001b[0m\u001b[30m█\u001b[0m\u001b[30m█\u001b[0m\u001b[30m█\u001b[0m\u001b[30m█\u001b[0m\u001b[30m█\u001b[0m\u001b[30m█\u001b[0m\u001b[30m█\u001b[0m\u001b[30m█\u001b[0m\u001b[30m█\u001b[0m|(2217/10000) (0.02s avg time) ETA: ~03 min -  MSE (TRAIN) : \u001b[93m0.074046\u001b[0m, MSE (VAL) : \u001b[96m0.075645\u001b[0m -- BEST Val Loss : \u001b[92m0.075122\u001b[0m (at epoch 1715) Eary Stopping in: 0001   \r"
     ]
    },
    {
     "name": "stderr",
     "output_type": "stream",
     "text": [
      "[I 2024-05-08 11:10:56,138] Trial 45 finished with value: 0.027008086442947388 and parameters: {'std': 0.0061, 'num_layers': 2, 'units_0': 176, 'units_1': 128, 'freezed_layer_from_right': 1}. Best is trial 44 with value: 0.018265143036842346.\n"
     ]
    },
    {
     "name": "stdout",
     "output_type": "stream",
     "text": [
      "|\u001b[92m█\u001b[0m\u001b[92m█\u001b[0m\u001b[92m█\u001b[0m\u001b[92m█\u001b[0m\u001b[30m█\u001b[0m\u001b[30m█\u001b[0m\u001b[30m█\u001b[0m\u001b[30m█\u001b[0m\u001b[30m█\u001b[0m\u001b[30m█\u001b[0m\u001b[30m█\u001b[0m\u001b[30m█\u001b[0m\u001b[30m█\u001b[0m\u001b[30m█\u001b[0m\u001b[30m█\u001b[0m\u001b[30m█\u001b[0m\u001b[30m█\u001b[0m\u001b[30m█\u001b[0m\u001b[30m█\u001b[0m\u001b[30m█\u001b[0m|(2298/10000) (0.02s avg time) ETA: ~03 min -  MSE (TRAIN) : \u001b[93m0.059899\u001b[0m, MSE (VAL) : \u001b[96m0.062113\u001b[0m -- BEST Val Loss : \u001b[92m0.059593\u001b[0m (at epoch 1796) Eary Stopping in: 0001   \r"
     ]
    },
    {
     "name": "stderr",
     "output_type": "stream",
     "text": [
      "[I 2024-05-08 11:15:37,216] Trial 46 finished with value: 0.020086633041501045 and parameters: {'std': 0.0141, 'num_layers': 2, 'units_0': 176, 'units_1': 144, 'freezed_layer_from_right': 1}. Best is trial 44 with value: 0.018265143036842346.\n"
     ]
    },
    {
     "name": "stdout",
     "output_type": "stream",
     "text": [
      "|\u001b[92m█\u001b[0m\u001b[92m█\u001b[0m\u001b[92m█\u001b[0m\u001b[92m█\u001b[0m\u001b[92m█\u001b[0m\u001b[30m█\u001b[0m\u001b[30m█\u001b[0m\u001b[30m█\u001b[0m\u001b[30m█\u001b[0m\u001b[30m█\u001b[0m\u001b[30m█\u001b[0m\u001b[30m█\u001b[0m\u001b[30m█\u001b[0m\u001b[30m█\u001b[0m\u001b[30m█\u001b[0m\u001b[30m█\u001b[0m\u001b[30m█\u001b[0m\u001b[30m█\u001b[0m\u001b[30m█\u001b[0m\u001b[30m█\u001b[0m|(2798/10000) (0.02s avg time) ETA: ~03 min -  MSE (TRAIN) : \u001b[93m0.052573\u001b[0m, MSE (VAL) : \u001b[96m0.054137\u001b[0m -- BEST Val Loss : \u001b[92m0.053542\u001b[0m (at epoch 2296) Eary Stopping in: 0001   \r"
     ]
    },
    {
     "name": "stderr",
     "output_type": "stream",
     "text": [
      "[I 2024-05-08 11:20:34,748] Trial 47 finished with value: 0.021951477974653244 and parameters: {'std': 0.0106, 'num_layers': 2, 'units_0': 176, 'units_1': 112, 'freezed_layer_from_right': 1}. Best is trial 44 with value: 0.018265143036842346.\n"
     ]
    },
    {
     "name": "stdout",
     "output_type": "stream",
     "text": [
      "|\u001b[92m█\u001b[0m\u001b[30m█\u001b[0m\u001b[30m█\u001b[0m\u001b[30m█\u001b[0m\u001b[30m█\u001b[0m\u001b[30m█\u001b[0m\u001b[30m█\u001b[0m\u001b[30m█\u001b[0m\u001b[30m█\u001b[0m\u001b[30m█\u001b[0m\u001b[30m█\u001b[0m\u001b[30m█\u001b[0m\u001b[30m█\u001b[0m\u001b[30m█\u001b[0m\u001b[30m█\u001b[0m\u001b[30m█\u001b[0m\u001b[30m█\u001b[0m\u001b[30m█\u001b[0m\u001b[30m█\u001b[0m\u001b[30m█\u001b[0m|(899/10000) (0.02s avg time) ETA: ~04 min -  MSE (TRAIN) : \u001b[93m0.068561\u001b[0m, MSE (VAL) : \u001b[96m0.067763\u001b[0m -- BEST Val Loss : \u001b[92m0.067510\u001b[0m (at epoch 397) Eary Stopping in: 0001   \r"
     ]
    },
    {
     "name": "stderr",
     "output_type": "stream",
     "text": [
      "[I 2024-05-08 11:23:52,858] Trial 48 finished with value: 0.020923392847180367 and parameters: {'std': 0.0206, 'num_layers': 2, 'units_0': 176, 'units_1': 112, 'freezed_layer_from_right': 1}. Best is trial 44 with value: 0.018265143036842346.\n"
     ]
    },
    {
     "name": "stdout",
     "output_type": "stream",
     "text": [
      "|\u001b[92m█\u001b[0m\u001b[30m█\u001b[0m\u001b[30m█\u001b[0m\u001b[30m█\u001b[0m\u001b[30m█\u001b[0m\u001b[30m█\u001b[0m\u001b[30m█\u001b[0m\u001b[30m█\u001b[0m\u001b[30m█\u001b[0m\u001b[30m█\u001b[0m\u001b[30m█\u001b[0m\u001b[30m█\u001b[0m\u001b[30m█\u001b[0m\u001b[30m█\u001b[0m\u001b[30m█\u001b[0m\u001b[30m█\u001b[0m\u001b[30m█\u001b[0m\u001b[30m█\u001b[0m\u001b[30m█\u001b[0m\u001b[30m█\u001b[0m|(874/10000) (0.03s avg time) ETA: ~05 min -  MSE (TRAIN) : \u001b[93m0.028627\u001b[0m, MSE (VAL) : \u001b[96m0.046747\u001b[0m -- BEST Val Loss : \u001b[92m0.017719\u001b[0m (at epoch 372) Eary Stopping in: 0001   \r"
     ]
    },
    {
     "name": "stderr",
     "output_type": "stream",
     "text": [
      "[I 2024-05-08 11:25:49,624] Trial 49 finished with value: 0.056911587715148926 and parameters: {'std': 0.08510000000000001, 'num_layers': 5, 'units_0': 160, 'units_1': 128, 'units_2': 80, 'units_3': 64, 'units_4': 176, 'freezed_layer_from_right': 4}. Best is trial 44 with value: 0.018265143036842346.\n"
     ]
    },
    {
     "name": "stdout",
     "output_type": "stream",
     "text": [
      "|\u001b[92m█\u001b[0m\u001b[92m█\u001b[0m\u001b[92m█\u001b[0m\u001b[30m█\u001b[0m\u001b[30m█\u001b[0m\u001b[30m█\u001b[0m\u001b[30m█\u001b[0m\u001b[30m█\u001b[0m\u001b[30m█\u001b[0m\u001b[30m█\u001b[0m\u001b[30m█\u001b[0m\u001b[30m█\u001b[0m\u001b[30m█\u001b[0m\u001b[30m█\u001b[0m\u001b[30m█\u001b[0m\u001b[30m█\u001b[0m\u001b[30m█\u001b[0m\u001b[30m█\u001b[0m\u001b[30m█\u001b[0m\u001b[30m█\u001b[0m|(1928/10000) (0.02s avg time) ETA: ~04 min -  MSE (TRAIN) : \u001b[93m0.082715\u001b[0m, MSE (VAL) : \u001b[96m0.084111\u001b[0m -- BEST Val Loss : \u001b[92m0.083618\u001b[0m (at epoch 1426) Eary Stopping in: 0001   \r"
     ]
    },
    {
     "name": "stderr",
     "output_type": "stream",
     "text": [
      "[I 2024-05-08 11:30:09,216] Trial 50 finished with value: 0.025642283260822296 and parameters: {'std': 0.0056, 'num_layers': 3, 'units_0': 176, 'units_1': 112, 'units_2': 144, 'freezed_layer_from_right': 1}. Best is trial 44 with value: 0.018265143036842346.\n"
     ]
    },
    {
     "name": "stdout",
     "output_type": "stream",
     "text": [
      "|\u001b[92m█\u001b[0m\u001b[92m█\u001b[0m\u001b[92m█\u001b[0m\u001b[30m█\u001b[0m\u001b[30m█\u001b[0m\u001b[30m█\u001b[0m\u001b[30m█\u001b[0m\u001b[30m█\u001b[0m\u001b[30m█\u001b[0m\u001b[30m█\u001b[0m\u001b[30m█\u001b[0m\u001b[30m█\u001b[0m\u001b[30m█\u001b[0m\u001b[30m█\u001b[0m\u001b[30m█\u001b[0m\u001b[30m█\u001b[0m\u001b[30m█\u001b[0m\u001b[30m█\u001b[0m\u001b[30m█\u001b[0m\u001b[30m█\u001b[0m|(1627/10000) (0.02s avg time) ETA: ~04 min -  MSE (TRAIN) : \u001b[93m0.066901\u001b[0m, MSE (VAL) : \u001b[96m0.067066\u001b[0m -- BEST Val Loss : \u001b[92m0.066277\u001b[0m (at epoch 1125) Eary Stopping in: 0001   \r"
     ]
    },
    {
     "name": "stderr",
     "output_type": "stream",
     "text": [
      "[I 2024-05-08 11:34:35,527] Trial 51 finished with value: 0.019698861986398697 and parameters: {'std': 0.0166, 'num_layers': 2, 'units_0': 160, 'units_1': 96, 'freezed_layer_from_right': 1}. Best is trial 44 with value: 0.018265143036842346.\n"
     ]
    },
    {
     "name": "stdout",
     "output_type": "stream",
     "text": [
      "|\u001b[92m█\u001b[0m\u001b[92m█\u001b[0m\u001b[92m█\u001b[0m\u001b[92m█\u001b[0m\u001b[30m█\u001b[0m\u001b[30m█\u001b[0m\u001b[30m█\u001b[0m\u001b[30m█\u001b[0m\u001b[30m█\u001b[0m\u001b[30m█\u001b[0m\u001b[30m█\u001b[0m\u001b[30m█\u001b[0m\u001b[30m█\u001b[0m\u001b[30m█\u001b[0m\u001b[30m█\u001b[0m\u001b[30m█\u001b[0m\u001b[30m█\u001b[0m\u001b[30m█\u001b[0m\u001b[30m█\u001b[0m\u001b[30m█\u001b[0m|(2414/10000) (0.02s avg time) ETA: ~03 min -  MSE (TRAIN) : \u001b[93m0.059095\u001b[0m, MSE (VAL) : \u001b[96m0.060871\u001b[0m -- BEST Val Loss : \u001b[92m0.059279\u001b[0m (at epoch 1912) Eary Stopping in: 0001   \r"
     ]
    },
    {
     "name": "stderr",
     "output_type": "stream",
     "text": [
      "[I 2024-05-08 11:39:18,641] Trial 52 finished with value: 0.021023619920015335 and parameters: {'std': 0.0146, 'num_layers': 2, 'units_0': 144, 'units_1': 96, 'freezed_layer_from_right': 1}. Best is trial 44 with value: 0.018265143036842346.\n"
     ]
    },
    {
     "name": "stdout",
     "output_type": "stream",
     "text": [
      "|\u001b[92m█\u001b[0m\u001b[92m█\u001b[0m\u001b[92m█\u001b[0m\u001b[30m█\u001b[0m\u001b[30m█\u001b[0m\u001b[30m█\u001b[0m\u001b[30m█\u001b[0m\u001b[30m█\u001b[0m\u001b[30m█\u001b[0m\u001b[30m█\u001b[0m\u001b[30m█\u001b[0m\u001b[30m█\u001b[0m\u001b[30m█\u001b[0m\u001b[30m█\u001b[0m\u001b[30m█\u001b[0m\u001b[30m█\u001b[0m\u001b[30m█\u001b[0m\u001b[30m█\u001b[0m\u001b[30m█\u001b[0m\u001b[30m█\u001b[0m|(1842/10000) (0.02s avg time) ETA: ~03 min -  MSE (TRAIN) : \u001b[93m0.106537\u001b[0m, MSE (VAL) : \u001b[96m0.108723\u001b[0m -- BEST Val Loss : \u001b[92m0.105967\u001b[0m (at epoch 1340) Eary Stopping in: 0001   \r"
     ]
    },
    {
     "name": "stderr",
     "output_type": "stream",
     "text": [
      "[I 2024-05-08 11:41:12,297] Trial 53 finished with value: 0.0210772305727005 and parameters: {'std': 0.0226, 'num_layers': 2, 'units_0': 160, 'units_1': 96, 'freezed_layer_from_right': 1}. Best is trial 44 with value: 0.018265143036842346.\n"
     ]
    },
    {
     "name": "stdout",
     "output_type": "stream",
     "text": [
      "|\u001b[92m█\u001b[0m\u001b[92m█\u001b[0m\u001b[92m█\u001b[0m\u001b[30m█\u001b[0m\u001b[30m█\u001b[0m\u001b[30m█\u001b[0m\u001b[30m█\u001b[0m\u001b[30m█\u001b[0m\u001b[30m█\u001b[0m\u001b[30m█\u001b[0m\u001b[30m█\u001b[0m\u001b[30m█\u001b[0m\u001b[30m█\u001b[0m\u001b[30m█\u001b[0m\u001b[30m█\u001b[0m\u001b[30m█\u001b[0m\u001b[30m█\u001b[0m\u001b[30m█\u001b[0m\u001b[30m█\u001b[0m\u001b[30m█\u001b[0m|(1865/10000) (0.02s avg time) ETA: ~03 min -  MSE (TRAIN) : \u001b[93m0.064303\u001b[0m, MSE (VAL) : \u001b[96m0.064328\u001b[0m -- BEST Val Loss : \u001b[92m0.062355\u001b[0m (at epoch 1363) Eary Stopping in: 0001   \r"
     ]
    },
    {
     "name": "stderr",
     "output_type": "stream",
     "text": [
      "[I 2024-05-08 11:45:45,865] Trial 54 finished with value: 0.021956441923975945 and parameters: {'std': 0.0176, 'num_layers': 2, 'units_0': 176, 'units_1': 80, 'freezed_layer_from_right': 1}. Best is trial 44 with value: 0.018265143036842346.\n"
     ]
    },
    {
     "name": "stdout",
     "output_type": "stream",
     "text": [
      "|\u001b[92m█\u001b[0m\u001b[92m█\u001b[0m\u001b[30m█\u001b[0m\u001b[30m█\u001b[0m\u001b[30m█\u001b[0m\u001b[30m█\u001b[0m\u001b[30m█\u001b[0m\u001b[30m█\u001b[0m\u001b[30m█\u001b[0m\u001b[30m█\u001b[0m\u001b[30m█\u001b[0m\u001b[30m█\u001b[0m\u001b[30m█\u001b[0m\u001b[30m█\u001b[0m\u001b[30m█\u001b[0m\u001b[30m█\u001b[0m\u001b[30m█\u001b[0m\u001b[30m█\u001b[0m\u001b[30m█\u001b[0m\u001b[30m█\u001b[0m|(1353/10000) (0.02s avg time) ETA: ~04 min -  MSE (TRAIN) : \u001b[93m0.069084\u001b[0m, MSE (VAL) : \u001b[96m0.072883\u001b[0m -- BEST Val Loss : \u001b[92m0.070199\u001b[0m (at epoch 851) Eary Stopping in: 0001   \r"
     ]
    },
    {
     "name": "stderr",
     "output_type": "stream",
     "text": [
      "[I 2024-05-08 11:50:05,379] Trial 55 finished with value: 0.02465089224278927 and parameters: {'std': 0.0101, 'num_layers': 2, 'units_0': 144, 'units_1': 64, 'freezed_layer_from_right': 1}. Best is trial 44 with value: 0.018265143036842346.\n"
     ]
    },
    {
     "name": "stdout",
     "output_type": "stream",
     "text": [
      "|\u001b[92m█\u001b[0m\u001b[92m█\u001b[0m\u001b[92m█\u001b[0m\u001b[92m█\u001b[0m\u001b[30m█\u001b[0m\u001b[30m█\u001b[0m\u001b[30m█\u001b[0m\u001b[30m█\u001b[0m\u001b[30m█\u001b[0m\u001b[30m█\u001b[0m\u001b[30m█\u001b[0m\u001b[30m█\u001b[0m\u001b[30m█\u001b[0m\u001b[30m█\u001b[0m\u001b[30m█\u001b[0m\u001b[30m█\u001b[0m\u001b[30m█\u001b[0m\u001b[30m█\u001b[0m\u001b[30m█\u001b[0m\u001b[30m█\u001b[0m|(2320/10000) (0.02s avg time) ETA: ~03 min -  MSE (TRAIN) : \u001b[93m0.070060\u001b[0m, MSE (VAL) : \u001b[96m0.073656\u001b[0m -- BEST Val Loss : \u001b[92m0.071097\u001b[0m (at epoch 1818) Eary Stopping in: 0001   \r"
     ]
    },
    {
     "name": "stderr",
     "output_type": "stream",
     "text": [
      "[I 2024-05-08 11:54:51,890] Trial 56 finished with value: 0.02468259632587433 and parameters: {'std': 0.0246, 'num_layers': 2, 'units_0': 16, 'units_1': 112, 'freezed_layer_from_right': 1}. Best is trial 44 with value: 0.018265143036842346.\n"
     ]
    },
    {
     "name": "stdout",
     "output_type": "stream",
     "text": [
      "|\u001b[92m█\u001b[0m\u001b[92m█\u001b[0m\u001b[92m█\u001b[0m\u001b[92m█\u001b[0m\u001b[30m█\u001b[0m\u001b[30m█\u001b[0m\u001b[30m█\u001b[0m\u001b[30m█\u001b[0m\u001b[30m█\u001b[0m\u001b[30m█\u001b[0m\u001b[30m█\u001b[0m\u001b[30m█\u001b[0m\u001b[30m█\u001b[0m\u001b[30m█\u001b[0m\u001b[30m█\u001b[0m\u001b[30m█\u001b[0m\u001b[30m█\u001b[0m\u001b[30m█\u001b[0m\u001b[30m█\u001b[0m\u001b[30m█\u001b[0m|(2304/10000) (0.02s avg time) ETA: ~03 min -  MSE (TRAIN) : \u001b[93m0.113551\u001b[0m, MSE (VAL) : \u001b[96m0.113047\u001b[0m -- BEST Val Loss : \u001b[92m0.111748\u001b[0m (at epoch 1802) Eary Stopping in: 0001   \r"
     ]
    },
    {
     "name": "stderr",
     "output_type": "stream",
     "text": [
      "[I 2024-05-08 11:57:11,810] Trial 57 finished with value: 0.023648658767342567 and parameters: {'std': 0.0296, 'num_layers': 2, 'units_0': 32, 'units_1': 96, 'freezed_layer_from_right': 1}. Best is trial 44 with value: 0.018265143036842346.\n"
     ]
    },
    {
     "name": "stdout",
     "output_type": "stream",
     "text": [
      "|\u001b[92m█\u001b[0m\u001b[92m█\u001b[0m\u001b[92m█\u001b[0m\u001b[30m█\u001b[0m\u001b[30m█\u001b[0m\u001b[30m█\u001b[0m\u001b[30m█\u001b[0m\u001b[30m█\u001b[0m\u001b[30m█\u001b[0m\u001b[30m█\u001b[0m\u001b[30m█\u001b[0m\u001b[30m█\u001b[0m\u001b[30m█\u001b[0m\u001b[30m█\u001b[0m\u001b[30m█\u001b[0m\u001b[30m█\u001b[0m\u001b[30m█\u001b[0m\u001b[30m█\u001b[0m\u001b[30m█\u001b[0m\u001b[30m█\u001b[0m|(1518/10000) (0.02s avg time) ETA: ~03 min -  MSE (TRAIN) : \u001b[93m0.098638\u001b[0m, MSE (VAL) : \u001b[96m0.099368\u001b[0m -- BEST Val Loss : \u001b[92m0.094127\u001b[0m (at epoch 1016) Eary Stopping in: 0001   \r"
     ]
    },
    {
     "name": "stderr",
     "output_type": "stream",
     "text": [
      "[I 2024-05-08 11:59:15,837] Trial 58 finished with value: 0.0204621534794569 and parameters: {'std': 0.0201, 'num_layers': 2, 'units_0': 176, 'units_1': 144, 'freezed_layer_from_right': 1}. Best is trial 44 with value: 0.018265143036842346.\n"
     ]
    },
    {
     "name": "stdout",
     "output_type": "stream",
     "text": [
      "|\u001b[92m█\u001b[0m\u001b[92m█\u001b[0m\u001b[30m█\u001b[0m\u001b[30m█\u001b[0m\u001b[30m█\u001b[0m\u001b[30m█\u001b[0m\u001b[30m█\u001b[0m\u001b[30m█\u001b[0m\u001b[30m█\u001b[0m\u001b[30m█\u001b[0m\u001b[30m█\u001b[0m\u001b[30m█\u001b[0m\u001b[30m█\u001b[0m\u001b[30m█\u001b[0m\u001b[30m█\u001b[0m\u001b[30m█\u001b[0m\u001b[30m█\u001b[0m\u001b[30m█\u001b[0m\u001b[30m█\u001b[0m\u001b[30m█\u001b[0m|(1114/10000) (0.02s avg time) ETA: ~04 min -  MSE (TRAIN) : \u001b[93m0.200129\u001b[0m, MSE (VAL) : \u001b[96m0.202784\u001b[0m -- BEST Val Loss : \u001b[92m0.201649\u001b[0m (at epoch 612) Eary Stopping in: 0001   \r"
     ]
    },
    {
     "name": "stderr",
     "output_type": "stream",
     "text": [
      "[I 2024-05-08 12:02:59,531] Trial 59 finished with value: 0.035466697067022324 and parameters: {'std': 0.004600000000000001, 'num_layers': 3, 'units_0': 160, 'units_1': 80, 'units_2': 48, 'freezed_layer_from_right': 1}. Best is trial 44 with value: 0.018265143036842346.\n"
     ]
    },
    {
     "name": "stdout",
     "output_type": "stream",
     "text": [
      "|\u001b[92m█\u001b[0m\u001b[92m█\u001b[0m\u001b[92m█\u001b[0m\u001b[92m█\u001b[0m\u001b[92m█\u001b[0m\u001b[30m█\u001b[0m\u001b[30m█\u001b[0m\u001b[30m█\u001b[0m\u001b[30m█\u001b[0m\u001b[30m█\u001b[0m\u001b[30m█\u001b[0m\u001b[30m█\u001b[0m\u001b[30m█\u001b[0m\u001b[30m█\u001b[0m\u001b[30m█\u001b[0m\u001b[30m█\u001b[0m\u001b[30m█\u001b[0m\u001b[30m█\u001b[0m\u001b[30m█\u001b[0m\u001b[30m█\u001b[0m|(2962/10000) (0.02s avg time) ETA: ~03 min -  MSE (TRAIN) : \u001b[93m0.059590\u001b[0m, MSE (VAL) : \u001b[96m0.061108\u001b[0m -- BEST Val Loss : \u001b[92m0.060208\u001b[0m (at epoch 2460) Eary Stopping in: 0001   \r"
     ]
    },
    {
     "name": "stderr",
     "output_type": "stream",
     "text": [
      "[I 2024-05-08 12:07:54,795] Trial 60 finished with value: 0.020340805873274803 and parameters: {'std': 0.0121, 'num_layers': 2, 'units_0': 160, 'units_1': 128, 'freezed_layer_from_right': 1}. Best is trial 44 with value: 0.018265143036842346.\n"
     ]
    },
    {
     "name": "stdout",
     "output_type": "stream",
     "text": [
      "|\u001b[92m█\u001b[0m\u001b[30m█\u001b[0m\u001b[30m█\u001b[0m\u001b[30m█\u001b[0m\u001b[30m█\u001b[0m\u001b[30m█\u001b[0m\u001b[30m█\u001b[0m\u001b[30m█\u001b[0m\u001b[30m█\u001b[0m\u001b[30m█\u001b[0m\u001b[30m█\u001b[0m\u001b[30m█\u001b[0m\u001b[30m█\u001b[0m\u001b[30m█\u001b[0m\u001b[30m█\u001b[0m\u001b[30m█\u001b[0m\u001b[30m█\u001b[0m\u001b[30m█\u001b[0m\u001b[30m█\u001b[0m\u001b[30m█\u001b[0m|(862/10000) (0.02s avg time) ETA: ~04 min -  MSE (TRAIN) : \u001b[93m0.065596\u001b[0m, MSE (VAL) : \u001b[96m0.066145\u001b[0m -- BEST Val Loss : \u001b[92m0.064456\u001b[0m (at epoch 360) Eary Stopping in: 0001   \r"
     ]
    },
    {
     "name": "stderr",
     "output_type": "stream",
     "text": [
      "[I 2024-05-08 12:12:04,327] Trial 61 finished with value: 0.01945308968424797 and parameters: {'std': 0.0156, 'num_layers': 2, 'units_0': 160, 'units_1': 96, 'freezed_layer_from_right': 1}. Best is trial 44 with value: 0.018265143036842346.\n"
     ]
    },
    {
     "name": "stdout",
     "output_type": "stream",
     "text": [
      "|\u001b[92m█\u001b[0m\u001b[92m█\u001b[0m\u001b[30m█\u001b[0m\u001b[30m█\u001b[0m\u001b[30m█\u001b[0m\u001b[30m█\u001b[0m\u001b[30m█\u001b[0m\u001b[30m█\u001b[0m\u001b[30m█\u001b[0m\u001b[30m█\u001b[0m\u001b[30m█\u001b[0m\u001b[30m█\u001b[0m\u001b[30m█\u001b[0m\u001b[30m█\u001b[0m\u001b[30m█\u001b[0m\u001b[30m█\u001b[0m\u001b[30m█\u001b[0m\u001b[30m█\u001b[0m\u001b[30m█\u001b[0m\u001b[30m█\u001b[0m|(1245/10000) (0.02s avg time) ETA: ~04 min -  MSE (TRAIN) : \u001b[93m0.068269\u001b[0m, MSE (VAL) : \u001b[96m0.067350\u001b[0m -- BEST Val Loss : \u001b[92m0.066811\u001b[0m (at epoch 743) Eary Stopping in: 0001   \r"
     ]
    },
    {
     "name": "stderr",
     "output_type": "stream",
     "text": [
      "[I 2024-05-08 12:16:25,412] Trial 62 finished with value: 0.020441289991140366 and parameters: {'std': 0.015099999999999999, 'num_layers': 2, 'units_0': 176, 'units_1': 96, 'freezed_layer_from_right': 1}. Best is trial 44 with value: 0.018265143036842346.\n"
     ]
    },
    {
     "name": "stdout",
     "output_type": "stream",
     "text": [
      "|\u001b[92m█\u001b[0m\u001b[92m█\u001b[0m\u001b[92m█\u001b[0m\u001b[30m█\u001b[0m\u001b[30m█\u001b[0m\u001b[30m█\u001b[0m\u001b[30m█\u001b[0m\u001b[30m█\u001b[0m\u001b[30m█\u001b[0m\u001b[30m█\u001b[0m\u001b[30m█\u001b[0m\u001b[30m█\u001b[0m\u001b[30m█\u001b[0m\u001b[30m█\u001b[0m\u001b[30m█\u001b[0m\u001b[30m█\u001b[0m\u001b[30m█\u001b[0m\u001b[30m█\u001b[0m\u001b[30m█\u001b[0m\u001b[30m█\u001b[0m|(1681/10000) (0.02s avg time) ETA: ~04 min -  MSE (TRAIN) : \u001b[93m0.055959\u001b[0m, MSE (VAL) : \u001b[96m0.056808\u001b[0m -- BEST Val Loss : \u001b[92m0.055857\u001b[0m (at epoch 1179) Eary Stopping in: 0001   \r"
     ]
    },
    {
     "name": "stderr",
     "output_type": "stream",
     "text": [
      "[I 2024-05-08 12:20:37,596] Trial 63 finished with value: 0.019449619576334953 and parameters: {'std': 0.0276, 'num_layers': 2, 'units_0': 144, 'units_1': 96, 'freezed_layer_from_right': 1}. Best is trial 44 with value: 0.018265143036842346.\n"
     ]
    },
    {
     "name": "stdout",
     "output_type": "stream",
     "text": [
      "|\u001b[92m█\u001b[0m\u001b[92m█\u001b[0m\u001b[92m█\u001b[0m\u001b[30m█\u001b[0m\u001b[30m█\u001b[0m\u001b[30m█\u001b[0m\u001b[30m█\u001b[0m\u001b[30m█\u001b[0m\u001b[30m█\u001b[0m\u001b[30m█\u001b[0m\u001b[30m█\u001b[0m\u001b[30m█\u001b[0m\u001b[30m█\u001b[0m\u001b[30m█\u001b[0m\u001b[30m█\u001b[0m\u001b[30m█\u001b[0m\u001b[30m█\u001b[0m\u001b[30m█\u001b[0m\u001b[30m█\u001b[0m\u001b[30m█\u001b[0m|(1925/10000) (0.02s avg time) ETA: ~03 min -  MSE (TRAIN) : \u001b[93m0.066924\u001b[0m, MSE (VAL) : \u001b[96m0.063320\u001b[0m -- BEST Val Loss : \u001b[92m0.061398\u001b[0m (at epoch 1423) Eary Stopping in: 0001   \r"
     ]
    },
    {
     "name": "stderr",
     "output_type": "stream",
     "text": [
      "[I 2024-05-08 12:23:25,064] Trial 64 finished with value: 0.02044776640832424 and parameters: {'std': 0.0301, 'num_layers': 2, 'units_0': 144, 'units_1': 80, 'freezed_layer_from_right': 1}. Best is trial 44 with value: 0.018265143036842346.\n"
     ]
    },
    {
     "name": "stdout",
     "output_type": "stream",
     "text": [
      "|\u001b[92m█\u001b[0m\u001b[92m█\u001b[0m\u001b[30m█\u001b[0m\u001b[30m█\u001b[0m\u001b[30m█\u001b[0m\u001b[30m█\u001b[0m\u001b[30m█\u001b[0m\u001b[30m█\u001b[0m\u001b[30m█\u001b[0m\u001b[30m█\u001b[0m\u001b[30m█\u001b[0m\u001b[30m█\u001b[0m\u001b[30m█\u001b[0m\u001b[30m█\u001b[0m\u001b[30m█\u001b[0m\u001b[30m█\u001b[0m\u001b[30m█\u001b[0m\u001b[30m█\u001b[0m\u001b[30m█\u001b[0m\u001b[30m█\u001b[0m|(1103/10000) (0.02s avg time) ETA: ~04 min -  MSE (TRAIN) : \u001b[93m0.093366\u001b[0m, MSE (VAL) : \u001b[96m0.106705\u001b[0m -- BEST Val Loss : \u001b[92m0.091072\u001b[0m (at epoch 601) Eary Stopping in: 0001   \r"
     ]
    },
    {
     "name": "stderr",
     "output_type": "stream",
     "text": [
      "[I 2024-05-08 12:24:39,328] Trial 65 finished with value: 0.022710075601935387 and parameters: {'std': 0.0256, 'num_layers': 2, 'units_0': 144, 'units_1': 112, 'freezed_layer_from_right': 1}. Best is trial 44 with value: 0.018265143036842346.\n"
     ]
    },
    {
     "name": "stdout",
     "output_type": "stream",
     "text": [
      "|\u001b[92m█\u001b[0m\u001b[92m█\u001b[0m\u001b[92m█\u001b[0m\u001b[30m█\u001b[0m\u001b[30m█\u001b[0m\u001b[30m█\u001b[0m\u001b[30m█\u001b[0m\u001b[30m█\u001b[0m\u001b[30m█\u001b[0m\u001b[30m█\u001b[0m\u001b[30m█\u001b[0m\u001b[30m█\u001b[0m\u001b[30m█\u001b[0m\u001b[30m█\u001b[0m\u001b[30m█\u001b[0m\u001b[30m█\u001b[0m\u001b[30m█\u001b[0m\u001b[30m█\u001b[0m\u001b[30m█\u001b[0m\u001b[30m█\u001b[0m|(1561/10000) (0.02s avg time) ETA: ~03 min -  MSE (TRAIN) : \u001b[93m0.085356\u001b[0m, MSE (VAL) : \u001b[96m0.073609\u001b[0m -- BEST Val Loss : \u001b[92m0.061550\u001b[0m (at epoch 1059) Eary Stopping in: 0001   \r"
     ]
    },
    {
     "name": "stderr",
     "output_type": "stream",
     "text": [
      "[I 2024-05-08 12:26:21,884] Trial 66 finished with value: 0.022764068096876144 and parameters: {'std': 0.0371, 'num_layers': 2, 'units_0': 176, 'units_1': 80, 'freezed_layer_from_right': 1}. Best is trial 44 with value: 0.018265143036842346.\n"
     ]
    },
    {
     "name": "stdout",
     "output_type": "stream",
     "text": [
      "|\u001b[92m█\u001b[0m\u001b[92m█\u001b[0m\u001b[30m█\u001b[0m\u001b[30m█\u001b[0m\u001b[30m█\u001b[0m\u001b[30m█\u001b[0m\u001b[30m█\u001b[0m\u001b[30m█\u001b[0m\u001b[30m█\u001b[0m\u001b[30m█\u001b[0m\u001b[30m█\u001b[0m\u001b[30m█\u001b[0m\u001b[30m█\u001b[0m\u001b[30m█\u001b[0m\u001b[30m█\u001b[0m\u001b[30m█\u001b[0m\u001b[30m█\u001b[0m\u001b[30m█\u001b[0m\u001b[30m█\u001b[0m\u001b[30m█\u001b[0m|(1231/10000) (0.02s avg time) ETA: ~04 min -  MSE (TRAIN) : \u001b[93m0.096059\u001b[0m, MSE (VAL) : \u001b[96m0.107447\u001b[0m -- BEST Val Loss : \u001b[92m0.095073\u001b[0m (at epoch 729) Eary Stopping in: 0001   \r"
     ]
    },
    {
     "name": "stderr",
     "output_type": "stream",
     "text": [
      "[I 2024-05-08 12:28:19,104] Trial 67 finished with value: 0.019408641383051872 and parameters: {'std': 0.0216, 'num_layers': 2, 'units_0': 160, 'units_1': 112, 'freezed_layer_from_right': 1}. Best is trial 44 with value: 0.018265143036842346.\n"
     ]
    },
    {
     "name": "stdout",
     "output_type": "stream",
     "text": [
      "|\u001b[92m█\u001b[0m\u001b[92m█\u001b[0m\u001b[92m█\u001b[0m\u001b[30m█\u001b[0m\u001b[30m█\u001b[0m\u001b[30m█\u001b[0m\u001b[30m█\u001b[0m\u001b[30m█\u001b[0m\u001b[30m█\u001b[0m\u001b[30m█\u001b[0m\u001b[30m█\u001b[0m\u001b[30m█\u001b[0m\u001b[30m█\u001b[0m\u001b[30m█\u001b[0m\u001b[30m█\u001b[0m\u001b[30m█\u001b[0m\u001b[30m█\u001b[0m\u001b[30m█\u001b[0m\u001b[30m█\u001b[0m\u001b[30m█\u001b[0m|(1884/10000) (0.02s avg time) ETA: ~03 min -  MSE (TRAIN) : \u001b[93m0.062314\u001b[0m, MSE (VAL) : \u001b[96m0.066396\u001b[0m -- BEST Val Loss : \u001b[92m0.058085\u001b[0m (at epoch 1382) Eary Stopping in: 0001   \r"
     ]
    },
    {
     "name": "stderr",
     "output_type": "stream",
     "text": [
      "[I 2024-05-08 12:30:05,905] Trial 68 finished with value: 0.022031497210264206 and parameters: {'std': 0.032100000000000004, 'num_layers': 2, 'units_0': 144, 'units_1': 112, 'freezed_layer_from_right': 1}. Best is trial 44 with value: 0.018265143036842346.\n"
     ]
    },
    {
     "name": "stdout",
     "output_type": "stream",
     "text": [
      "|\u001b[92m█\u001b[0m\u001b[92m█\u001b[0m\u001b[92m█\u001b[0m\u001b[92m█\u001b[0m\u001b[92m█\u001b[0m\u001b[92m█\u001b[0m\u001b[92m█\u001b[0m\u001b[92m█\u001b[0m\u001b[92m█\u001b[0m\u001b[92m█\u001b[0m\u001b[30m█\u001b[0m\u001b[30m█\u001b[0m\u001b[30m█\u001b[0m\u001b[30m█\u001b[0m\u001b[30m█\u001b[0m\u001b[30m█\u001b[0m\u001b[30m█\u001b[0m\u001b[30m█\u001b[0m\u001b[30m█\u001b[0m\u001b[30m█\u001b[0m|(5307/10000) (0.03s avg time) ETA: ~03 min -  MSE (TRAIN) : \u001b[93m0.039968\u001b[0m, MSE (VAL) : \u001b[96m0.047732\u001b[0m -- BEST Val Loss : \u001b[92m0.040602\u001b[0m (at epoch 4805) Eary Stopping in: 0001   \r"
     ]
    },
    {
     "name": "stderr",
     "output_type": "stream",
     "text": [
      "[I 2024-05-08 12:33:17,431] Trial 69 finished with value: 0.033203110098838806 and parameters: {'std': 0.0276, 'num_layers': 4, 'units_0': 128, 'units_1': 128, 'units_2': 96, 'units_3': 128, 'freezed_layer_from_right': 3}. Best is trial 44 with value: 0.018265143036842346.\n"
     ]
    },
    {
     "name": "stdout",
     "output_type": "stream",
     "text": [
      "|\u001b[92m█\u001b[0m\u001b[30m█\u001b[0m\u001b[30m█\u001b[0m\u001b[30m█\u001b[0m\u001b[30m█\u001b[0m\u001b[30m█\u001b[0m\u001b[30m█\u001b[0m\u001b[30m█\u001b[0m\u001b[30m█\u001b[0m\u001b[30m█\u001b[0m\u001b[30m█\u001b[0m\u001b[30m█\u001b[0m\u001b[30m█\u001b[0m\u001b[30m█\u001b[0m\u001b[30m█\u001b[0m\u001b[30m█\u001b[0m\u001b[30m█\u001b[0m\u001b[30m█\u001b[0m\u001b[30m█\u001b[0m\u001b[30m█\u001b[0m|(671/10000) (0.02s avg time) ETA: ~04 min -  MSE (TRAIN) : \u001b[93m0.064964\u001b[0m, MSE (VAL) : \u001b[96m0.062443\u001b[0m -- BEST Val Loss : \u001b[92m0.050624\u001b[0m (at epoch 169) Eary Stopping in: 0001   \r"
     ]
    },
    {
     "name": "stderr",
     "output_type": "stream",
     "text": [
      "[I 2024-05-08 12:34:39,167] Trial 70 finished with value: 0.02201816253364086 and parameters: {'std': 0.041600000000000005, 'num_layers': 2, 'units_0': 176, 'units_1': 64, 'freezed_layer_from_right': 1}. Best is trial 44 with value: 0.018265143036842346.\n"
     ]
    },
    {
     "name": "stdout",
     "output_type": "stream",
     "text": [
      "|\u001b[92m█\u001b[0m\u001b[30m█\u001b[0m\u001b[30m█\u001b[0m\u001b[30m█\u001b[0m\u001b[30m█\u001b[0m\u001b[30m█\u001b[0m\u001b[30m█\u001b[0m\u001b[30m█\u001b[0m\u001b[30m█\u001b[0m\u001b[30m█\u001b[0m\u001b[30m█\u001b[0m\u001b[30m█\u001b[0m\u001b[30m█\u001b[0m\u001b[30m█\u001b[0m\u001b[30m█\u001b[0m\u001b[30m█\u001b[0m\u001b[30m█\u001b[0m\u001b[30m█\u001b[0m\u001b[30m█\u001b[0m\u001b[30m█\u001b[0m|(869/10000) (0.02s avg time) ETA: ~04 min -  MSE (TRAIN) : \u001b[93m0.108964\u001b[0m, MSE (VAL) : \u001b[96m0.116276\u001b[0m -- BEST Val Loss : \u001b[92m0.104658\u001b[0m (at epoch 367) Eary Stopping in: 0001   \r"
     ]
    },
    {
     "name": "stderr",
     "output_type": "stream",
     "text": [
      "[I 2024-05-08 12:36:27,671] Trial 71 finished with value: 0.025911087170243263 and parameters: {'std': 0.0206, 'num_layers': 2, 'units_0': 160, 'units_1': 96, 'freezed_layer_from_right': 1}. Best is trial 44 with value: 0.018265143036842346.\n"
     ]
    },
    {
     "name": "stdout",
     "output_type": "stream",
     "text": [
      "|\u001b[92m█\u001b[0m\u001b[92m█\u001b[0m\u001b[92m█\u001b[0m\u001b[92m█\u001b[0m\u001b[30m█\u001b[0m\u001b[30m█\u001b[0m\u001b[30m█\u001b[0m\u001b[30m█\u001b[0m\u001b[30m█\u001b[0m\u001b[30m█\u001b[0m\u001b[30m█\u001b[0m\u001b[30m█\u001b[0m\u001b[30m█\u001b[0m\u001b[30m█\u001b[0m\u001b[30m█\u001b[0m\u001b[30m█\u001b[0m\u001b[30m█\u001b[0m\u001b[30m█\u001b[0m\u001b[30m█\u001b[0m\u001b[30m█\u001b[0m|(2159/10000) (0.02s avg time) ETA: ~03 min -  MSE (TRAIN) : \u001b[93m0.055105\u001b[0m, MSE (VAL) : \u001b[96m0.055368\u001b[0m -- BEST Val Loss : \u001b[92m0.054576\u001b[0m (at epoch 1657) Eary Stopping in: 0001   \r"
     ]
    },
    {
     "name": "stderr",
     "output_type": "stream",
     "text": [
      "[I 2024-05-08 12:41:13,619] Trial 72 finished with value: 0.019756441935896873 and parameters: {'std': 0.0236, 'num_layers': 2, 'units_0': 160, 'units_1': 96, 'freezed_layer_from_right': 1}. Best is trial 44 with value: 0.018265143036842346.\n"
     ]
    },
    {
     "name": "stdout",
     "output_type": "stream",
     "text": [
      "|\u001b[92m█\u001b[0m\u001b[92m█\u001b[0m\u001b[92m█\u001b[0m\u001b[92m█\u001b[0m\u001b[92m█\u001b[0m\u001b[30m█\u001b[0m\u001b[30m█\u001b[0m\u001b[30m█\u001b[0m\u001b[30m█\u001b[0m\u001b[30m█\u001b[0m\u001b[30m█\u001b[0m\u001b[30m█\u001b[0m\u001b[30m█\u001b[0m\u001b[30m█\u001b[0m\u001b[30m█\u001b[0m\u001b[30m█\u001b[0m\u001b[30m█\u001b[0m\u001b[30m█\u001b[0m\u001b[30m█\u001b[0m\u001b[30m█\u001b[0m|(2956/10000) (0.02s avg time) ETA: ~03 min -  MSE (TRAIN) : \u001b[93m0.058999\u001b[0m, MSE (VAL) : \u001b[96m0.060504\u001b[0m -- BEST Val Loss : \u001b[92m0.059718\u001b[0m (at epoch 2454) Eary Stopping in: 0001   \r"
     ]
    },
    {
     "name": "stderr",
     "output_type": "stream",
     "text": [
      "[I 2024-05-08 12:45:57,015] Trial 73 finished with value: 0.023809097707271576 and parameters: {'std': 0.0086, 'num_layers': 2, 'units_0': 160, 'units_1': 112, 'freezed_layer_from_right': 1}. Best is trial 44 with value: 0.018265143036842346.\n"
     ]
    },
    {
     "name": "stdout",
     "output_type": "stream",
     "text": [
      "|\u001b[92m█\u001b[0m\u001b[92m█\u001b[0m\u001b[30m█\u001b[0m\u001b[30m█\u001b[0m\u001b[30m█\u001b[0m\u001b[30m█\u001b[0m\u001b[30m█\u001b[0m\u001b[30m█\u001b[0m\u001b[30m█\u001b[0m\u001b[30m█\u001b[0m\u001b[30m█\u001b[0m\u001b[30m█\u001b[0m\u001b[30m█\u001b[0m\u001b[30m█\u001b[0m\u001b[30m█\u001b[0m\u001b[30m█\u001b[0m\u001b[30m█\u001b[0m\u001b[30m█\u001b[0m\u001b[30m█\u001b[0m\u001b[30m█\u001b[0m|(1245/10000) (0.02s avg time) ETA: ~04 min -  MSE (TRAIN) : \u001b[93m0.069215\u001b[0m, MSE (VAL) : \u001b[96m0.066295\u001b[0m -- BEST Val Loss : \u001b[92m0.065668\u001b[0m (at epoch 743) Eary Stopping in: 0001   \r"
     ]
    },
    {
     "name": "stderr",
     "output_type": "stream",
     "text": [
      "[I 2024-05-08 12:50:15,387] Trial 74 finished with value: 0.01830221712589264 and parameters: {'std': 0.0186, 'num_layers': 2, 'units_0': 176, 'units_1': 80, 'freezed_layer_from_right': 1}. Best is trial 44 with value: 0.018265143036842346.\n"
     ]
    },
    {
     "name": "stdout",
     "output_type": "stream",
     "text": [
      "|\u001b[92m█\u001b[0m\u001b[92m█\u001b[0m\u001b[92m█\u001b[0m\u001b[30m█\u001b[0m\u001b[30m█\u001b[0m\u001b[30m█\u001b[0m\u001b[30m█\u001b[0m\u001b[30m█\u001b[0m\u001b[30m█\u001b[0m\u001b[30m█\u001b[0m\u001b[30m█\u001b[0m\u001b[30m█\u001b[0m\u001b[30m█\u001b[0m\u001b[30m█\u001b[0m\u001b[30m█\u001b[0m\u001b[30m█\u001b[0m\u001b[30m█\u001b[0m\u001b[30m█\u001b[0m\u001b[30m█\u001b[0m\u001b[30m█\u001b[0m|(1749/10000) (0.02s avg time) ETA: ~03 min -  MSE (TRAIN) : \u001b[93m0.063253\u001b[0m, MSE (VAL) : \u001b[96m0.064777\u001b[0m -- BEST Val Loss : \u001b[92m0.064488\u001b[0m (at epoch 1247) Eary Stopping in: 0001   \r"
     ]
    },
    {
     "name": "stderr",
     "output_type": "stream",
     "text": [
      "[I 2024-05-08 12:54:44,149] Trial 75 finished with value: 0.02370816096663475 and parameters: {'std': 0.0121, 'num_layers': 2, 'units_0': 176, 'units_1': 48, 'freezed_layer_from_right': 1}. Best is trial 44 with value: 0.018265143036842346.\n"
     ]
    },
    {
     "name": "stdout",
     "output_type": "stream",
     "text": [
      "|\u001b[92m█\u001b[0m\u001b[92m█\u001b[0m\u001b[92m█\u001b[0m\u001b[30m█\u001b[0m\u001b[30m█\u001b[0m\u001b[30m█\u001b[0m\u001b[30m█\u001b[0m\u001b[30m█\u001b[0m\u001b[30m█\u001b[0m\u001b[30m█\u001b[0m\u001b[30m█\u001b[0m\u001b[30m█\u001b[0m\u001b[30m█\u001b[0m\u001b[30m█\u001b[0m\u001b[30m█\u001b[0m\u001b[30m█\u001b[0m\u001b[30m█\u001b[0m\u001b[30m█\u001b[0m\u001b[30m█\u001b[0m\u001b[30m█\u001b[0m|(1548/10000) (0.02s avg time) ETA: ~04 min -  MSE (TRAIN) : \u001b[93m0.105587\u001b[0m, MSE (VAL) : \u001b[96m0.111622\u001b[0m -- BEST Val Loss : \u001b[92m0.104074\u001b[0m (at epoch 1046) Eary Stopping in: 0001   \r"
     ]
    },
    {
     "name": "stderr",
     "output_type": "stream",
     "text": [
      "[I 2024-05-08 12:56:30,033] Trial 76 finished with value: 0.02255800925195217 and parameters: {'std': 0.022099999999999998, 'num_layers': 3, 'units_0': 176, 'units_1': 80, 'units_2': 128, 'freezed_layer_from_right': 1}. Best is trial 44 with value: 0.018265143036842346.\n"
     ]
    },
    {
     "name": "stdout",
     "output_type": "stream",
     "text": [
      "|\u001b[92m█\u001b[0m\u001b[30m█\u001b[0m\u001b[30m█\u001b[0m\u001b[30m█\u001b[0m\u001b[30m█\u001b[0m\u001b[30m█\u001b[0m\u001b[30m█\u001b[0m\u001b[30m█\u001b[0m\u001b[30m█\u001b[0m\u001b[30m█\u001b[0m\u001b[30m█\u001b[0m\u001b[30m█\u001b[0m\u001b[30m█\u001b[0m\u001b[30m█\u001b[0m\u001b[30m█\u001b[0m\u001b[30m█\u001b[0m\u001b[30m█\u001b[0m\u001b[30m█\u001b[0m\u001b[30m█\u001b[0m\u001b[30m█\u001b[0m|(675/10000) (0.02s avg time) ETA: ~04 min -  MSE (TRAIN) : \u001b[93m0.151988\u001b[0m, MSE (VAL) : \u001b[96m0.152730\u001b[0m -- BEST Val Loss : \u001b[92m0.149993\u001b[0m (at epoch 173) Eary Stopping in: 0001   \r"
     ]
    },
    {
     "name": "stderr",
     "output_type": "stream",
     "text": [
      "[I 2024-05-08 12:58:08,062] Trial 77 finished with value: 0.021387234330177307 and parameters: {'std': 0.0191, 'num_layers': 2, 'units_0': 176, 'units_1': 64, 'freezed_layer_from_right': 1}. Best is trial 44 with value: 0.018265143036842346.\n"
     ]
    },
    {
     "name": "stdout",
     "output_type": "stream",
     "text": [
      "|\u001b[92m█\u001b[0m\u001b[92m█\u001b[0m\u001b[92m█\u001b[0m\u001b[30m█\u001b[0m\u001b[30m█\u001b[0m\u001b[30m█\u001b[0m\u001b[30m█\u001b[0m\u001b[30m█\u001b[0m\u001b[30m█\u001b[0m\u001b[30m█\u001b[0m\u001b[30m█\u001b[0m\u001b[30m█\u001b[0m\u001b[30m█\u001b[0m\u001b[30m█\u001b[0m\u001b[30m█\u001b[0m\u001b[30m█\u001b[0m\u001b[30m█\u001b[0m\u001b[30m█\u001b[0m\u001b[30m█\u001b[0m\u001b[30m█\u001b[0m|(1587/10000) (0.02s avg time) ETA: ~04 min -  MSE (TRAIN) : \u001b[93m0.176749\u001b[0m, MSE (VAL) : \u001b[96m0.045202\u001b[0m -- BEST Val Loss : \u001b[92m0.029691\u001b[0m (at epoch 1085) Eary Stopping in: 0001   \r"
     ]
    },
    {
     "name": "stderr",
     "output_type": "stream",
     "text": [
      "[I 2024-05-08 12:59:21,730] Trial 78 finished with value: 0.03357234597206116 and parameters: {'std': 0.0666, 'num_layers': 2, 'units_0': 144, 'units_1': 80, 'freezed_layer_from_right': 1}. Best is trial 44 with value: 0.018265143036842346.\n"
     ]
    },
    {
     "name": "stdout",
     "output_type": "stream",
     "text": [
      "|\u001b[92m█\u001b[0m\u001b[92m█\u001b[0m\u001b[30m█\u001b[0m\u001b[30m█\u001b[0m\u001b[30m█\u001b[0m\u001b[30m█\u001b[0m\u001b[30m█\u001b[0m\u001b[30m█\u001b[0m\u001b[30m█\u001b[0m\u001b[30m█\u001b[0m\u001b[30m█\u001b[0m\u001b[30m█\u001b[0m\u001b[30m█\u001b[0m\u001b[30m█\u001b[0m\u001b[30m█\u001b[0m\u001b[30m█\u001b[0m\u001b[30m█\u001b[0m\u001b[30m█\u001b[0m\u001b[30m█\u001b[0m\u001b[30m█\u001b[0m|(1251/10000) (0.02s avg time) ETA: ~04 min -  MSE (TRAIN) : \u001b[93m0.060524\u001b[0m, MSE (VAL) : \u001b[96m0.058726\u001b[0m -- BEST Val Loss : \u001b[92m0.058008\u001b[0m (at epoch 749) Eary Stopping in: 0001   \r"
     ]
    },
    {
     "name": "stderr",
     "output_type": "stream",
     "text": [
      "[I 2024-05-08 13:02:41,352] Trial 79 finished with value: 0.02179527096450329 and parameters: {'std': 0.0271, 'num_layers': 2, 'units_0': 176, 'units_1': 112, 'freezed_layer_from_right': 1}. Best is trial 44 with value: 0.018265143036842346.\n"
     ]
    },
    {
     "name": "stdout",
     "output_type": "stream",
     "text": [
      "|\u001b[92m█\u001b[0m\u001b[30m█\u001b[0m\u001b[30m█\u001b[0m\u001b[30m█\u001b[0m\u001b[30m█\u001b[0m\u001b[30m█\u001b[0m\u001b[30m█\u001b[0m\u001b[30m█\u001b[0m\u001b[30m█\u001b[0m\u001b[30m█\u001b[0m\u001b[30m█\u001b[0m\u001b[30m█\u001b[0m\u001b[30m█\u001b[0m\u001b[30m█\u001b[0m\u001b[30m█\u001b[0m\u001b[30m█\u001b[0m\u001b[30m█\u001b[0m\u001b[30m█\u001b[0m\u001b[30m█\u001b[0m\u001b[30m█\u001b[0m|(952/10000) (0.02s avg time) ETA: ~04 min -  MSE (TRAIN) : \u001b[93m0.054880\u001b[0m, MSE (VAL) : \u001b[96m0.062829\u001b[0m -- BEST Val Loss : \u001b[92m0.054656\u001b[0m (at epoch 450) Eary Stopping in: 0001   \r"
     ]
    },
    {
     "name": "stderr",
     "output_type": "stream",
     "text": [
      "[I 2024-05-08 13:04:24,192] Trial 80 finished with value: 0.026644989848136902 and parameters: {'std': 0.03560000000000001, 'num_layers': 2, 'units_0': 160, 'units_1': 96, 'freezed_layer_from_right': 1}. Best is trial 44 with value: 0.018265143036842346.\n"
     ]
    },
    {
     "name": "stdout",
     "output_type": "stream",
     "text": [
      "|\u001b[92m█\u001b[0m\u001b[92m█\u001b[0m\u001b[92m█\u001b[0m\u001b[30m█\u001b[0m\u001b[30m█\u001b[0m\u001b[30m█\u001b[0m\u001b[30m█\u001b[0m\u001b[30m█\u001b[0m\u001b[30m█\u001b[0m\u001b[30m█\u001b[0m\u001b[30m█\u001b[0m\u001b[30m█\u001b[0m\u001b[30m█\u001b[0m\u001b[30m█\u001b[0m\u001b[30m█\u001b[0m\u001b[30m█\u001b[0m\u001b[30m█\u001b[0m\u001b[30m█\u001b[0m\u001b[30m█\u001b[0m\u001b[30m█\u001b[0m|(1605/10000) (0.02s avg time) ETA: ~03 min -  MSE (TRAIN) : \u001b[93m0.080326\u001b[0m, MSE (VAL) : \u001b[96m0.080945\u001b[0m -- BEST Val Loss : \u001b[92m0.080339\u001b[0m (at epoch 1103) Eary Stopping in: 0001   \r"
     ]
    },
    {
     "name": "stderr",
     "output_type": "stream",
     "text": [
      "[I 2024-05-08 13:08:03,893] Trial 81 finished with value: 0.018683500587940216 and parameters: {'std': 0.0181, 'num_layers': 2, 'units_0': 160, 'units_1': 96, 'freezed_layer_from_right': 1}. Best is trial 44 with value: 0.018265143036842346.\n"
     ]
    },
    {
     "name": "stdout",
     "output_type": "stream",
     "text": [
      "|\u001b[92m█\u001b[0m\u001b[92m█\u001b[0m\u001b[30m█\u001b[0m\u001b[30m█\u001b[0m\u001b[30m█\u001b[0m\u001b[30m█\u001b[0m\u001b[30m█\u001b[0m\u001b[30m█\u001b[0m\u001b[30m█\u001b[0m\u001b[30m█\u001b[0m\u001b[30m█\u001b[0m\u001b[30m█\u001b[0m\u001b[30m█\u001b[0m\u001b[30m█\u001b[0m\u001b[30m█\u001b[0m\u001b[30m█\u001b[0m\u001b[30m█\u001b[0m\u001b[30m█\u001b[0m\u001b[30m█\u001b[0m\u001b[30m█\u001b[0m|(1281/10000) (0.02s avg time) ETA: ~04 min -  MSE (TRAIN) : \u001b[93m0.067616\u001b[0m, MSE (VAL) : \u001b[96m0.072025\u001b[0m -- BEST Val Loss : \u001b[92m0.066540\u001b[0m (at epoch 779) Eary Stopping in: 0001   \r"
     ]
    },
    {
     "name": "stderr",
     "output_type": "stream",
     "text": [
      "[I 2024-05-08 13:12:22,636] Trial 82 finished with value: 0.018525557592511177 and parameters: {'std': 0.0186, 'num_layers': 2, 'units_0': 160, 'units_1': 96, 'freezed_layer_from_right': 1}. Best is trial 44 with value: 0.018265143036842346.\n"
     ]
    },
    {
     "name": "stdout",
     "output_type": "stream",
     "text": [
      "|\u001b[92m█\u001b[0m\u001b[92m█\u001b[0m\u001b[30m█\u001b[0m\u001b[30m█\u001b[0m\u001b[30m█\u001b[0m\u001b[30m█\u001b[0m\u001b[30m█\u001b[0m\u001b[30m█\u001b[0m\u001b[30m█\u001b[0m\u001b[30m█\u001b[0m\u001b[30m█\u001b[0m\u001b[30m█\u001b[0m\u001b[30m█\u001b[0m\u001b[30m█\u001b[0m\u001b[30m█\u001b[0m\u001b[30m█\u001b[0m\u001b[30m█\u001b[0m\u001b[30m█\u001b[0m\u001b[30m█\u001b[0m\u001b[30m█\u001b[0m|(1046/10000) (0.02s avg time) ETA: ~04 min -  MSE (TRAIN) : \u001b[93m0.068010\u001b[0m, MSE (VAL) : \u001b[96m0.071398\u001b[0m -- BEST Val Loss : \u001b[92m0.067446\u001b[0m (at epoch 544) Eary Stopping in: 0001   \r"
     ]
    },
    {
     "name": "stderr",
     "output_type": "stream",
     "text": [
      "[I 2024-05-08 13:16:39,611] Trial 83 finished with value: 0.022039078176021576 and parameters: {'std': 0.0176, 'num_layers': 2, 'units_0': 176, 'units_1': 80, 'freezed_layer_from_right': 1}. Best is trial 44 with value: 0.018265143036842346.\n"
     ]
    },
    {
     "name": "stdout",
     "output_type": "stream",
     "text": [
      "|\u001b[92m█\u001b[0m\u001b[92m█\u001b[0m\u001b[92m█\u001b[0m\u001b[30m█\u001b[0m\u001b[30m█\u001b[0m\u001b[30m█\u001b[0m\u001b[30m█\u001b[0m\u001b[30m█\u001b[0m\u001b[30m█\u001b[0m\u001b[30m█\u001b[0m\u001b[30m█\u001b[0m\u001b[30m█\u001b[0m\u001b[30m█\u001b[0m\u001b[30m█\u001b[0m\u001b[30m█\u001b[0m\u001b[30m█\u001b[0m\u001b[30m█\u001b[0m\u001b[30m█\u001b[0m\u001b[30m█\u001b[0m\u001b[30m█\u001b[0m|(1788/10000) (0.02s avg time) ETA: ~03 min -  MSE (TRAIN) : \u001b[93m0.065223\u001b[0m, MSE (VAL) : \u001b[96m0.068131\u001b[0m -- BEST Val Loss : \u001b[92m0.065981\u001b[0m (at epoch 1286) Eary Stopping in: 0001   \r"
     ]
    },
    {
     "name": "stderr",
     "output_type": "stream",
     "text": [
      "[I 2024-05-08 13:21:10,742] Trial 84 finished with value: 0.021464817225933075 and parameters: {'std': 0.0131, 'num_layers': 2, 'units_0': 160, 'units_1': 112, 'freezed_layer_from_right': 1}. Best is trial 44 with value: 0.018265143036842346.\n"
     ]
    },
    {
     "name": "stdout",
     "output_type": "stream",
     "text": [
      "|\u001b[92m█\u001b[0m\u001b[30m█\u001b[0m\u001b[30m█\u001b[0m\u001b[30m█\u001b[0m\u001b[30m█\u001b[0m\u001b[30m█\u001b[0m\u001b[30m█\u001b[0m\u001b[30m█\u001b[0m\u001b[30m█\u001b[0m\u001b[30m█\u001b[0m\u001b[30m█\u001b[0m\u001b[30m█\u001b[0m\u001b[30m█\u001b[0m\u001b[30m█\u001b[0m\u001b[30m█\u001b[0m\u001b[30m█\u001b[0m\u001b[30m█\u001b[0m\u001b[30m█\u001b[0m\u001b[30m█\u001b[0m\u001b[30m█\u001b[0m|(572/10000) (0.02s avg time) ETA: ~04 min -  MSE (TRAIN) : \u001b[93m0.071407\u001b[0m, MSE (VAL) : \u001b[96m0.045166\u001b[0m -- BEST Val Loss : \u001b[92m0.018110\u001b[0m (at epoch 70) Eary Stopping in: 0001   \r"
     ]
    },
    {
     "name": "stderr",
     "output_type": "stream",
     "text": [
      "[I 2024-05-08 13:22:45,527] Trial 85 finished with value: 0.0342102088034153 and parameters: {'std': 0.0996, 'num_layers': 2, 'units_0': 160, 'units_1': 80, 'freezed_layer_from_right': 1}. Best is trial 44 with value: 0.018265143036842346.\n"
     ]
    },
    {
     "name": "stdout",
     "output_type": "stream",
     "text": [
      "|\u001b[92m█\u001b[0m\u001b[92m█\u001b[0m\u001b[30m█\u001b[0m\u001b[30m█\u001b[0m\u001b[30m█\u001b[0m\u001b[30m█\u001b[0m\u001b[30m█\u001b[0m\u001b[30m█\u001b[0m\u001b[30m█\u001b[0m\u001b[30m█\u001b[0m\u001b[30m█\u001b[0m\u001b[30m█\u001b[0m\u001b[30m█\u001b[0m\u001b[30m█\u001b[0m\u001b[30m█\u001b[0m\u001b[30m█\u001b[0m\u001b[30m█\u001b[0m\u001b[30m█\u001b[0m\u001b[30m█\u001b[0m\u001b[30m█\u001b[0m|(1310/10000) (0.03s avg time) ETA: ~04 min -  MSE (TRAIN) : \u001b[93m0.213014\u001b[0m, MSE (VAL) : \u001b[96m0.216526\u001b[0m -- BEST Val Loss : \u001b[92m0.215339\u001b[0m (at epoch 808) Eary Stopping in: 0001   \r"
     ]
    },
    {
     "name": "stderr",
     "output_type": "stream",
     "text": [
      "[I 2024-05-08 13:26:25,449] Trial 86 finished with value: 0.04099276661872864 and parameters: {'std': 0.0031, 'num_layers': 5, 'units_0': 176, 'units_1': 128, 'units_2': 32, 'units_3': 144, 'units_4': 176, 'freezed_layer_from_right': 2}. Best is trial 44 with value: 0.018265143036842346.\n"
     ]
    },
    {
     "name": "stdout",
     "output_type": "stream",
     "text": [
      "|\u001b[92m█\u001b[0m\u001b[92m█\u001b[0m\u001b[30m█\u001b[0m\u001b[30m█\u001b[0m\u001b[30m█\u001b[0m\u001b[30m█\u001b[0m\u001b[30m█\u001b[0m\u001b[30m█\u001b[0m\u001b[30m█\u001b[0m\u001b[30m█\u001b[0m\u001b[30m█\u001b[0m\u001b[30m█\u001b[0m\u001b[30m█\u001b[0m\u001b[30m█\u001b[0m\u001b[30m█\u001b[0m\u001b[30m█\u001b[0m\u001b[30m█\u001b[0m\u001b[30m█\u001b[0m\u001b[30m█\u001b[0m\u001b[30m█\u001b[0m|(1457/10000) (0.02s avg time) ETA: ~04 min -  MSE (TRAIN) : \u001b[93m0.080957\u001b[0m, MSE (VAL) : \u001b[96m0.082206\u001b[0m -- BEST Val Loss : \u001b[92m0.081628\u001b[0m (at epoch 955) Eary Stopping in: 0001   \r"
     ]
    },
    {
     "name": "stderr",
     "output_type": "stream",
     "text": [
      "[I 2024-05-08 13:30:42,061] Trial 87 finished with value: 0.02737642265856266 and parameters: {'std': 0.0081, 'num_layers': 2, 'units_0': 176, 'units_1': 64, 'freezed_layer_from_right': 1}. Best is trial 44 with value: 0.018265143036842346.\n"
     ]
    },
    {
     "name": "stdout",
     "output_type": "stream",
     "text": [
      "|\u001b[92m█\u001b[0m\u001b[92m█\u001b[0m\u001b[92m█\u001b[0m\u001b[92m█\u001b[0m\u001b[30m█\u001b[0m\u001b[30m█\u001b[0m\u001b[30m█\u001b[0m\u001b[30m█\u001b[0m\u001b[30m█\u001b[0m\u001b[30m█\u001b[0m\u001b[30m█\u001b[0m\u001b[30m█\u001b[0m\u001b[30m█\u001b[0m\u001b[30m█\u001b[0m\u001b[30m█\u001b[0m\u001b[30m█\u001b[0m\u001b[30m█\u001b[0m\u001b[30m█\u001b[0m\u001b[30m█\u001b[0m\u001b[30m█\u001b[0m|(2232/10000) (0.02s avg time) ETA: ~03 min -  MSE (TRAIN) : \u001b[93m0.121318\u001b[0m, MSE (VAL) : \u001b[96m0.120216\u001b[0m -- BEST Val Loss : \u001b[92m0.119159\u001b[0m (at epoch 1730) Eary Stopping in: 0001   \r"
     ]
    },
    {
     "name": "stderr",
     "output_type": "stream",
     "text": [
      "[I 2024-05-08 13:33:10,339] Trial 88 finished with value: 0.019897058606147766 and parameters: {'std': 0.0191, 'num_layers': 2, 'units_0': 160, 'units_1': 96, 'freezed_layer_from_right': 1}. Best is trial 44 with value: 0.018265143036842346.\n"
     ]
    },
    {
     "name": "stdout",
     "output_type": "stream",
     "text": [
      "|\u001b[92m█\u001b[0m\u001b[92m█\u001b[0m\u001b[92m█\u001b[0m\u001b[30m█\u001b[0m\u001b[30m█\u001b[0m\u001b[30m█\u001b[0m\u001b[30m█\u001b[0m\u001b[30m█\u001b[0m\u001b[30m█\u001b[0m\u001b[30m█\u001b[0m\u001b[30m█\u001b[0m\u001b[30m█\u001b[0m\u001b[30m█\u001b[0m\u001b[30m█\u001b[0m\u001b[30m█\u001b[0m\u001b[30m█\u001b[0m\u001b[30m█\u001b[0m\u001b[30m█\u001b[0m\u001b[30m█\u001b[0m\u001b[30m█\u001b[0m|(1702/10000) (0.02s avg time) ETA: ~04 min -  MSE (TRAIN) : \u001b[93m0.060502\u001b[0m, MSE (VAL) : \u001b[96m0.070282\u001b[0m -- BEST Val Loss : \u001b[92m0.058134\u001b[0m (at epoch 1200) Eary Stopping in: 0001   \r"
     ]
    },
    {
     "name": "stderr",
     "output_type": "stream",
     "text": [
      "[I 2024-05-08 13:37:27,632] Trial 89 finished with value: 0.02524932287633419 and parameters: {'std': 0.0236, 'num_layers': 2, 'units_0': 160, 'units_1': 112, 'freezed_layer_from_right': 1}. Best is trial 44 with value: 0.018265143036842346.\n"
     ]
    },
    {
     "name": "stdout",
     "output_type": "stream",
     "text": [
      "|\u001b[92m█\u001b[0m\u001b[92m█\u001b[0m\u001b[92m█\u001b[0m\u001b[30m█\u001b[0m\u001b[30m█\u001b[0m\u001b[30m█\u001b[0m\u001b[30m█\u001b[0m\u001b[30m█\u001b[0m\u001b[30m█\u001b[0m\u001b[30m█\u001b[0m\u001b[30m█\u001b[0m\u001b[30m█\u001b[0m\u001b[30m█\u001b[0m\u001b[30m█\u001b[0m\u001b[30m█\u001b[0m\u001b[30m█\u001b[0m\u001b[30m█\u001b[0m\u001b[30m█\u001b[0m\u001b[30m█\u001b[0m\u001b[30m█\u001b[0m|(1517/10000) (0.02s avg time) ETA: ~04 min -  MSE (TRAIN) : \u001b[93m0.106579\u001b[0m, MSE (VAL) : \u001b[96m0.110522\u001b[0m -- BEST Val Loss : \u001b[92m0.107881\u001b[0m (at epoch 1015) Eary Stopping in: 0001   \r"
     ]
    },
    {
     "name": "stderr",
     "output_type": "stream",
     "text": [
      "[I 2024-05-08 13:40:56,273] Trial 90 finished with value: 0.029925722628831863 and parameters: {'std': 0.0106, 'num_layers': 2, 'units_0': 48, 'units_1': 96, 'freezed_layer_from_right': 1}. Best is trial 44 with value: 0.018265143036842346.\n"
     ]
    },
    {
     "name": "stdout",
     "output_type": "stream",
     "text": [
      "|\u001b[92m█\u001b[0m\u001b[92m█\u001b[0m\u001b[92m█\u001b[0m\u001b[30m█\u001b[0m\u001b[30m█\u001b[0m\u001b[30m█\u001b[0m\u001b[30m█\u001b[0m\u001b[30m█\u001b[0m\u001b[30m█\u001b[0m\u001b[30m█\u001b[0m\u001b[30m█\u001b[0m\u001b[30m█\u001b[0m\u001b[30m█\u001b[0m\u001b[30m█\u001b[0m\u001b[30m█\u001b[0m\u001b[30m█\u001b[0m\u001b[30m█\u001b[0m\u001b[30m█\u001b[0m\u001b[30m█\u001b[0m\u001b[30m█\u001b[0m|(1881/10000) (0.02s avg time) ETA: ~03 min -  MSE (TRAIN) : \u001b[93m0.099288\u001b[0m, MSE (VAL) : \u001b[96m0.099535\u001b[0m -- BEST Val Loss : \u001b[92m0.095863\u001b[0m (at epoch 1379) Eary Stopping in: 0001   \r"
     ]
    },
    {
     "name": "stderr",
     "output_type": "stream",
     "text": [
      "[I 2024-05-08 13:43:07,043] Trial 91 finished with value: 0.02022155188024044 and parameters: {'std': 0.0216, 'num_layers': 2, 'units_0': 128, 'units_1': 96, 'freezed_layer_from_right': 1}. Best is trial 44 with value: 0.018265143036842346.\n"
     ]
    },
    {
     "name": "stdout",
     "output_type": "stream",
     "text": [
      "|\u001b[92m█\u001b[0m\u001b[92m█\u001b[0m\u001b[92m█\u001b[0m\u001b[30m█\u001b[0m\u001b[30m█\u001b[0m\u001b[30m█\u001b[0m\u001b[30m█\u001b[0m\u001b[30m█\u001b[0m\u001b[30m█\u001b[0m\u001b[30m█\u001b[0m\u001b[30m█\u001b[0m\u001b[30m█\u001b[0m\u001b[30m█\u001b[0m\u001b[30m█\u001b[0m\u001b[30m█\u001b[0m\u001b[30m█\u001b[0m\u001b[30m█\u001b[0m\u001b[30m█\u001b[0m\u001b[30m█\u001b[0m\u001b[30m█\u001b[0m|(1703/10000) (0.02s avg time) ETA: ~04 min -  MSE (TRAIN) : \u001b[93m0.060419\u001b[0m, MSE (VAL) : \u001b[96m0.060106\u001b[0m -- BEST Val Loss : \u001b[92m0.059831\u001b[0m (at epoch 1201) Eary Stopping in: 0001   \r"
     ]
    },
    {
     "name": "stderr",
     "output_type": "stream",
     "text": [
      "[I 2024-05-08 13:47:39,056] Trial 92 finished with value: 0.023770881816744804 and parameters: {'std': 0.0146, 'num_layers': 2, 'units_0': 144, 'units_1': 80, 'freezed_layer_from_right': 1}. Best is trial 44 with value: 0.018265143036842346.\n"
     ]
    },
    {
     "name": "stdout",
     "output_type": "stream",
     "text": [
      "|\u001b[92m█\u001b[0m\u001b[92m█\u001b[0m\u001b[92m█\u001b[0m\u001b[30m█\u001b[0m\u001b[30m█\u001b[0m\u001b[30m█\u001b[0m\u001b[30m█\u001b[0m\u001b[30m█\u001b[0m\u001b[30m█\u001b[0m\u001b[30m█\u001b[0m\u001b[30m█\u001b[0m\u001b[30m█\u001b[0m\u001b[30m█\u001b[0m\u001b[30m█\u001b[0m\u001b[30m█\u001b[0m\u001b[30m█\u001b[0m\u001b[30m█\u001b[0m\u001b[30m█\u001b[0m\u001b[30m█\u001b[0m\u001b[30m█\u001b[0m|(1874/10000) (0.02s avg time) ETA: ~04 min -  MSE (TRAIN) : \u001b[93m0.064574\u001b[0m, MSE (VAL) : \u001b[96m0.067769\u001b[0m -- BEST Val Loss : \u001b[92m0.065186\u001b[0m (at epoch 1372) Eary Stopping in: 0001   \r"
     ]
    },
    {
     "name": "stderr",
     "output_type": "stream",
     "text": [
      "[I 2024-05-08 13:52:11,362] Trial 93 finished with value: 0.019336119294166565 and parameters: {'std': 0.0171, 'num_layers': 2, 'units_0': 176, 'units_1': 96, 'freezed_layer_from_right': 1}. Best is trial 44 with value: 0.018265143036842346.\n"
     ]
    },
    {
     "name": "stdout",
     "output_type": "stream",
     "text": [
      "|\u001b[92m█\u001b[0m\u001b[92m█\u001b[0m\u001b[92m█\u001b[0m\u001b[30m█\u001b[0m\u001b[30m█\u001b[0m\u001b[30m█\u001b[0m\u001b[30m█\u001b[0m\u001b[30m█\u001b[0m\u001b[30m█\u001b[0m\u001b[30m█\u001b[0m\u001b[30m█\u001b[0m\u001b[30m█\u001b[0m\u001b[30m█\u001b[0m\u001b[30m█\u001b[0m\u001b[30m█\u001b[0m\u001b[30m█\u001b[0m\u001b[30m█\u001b[0m\u001b[30m█\u001b[0m\u001b[30m█\u001b[0m\u001b[30m█\u001b[0m|(1886/10000) (0.02s avg time) ETA: ~03 min -  MSE (TRAIN) : \u001b[93m0.063250\u001b[0m, MSE (VAL) : \u001b[96m0.063926\u001b[0m -- BEST Val Loss : \u001b[92m0.063299\u001b[0m (at epoch 1384) Eary Stopping in: 0001   \r"
     ]
    },
    {
     "name": "stderr",
     "output_type": "stream",
     "text": [
      "[I 2024-05-08 13:56:42,805] Trial 94 finished with value: 0.023420611396431923 and parameters: {'std': 0.0166, 'num_layers': 2, 'units_0': 176, 'units_1': 112, 'freezed_layer_from_right': 1}. Best is trial 44 with value: 0.018265143036842346.\n"
     ]
    },
    {
     "name": "stdout",
     "output_type": "stream",
     "text": [
      "|\u001b[92m█\u001b[0m\u001b[92m█\u001b[0m\u001b[30m█\u001b[0m\u001b[30m█\u001b[0m\u001b[30m█\u001b[0m\u001b[30m█\u001b[0m\u001b[30m█\u001b[0m\u001b[30m█\u001b[0m\u001b[30m█\u001b[0m\u001b[30m█\u001b[0m\u001b[30m█\u001b[0m\u001b[30m█\u001b[0m\u001b[30m█\u001b[0m\u001b[30m█\u001b[0m\u001b[30m█\u001b[0m\u001b[30m█\u001b[0m\u001b[30m█\u001b[0m\u001b[30m█\u001b[0m\u001b[30m█\u001b[0m\u001b[30m█\u001b[0m|(1159/10000) (0.02s avg time) ETA: ~04 min -  MSE (TRAIN) : \u001b[93m0.060661\u001b[0m, MSE (VAL) : \u001b[96m0.066577\u001b[0m -- BEST Val Loss : \u001b[92m0.060520\u001b[0m (at epoch 657) Eary Stopping in: 0001   \r"
     ]
    },
    {
     "name": "stderr",
     "output_type": "stream",
     "text": [
      "[I 2024-05-08 14:00:59,392] Trial 95 finished with value: 0.019694993272423744 and parameters: {'std': 0.0186, 'num_layers': 2, 'units_0': 176, 'units_1': 80, 'freezed_layer_from_right': 1}. Best is trial 44 with value: 0.018265143036842346.\n"
     ]
    },
    {
     "name": "stdout",
     "output_type": "stream",
     "text": [
      "|\u001b[92m█\u001b[0m\u001b[30m█\u001b[0m\u001b[30m█\u001b[0m\u001b[30m█\u001b[0m\u001b[30m█\u001b[0m\u001b[30m█\u001b[0m\u001b[30m█\u001b[0m\u001b[30m█\u001b[0m\u001b[30m█\u001b[0m\u001b[30m█\u001b[0m\u001b[30m█\u001b[0m\u001b[30m█\u001b[0m\u001b[30m█\u001b[0m\u001b[30m█\u001b[0m\u001b[30m█\u001b[0m\u001b[30m█\u001b[0m\u001b[30m█\u001b[0m\u001b[30m█\u001b[0m\u001b[30m█\u001b[0m\u001b[30m█\u001b[0m|(843/10000) (0.02s avg time) ETA: ~04 min -  MSE (TRAIN) : \u001b[93m0.064560\u001b[0m, MSE (VAL) : \u001b[96m0.065775\u001b[0m -- BEST Val Loss : \u001b[92m0.064489\u001b[0m (at epoch 341) Eary Stopping in: 0001   \r"
     ]
    },
    {
     "name": "stderr",
     "output_type": "stream",
     "text": [
      "[I 2024-05-08 14:05:10,613] Trial 96 finished with value: 0.02238471247255802 and parameters: {'std': 0.0131, 'num_layers': 2, 'units_0': 176, 'units_1': 112, 'freezed_layer_from_right': 1}. Best is trial 44 with value: 0.018265143036842346.\n"
     ]
    },
    {
     "name": "stdout",
     "output_type": "stream",
     "text": [
      "|\u001b[92m█\u001b[0m\u001b[92m█\u001b[0m\u001b[92m█\u001b[0m\u001b[30m█\u001b[0m\u001b[30m█\u001b[0m\u001b[30m█\u001b[0m\u001b[30m█\u001b[0m\u001b[30m█\u001b[0m\u001b[30m█\u001b[0m\u001b[30m█\u001b[0m\u001b[30m█\u001b[0m\u001b[30m█\u001b[0m\u001b[30m█\u001b[0m\u001b[30m█\u001b[0m\u001b[30m█\u001b[0m\u001b[30m█\u001b[0m\u001b[30m█\u001b[0m\u001b[30m█\u001b[0m\u001b[30m█\u001b[0m\u001b[30m█\u001b[0m|(1970/10000) (0.02s avg time) ETA: ~04 min -  MSE (TRAIN) : \u001b[93m0.098285\u001b[0m, MSE (VAL) : \u001b[96m0.099905\u001b[0m -- BEST Val Loss : \u001b[92m0.099633\u001b[0m (at epoch 1468) Eary Stopping in: 0001   \r"
     ]
    },
    {
     "name": "stderr",
     "output_type": "stream",
     "text": [
      "[I 2024-05-08 14:09:37,417] Trial 97 finished with value: 0.029192037880420685 and parameters: {'std': 0.006600000000000001, 'num_layers': 2, 'units_0': 160, 'units_1': 80, 'freezed_layer_from_right': 1}. Best is trial 44 with value: 0.018265143036842346.\n"
     ]
    },
    {
     "name": "stdout",
     "output_type": "stream",
     "text": [
      "|\u001b[92m█\u001b[0m\u001b[92m█\u001b[0m\u001b[30m█\u001b[0m\u001b[30m█\u001b[0m\u001b[30m█\u001b[0m\u001b[30m█\u001b[0m\u001b[30m█\u001b[0m\u001b[30m█\u001b[0m\u001b[30m█\u001b[0m\u001b[30m█\u001b[0m\u001b[30m█\u001b[0m\u001b[30m█\u001b[0m\u001b[30m█\u001b[0m\u001b[30m█\u001b[0m\u001b[30m█\u001b[0m\u001b[30m█\u001b[0m\u001b[30m█\u001b[0m\u001b[30m█\u001b[0m\u001b[30m█\u001b[0m\u001b[30m█\u001b[0m|(1218/10000) (0.02s avg time) ETA: ~04 min -  MSE (TRAIN) : \u001b[93m0.094006\u001b[0m, MSE (VAL) : \u001b[96m0.097176\u001b[0m -- BEST Val Loss : \u001b[92m0.087633\u001b[0m (at epoch 716) Eary Stopping in: 0001   \r"
     ]
    },
    {
     "name": "stderr",
     "output_type": "stream",
     "text": [
      "[I 2024-05-08 14:11:15,284] Trial 98 finished with value: 0.021549418568611145 and parameters: {'std': 0.0246, 'num_layers': 2, 'units_0': 176, 'units_1': 96, 'freezed_layer_from_right': 1}. Best is trial 44 with value: 0.018265143036842346.\n"
     ]
    },
    {
     "name": "stdout",
     "output_type": "stream",
     "text": [
      "|\u001b[92m█\u001b[0m\u001b[92m█\u001b[0m\u001b[30m█\u001b[0m\u001b[30m█\u001b[0m\u001b[30m█\u001b[0m\u001b[30m█\u001b[0m\u001b[30m█\u001b[0m\u001b[30m█\u001b[0m\u001b[30m█\u001b[0m\u001b[30m█\u001b[0m\u001b[30m█\u001b[0m\u001b[30m█\u001b[0m\u001b[30m█\u001b[0m\u001b[30m█\u001b[0m\u001b[30m█\u001b[0m\u001b[30m█\u001b[0m\u001b[30m█\u001b[0m\u001b[30m█\u001b[0m\u001b[30m█\u001b[0m\u001b[30m█\u001b[0m|(1095/10000) (0.02s avg time) ETA: ~04 min -  MSE (TRAIN) : \u001b[93m0.096341\u001b[0m, MSE (VAL) : \u001b[96m0.098193\u001b[0m -- BEST Val Loss : \u001b[92m0.096730\u001b[0m (at epoch 593) Eary Stopping in: 0001   \r"
     ]
    },
    {
     "name": "stderr",
     "output_type": "stream",
     "text": [
      "[I 2024-05-08 14:13:15,953] Trial 99 finished with value: 0.021959073841571808 and parameters: {'std': 0.0211, 'num_layers': 2, 'units_0': 160, 'units_1': 112, 'freezed_layer_from_right': 1}. Best is trial 44 with value: 0.018265143036842346.\n"
     ]
    },
    {
     "name": "stdout",
     "output_type": "stream",
     "text": [
      "|\u001b[92m█\u001b[0m\u001b[92m█\u001b[0m\u001b[92m█\u001b[0m\u001b[92m█\u001b[0m\u001b[92m█\u001b[0m\u001b[30m█\u001b[0m\u001b[30m█\u001b[0m\u001b[30m█\u001b[0m\u001b[30m█\u001b[0m\u001b[30m█\u001b[0m\u001b[30m█\u001b[0m\u001b[30m█\u001b[0m\u001b[30m█\u001b[0m\u001b[30m█\u001b[0m\u001b[30m█\u001b[0m\u001b[30m█\u001b[0m\u001b[30m█\u001b[0m\u001b[30m█\u001b[0m\u001b[30m█\u001b[0m\u001b[30m█\u001b[0m|(2629/10000) (0.02s avg time) ETA: ~03 min -  MSE (TRAIN) : \u001b[93m0.055003\u001b[0m, MSE (VAL) : \u001b[96m0.056566\u001b[0m -- BEST Val Loss : \u001b[92m0.056237\u001b[0m (at epoch 2127) Eary Stopping in: 0001   \r"
     ]
    },
    {
     "name": "stderr",
     "output_type": "stream",
     "text": [
      "[I 2024-05-08 14:18:05,367] Trial 100 finished with value: 0.022666098549962044 and parameters: {'std': 0.0096, 'num_layers': 2, 'units_0': 176, 'units_1': 96, 'freezed_layer_from_right': 1}. Best is trial 44 with value: 0.018265143036842346.\n"
     ]
    },
    {
     "name": "stdout",
     "output_type": "stream",
     "text": [
      "|\u001b[92m█\u001b[0m\u001b[92m█\u001b[0m\u001b[92m█\u001b[0m\u001b[30m█\u001b[0m\u001b[30m█\u001b[0m\u001b[30m█\u001b[0m\u001b[30m█\u001b[0m\u001b[30m█\u001b[0m\u001b[30m█\u001b[0m\u001b[30m█\u001b[0m\u001b[30m█\u001b[0m\u001b[30m█\u001b[0m\u001b[30m█\u001b[0m\u001b[30m█\u001b[0m\u001b[30m█\u001b[0m\u001b[30m█\u001b[0m\u001b[30m█\u001b[0m\u001b[30m█\u001b[0m\u001b[30m█\u001b[0m\u001b[30m█\u001b[0m|(1970/10000) (0.02s avg time) ETA: ~03 min -  MSE (TRAIN) : \u001b[93m0.090853\u001b[0m, MSE (VAL) : \u001b[96m0.094914\u001b[0m -- BEST Val Loss : \u001b[92m0.083901\u001b[0m (at epoch 1468) Eary Stopping in: 0001   \r"
     ]
    },
    {
     "name": "stderr",
     "output_type": "stream",
     "text": [
      "[I 2024-05-08 14:20:15,908] Trial 101 finished with value: 0.029370810836553574 and parameters: {'std': 0.0266, 'num_layers': 2, 'units_0': 144, 'units_1': 96, 'freezed_layer_from_right': 1}. Best is trial 44 with value: 0.018265143036842346.\n"
     ]
    },
    {
     "name": "stdout",
     "output_type": "stream",
     "text": [
      "|\u001b[92m█\u001b[0m\u001b[92m█\u001b[0m\u001b[92m█\u001b[0m\u001b[30m█\u001b[0m\u001b[30m█\u001b[0m\u001b[30m█\u001b[0m\u001b[30m█\u001b[0m\u001b[30m█\u001b[0m\u001b[30m█\u001b[0m\u001b[30m█\u001b[0m\u001b[30m█\u001b[0m\u001b[30m█\u001b[0m\u001b[30m█\u001b[0m\u001b[30m█\u001b[0m\u001b[30m█\u001b[0m\u001b[30m█\u001b[0m\u001b[30m█\u001b[0m\u001b[30m█\u001b[0m\u001b[30m█\u001b[0m\u001b[30m█\u001b[0m|(1760/10000) (0.02s avg time) ETA: ~04 min -  MSE (TRAIN) : \u001b[93m0.062871\u001b[0m, MSE (VAL) : \u001b[96m0.063736\u001b[0m -- BEST Val Loss : \u001b[92m0.063203\u001b[0m (at epoch 1258) Eary Stopping in: 0001   \r"
     ]
    },
    {
     "name": "stderr",
     "output_type": "stream",
     "text": [
      "[I 2024-05-08 14:24:47,907] Trial 102 finished with value: 0.019957970827817917 and parameters: {'std': 0.0166, 'num_layers': 2, 'units_0': 160, 'units_1': 96, 'freezed_layer_from_right': 1}. Best is trial 44 with value: 0.018265143036842346.\n"
     ]
    },
    {
     "name": "stdout",
     "output_type": "stream",
     "text": [
      "|\u001b[92m█\u001b[0m\u001b[92m█\u001b[0m\u001b[30m█\u001b[0m\u001b[30m█\u001b[0m\u001b[30m█\u001b[0m\u001b[30m█\u001b[0m\u001b[30m█\u001b[0m\u001b[30m█\u001b[0m\u001b[30m█\u001b[0m\u001b[30m█\u001b[0m\u001b[30m█\u001b[0m\u001b[30m█\u001b[0m\u001b[30m█\u001b[0m\u001b[30m█\u001b[0m\u001b[30m█\u001b[0m\u001b[30m█\u001b[0m\u001b[30m█\u001b[0m\u001b[30m█\u001b[0m\u001b[30m█\u001b[0m\u001b[30m█\u001b[0m|(1214/10000) (0.02s avg time) ETA: ~04 min -  MSE (TRAIN) : \u001b[93m0.112212\u001b[0m, MSE (VAL) : \u001b[96m0.081228\u001b[0m -- BEST Val Loss : \u001b[92m0.070714\u001b[0m (at epoch 712) Eary Stopping in: 0001   \r"
     ]
    },
    {
     "name": "stderr",
     "output_type": "stream",
     "text": [
      "[I 2024-05-08 14:26:10,065] Trial 103 finished with value: 0.022725963965058327 and parameters: {'std': 0.0316, 'num_layers': 2, 'units_0': 144, 'units_1': 96, 'freezed_layer_from_right': 1}. Best is trial 44 with value: 0.018265143036842346.\n"
     ]
    },
    {
     "name": "stdout",
     "output_type": "stream",
     "text": [
      "|\u001b[92m█\u001b[0m\u001b[30m█\u001b[0m\u001b[30m█\u001b[0m\u001b[30m█\u001b[0m\u001b[30m█\u001b[0m\u001b[30m█\u001b[0m\u001b[30m█\u001b[0m\u001b[30m█\u001b[0m\u001b[30m█\u001b[0m\u001b[30m█\u001b[0m\u001b[30m█\u001b[0m\u001b[30m█\u001b[0m\u001b[30m█\u001b[0m\u001b[30m█\u001b[0m\u001b[30m█\u001b[0m\u001b[30m█\u001b[0m\u001b[30m█\u001b[0m\u001b[30m█\u001b[0m\u001b[30m█\u001b[0m\u001b[30m█\u001b[0m|(565/10000) (0.02s avg time) ETA: ~04 min -  MSE (TRAIN) : \u001b[93m0.038630\u001b[0m, MSE (VAL) : \u001b[96m0.179002\u001b[0m -- BEST Val Loss : \u001b[92m0.036223\u001b[0m (at epoch 63) Eary Stopping in: 0001   \r"
     ]
    },
    {
     "name": "stderr",
     "output_type": "stream",
     "text": [
      "[I 2024-05-08 14:27:02,966] Trial 104 finished with value: 0.025903824716806412 and parameters: {'std': 0.05210000000000001, 'num_layers': 2, 'units_0': 160, 'units_1': 112, 'freezed_layer_from_right': 1}. Best is trial 44 with value: 0.018265143036842346.\n"
     ]
    },
    {
     "name": "stdout",
     "output_type": "stream",
     "text": [
      "|\u001b[92m█\u001b[0m\u001b[92m█\u001b[0m\u001b[92m█\u001b[0m\u001b[30m█\u001b[0m\u001b[30m█\u001b[0m\u001b[30m█\u001b[0m\u001b[30m█\u001b[0m\u001b[30m█\u001b[0m\u001b[30m█\u001b[0m\u001b[30m█\u001b[0m\u001b[30m█\u001b[0m\u001b[30m█\u001b[0m\u001b[30m█\u001b[0m\u001b[30m█\u001b[0m\u001b[30m█\u001b[0m\u001b[30m█\u001b[0m\u001b[30m█\u001b[0m\u001b[30m█\u001b[0m\u001b[30m█\u001b[0m\u001b[30m█\u001b[0m|(1808/10000) (0.02s avg time) ETA: ~04 min -  MSE (TRAIN) : \u001b[93m0.057933\u001b[0m, MSE (VAL) : \u001b[96m0.058924\u001b[0m -- BEST Val Loss : \u001b[92m0.058750\u001b[0m (at epoch 1306) Eary Stopping in: 0001   \r"
     ]
    },
    {
     "name": "stderr",
     "output_type": "stream",
     "text": [
      "[I 2024-05-08 14:31:35,794] Trial 105 finished with value: 0.020001672208309174 and parameters: {'std': 0.0136, 'num_layers': 2, 'units_0': 176, 'units_1': 80, 'freezed_layer_from_right': 1}. Best is trial 44 with value: 0.018265143036842346.\n"
     ]
    },
    {
     "name": "stdout",
     "output_type": "stream",
     "text": [
      "|\u001b[92m█\u001b[0m\u001b[92m█\u001b[0m\u001b[92m█\u001b[0m\u001b[30m█\u001b[0m\u001b[30m█\u001b[0m\u001b[30m█\u001b[0m\u001b[30m█\u001b[0m\u001b[30m█\u001b[0m\u001b[30m█\u001b[0m\u001b[30m█\u001b[0m\u001b[30m█\u001b[0m\u001b[30m█\u001b[0m\u001b[30m█\u001b[0m\u001b[30m█\u001b[0m\u001b[30m█\u001b[0m\u001b[30m█\u001b[0m\u001b[30m█\u001b[0m\u001b[30m█\u001b[0m\u001b[30m█\u001b[0m\u001b[30m█\u001b[0m|(1871/10000) (0.02s avg time) ETA: ~03 min -  MSE (TRAIN) : \u001b[93m0.110171\u001b[0m, MSE (VAL) : \u001b[96m0.090173\u001b[0m -- BEST Val Loss : \u001b[92m0.082537\u001b[0m (at epoch 1369) Eary Stopping in: 0001   \r"
     ]
    },
    {
     "name": "stderr",
     "output_type": "stream",
     "text": [
      "[I 2024-05-08 14:32:52,327] Trial 106 finished with value: 0.028808681294322014 and parameters: {'std': 0.0291, 'num_layers': 2, 'units_0': 160, 'units_1': 96, 'freezed_layer_from_right': 1}. Best is trial 44 with value: 0.018265143036842346.\n"
     ]
    },
    {
     "name": "stdout",
     "output_type": "stream",
     "text": [
      "|\u001b[92m█\u001b[0m\u001b[92m█\u001b[0m\u001b[30m█\u001b[0m\u001b[30m█\u001b[0m\u001b[30m█\u001b[0m\u001b[30m█\u001b[0m\u001b[30m█\u001b[0m\u001b[30m█\u001b[0m\u001b[30m█\u001b[0m\u001b[30m█\u001b[0m\u001b[30m█\u001b[0m\u001b[30m█\u001b[0m\u001b[30m█\u001b[0m\u001b[30m█\u001b[0m\u001b[30m█\u001b[0m\u001b[30m█\u001b[0m\u001b[30m█\u001b[0m\u001b[30m█\u001b[0m\u001b[30m█\u001b[0m\u001b[30m█\u001b[0m|(1086/10000) (0.02s avg time) ETA: ~04 min -  MSE (TRAIN) : \u001b[93m0.045594\u001b[0m, MSE (VAL) : \u001b[96m0.047793\u001b[0m -- BEST Val Loss : \u001b[92m0.028949\u001b[0m (at epoch 584) Eary Stopping in: 0001   \r"
     ]
    },
    {
     "name": "stderr",
     "output_type": "stream",
     "text": [
      "[I 2024-05-08 14:35:02,558] Trial 107 finished with value: 0.031526606529951096 and parameters: {'std': 0.049600000000000005, 'num_layers': 2, 'units_0': 176, 'units_1': 128, 'freezed_layer_from_right': 1}. Best is trial 44 with value: 0.018265143036842346.\n"
     ]
    },
    {
     "name": "stdout",
     "output_type": "stream",
     "text": [
      "|\u001b[92m█\u001b[0m\u001b[30m█\u001b[0m\u001b[30m█\u001b[0m\u001b[30m█\u001b[0m\u001b[30m█\u001b[0m\u001b[30m█\u001b[0m\u001b[30m█\u001b[0m\u001b[30m█\u001b[0m\u001b[30m█\u001b[0m\u001b[30m█\u001b[0m\u001b[30m█\u001b[0m\u001b[30m█\u001b[0m\u001b[30m█\u001b[0m\u001b[30m█\u001b[0m\u001b[30m█\u001b[0m\u001b[30m█\u001b[0m\u001b[30m█\u001b[0m\u001b[30m█\u001b[0m\u001b[30m█\u001b[0m\u001b[30m█\u001b[0m|(960/10000) (0.02s avg time) ETA: ~04 min -  MSE (TRAIN) : \u001b[93m0.067407\u001b[0m, MSE (VAL) : \u001b[96m0.070056\u001b[0m -- BEST Val Loss : \u001b[92m0.066306\u001b[0m (at epoch 458) Eary Stopping in: 0001   \r"
     ]
    },
    {
     "name": "stderr",
     "output_type": "stream",
     "text": [
      "[I 2024-05-08 14:39:15,542] Trial 108 finished with value: 0.021845433861017227 and parameters: {'std': 0.0186, 'num_layers': 2, 'units_0': 160, 'units_1': 80, 'freezed_layer_from_right': 1}. Best is trial 44 with value: 0.018265143036842346.\n"
     ]
    },
    {
     "name": "stdout",
     "output_type": "stream",
     "text": [
      "|\u001b[92m█\u001b[0m\u001b[92m█\u001b[0m\u001b[92m█\u001b[0m\u001b[92m█\u001b[0m\u001b[30m█\u001b[0m\u001b[30m█\u001b[0m\u001b[30m█\u001b[0m\u001b[30m█\u001b[0m\u001b[30m█\u001b[0m\u001b[30m█\u001b[0m\u001b[30m█\u001b[0m\u001b[30m█\u001b[0m\u001b[30m█\u001b[0m\u001b[30m█\u001b[0m\u001b[30m█\u001b[0m\u001b[30m█\u001b[0m\u001b[30m█\u001b[0m\u001b[30m█\u001b[0m\u001b[30m█\u001b[0m\u001b[30m█\u001b[0m|(2019/10000) (0.02s avg time) ETA: ~03 min -  MSE (TRAIN) : \u001b[93m0.080638\u001b[0m, MSE (VAL) : \u001b[96m0.076520\u001b[0m -- BEST Val Loss : \u001b[92m0.073103\u001b[0m (at epoch 1517) Eary Stopping in: 0001   \r"
     ]
    },
    {
     "name": "stderr",
     "output_type": "stream",
     "text": [
      "[I 2024-05-08 14:43:20,300] Trial 109 finished with value: 0.02453593723475933 and parameters: {'std': 0.022099999999999998, 'num_layers': 2, 'units_0': 96, 'units_1': 96, 'freezed_layer_from_right': 1}. Best is trial 44 with value: 0.018265143036842346.\n"
     ]
    },
    {
     "name": "stdout",
     "output_type": "stream",
     "text": [
      "|\u001b[92m█\u001b[0m\u001b[30m█\u001b[0m\u001b[30m█\u001b[0m\u001b[30m█\u001b[0m\u001b[30m█\u001b[0m\u001b[30m█\u001b[0m\u001b[30m█\u001b[0m\u001b[30m█\u001b[0m\u001b[30m█\u001b[0m\u001b[30m█\u001b[0m\u001b[30m█\u001b[0m\u001b[30m█\u001b[0m\u001b[30m█\u001b[0m\u001b[30m█\u001b[0m\u001b[30m█\u001b[0m\u001b[30m█\u001b[0m\u001b[30m█\u001b[0m\u001b[30m█\u001b[0m\u001b[30m█\u001b[0m\u001b[30m█\u001b[0m|(684/10000) (0.02s avg time) ETA: ~04 min -  MSE (TRAIN) : \u001b[93m0.039469\u001b[0m, MSE (VAL) : \u001b[96m0.039684\u001b[0m -- BEST Val Loss : \u001b[92m0.016876\u001b[0m (at epoch 182) Eary Stopping in: 0001   \r"
     ]
    },
    {
     "name": "stderr",
     "output_type": "stream",
     "text": [
      "[I 2024-05-08 14:44:26,960] Trial 110 finished with value: 0.04305972903966904 and parameters: {'std': 0.0906, 'num_layers': 3, 'units_0': 176, 'units_1': 112, 'units_2': 48, 'freezed_layer_from_right': 1}. Best is trial 44 with value: 0.018265143036842346.\n"
     ]
    },
    {
     "name": "stdout",
     "output_type": "stream",
     "text": [
      "|\u001b[92m█\u001b[0m\u001b[30m█\u001b[0m\u001b[30m█\u001b[0m\u001b[30m█\u001b[0m\u001b[30m█\u001b[0m\u001b[30m█\u001b[0m\u001b[30m█\u001b[0m\u001b[30m█\u001b[0m\u001b[30m█\u001b[0m\u001b[30m█\u001b[0m\u001b[30m█\u001b[0m\u001b[30m█\u001b[0m\u001b[30m█\u001b[0m\u001b[30m█\u001b[0m\u001b[30m█\u001b[0m\u001b[30m█\u001b[0m\u001b[30m█\u001b[0m\u001b[30m█\u001b[0m\u001b[30m█\u001b[0m\u001b[30m█\u001b[0m|(926/10000) (0.02s avg time) ETA: ~04 min -  MSE (TRAIN) : \u001b[93m0.067782\u001b[0m, MSE (VAL) : \u001b[96m0.064586\u001b[0m -- BEST Val Loss : \u001b[92m0.063189\u001b[0m (at epoch 424) Eary Stopping in: 0001   \r"
     ]
    },
    {
     "name": "stderr",
     "output_type": "stream",
     "text": [
      "[I 2024-05-08 14:48:42,252] Trial 111 finished with value: 0.019374815747141838 and parameters: {'std': 0.0161, 'num_layers': 2, 'units_0': 160, 'units_1': 96, 'freezed_layer_from_right': 1}. Best is trial 44 with value: 0.018265143036842346.\n"
     ]
    },
    {
     "name": "stdout",
     "output_type": "stream",
     "text": [
      "|\u001b[92m█\u001b[0m\u001b[92m█\u001b[0m\u001b[92m█\u001b[0m\u001b[92m█\u001b[0m\u001b[92m█\u001b[0m\u001b[30m█\u001b[0m\u001b[30m█\u001b[0m\u001b[30m█\u001b[0m\u001b[30m█\u001b[0m\u001b[30m█\u001b[0m\u001b[30m█\u001b[0m\u001b[30m█\u001b[0m\u001b[30m█\u001b[0m\u001b[30m█\u001b[0m\u001b[30m█\u001b[0m\u001b[30m█\u001b[0m\u001b[30m█\u001b[0m\u001b[30m█\u001b[0m\u001b[30m█\u001b[0m\u001b[30m█\u001b[0m|(2560/10000) (0.02s avg time) ETA: ~03 min -  MSE (TRAIN) : \u001b[93m0.058466\u001b[0m, MSE (VAL) : \u001b[96m0.059706\u001b[0m -- BEST Val Loss : \u001b[92m0.059169\u001b[0m (at epoch 2058) Eary Stopping in: 0001   \r"
     ]
    },
    {
     "name": "stderr",
     "output_type": "stream",
     "text": [
      "[I 2024-05-08 14:53:25,755] Trial 112 finished with value: 0.021977365016937256 and parameters: {'std': 0.0116, 'num_layers': 2, 'units_0': 144, 'units_1': 96, 'freezed_layer_from_right': 1}. Best is trial 44 with value: 0.018265143036842346.\n"
     ]
    },
    {
     "name": "stdout",
     "output_type": "stream",
     "text": [
      "|\u001b[92m█\u001b[0m\u001b[92m█\u001b[0m\u001b[92m█\u001b[0m\u001b[30m█\u001b[0m\u001b[30m█\u001b[0m\u001b[30m█\u001b[0m\u001b[30m█\u001b[0m\u001b[30m█\u001b[0m\u001b[30m█\u001b[0m\u001b[30m█\u001b[0m\u001b[30m█\u001b[0m\u001b[30m█\u001b[0m\u001b[30m█\u001b[0m\u001b[30m█\u001b[0m\u001b[30m█\u001b[0m\u001b[30m█\u001b[0m\u001b[30m█\u001b[0m\u001b[30m█\u001b[0m\u001b[30m█\u001b[0m\u001b[30m█\u001b[0m|(1629/10000) (0.02s avg time) ETA: ~04 min -  MSE (TRAIN) : \u001b[93m0.069123\u001b[0m, MSE (VAL) : \u001b[96m0.069602\u001b[0m -- BEST Val Loss : \u001b[92m0.063281\u001b[0m (at epoch 1127) Eary Stopping in: 0001   \r"
     ]
    },
    {
     "name": "stderr",
     "output_type": "stream",
     "text": [
      "[I 2024-05-08 14:57:52,855] Trial 113 finished with value: 0.022480914369225502 and parameters: {'std': 0.0201, 'num_layers': 2, 'units_0': 160, 'units_1': 80, 'freezed_layer_from_right': 1}. Best is trial 44 with value: 0.018265143036842346.\n"
     ]
    },
    {
     "name": "stdout",
     "output_type": "stream",
     "text": [
      "|\u001b[92m█\u001b[0m\u001b[92m█\u001b[0m\u001b[92m█\u001b[0m\u001b[92m█\u001b[0m\u001b[30m█\u001b[0m\u001b[30m█\u001b[0m\u001b[30m█\u001b[0m\u001b[30m█\u001b[0m\u001b[30m█\u001b[0m\u001b[30m█\u001b[0m\u001b[30m█\u001b[0m\u001b[30m█\u001b[0m\u001b[30m█\u001b[0m\u001b[30m█\u001b[0m\u001b[30m█\u001b[0m\u001b[30m█\u001b[0m\u001b[30m█\u001b[0m\u001b[30m█\u001b[0m\u001b[30m█\u001b[0m\u001b[30m█\u001b[0m|(2249/10000) (0.02s avg time) ETA: ~03 min -  MSE (TRAIN) : \u001b[93m0.066373\u001b[0m, MSE (VAL) : \u001b[96m0.068682\u001b[0m -- BEST Val Loss : \u001b[92m0.066303\u001b[0m (at epoch 1747) Eary Stopping in: 0001   \r"
     ]
    },
    {
     "name": "stderr",
     "output_type": "stream",
     "text": [
      "[I 2024-05-08 15:02:34,094] Trial 114 finished with value: 0.02180630899965763 and parameters: {'std': 0.015099999999999999, 'num_layers': 2, 'units_0': 80, 'units_1': 96, 'freezed_layer_from_right': 1}. Best is trial 44 with value: 0.018265143036842346.\n"
     ]
    },
    {
     "name": "stdout",
     "output_type": "stream",
     "text": [
      "|\u001b[92m█\u001b[0m\u001b[92m█\u001b[0m\u001b[92m█\u001b[0m\u001b[30m█\u001b[0m\u001b[30m█\u001b[0m\u001b[30m█\u001b[0m\u001b[30m█\u001b[0m\u001b[30m█\u001b[0m\u001b[30m█\u001b[0m\u001b[30m█\u001b[0m\u001b[30m█\u001b[0m\u001b[30m█\u001b[0m\u001b[30m█\u001b[0m\u001b[30m█\u001b[0m\u001b[30m█\u001b[0m\u001b[30m█\u001b[0m\u001b[30m█\u001b[0m\u001b[30m█\u001b[0m\u001b[30m█\u001b[0m\u001b[30m█\u001b[0m|(1796/10000) (0.02s avg time) ETA: ~03 min -  MSE (TRAIN) : \u001b[93m0.071984\u001b[0m, MSE (VAL) : \u001b[96m0.073558\u001b[0m -- BEST Val Loss : \u001b[92m0.072477\u001b[0m (at epoch 1294) Eary Stopping in: 0001   \r"
     ]
    },
    {
     "name": "stderr",
     "output_type": "stream",
     "text": [
      "[I 2024-05-08 15:06:59,415] Trial 115 finished with value: 0.02254345826804638 and parameters: {'std': 0.0166, 'num_layers': 2, 'units_0': 176, 'units_1': 64, 'freezed_layer_from_right': 1}. Best is trial 44 with value: 0.018265143036842346.\n"
     ]
    },
    {
     "name": "stdout",
     "output_type": "stream",
     "text": [
      "|\u001b[92m█\u001b[0m\u001b[92m█\u001b[0m\u001b[92m█\u001b[0m\u001b[92m█\u001b[0m\u001b[30m█\u001b[0m\u001b[30m█\u001b[0m\u001b[30m█\u001b[0m\u001b[30m█\u001b[0m\u001b[30m█\u001b[0m\u001b[30m█\u001b[0m\u001b[30m█\u001b[0m\u001b[30m█\u001b[0m\u001b[30m█\u001b[0m\u001b[30m█\u001b[0m\u001b[30m█\u001b[0m\u001b[30m█\u001b[0m\u001b[30m█\u001b[0m\u001b[30m█\u001b[0m\u001b[30m█\u001b[0m\u001b[30m█\u001b[0m|(2496/10000) (0.02s avg time) ETA: ~03 min -  MSE (TRAIN) : \u001b[93m0.104394\u001b[0m, MSE (VAL) : \u001b[96m0.100156\u001b[0m -- BEST Val Loss : \u001b[92m0.096658\u001b[0m (at epoch 1994) Eary Stopping in: 0001   \r"
     ]
    },
    {
     "name": "stderr",
     "output_type": "stream",
     "text": [
      "[I 2024-05-08 15:08:40,191] Trial 116 finished with value: 0.032365478575229645 and parameters: {'std': 0.0256, 'num_layers': 2, 'units_0': 128, 'units_1': 112, 'freezed_layer_from_right': 1}. Best is trial 44 with value: 0.018265143036842346.\n"
     ]
    },
    {
     "name": "stdout",
     "output_type": "stream",
     "text": [
      "|\u001b[92m█\u001b[0m\u001b[92m█\u001b[0m\u001b[92m█\u001b[0m\u001b[30m█\u001b[0m\u001b[30m█\u001b[0m\u001b[30m█\u001b[0m\u001b[30m█\u001b[0m\u001b[30m█\u001b[0m\u001b[30m█\u001b[0m\u001b[30m█\u001b[0m\u001b[30m█\u001b[0m\u001b[30m█\u001b[0m\u001b[30m█\u001b[0m\u001b[30m█\u001b[0m\u001b[30m█\u001b[0m\u001b[30m█\u001b[0m\u001b[30m█\u001b[0m\u001b[30m█\u001b[0m\u001b[30m█\u001b[0m\u001b[30m█\u001b[0m|(1694/10000) (0.02s avg time) ETA: ~03 min -  MSE (TRAIN) : \u001b[93m0.104510\u001b[0m, MSE (VAL) : \u001b[96m0.112839\u001b[0m -- BEST Val Loss : \u001b[92m0.104147\u001b[0m (at epoch 1192) Eary Stopping in: 0001   \r"
     ]
    },
    {
     "name": "stderr",
     "output_type": "stream",
     "text": [
      "[I 2024-05-08 15:10:46,299] Trial 117 finished with value: 0.021510761231184006 and parameters: {'std': 0.0231, 'num_layers': 2, 'units_0': 160, 'units_1': 96, 'freezed_layer_from_right': 1}. Best is trial 44 with value: 0.018265143036842346.\n"
     ]
    },
    {
     "name": "stdout",
     "output_type": "stream",
     "text": [
      "|\u001b[92m█\u001b[0m\u001b[92m█\u001b[0m\u001b[92m█\u001b[0m\u001b[30m█\u001b[0m\u001b[30m█\u001b[0m\u001b[30m█\u001b[0m\u001b[30m█\u001b[0m\u001b[30m█\u001b[0m\u001b[30m█\u001b[0m\u001b[30m█\u001b[0m\u001b[30m█\u001b[0m\u001b[30m█\u001b[0m\u001b[30m█\u001b[0m\u001b[30m█\u001b[0m\u001b[30m█\u001b[0m\u001b[30m█\u001b[0m\u001b[30m█\u001b[0m\u001b[30m█\u001b[0m\u001b[30m█\u001b[0m\u001b[30m█\u001b[0m|(1763/10000) (0.02s avg time) ETA: ~03 min -  MSE (TRAIN) : \u001b[93m0.063790\u001b[0m, MSE (VAL) : \u001b[96m0.064142\u001b[0m -- BEST Val Loss : \u001b[92m0.063990\u001b[0m (at epoch 1261) Eary Stopping in: 0001   \r"
     ]
    },
    {
     "name": "stderr",
     "output_type": "stream",
     "text": [
      "[I 2024-05-08 15:15:16,815] Trial 118 finished with value: 0.023532263934612274 and parameters: {'std': 0.0181, 'num_layers': 2, 'units_0': 144, 'units_1': 80, 'freezed_layer_from_right': 1}. Best is trial 44 with value: 0.018265143036842346.\n"
     ]
    },
    {
     "name": "stdout",
     "output_type": "stream",
     "text": [
      "|\u001b[92m█\u001b[0m\u001b[92m█\u001b[0m\u001b[30m█\u001b[0m\u001b[30m█\u001b[0m\u001b[30m█\u001b[0m\u001b[30m█\u001b[0m\u001b[30m█\u001b[0m\u001b[30m█\u001b[0m\u001b[30m█\u001b[0m\u001b[30m█\u001b[0m\u001b[30m█\u001b[0m\u001b[30m█\u001b[0m\u001b[30m█\u001b[0m\u001b[30m█\u001b[0m\u001b[30m█\u001b[0m\u001b[30m█\u001b[0m\u001b[30m█\u001b[0m\u001b[30m█\u001b[0m\u001b[30m█\u001b[0m\u001b[30m█\u001b[0m|(1220/10000) (0.02s avg time) ETA: ~04 min -  MSE (TRAIN) : \u001b[93m0.062421\u001b[0m, MSE (VAL) : \u001b[96m0.061572\u001b[0m -- BEST Val Loss : \u001b[92m0.059471\u001b[0m (at epoch 718) Eary Stopping in: 0001   \r"
     ]
    },
    {
     "name": "stderr",
     "output_type": "stream",
     "text": [
      "[I 2024-05-08 15:19:37,131] Trial 119 finished with value: 0.021397843956947327 and parameters: {'std': 0.0131, 'num_layers': 2, 'units_0': 176, 'units_1': 112, 'freezed_layer_from_right': 1}. Best is trial 44 with value: 0.018265143036842346.\n"
     ]
    },
    {
     "name": "stdout",
     "output_type": "stream",
     "text": [
      "|\u001b[92m█\u001b[0m\u001b[92m█\u001b[0m\u001b[92m█\u001b[0m\u001b[92m█\u001b[0m\u001b[92m█\u001b[0m\u001b[30m█\u001b[0m\u001b[30m█\u001b[0m\u001b[30m█\u001b[0m\u001b[30m█\u001b[0m\u001b[30m█\u001b[0m\u001b[30m█\u001b[0m\u001b[30m█\u001b[0m\u001b[30m█\u001b[0m\u001b[30m█\u001b[0m\u001b[30m█\u001b[0m\u001b[30m█\u001b[0m\u001b[30m█\u001b[0m\u001b[30m█\u001b[0m\u001b[30m█\u001b[0m\u001b[30m█\u001b[0m|(2645/10000) (0.03s avg time) ETA: ~04 min -  MSE (TRAIN) : \u001b[93m0.085412\u001b[0m, MSE (VAL) : \u001b[96m0.084677\u001b[0m -- BEST Val Loss : \u001b[92m0.083850\u001b[0m (at epoch 2143) Eary Stopping in: 0001   \r"
     ]
    },
    {
     "name": "stderr",
     "output_type": "stream",
     "text": [
      "[I 2024-05-08 15:23:05,938] Trial 120 finished with value: 0.020613837987184525 and parameters: {'std': 0.0206, 'num_layers': 4, 'units_0': 160, 'units_1': 128, 'units_2': 16, 'units_3': 16, 'freezed_layer_from_right': 2}. Best is trial 44 with value: 0.018265143036842346.\n"
     ]
    },
    {
     "name": "stdout",
     "output_type": "stream",
     "text": [
      "|\u001b[92m█\u001b[0m\u001b[92m█\u001b[0m\u001b[92m█\u001b[0m\u001b[30m█\u001b[0m\u001b[30m█\u001b[0m\u001b[30m█\u001b[0m\u001b[30m█\u001b[0m\u001b[30m█\u001b[0m\u001b[30m█\u001b[0m\u001b[30m█\u001b[0m\u001b[30m█\u001b[0m\u001b[30m█\u001b[0m\u001b[30m█\u001b[0m\u001b[30m█\u001b[0m\u001b[30m█\u001b[0m\u001b[30m█\u001b[0m\u001b[30m█\u001b[0m\u001b[30m█\u001b[0m\u001b[30m█\u001b[0m\u001b[30m█\u001b[0m|(1788/10000) (0.02s avg time) ETA: ~04 min -  MSE (TRAIN) : \u001b[93m0.066494\u001b[0m, MSE (VAL) : \u001b[96m0.067162\u001b[0m -- BEST Val Loss : \u001b[92m0.066646\u001b[0m (at epoch 1286) Eary Stopping in: 0001   \r"
     ]
    },
    {
     "name": "stderr",
     "output_type": "stream",
     "text": [
      "[I 2024-05-08 15:27:34,824] Trial 121 finished with value: 0.020118776708841324 and parameters: {'std': 0.0156, 'num_layers': 2, 'units_0': 160, 'units_1': 96, 'freezed_layer_from_right': 1}. Best is trial 44 with value: 0.018265143036842346.\n"
     ]
    },
    {
     "name": "stdout",
     "output_type": "stream",
     "text": [
      "|\u001b[92m█\u001b[0m\u001b[92m█\u001b[0m\u001b[92m█\u001b[0m\u001b[92m█\u001b[0m\u001b[92m█\u001b[0m\u001b[92m█\u001b[0m\u001b[30m█\u001b[0m\u001b[30m█\u001b[0m\u001b[30m█\u001b[0m\u001b[30m█\u001b[0m\u001b[30m█\u001b[0m\u001b[30m█\u001b[0m\u001b[30m█\u001b[0m\u001b[30m█\u001b[0m\u001b[30m█\u001b[0m\u001b[30m█\u001b[0m\u001b[30m█\u001b[0m\u001b[30m█\u001b[0m\u001b[30m█\u001b[0m\u001b[30m█\u001b[0m|(3085/10000) (0.02s avg time) ETA: ~03 min -  MSE (TRAIN) : \u001b[93m0.054665\u001b[0m, MSE (VAL) : \u001b[96m0.055990\u001b[0m -- BEST Val Loss : \u001b[92m0.055839\u001b[0m (at epoch 2583) Eary Stopping in: 0001   \r"
     ]
    },
    {
     "name": "stderr",
     "output_type": "stream",
     "text": [
      "[I 2024-05-08 15:32:32,978] Trial 122 finished with value: 0.022982945665717125 and parameters: {'std': 0.0096, 'num_layers': 2, 'units_0': 160, 'units_1': 96, 'freezed_layer_from_right': 1}. Best is trial 44 with value: 0.018265143036842346.\n"
     ]
    },
    {
     "name": "stdout",
     "output_type": "stream",
     "text": [
      "|\u001b[92m█\u001b[0m\u001b[92m█\u001b[0m\u001b[92m█\u001b[0m\u001b[30m█\u001b[0m\u001b[30m█\u001b[0m\u001b[30m█\u001b[0m\u001b[30m█\u001b[0m\u001b[30m█\u001b[0m\u001b[30m█\u001b[0m\u001b[30m█\u001b[0m\u001b[30m█\u001b[0m\u001b[30m█\u001b[0m\u001b[30m█\u001b[0m\u001b[30m█\u001b[0m\u001b[30m█\u001b[0m\u001b[30m█\u001b[0m\u001b[30m█\u001b[0m\u001b[30m█\u001b[0m\u001b[30m█\u001b[0m\u001b[30m█\u001b[0m|(1514/10000) (0.02s avg time) ETA: ~03 min -  MSE (TRAIN) : \u001b[93m0.067169\u001b[0m, MSE (VAL) : \u001b[96m0.066268\u001b[0m -- BEST Val Loss : \u001b[92m0.062756\u001b[0m (at epoch 1012) Eary Stopping in: 0001   \r"
     ]
    },
    {
     "name": "stderr",
     "output_type": "stream",
     "text": [
      "[I 2024-05-08 15:36:56,538] Trial 123 finished with value: 0.020968249067664146 and parameters: {'std': 0.0156, 'num_layers': 2, 'units_0': 176, 'units_1': 96, 'freezed_layer_from_right': 1}. Best is trial 44 with value: 0.018265143036842346.\n"
     ]
    },
    {
     "name": "stdout",
     "output_type": "stream",
     "text": [
      "|\u001b[92m█\u001b[0m\u001b[30m█\u001b[0m\u001b[30m█\u001b[0m\u001b[30m█\u001b[0m\u001b[30m█\u001b[0m\u001b[30m█\u001b[0m\u001b[30m█\u001b[0m\u001b[30m█\u001b[0m\u001b[30m█\u001b[0m\u001b[30m█\u001b[0m\u001b[30m█\u001b[0m\u001b[30m█\u001b[0m\u001b[30m█\u001b[0m\u001b[30m█\u001b[0m\u001b[30m█\u001b[0m\u001b[30m█\u001b[0m\u001b[30m█\u001b[0m\u001b[30m█\u001b[0m\u001b[30m█\u001b[0m\u001b[30m█\u001b[0m|(935/10000) (0.02s avg time) ETA: ~04 min -  MSE (TRAIN) : \u001b[93m0.075985\u001b[0m, MSE (VAL) : \u001b[96m0.076909\u001b[0m -- BEST Val Loss : \u001b[92m0.074343\u001b[0m (at epoch 433) Eary Stopping in: 0001   \r"
     ]
    },
    {
     "name": "stderr",
     "output_type": "stream",
     "text": [
      "[I 2024-05-08 15:40:21,471] Trial 124 finished with value: 0.019797787070274353 and parameters: {'std': 0.0196, 'num_layers': 2, 'units_0': 176, 'units_1': 80, 'freezed_layer_from_right': 1}. Best is trial 44 with value: 0.018265143036842346.\n"
     ]
    },
    {
     "name": "stdout",
     "output_type": "stream",
     "text": [
      "|\u001b[92m█\u001b[0m\u001b[92m█\u001b[0m\u001b[92m█\u001b[0m\u001b[92m█\u001b[0m\u001b[30m█\u001b[0m\u001b[30m█\u001b[0m\u001b[30m█\u001b[0m\u001b[30m█\u001b[0m\u001b[30m█\u001b[0m\u001b[30m█\u001b[0m\u001b[30m█\u001b[0m\u001b[30m█\u001b[0m\u001b[30m█\u001b[0m\u001b[30m█\u001b[0m\u001b[30m█\u001b[0m\u001b[30m█\u001b[0m\u001b[30m█\u001b[0m\u001b[30m█\u001b[0m\u001b[30m█\u001b[0m\u001b[30m█\u001b[0m|(2022/10000) (0.02s avg time) ETA: ~03 min -  MSE (TRAIN) : \u001b[93m0.087089\u001b[0m, MSE (VAL) : \u001b[96m0.092086\u001b[0m -- BEST Val Loss : \u001b[92m0.087133\u001b[0m (at epoch 1520) Eary Stopping in: 0001   \r"
     ]
    },
    {
     "name": "stderr",
     "output_type": "stream",
     "text": [
      "[I 2024-05-08 15:42:38,819] Trial 125 finished with value: 0.022647609934210777 and parameters: {'std': 0.0236, 'num_layers': 2, 'units_0': 160, 'units_1': 112, 'freezed_layer_from_right': 1}. Best is trial 44 with value: 0.018265143036842346.\n"
     ]
    },
    {
     "name": "stdout",
     "output_type": "stream",
     "text": [
      "|\u001b[92m█\u001b[0m\u001b[92m█\u001b[0m\u001b[92m█\u001b[0m\u001b[92m█\u001b[0m\u001b[92m█\u001b[0m\u001b[92m█\u001b[0m\u001b[30m█\u001b[0m\u001b[30m█\u001b[0m\u001b[30m█\u001b[0m\u001b[30m█\u001b[0m\u001b[30m█\u001b[0m\u001b[30m█\u001b[0m\u001b[30m█\u001b[0m\u001b[30m█\u001b[0m\u001b[30m█\u001b[0m\u001b[30m█\u001b[0m\u001b[30m█\u001b[0m\u001b[30m█\u001b[0m\u001b[30m█\u001b[0m\u001b[30m█\u001b[0m|(3004/10000) (0.02s avg time) ETA: ~03 min -  MSE (TRAIN) : \u001b[93m0.050471\u001b[0m, MSE (VAL) : \u001b[96m0.051864\u001b[0m -- BEST Val Loss : \u001b[92m0.051427\u001b[0m (at epoch 2502) Eary Stopping in: 0001   \r"
     ]
    },
    {
     "name": "stderr",
     "output_type": "stream",
     "text": [
      "[I 2024-05-08 15:47:35,324] Trial 126 finished with value: 0.0221538245677948 and parameters: {'std': 0.0116, 'num_layers': 2, 'units_0': 160, 'units_1': 96, 'freezed_layer_from_right': 1}. Best is trial 44 with value: 0.018265143036842346.\n"
     ]
    },
    {
     "name": "stdout",
     "output_type": "stream",
     "text": [
      "|\u001b[92m█\u001b[0m\u001b[92m█\u001b[0m\u001b[30m█\u001b[0m\u001b[30m█\u001b[0m\u001b[30m█\u001b[0m\u001b[30m█\u001b[0m\u001b[30m█\u001b[0m\u001b[30m█\u001b[0m\u001b[30m█\u001b[0m\u001b[30m█\u001b[0m\u001b[30m█\u001b[0m\u001b[30m█\u001b[0m\u001b[30m█\u001b[0m\u001b[30m█\u001b[0m\u001b[30m█\u001b[0m\u001b[30m█\u001b[0m\u001b[30m█\u001b[0m\u001b[30m█\u001b[0m\u001b[30m█\u001b[0m\u001b[30m█\u001b[0m|(1479/10000) (0.02s avg time) ETA: ~04 min -  MSE (TRAIN) : \u001b[93m0.064850\u001b[0m, MSE (VAL) : \u001b[96m0.065526\u001b[0m -- BEST Val Loss : \u001b[92m0.063575\u001b[0m (at epoch 977) Eary Stopping in: 0001   \r"
     ]
    },
    {
     "name": "stderr",
     "output_type": "stream",
     "text": [
      "[I 2024-05-08 15:51:49,096] Trial 127 finished with value: 0.023966601118445396 and parameters: {'std': 0.0176, 'num_layers': 2, 'units_0': 144, 'units_1': 112, 'freezed_layer_from_right': 1}. Best is trial 44 with value: 0.018265143036842346.\n"
     ]
    },
    {
     "name": "stdout",
     "output_type": "stream",
     "text": [
      "|\u001b[92m█\u001b[0m\u001b[92m█\u001b[0m\u001b[92m█\u001b[0m\u001b[92m█\u001b[0m\u001b[30m█\u001b[0m\u001b[30m█\u001b[0m\u001b[30m█\u001b[0m\u001b[30m█\u001b[0m\u001b[30m█\u001b[0m\u001b[30m█\u001b[0m\u001b[30m█\u001b[0m\u001b[30m█\u001b[0m\u001b[30m█\u001b[0m\u001b[30m█\u001b[0m\u001b[30m█\u001b[0m\u001b[30m█\u001b[0m\u001b[30m█\u001b[0m\u001b[30m█\u001b[0m\u001b[30m█\u001b[0m\u001b[30m█\u001b[0m|(2195/10000) (0.02s avg time) ETA: ~03 min -  MSE (TRAIN) : \u001b[93m0.064651\u001b[0m, MSE (VAL) : \u001b[96m0.065289\u001b[0m -- BEST Val Loss : \u001b[92m0.064861\u001b[0m (at epoch 1693) Eary Stopping in: 0001   \r"
     ]
    },
    {
     "name": "stderr",
     "output_type": "stream",
     "text": [
      "[I 2024-05-08 15:56:25,785] Trial 128 finished with value: 0.02117360569536686 and parameters: {'std': 0.0146, 'num_layers': 2, 'units_0': 176, 'units_1': 80, 'freezed_layer_from_right': 1}. Best is trial 44 with value: 0.018265143036842346.\n"
     ]
    },
    {
     "name": "stdout",
     "output_type": "stream",
     "text": [
      "|\u001b[92m█\u001b[0m\u001b[92m█\u001b[0m\u001b[92m█\u001b[0m\u001b[30m█\u001b[0m\u001b[30m█\u001b[0m\u001b[30m█\u001b[0m\u001b[30m█\u001b[0m\u001b[30m█\u001b[0m\u001b[30m█\u001b[0m\u001b[30m█\u001b[0m\u001b[30m█\u001b[0m\u001b[30m█\u001b[0m\u001b[30m█\u001b[0m\u001b[30m█\u001b[0m\u001b[30m█\u001b[0m\u001b[30m█\u001b[0m\u001b[30m█\u001b[0m\u001b[30m█\u001b[0m\u001b[30m█\u001b[0m\u001b[30m█\u001b[0m|(1908/10000) (0.02s avg time) ETA: ~03 min -  MSE (TRAIN) : \u001b[93m0.071392\u001b[0m, MSE (VAL) : \u001b[96m0.069202\u001b[0m -- BEST Val Loss : \u001b[92m0.068336\u001b[0m (at epoch 1406) Eary Stopping in: 0001   \r"
     ]
    },
    {
     "name": "stderr",
     "output_type": "stream",
     "text": [
      "[I 2024-05-08 15:59:17,256] Trial 129 finished with value: 0.02468312717974186 and parameters: {'std': 0.0276, 'num_layers': 2, 'units_0': 160, 'units_1': 96, 'freezed_layer_from_right': 1}. Best is trial 44 with value: 0.018265143036842346.\n"
     ]
    },
    {
     "name": "stdout",
     "output_type": "stream",
     "text": [
      "|\u001b[92m█\u001b[0m\u001b[92m█\u001b[0m\u001b[92m█\u001b[0m\u001b[92m█\u001b[0m\u001b[92m█\u001b[0m\u001b[30m█\u001b[0m\u001b[30m█\u001b[0m\u001b[30m█\u001b[0m\u001b[30m█\u001b[0m\u001b[30m█\u001b[0m\u001b[30m█\u001b[0m\u001b[30m█\u001b[0m\u001b[30m█\u001b[0m\u001b[30m█\u001b[0m\u001b[30m█\u001b[0m\u001b[30m█\u001b[0m\u001b[30m█\u001b[0m\u001b[30m█\u001b[0m\u001b[30m█\u001b[0m\u001b[30m█\u001b[0m|(2635/10000) (0.02s avg time) ETA: ~03 min -  MSE (TRAIN) : \u001b[93m0.068806\u001b[0m, MSE (VAL) : \u001b[96m0.068553\u001b[0m -- BEST Val Loss : \u001b[92m0.067436\u001b[0m (at epoch 2133) Eary Stopping in: 0001   \r"
     ]
    },
    {
     "name": "stderr",
     "output_type": "stream",
     "text": [
      "[I 2024-05-08 16:04:06,939] Trial 130 finished with value: 0.02120307646691799 and parameters: {'std': 0.0216, 'num_layers': 2, 'units_0': 112, 'units_1': 80, 'freezed_layer_from_right': 1}. Best is trial 44 with value: 0.018265143036842346.\n"
     ]
    },
    {
     "name": "stdout",
     "output_type": "stream",
     "text": [
      "|\u001b[92m█\u001b[0m\u001b[92m█\u001b[0m\u001b[92m█\u001b[0m\u001b[92m█\u001b[0m\u001b[30m█\u001b[0m\u001b[30m█\u001b[0m\u001b[30m█\u001b[0m\u001b[30m█\u001b[0m\u001b[30m█\u001b[0m\u001b[30m█\u001b[0m\u001b[30m█\u001b[0m\u001b[30m█\u001b[0m\u001b[30m█\u001b[0m\u001b[30m█\u001b[0m\u001b[30m█\u001b[0m\u001b[30m█\u001b[0m\u001b[30m█\u001b[0m\u001b[30m█\u001b[0m\u001b[30m█\u001b[0m\u001b[30m█\u001b[0m|(2482/10000) (0.02s avg time) ETA: ~03 min -  MSE (TRAIN) : \u001b[93m0.070840\u001b[0m, MSE (VAL) : \u001b[96m0.071531\u001b[0m -- BEST Val Loss : \u001b[92m0.070363\u001b[0m (at epoch 1980) Eary Stopping in: 0001   \r"
     ]
    },
    {
     "name": "stderr",
     "output_type": "stream",
     "text": [
      "[I 2024-05-08 16:09:09,059] Trial 131 finished with value: 0.020218348130583763 and parameters: {'std': 0.0171, 'num_layers': 2, 'units_0': 160, 'units_1': 96, 'freezed_layer_from_right': 1}. Best is trial 44 with value: 0.018265143036842346.\n"
     ]
    },
    {
     "name": "stdout",
     "output_type": "stream",
     "text": [
      "|\u001b[92m█\u001b[0m\u001b[92m█\u001b[0m\u001b[92m█\u001b[0m\u001b[92m█\u001b[0m\u001b[92m█\u001b[0m\u001b[30m█\u001b[0m\u001b[30m█\u001b[0m\u001b[30m█\u001b[0m\u001b[30m█\u001b[0m\u001b[30m█\u001b[0m\u001b[30m█\u001b[0m\u001b[30m█\u001b[0m\u001b[30m█\u001b[0m\u001b[30m█\u001b[0m\u001b[30m█\u001b[0m\u001b[30m█\u001b[0m\u001b[30m█\u001b[0m\u001b[30m█\u001b[0m\u001b[30m█\u001b[0m\u001b[30m█\u001b[0m|(2504/10000) (0.02s avg time) ETA: ~03 min -  MSE (TRAIN) : \u001b[93m0.062407\u001b[0m, MSE (VAL) : \u001b[96m0.065840\u001b[0m -- BEST Val Loss : \u001b[92m0.062389\u001b[0m (at epoch 2002) Eary Stopping in: 0001   \r"
     ]
    },
    {
     "name": "stderr",
     "output_type": "stream",
     "text": [
      "[I 2024-05-08 16:13:53,530] Trial 132 finished with value: 0.021628985181450844 and parameters: {'std': 0.0136, 'num_layers': 2, 'units_0': 176, 'units_1': 96, 'freezed_layer_from_right': 1}. Best is trial 44 with value: 0.018265143036842346.\n"
     ]
    },
    {
     "name": "stdout",
     "output_type": "stream",
     "text": [
      "|\u001b[92m█\u001b[0m\u001b[92m█\u001b[0m\u001b[92m█\u001b[0m\u001b[30m█\u001b[0m\u001b[30m█\u001b[0m\u001b[30m█\u001b[0m\u001b[30m█\u001b[0m\u001b[30m█\u001b[0m\u001b[30m█\u001b[0m\u001b[30m█\u001b[0m\u001b[30m█\u001b[0m\u001b[30m█\u001b[0m\u001b[30m█\u001b[0m\u001b[30m█\u001b[0m\u001b[30m█\u001b[0m\u001b[30m█\u001b[0m\u001b[30m█\u001b[0m\u001b[30m█\u001b[0m\u001b[30m█\u001b[0m\u001b[30m█\u001b[0m|(1644/10000) (0.02s avg time) ETA: ~04 min -  MSE (TRAIN) : \u001b[93m0.112803\u001b[0m, MSE (VAL) : \u001b[96m0.114860\u001b[0m -- BEST Val Loss : \u001b[92m0.112166\u001b[0m (at epoch 1142) Eary Stopping in: 0001   \r"
     ]
    },
    {
     "name": "stderr",
     "output_type": "stream",
     "text": [
      "[I 2024-05-08 16:16:14,295] Trial 133 finished with value: 0.01918027736246586 and parameters: {'std': 0.0191, 'num_layers': 2, 'units_0': 160, 'units_1': 96, 'freezed_layer_from_right': 1}. Best is trial 44 with value: 0.018265143036842346.\n"
     ]
    },
    {
     "name": "stdout",
     "output_type": "stream",
     "text": [
      "|\u001b[92m█\u001b[0m\u001b[92m█\u001b[0m\u001b[30m█\u001b[0m\u001b[30m█\u001b[0m\u001b[30m█\u001b[0m\u001b[30m█\u001b[0m\u001b[30m█\u001b[0m\u001b[30m█\u001b[0m\u001b[30m█\u001b[0m\u001b[30m█\u001b[0m\u001b[30m█\u001b[0m\u001b[30m█\u001b[0m\u001b[30m█\u001b[0m\u001b[30m█\u001b[0m\u001b[30m█\u001b[0m\u001b[30m█\u001b[0m\u001b[30m█\u001b[0m\u001b[30m█\u001b[0m\u001b[30m█\u001b[0m\u001b[30m█\u001b[0m|(1062/10000) (0.02s avg time) ETA: ~04 min -  MSE (TRAIN) : \u001b[93m0.102080\u001b[0m, MSE (VAL) : \u001b[96m0.099409\u001b[0m -- BEST Val Loss : \u001b[92m0.090975\u001b[0m (at epoch 560) Eary Stopping in: 0001   \r"
     ]
    },
    {
     "name": "stderr",
     "output_type": "stream",
     "text": [
      "[I 2024-05-08 16:17:51,551] Trial 134 finished with value: 0.023555755615234375 and parameters: {'std': 0.0251, 'num_layers': 2, 'units_0': 144, 'units_1': 96, 'freezed_layer_from_right': 1}. Best is trial 44 with value: 0.018265143036842346.\n"
     ]
    },
    {
     "name": "stdout",
     "output_type": "stream",
     "text": [
      "|\u001b[92m█\u001b[0m\u001b[30m█\u001b[0m\u001b[30m█\u001b[0m\u001b[30m█\u001b[0m\u001b[30m█\u001b[0m\u001b[30m█\u001b[0m\u001b[30m█\u001b[0m\u001b[30m█\u001b[0m\u001b[30m█\u001b[0m\u001b[30m█\u001b[0m\u001b[30m█\u001b[0m\u001b[30m█\u001b[0m\u001b[30m█\u001b[0m\u001b[30m█\u001b[0m\u001b[30m█\u001b[0m\u001b[30m█\u001b[0m\u001b[30m█\u001b[0m\u001b[30m█\u001b[0m\u001b[30m█\u001b[0m\u001b[30m█\u001b[0m|(805/10000) (0.02s avg time) ETA: ~04 min -  MSE (TRAIN) : \u001b[93m0.086472\u001b[0m, MSE (VAL) : \u001b[96m0.099095\u001b[0m -- BEST Val Loss : \u001b[92m0.080215\u001b[0m (at epoch 303) Eary Stopping in: 0001   \r"
     ]
    },
    {
     "name": "stderr",
     "output_type": "stream",
     "text": [
      "[I 2024-05-08 16:19:36,481] Trial 135 finished with value: 0.032627690583467484 and parameters: {'std': 0.0196, 'num_layers': 2, 'units_0': 160, 'units_1': 160, 'freezed_layer_from_right': 1}. Best is trial 44 with value: 0.018265143036842346.\n"
     ]
    },
    {
     "name": "stdout",
     "output_type": "stream",
     "text": [
      "|\u001b[92m█\u001b[0m\u001b[92m█\u001b[0m\u001b[92m█\u001b[0m\u001b[92m█\u001b[0m\u001b[30m█\u001b[0m\u001b[30m█\u001b[0m\u001b[30m█\u001b[0m\u001b[30m█\u001b[0m\u001b[30m█\u001b[0m\u001b[30m█\u001b[0m\u001b[30m█\u001b[0m\u001b[30m█\u001b[0m\u001b[30m█\u001b[0m\u001b[30m█\u001b[0m\u001b[30m█\u001b[0m\u001b[30m█\u001b[0m\u001b[30m█\u001b[0m\u001b[30m█\u001b[0m\u001b[30m█\u001b[0m\u001b[30m█\u001b[0m|(2033/10000) (0.02s avg time) ETA: ~03 min -  MSE (TRAIN) : \u001b[93m0.081417\u001b[0m, MSE (VAL) : \u001b[96m0.084482\u001b[0m -- BEST Val Loss : \u001b[92m0.082629\u001b[0m (at epoch 1531) Eary Stopping in: 0001   \r"
     ]
    },
    {
     "name": "stderr",
     "output_type": "stream",
     "text": [
      "[I 2024-05-08 16:23:49,648] Trial 136 finished with value: 0.027203526347875595 and parameters: {'std': 0.0081, 'num_layers': 2, 'units_0': 176, 'units_1': 64, 'freezed_layer_from_right': 1}. Best is trial 44 with value: 0.018265143036842346.\n"
     ]
    },
    {
     "name": "stdout",
     "output_type": "stream",
     "text": [
      "|\u001b[92m█\u001b[0m\u001b[92m█\u001b[0m\u001b[92m█\u001b[0m\u001b[30m█\u001b[0m\u001b[30m█\u001b[0m\u001b[30m█\u001b[0m\u001b[30m█\u001b[0m\u001b[30m█\u001b[0m\u001b[30m█\u001b[0m\u001b[30m█\u001b[0m\u001b[30m█\u001b[0m\u001b[30m█\u001b[0m\u001b[30m█\u001b[0m\u001b[30m█\u001b[0m\u001b[30m█\u001b[0m\u001b[30m█\u001b[0m\u001b[30m█\u001b[0m\u001b[30m█\u001b[0m\u001b[30m█\u001b[0m\u001b[30m█\u001b[0m|(1975/10000) (0.02s avg time) ETA: ~04 min -  MSE (TRAIN) : \u001b[93m0.160922\u001b[0m, MSE (VAL) : \u001b[96m0.164325\u001b[0m -- BEST Val Loss : \u001b[92m0.161901\u001b[0m (at epoch 1473) Eary Stopping in: 0001   \r"
     ]
    },
    {
     "name": "stderr",
     "output_type": "stream",
     "text": [
      "[I 2024-05-08 16:26:50,057] Trial 137 finished with value: 0.03656274080276489 and parameters: {'std': 0.0041, 'num_layers': 2, 'units_0': 160, 'units_1': 112, 'freezed_layer_from_right': 1}. Best is trial 44 with value: 0.018265143036842346.\n"
     ]
    },
    {
     "name": "stdout",
     "output_type": "stream",
     "text": [
      "|\u001b[92m█\u001b[0m\u001b[92m█\u001b[0m\u001b[92m█\u001b[0m\u001b[92m█\u001b[0m\u001b[30m█\u001b[0m\u001b[30m█\u001b[0m\u001b[30m█\u001b[0m\u001b[30m█\u001b[0m\u001b[30m█\u001b[0m\u001b[30m█\u001b[0m\u001b[30m█\u001b[0m\u001b[30m█\u001b[0m\u001b[30m█\u001b[0m\u001b[30m█\u001b[0m\u001b[30m█\u001b[0m\u001b[30m█\u001b[0m\u001b[30m█\u001b[0m\u001b[30m█\u001b[0m\u001b[30m█\u001b[0m\u001b[30m█\u001b[0m|(2318/10000) (0.02s avg time) ETA: ~03 min -  MSE (TRAIN) : \u001b[93m0.062422\u001b[0m, MSE (VAL) : \u001b[96m0.063683\u001b[0m -- BEST Val Loss : \u001b[92m0.061363\u001b[0m (at epoch 1816) Eary Stopping in: 0001   \r"
     ]
    },
    {
     "name": "stderr",
     "output_type": "stream",
     "text": [
      "[I 2024-05-08 16:31:26,524] Trial 138 finished with value: 0.02069077454507351 and parameters: {'std': 0.0166, 'num_layers': 2, 'units_0': 176, 'units_1': 80, 'freezed_layer_from_right': 1}. Best is trial 44 with value: 0.018265143036842346.\n"
     ]
    },
    {
     "name": "stdout",
     "output_type": "stream",
     "text": [
      "|\u001b[92m█\u001b[0m\u001b[92m█\u001b[0m\u001b[92m█\u001b[0m\u001b[92m█\u001b[0m\u001b[30m█\u001b[0m\u001b[30m█\u001b[0m\u001b[30m█\u001b[0m\u001b[30m█\u001b[0m\u001b[30m█\u001b[0m\u001b[30m█\u001b[0m\u001b[30m█\u001b[0m\u001b[30m█\u001b[0m\u001b[30m█\u001b[0m\u001b[30m█\u001b[0m\u001b[30m█\u001b[0m\u001b[30m█\u001b[0m\u001b[30m█\u001b[0m\u001b[30m█\u001b[0m\u001b[30m█\u001b[0m\u001b[30m█\u001b[0m|(2151/10000) (0.02s avg time) ETA: ~03 min -  MSE (TRAIN) : \u001b[93m0.056263\u001b[0m, MSE (VAL) : \u001b[96m0.057988\u001b[0m -- BEST Val Loss : \u001b[92m0.057374\u001b[0m (at epoch 1649) Eary Stopping in: 0001   \r"
     ]
    },
    {
     "name": "stderr",
     "output_type": "stream",
     "text": [
      "[I 2024-05-08 16:36:01,563] Trial 139 finished with value: 0.02251562662422657 and parameters: {'std': 0.0116, 'num_layers': 2, 'units_0': 144, 'units_1': 96, 'freezed_layer_from_right': 1}. Best is trial 44 with value: 0.018265143036842346.\n"
     ]
    },
    {
     "name": "stdout",
     "output_type": "stream",
     "text": [
      "|\u001b[92m█\u001b[0m\u001b[92m█\u001b[0m\u001b[92m█\u001b[0m\u001b[92m█\u001b[0m\u001b[92m█\u001b[0m\u001b[30m█\u001b[0m\u001b[30m█\u001b[0m\u001b[30m█\u001b[0m\u001b[30m█\u001b[0m\u001b[30m█\u001b[0m\u001b[30m█\u001b[0m\u001b[30m█\u001b[0m\u001b[30m█\u001b[0m\u001b[30m█\u001b[0m\u001b[30m█\u001b[0m\u001b[30m█\u001b[0m\u001b[30m█\u001b[0m\u001b[30m█\u001b[0m\u001b[30m█\u001b[0m\u001b[30m█\u001b[0m|(2764/10000) (0.02s avg time) ETA: ~03 min -  MSE (TRAIN) : \u001b[93m0.095270\u001b[0m, MSE (VAL) : \u001b[96m0.104650\u001b[0m -- BEST Val Loss : \u001b[92m0.091604\u001b[0m (at epoch 2262) Eary Stopping in: 0001   \r"
     ]
    },
    {
     "name": "stderr",
     "output_type": "stream",
     "text": [
      "[I 2024-05-08 16:38:18,286] Trial 140 finished with value: 0.021545743569731712 and parameters: {'std': 0.0226, 'num_layers': 2, 'units_0': 160, 'units_1': 112, 'freezed_layer_from_right': 1}. Best is trial 44 with value: 0.018265143036842346.\n"
     ]
    },
    {
     "name": "stdout",
     "output_type": "stream",
     "text": [
      "|\u001b[92m█\u001b[0m\u001b[30m█\u001b[0m\u001b[30m█\u001b[0m\u001b[30m█\u001b[0m\u001b[30m█\u001b[0m\u001b[30m█\u001b[0m\u001b[30m█\u001b[0m\u001b[30m█\u001b[0m\u001b[30m█\u001b[0m\u001b[30m█\u001b[0m\u001b[30m█\u001b[0m\u001b[30m█\u001b[0m\u001b[30m█\u001b[0m\u001b[30m█\u001b[0m\u001b[30m█\u001b[0m\u001b[30m█\u001b[0m\u001b[30m█\u001b[0m\u001b[30m█\u001b[0m\u001b[30m█\u001b[0m\u001b[30m█\u001b[0m|(927/10000) (0.02s avg time) ETA: ~04 min -  MSE (TRAIN) : \u001b[93m0.065646\u001b[0m, MSE (VAL) : \u001b[96m0.064590\u001b[0m -- BEST Val Loss : \u001b[92m0.063274\u001b[0m (at epoch 425) Eary Stopping in: 0001   \r"
     ]
    },
    {
     "name": "stderr",
     "output_type": "stream",
     "text": [
      "[I 2024-05-08 16:42:26,367] Trial 141 finished with value: 0.019470058381557465 and parameters: {'std': 0.0181, 'num_layers': 2, 'units_0': 160, 'units_1': 96, 'freezed_layer_from_right': 1}. Best is trial 44 with value: 0.018265143036842346.\n"
     ]
    },
    {
     "name": "stdout",
     "output_type": "stream",
     "text": [
      "|\u001b[92m█\u001b[0m\u001b[92m█\u001b[0m\u001b[92m█\u001b[0m\u001b[30m█\u001b[0m\u001b[30m█\u001b[0m\u001b[30m█\u001b[0m\u001b[30m█\u001b[0m\u001b[30m█\u001b[0m\u001b[30m█\u001b[0m\u001b[30m█\u001b[0m\u001b[30m█\u001b[0m\u001b[30m█\u001b[0m\u001b[30m█\u001b[0m\u001b[30m█\u001b[0m\u001b[30m█\u001b[0m\u001b[30m█\u001b[0m\u001b[30m█\u001b[0m\u001b[30m█\u001b[0m\u001b[30m█\u001b[0m\u001b[30m█\u001b[0m|(1804/10000) (0.02s avg time) ETA: ~03 min -  MSE (TRAIN) : \u001b[93m0.146777\u001b[0m, MSE (VAL) : \u001b[96m0.144875\u001b[0m -- BEST Val Loss : \u001b[92m0.140727\u001b[0m (at epoch 1302) Eary Stopping in: 0001   \r"
     ]
    },
    {
     "name": "stderr",
     "output_type": "stream",
     "text": [
      "[I 2024-05-08 16:43:55,699] Trial 142 finished with value: 0.022135067731142044 and parameters: {'std': 0.0191, 'num_layers': 2, 'units_0': 160, 'units_1': 96, 'freezed_layer_from_right': 1}. Best is trial 44 with value: 0.018265143036842346.\n"
     ]
    },
    {
     "name": "stdout",
     "output_type": "stream",
     "text": [
      "|\u001b[92m█\u001b[0m\u001b[92m█\u001b[0m\u001b[92m█\u001b[0m\u001b[30m█\u001b[0m\u001b[30m█\u001b[0m\u001b[30m█\u001b[0m\u001b[30m█\u001b[0m\u001b[30m█\u001b[0m\u001b[30m█\u001b[0m\u001b[30m█\u001b[0m\u001b[30m█\u001b[0m\u001b[30m█\u001b[0m\u001b[30m█\u001b[0m\u001b[30m█\u001b[0m\u001b[30m█\u001b[0m\u001b[30m█\u001b[0m\u001b[30m█\u001b[0m\u001b[30m█\u001b[0m\u001b[30m█\u001b[0m\u001b[30m█\u001b[0m|(1890/10000) (0.02s avg time) ETA: ~04 min -  MSE (TRAIN) : \u001b[93m0.068058\u001b[0m, MSE (VAL) : \u001b[96m0.065211\u001b[0m -- BEST Val Loss : \u001b[92m0.064016\u001b[0m (at epoch 1388) Eary Stopping in: 0001   \r"
     ]
    },
    {
     "name": "stderr",
     "output_type": "stream",
     "text": [
      "[I 2024-05-08 16:48:25,381] Trial 143 finished with value: 0.021392501890659332 and parameters: {'std': 0.0146, 'num_layers': 2, 'units_0': 176, 'units_1': 96, 'freezed_layer_from_right': 1}. Best is trial 44 with value: 0.018265143036842346.\n"
     ]
    },
    {
     "name": "stdout",
     "output_type": "stream",
     "text": [
      "|\u001b[92m█\u001b[0m\u001b[92m█\u001b[0m\u001b[92m█\u001b[0m\u001b[30m█\u001b[0m\u001b[30m█\u001b[0m\u001b[30m█\u001b[0m\u001b[30m█\u001b[0m\u001b[30m█\u001b[0m\u001b[30m█\u001b[0m\u001b[30m█\u001b[0m\u001b[30m█\u001b[0m\u001b[30m█\u001b[0m\u001b[30m█\u001b[0m\u001b[30m█\u001b[0m\u001b[30m█\u001b[0m\u001b[30m█\u001b[0m\u001b[30m█\u001b[0m\u001b[30m█\u001b[0m\u001b[30m█\u001b[0m\u001b[30m█\u001b[0m|(1792/10000) (0.02s avg time) ETA: ~04 min -  MSE (TRAIN) : \u001b[93m0.079534\u001b[0m, MSE (VAL) : \u001b[96m0.079473\u001b[0m -- BEST Val Loss : \u001b[92m0.078183\u001b[0m (at epoch 1290) Eary Stopping in: 0001   \r"
     ]
    },
    {
     "name": "stderr",
     "output_type": "stream",
     "text": [
      "[I 2024-05-08 16:52:09,777] Trial 144 finished with value: 0.021665237843990326 and parameters: {'std': 0.0206, 'num_layers': 2, 'units_0': 160, 'units_1': 96, 'freezed_layer_from_right': 1}. Best is trial 44 with value: 0.018265143036842346.\n"
     ]
    },
    {
     "name": "stdout",
     "output_type": "stream",
     "text": [
      "|\u001b[92m█\u001b[0m\u001b[92m█\u001b[0m\u001b[30m█\u001b[0m\u001b[30m█\u001b[0m\u001b[30m█\u001b[0m\u001b[30m█\u001b[0m\u001b[30m█\u001b[0m\u001b[30m█\u001b[0m\u001b[30m█\u001b[0m\u001b[30m█\u001b[0m\u001b[30m█\u001b[0m\u001b[30m█\u001b[0m\u001b[30m█\u001b[0m\u001b[30m█\u001b[0m\u001b[30m█\u001b[0m\u001b[30m█\u001b[0m\u001b[30m█\u001b[0m\u001b[30m█\u001b[0m\u001b[30m█\u001b[0m\u001b[30m█\u001b[0m|(1069/10000) (0.02s avg time) ETA: ~04 min -  MSE (TRAIN) : \u001b[93m0.097490\u001b[0m, MSE (VAL) : \u001b[96m0.096499\u001b[0m -- BEST Val Loss : \u001b[92m0.087834\u001b[0m (at epoch 567) Eary Stopping in: 0001   \r"
     ]
    },
    {
     "name": "stderr",
     "output_type": "stream",
     "text": [
      "[I 2024-05-08 16:54:33,839] Trial 145 finished with value: 0.019969025626778603 and parameters: {'std': 0.0176, 'num_layers': 2, 'units_0': 176, 'units_1': 112, 'freezed_layer_from_right': 1}. Best is trial 44 with value: 0.018265143036842346.\n"
     ]
    },
    {
     "name": "stdout",
     "output_type": "stream",
     "text": [
      "|\u001b[92m█\u001b[0m\u001b[92m█\u001b[0m\u001b[92m█\u001b[0m\u001b[30m█\u001b[0m\u001b[30m█\u001b[0m\u001b[30m█\u001b[0m\u001b[30m█\u001b[0m\u001b[30m█\u001b[0m\u001b[30m█\u001b[0m\u001b[30m█\u001b[0m\u001b[30m█\u001b[0m\u001b[30m█\u001b[0m\u001b[30m█\u001b[0m\u001b[30m█\u001b[0m\u001b[30m█\u001b[0m\u001b[30m█\u001b[0m\u001b[30m█\u001b[0m\u001b[30m█\u001b[0m\u001b[30m█\u001b[0m\u001b[30m█\u001b[0m|(1646/10000) (0.02s avg time) ETA: ~03 min -  MSE (TRAIN) : \u001b[93m0.064510\u001b[0m, MSE (VAL) : \u001b[96m0.065857\u001b[0m -- BEST Val Loss : \u001b[92m0.065233\u001b[0m (at epoch 1144) Eary Stopping in: 0001   \r"
     ]
    },
    {
     "name": "stderr",
     "output_type": "stream",
     "text": [
      "[I 2024-05-08 16:58:58,733] Trial 146 finished with value: 0.022898519411683083 and parameters: {'std': 0.0131, 'num_layers': 2, 'units_0': 144, 'units_1': 80, 'freezed_layer_from_right': 1}. Best is trial 44 with value: 0.018265143036842346.\n"
     ]
    },
    {
     "name": "stdout",
     "output_type": "stream",
     "text": [
      "|\u001b[92m█\u001b[0m\u001b[92m█\u001b[0m\u001b[92m█\u001b[0m\u001b[92m█\u001b[0m\u001b[30m█\u001b[0m\u001b[30m█\u001b[0m\u001b[30m█\u001b[0m\u001b[30m█\u001b[0m\u001b[30m█\u001b[0m\u001b[30m█\u001b[0m\u001b[30m█\u001b[0m\u001b[30m█\u001b[0m\u001b[30m█\u001b[0m\u001b[30m█\u001b[0m\u001b[30m█\u001b[0m\u001b[30m█\u001b[0m\u001b[30m█\u001b[0m\u001b[30m█\u001b[0m\u001b[30m█\u001b[0m\u001b[30m█\u001b[0m|(2263/10000) (0.02s avg time) ETA: ~03 min -  MSE (TRAIN) : \u001b[93m0.058721\u001b[0m, MSE (VAL) : \u001b[96m0.065683\u001b[0m -- BEST Val Loss : \u001b[92m0.058797\u001b[0m (at epoch 1761) Eary Stopping in: 0001   \r"
     ]
    },
    {
     "name": "stderr",
     "output_type": "stream",
     "text": [
      "[I 2024-05-08 17:03:37,539] Trial 147 finished with value: 0.02212516963481903 and parameters: {'std': 0.0226, 'num_layers': 2, 'units_0': 160, 'units_1': 96, 'freezed_layer_from_right': 1}. Best is trial 44 with value: 0.018265143036842346.\n"
     ]
    },
    {
     "name": "stdout",
     "output_type": "stream",
     "text": [
      "|\u001b[92m█\u001b[0m\u001b[92m█\u001b[0m\u001b[30m█\u001b[0m\u001b[30m█\u001b[0m\u001b[30m█\u001b[0m\u001b[30m█\u001b[0m\u001b[30m█\u001b[0m\u001b[30m█\u001b[0m\u001b[30m█\u001b[0m\u001b[30m█\u001b[0m\u001b[30m█\u001b[0m\u001b[30m█\u001b[0m\u001b[30m█\u001b[0m\u001b[30m█\u001b[0m\u001b[30m█\u001b[0m\u001b[30m█\u001b[0m\u001b[30m█\u001b[0m\u001b[30m█\u001b[0m\u001b[30m█\u001b[0m\u001b[30m█\u001b[0m|(1360/10000) (0.02s avg time) ETA: ~04 min -  MSE (TRAIN) : \u001b[93m0.063028\u001b[0m, MSE (VAL) : \u001b[96m0.064844\u001b[0m -- BEST Val Loss : \u001b[92m0.063794\u001b[0m (at epoch 858) Eary Stopping in: 0001   \r"
     ]
    },
    {
     "name": "stderr",
     "output_type": "stream",
     "text": [
      "[I 2024-05-08 17:07:59,226] Trial 148 finished with value: 0.02131025306880474 and parameters: {'std': 0.0161, 'num_layers': 2, 'units_0': 96, 'units_1': 96, 'freezed_layer_from_right': 1}. Best is trial 44 with value: 0.018265143036842346.\n"
     ]
    },
    {
     "name": "stdout",
     "output_type": "stream",
     "text": [
      "|\u001b[92m█\u001b[0m\u001b[92m█\u001b[0m\u001b[92m█\u001b[0m\u001b[92m█\u001b[0m\u001b[92m█\u001b[0m\u001b[30m█\u001b[0m\u001b[30m█\u001b[0m\u001b[30m█\u001b[0m\u001b[30m█\u001b[0m\u001b[30m█\u001b[0m\u001b[30m█\u001b[0m\u001b[30m█\u001b[0m\u001b[30m█\u001b[0m\u001b[30m█\u001b[0m\u001b[30m█\u001b[0m\u001b[30m█\u001b[0m\u001b[30m█\u001b[0m\u001b[30m█\u001b[0m\u001b[30m█\u001b[0m\u001b[30m█\u001b[0m|(2502/10000) (0.02s avg time) ETA: ~04 min -  MSE (TRAIN) : \u001b[93m0.051450\u001b[0m, MSE (VAL) : \u001b[96m0.054943\u001b[0m -- BEST Val Loss : \u001b[92m0.052297\u001b[0m (at epoch 2000) Eary Stopping in: 0001   \r"
     ]
    },
    {
     "name": "stderr",
     "output_type": "stream",
     "text": [
      "[I 2024-05-08 17:12:41,013] Trial 149 finished with value: 0.025594990700483322 and parameters: {'std': 0.0106, 'num_layers': 2, 'units_0': 176, 'units_1': 80, 'freezed_layer_from_right': 1}. Best is trial 44 with value: 0.018265143036842346.\n"
     ]
    },
    {
     "name": "stdout",
     "output_type": "stream",
     "text": [
      "|\u001b[92m█\u001b[0m\u001b[92m█\u001b[0m\u001b[30m█\u001b[0m\u001b[30m█\u001b[0m\u001b[30m█\u001b[0m\u001b[30m█\u001b[0m\u001b[30m█\u001b[0m\u001b[30m█\u001b[0m\u001b[30m█\u001b[0m\u001b[30m█\u001b[0m\u001b[30m█\u001b[0m\u001b[30m█\u001b[0m\u001b[30m█\u001b[0m\u001b[30m█\u001b[0m\u001b[30m█\u001b[0m\u001b[30m█\u001b[0m\u001b[30m█\u001b[0m\u001b[30m█\u001b[0m\u001b[30m█\u001b[0m\u001b[30m█\u001b[0m|(1256/10000) (0.02s avg time) ETA: ~04 min -  MSE (TRAIN) : \u001b[93m0.078844\u001b[0m, MSE (VAL) : \u001b[96m0.074822\u001b[0m -- BEST Val Loss : \u001b[92m0.070789\u001b[0m (at epoch 754) Eary Stopping in: 0001   \r"
     ]
    },
    {
     "name": "stderr",
     "output_type": "stream",
     "text": [
      "[I 2024-05-08 17:14:21,299] Trial 150 finished with value: 0.022290851920843124 and parameters: {'std': 0.0251, 'num_layers': 2, 'units_0': 160, 'units_1': 112, 'freezed_layer_from_right': 1}. Best is trial 44 with value: 0.018265143036842346.\n"
     ]
    },
    {
     "name": "stdout",
     "output_type": "stream",
     "text": [
      "|\u001b[92m█\u001b[0m\u001b[92m█\u001b[0m\u001b[92m█\u001b[0m\u001b[30m█\u001b[0m\u001b[30m█\u001b[0m\u001b[30m█\u001b[0m\u001b[30m█\u001b[0m\u001b[30m█\u001b[0m\u001b[30m█\u001b[0m\u001b[30m█\u001b[0m\u001b[30m█\u001b[0m\u001b[30m█\u001b[0m\u001b[30m█\u001b[0m\u001b[30m█\u001b[0m\u001b[30m█\u001b[0m\u001b[30m█\u001b[0m\u001b[30m█\u001b[0m\u001b[30m█\u001b[0m\u001b[30m█\u001b[0m\u001b[30m█\u001b[0m|(1951/10000) (0.02s avg time) ETA: ~03 min -  MSE (TRAIN) : \u001b[93m0.065486\u001b[0m, MSE (VAL) : \u001b[96m0.064463\u001b[0m -- BEST Val Loss : \u001b[92m0.064029\u001b[0m (at epoch 1449) Eary Stopping in: 0001   \r"
     ]
    },
    {
     "name": "stderr",
     "output_type": "stream",
     "text": [
      "[I 2024-05-08 17:18:53,642] Trial 151 finished with value: 0.01814911514520645 and parameters: {'std': 0.0186, 'num_layers': 2, 'units_0': 160, 'units_1': 96, 'freezed_layer_from_right': 1}. Best is trial 151 with value: 0.01814911514520645.\n"
     ]
    },
    {
     "name": "stdout",
     "output_type": "stream",
     "text": [
      "|\u001b[92m█\u001b[0m\u001b[92m█\u001b[0m\u001b[92m█\u001b[0m\u001b[30m█\u001b[0m\u001b[30m█\u001b[0m\u001b[30m█\u001b[0m\u001b[30m█\u001b[0m\u001b[30m█\u001b[0m\u001b[30m█\u001b[0m\u001b[30m█\u001b[0m\u001b[30m█\u001b[0m\u001b[30m█\u001b[0m\u001b[30m█\u001b[0m\u001b[30m█\u001b[0m\u001b[30m█\u001b[0m\u001b[30m█\u001b[0m\u001b[30m█\u001b[0m\u001b[30m█\u001b[0m\u001b[30m█\u001b[0m\u001b[30m█\u001b[0m|(1723/10000) (0.02s avg time) ETA: ~04 min -  MSE (TRAIN) : \u001b[93m0.063849\u001b[0m, MSE (VAL) : \u001b[96m0.063948\u001b[0m -- BEST Val Loss : \u001b[92m0.062887\u001b[0m (at epoch 1221) Eary Stopping in: 0001   \r"
     ]
    },
    {
     "name": "stderr",
     "output_type": "stream",
     "text": [
      "[I 2024-05-08 17:23:18,495] Trial 152 finished with value: 0.019290490075945854 and parameters: {'std': 0.0186, 'num_layers': 2, 'units_0': 160, 'units_1': 96, 'freezed_layer_from_right': 1}. Best is trial 151 with value: 0.01814911514520645.\n"
     ]
    },
    {
     "name": "stdout",
     "output_type": "stream",
     "text": [
      "|\u001b[92m█\u001b[0m\u001b[92m█\u001b[0m\u001b[92m█\u001b[0m\u001b[92m█\u001b[0m\u001b[92m█\u001b[0m\u001b[30m█\u001b[0m\u001b[30m█\u001b[0m\u001b[30m█\u001b[0m\u001b[30m█\u001b[0m\u001b[30m█\u001b[0m\u001b[30m█\u001b[0m\u001b[30m█\u001b[0m\u001b[30m█\u001b[0m\u001b[30m█\u001b[0m\u001b[30m█\u001b[0m\u001b[30m█\u001b[0m\u001b[30m█\u001b[0m\u001b[30m█\u001b[0m\u001b[30m█\u001b[0m\u001b[30m█\u001b[0m|(2710/10000) (0.02s avg time) ETA: ~03 min -  MSE (TRAIN) : \u001b[93m0.069954\u001b[0m, MSE (VAL) : \u001b[96m0.068749\u001b[0m -- BEST Val Loss : \u001b[92m0.068046\u001b[0m (at epoch 2208) Eary Stopping in: 0001   \r"
     ]
    },
    {
     "name": "stderr",
     "output_type": "stream",
     "text": [
      "[I 2024-05-08 17:28:05,469] Trial 153 finished with value: 0.018404310569167137 and parameters: {'std': 0.0156, 'num_layers': 2, 'units_0': 160, 'units_1': 96, 'freezed_layer_from_right': 1}. Best is trial 151 with value: 0.01814911514520645.\n"
     ]
    },
    {
     "name": "stdout",
     "output_type": "stream",
     "text": [
      "|\u001b[92m█\u001b[0m\u001b[92m█\u001b[0m\u001b[30m█\u001b[0m\u001b[30m█\u001b[0m\u001b[30m█\u001b[0m\u001b[30m█\u001b[0m\u001b[30m█\u001b[0m\u001b[30m█\u001b[0m\u001b[30m█\u001b[0m\u001b[30m█\u001b[0m\u001b[30m█\u001b[0m\u001b[30m█\u001b[0m\u001b[30m█\u001b[0m\u001b[30m█\u001b[0m\u001b[30m█\u001b[0m\u001b[30m█\u001b[0m\u001b[30m█\u001b[0m\u001b[30m█\u001b[0m\u001b[30m█\u001b[0m\u001b[30m█\u001b[0m|(1310/10000) (0.02s avg time) ETA: ~04 min -  MSE (TRAIN) : \u001b[93m0.061633\u001b[0m, MSE (VAL) : \u001b[96m0.059392\u001b[0m -- BEST Val Loss : \u001b[92m0.057127\u001b[0m (at epoch 808) Eary Stopping in: 0001   \r"
     ]
    },
    {
     "name": "stderr",
     "output_type": "stream",
     "text": [
      "[I 2024-05-08 17:32:23,166] Trial 154 finished with value: 0.020505225285887718 and parameters: {'std': 0.0206, 'num_layers': 2, 'units_0': 160, 'units_1': 96, 'freezed_layer_from_right': 1}. Best is trial 151 with value: 0.01814911514520645.\n"
     ]
    },
    {
     "name": "stdout",
     "output_type": "stream",
     "text": [
      "|\u001b[92m█\u001b[0m\u001b[92m█\u001b[0m\u001b[92m█\u001b[0m\u001b[92m█\u001b[0m\u001b[30m█\u001b[0m\u001b[30m█\u001b[0m\u001b[30m█\u001b[0m\u001b[30m█\u001b[0m\u001b[30m█\u001b[0m\u001b[30m█\u001b[0m\u001b[30m█\u001b[0m\u001b[30m█\u001b[0m\u001b[30m█\u001b[0m\u001b[30m█\u001b[0m\u001b[30m█\u001b[0m\u001b[30m█\u001b[0m\u001b[30m█\u001b[0m\u001b[30m█\u001b[0m\u001b[30m█\u001b[0m\u001b[30m█\u001b[0m|(2137/10000) (0.02s avg time) ETA: ~03 min -  MSE (TRAIN) : \u001b[93m0.109055\u001b[0m, MSE (VAL) : \u001b[96m0.113654\u001b[0m -- BEST Val Loss : \u001b[92m0.107498\u001b[0m (at epoch 1635) Eary Stopping in: 0001   \r"
     ]
    },
    {
     "name": "stderr",
     "output_type": "stream",
     "text": [
      "[I 2024-05-08 17:35:13,466] Trial 155 finished with value: 0.02004035748541355 and parameters: {'std': 0.0196, 'num_layers': 2, 'units_0': 176, 'units_1': 80, 'freezed_layer_from_right': 1}. Best is trial 151 with value: 0.01814911514520645.\n"
     ]
    },
    {
     "name": "stdout",
     "output_type": "stream",
     "text": [
      "|\u001b[92m█\u001b[0m\u001b[92m█\u001b[0m\u001b[30m█\u001b[0m\u001b[30m█\u001b[0m\u001b[30m█\u001b[0m\u001b[30m█\u001b[0m\u001b[30m█\u001b[0m\u001b[30m█\u001b[0m\u001b[30m█\u001b[0m\u001b[30m█\u001b[0m\u001b[30m█\u001b[0m\u001b[30m█\u001b[0m\u001b[30m█\u001b[0m\u001b[30m█\u001b[0m\u001b[30m█\u001b[0m\u001b[30m█\u001b[0m\u001b[30m█\u001b[0m\u001b[30m█\u001b[0m\u001b[30m█\u001b[0m\u001b[30m█\u001b[0m|(1075/10000) (0.02s avg time) ETA: ~04 min -  MSE (TRAIN) : \u001b[93m0.048793\u001b[0m, MSE (VAL) : \u001b[96m0.188526\u001b[0m -- BEST Val Loss : \u001b[92m0.033059\u001b[0m (at epoch 573) Eary Stopping in: 0001   \r"
     ]
    },
    {
     "name": "stderr",
     "output_type": "stream",
     "text": [
      "[I 2024-05-08 17:36:11,811] Trial 156 finished with value: 0.03148492053151131 and parameters: {'std': 0.0611, 'num_layers': 2, 'units_0': 144, 'units_1': 96, 'freezed_layer_from_right': 1}. Best is trial 151 with value: 0.01814911514520645.\n"
     ]
    },
    {
     "name": "stdout",
     "output_type": "stream",
     "text": [
      "|\u001b[92m█\u001b[0m\u001b[92m█\u001b[0m\u001b[30m█\u001b[0m\u001b[30m█\u001b[0m\u001b[30m█\u001b[0m\u001b[30m█\u001b[0m\u001b[30m█\u001b[0m\u001b[30m█\u001b[0m\u001b[30m█\u001b[0m\u001b[30m█\u001b[0m\u001b[30m█\u001b[0m\u001b[30m█\u001b[0m\u001b[30m█\u001b[0m\u001b[30m█\u001b[0m\u001b[30m█\u001b[0m\u001b[30m█\u001b[0m\u001b[30m█\u001b[0m\u001b[30m█\u001b[0m\u001b[30m█\u001b[0m\u001b[30m█\u001b[0m|(1087/10000) (0.02s avg time) ETA: ~04 min -  MSE (TRAIN) : \u001b[93m0.067721\u001b[0m, MSE (VAL) : \u001b[96m0.069068\u001b[0m -- BEST Val Loss : \u001b[92m0.067676\u001b[0m (at epoch 585) Eary Stopping in: 0001   \r"
     ]
    },
    {
     "name": "stderr",
     "output_type": "stream",
     "text": [
      "[I 2024-05-08 17:40:21,821] Trial 157 finished with value: 0.020299499854445457 and parameters: {'std': 0.0146, 'num_layers': 2, 'units_0': 160, 'units_1': 96, 'freezed_layer_from_right': 1}. Best is trial 151 with value: 0.01814911514520645.\n"
     ]
    },
    {
     "name": "stdout",
     "output_type": "stream",
     "text": [
      "|\u001b[92m█\u001b[0m\u001b[30m█\u001b[0m\u001b[30m█\u001b[0m\u001b[30m█\u001b[0m\u001b[30m█\u001b[0m\u001b[30m█\u001b[0m\u001b[30m█\u001b[0m\u001b[30m█\u001b[0m\u001b[30m█\u001b[0m\u001b[30m█\u001b[0m\u001b[30m█\u001b[0m\u001b[30m█\u001b[0m\u001b[30m█\u001b[0m\u001b[30m█\u001b[0m\u001b[30m█\u001b[0m\u001b[30m█\u001b[0m\u001b[30m█\u001b[0m\u001b[30m█\u001b[0m\u001b[30m█\u001b[0m\u001b[30m█\u001b[0m|(593/10000) (0.03s avg time) ETA: ~05 min -  MSE (TRAIN) : \u001b[93m0.628698\u001b[0m, MSE (VAL) : \u001b[96m0.028494\u001b[0m -- BEST Val Loss : \u001b[92m0.017287\u001b[0m (at epoch 91) Eary Stopping in: 0001   \r"
     ]
    },
    {
     "name": "stderr",
     "output_type": "stream",
     "text": [
      "[I 2024-05-08 17:41:16,042] Trial 158 finished with value: 0.05067301541566849 and parameters: {'std': 0.0776, 'num_layers': 4, 'units_0': 176, 'units_1': 112, 'units_2': 160, 'units_3': 96, 'freezed_layer_from_right': 3}. Best is trial 151 with value: 0.01814911514520645.\n"
     ]
    },
    {
     "name": "stdout",
     "output_type": "stream",
     "text": [
      "|\u001b[92m█\u001b[0m\u001b[92m█\u001b[0m\u001b[30m█\u001b[0m\u001b[30m█\u001b[0m\u001b[30m█\u001b[0m\u001b[30m█\u001b[0m\u001b[30m█\u001b[0m\u001b[30m█\u001b[0m\u001b[30m█\u001b[0m\u001b[30m█\u001b[0m\u001b[30m█\u001b[0m\u001b[30m█\u001b[0m\u001b[30m█\u001b[0m\u001b[30m█\u001b[0m\u001b[30m█\u001b[0m\u001b[30m█\u001b[0m\u001b[30m█\u001b[0m\u001b[30m█\u001b[0m\u001b[30m█\u001b[0m\u001b[30m█\u001b[0m|(1274/10000) (0.02s avg time) ETA: ~04 min -  MSE (TRAIN) : \u001b[93m0.068159\u001b[0m, MSE (VAL) : \u001b[96m0.065793\u001b[0m -- BEST Val Loss : \u001b[92m0.064886\u001b[0m (at epoch 772) Eary Stopping in: 0001   \r"
     ]
    },
    {
     "name": "stderr",
     "output_type": "stream",
     "text": [
      "[I 2024-05-08 17:45:06,046] Trial 159 finished with value: 0.020677702501416206 and parameters: {'std': 0.0236, 'num_layers': 2, 'units_0': 160, 'units_1': 80, 'freezed_layer_from_right': 1}. Best is trial 151 with value: 0.01814911514520645.\n"
     ]
    },
    {
     "name": "stdout",
     "output_type": "stream",
     "text": [
      "|\u001b[92m█\u001b[0m\u001b[92m█\u001b[0m\u001b[92m█\u001b[0m\u001b[30m█\u001b[0m\u001b[30m█\u001b[0m\u001b[30m█\u001b[0m\u001b[30m█\u001b[0m\u001b[30m█\u001b[0m\u001b[30m█\u001b[0m\u001b[30m█\u001b[0m\u001b[30m█\u001b[0m\u001b[30m█\u001b[0m\u001b[30m█\u001b[0m\u001b[30m█\u001b[0m\u001b[30m█\u001b[0m\u001b[30m█\u001b[0m\u001b[30m█\u001b[0m\u001b[30m█\u001b[0m\u001b[30m█\u001b[0m\u001b[30m█\u001b[0m|(1653/10000) (0.02s avg time) ETA: ~04 min -  MSE (TRAIN) : \u001b[93m0.073212\u001b[0m, MSE (VAL) : \u001b[96m0.073301\u001b[0m -- BEST Val Loss : \u001b[92m0.068350\u001b[0m (at epoch 1151) Eary Stopping in: 0001   \r"
     ]
    },
    {
     "name": "stderr",
     "output_type": "stream",
     "text": [
      "[I 2024-05-08 17:46:42,327] Trial 160 finished with value: 0.02153545618057251 and parameters: {'std': 0.0286, 'num_layers': 2, 'units_0': 176, 'units_1': 112, 'freezed_layer_from_right': 1}. Best is trial 151 with value: 0.01814911514520645.\n"
     ]
    },
    {
     "name": "stdout",
     "output_type": "stream",
     "text": [
      "|\u001b[92m█\u001b[0m\u001b[30m█\u001b[0m\u001b[30m█\u001b[0m\u001b[30m█\u001b[0m\u001b[30m█\u001b[0m\u001b[30m█\u001b[0m\u001b[30m█\u001b[0m\u001b[30m█\u001b[0m\u001b[30m█\u001b[0m\u001b[30m█\u001b[0m\u001b[30m█\u001b[0m\u001b[30m█\u001b[0m\u001b[30m█\u001b[0m\u001b[30m█\u001b[0m\u001b[30m█\u001b[0m\u001b[30m█\u001b[0m\u001b[30m█\u001b[0m\u001b[30m█\u001b[0m\u001b[30m█\u001b[0m\u001b[30m█\u001b[0m|(764/10000) (0.02s avg time) ETA: ~04 min -  MSE (TRAIN) : \u001b[93m0.068453\u001b[0m, MSE (VAL) : \u001b[96m0.068832\u001b[0m -- BEST Val Loss : \u001b[92m0.067929\u001b[0m (at epoch 262) Eary Stopping in: 0001   \r"
     ]
    },
    {
     "name": "stderr",
     "output_type": "stream",
     "text": [
      "[I 2024-05-08 17:51:15,706] Trial 161 finished with value: 0.023428361862897873 and parameters: {'std': 0.0166, 'num_layers': 2, 'units_0': 160, 'units_1': 96, 'freezed_layer_from_right': 1}. Best is trial 151 with value: 0.01814911514520645.\n"
     ]
    },
    {
     "name": "stdout",
     "output_type": "stream",
     "text": [
      "|\u001b[92m█\u001b[0m\u001b[92m█\u001b[0m\u001b[92m█\u001b[0m\u001b[92m█\u001b[0m\u001b[30m█\u001b[0m\u001b[30m█\u001b[0m\u001b[30m█\u001b[0m\u001b[30m█\u001b[0m\u001b[30m█\u001b[0m\u001b[30m█\u001b[0m\u001b[30m█\u001b[0m\u001b[30m█\u001b[0m\u001b[30m█\u001b[0m\u001b[30m█\u001b[0m\u001b[30m█\u001b[0m\u001b[30m█\u001b[0m\u001b[30m█\u001b[0m\u001b[30m█\u001b[0m\u001b[30m█\u001b[0m\u001b[30m█\u001b[0m|(2259/10000) (0.02s avg time) ETA: ~03 min -  MSE (TRAIN) : \u001b[93m0.066038\u001b[0m, MSE (VAL) : \u001b[96m0.068462\u001b[0m -- BEST Val Loss : \u001b[92m0.066255\u001b[0m (at epoch 1757) Eary Stopping in: 0001   \r"
     ]
    },
    {
     "name": "stderr",
     "output_type": "stream",
     "text": [
      "[I 2024-05-08 17:55:55,122] Trial 162 finished with value: 0.019391607493162155 and parameters: {'std': 0.0186, 'num_layers': 2, 'units_0': 160, 'units_1': 96, 'freezed_layer_from_right': 1}. Best is trial 151 with value: 0.01814911514520645.\n"
     ]
    },
    {
     "name": "stdout",
     "output_type": "stream",
     "text": [
      "|\u001b[92m█\u001b[0m\u001b[92m█\u001b[0m\u001b[92m█\u001b[0m\u001b[92m█\u001b[0m\u001b[92m█\u001b[0m\u001b[30m█\u001b[0m\u001b[30m█\u001b[0m\u001b[30m█\u001b[0m\u001b[30m█\u001b[0m\u001b[30m█\u001b[0m\u001b[30m█\u001b[0m\u001b[30m█\u001b[0m\u001b[30m█\u001b[0m\u001b[30m█\u001b[0m\u001b[30m█\u001b[0m\u001b[30m█\u001b[0m\u001b[30m█\u001b[0m\u001b[30m█\u001b[0m\u001b[30m█\u001b[0m\u001b[30m█\u001b[0m|(2633/10000) (0.02s avg time) ETA: ~03 min -  MSE (TRAIN) : \u001b[93m0.133156\u001b[0m, MSE (VAL) : \u001b[96m0.134465\u001b[0m -- BEST Val Loss : \u001b[92m0.132767\u001b[0m (at epoch 2131) Eary Stopping in: 0001   \r"
     ]
    },
    {
     "name": "stderr",
     "output_type": "stream",
     "text": [
      "[I 2024-05-08 17:57:55,651] Trial 163 finished with value: 0.020802071318030357 and parameters: {'std': 0.0191, 'num_layers': 2, 'units_0': 160, 'units_1': 96, 'freezed_layer_from_right': 1}. Best is trial 151 with value: 0.01814911514520645.\n"
     ]
    },
    {
     "name": "stdout",
     "output_type": "stream",
     "text": [
      "|\u001b[92m█\u001b[0m\u001b[92m█\u001b[0m\u001b[92m█\u001b[0m\u001b[92m█\u001b[0m\u001b[92m█\u001b[0m\u001b[30m█\u001b[0m\u001b[30m█\u001b[0m\u001b[30m█\u001b[0m\u001b[30m█\u001b[0m\u001b[30m█\u001b[0m\u001b[30m█\u001b[0m\u001b[30m█\u001b[0m\u001b[30m█\u001b[0m\u001b[30m█\u001b[0m\u001b[30m█\u001b[0m\u001b[30m█\u001b[0m\u001b[30m█\u001b[0m\u001b[30m█\u001b[0m\u001b[30m█\u001b[0m\u001b[30m█\u001b[0m|(2559/10000) (0.02s avg time) ETA: ~03 min -  MSE (TRAIN) : \u001b[93m0.105521\u001b[0m, MSE (VAL) : \u001b[96m0.105550\u001b[0m -- BEST Val Loss : \u001b[92m0.103460\u001b[0m (at epoch 2057) Eary Stopping in: 0001   \r"
     ]
    },
    {
     "name": "stderr",
     "output_type": "stream",
     "text": [
      "[I 2024-05-08 18:00:07,345] Trial 164 finished with value: 0.01990312896668911 and parameters: {'std': 0.0216, 'num_layers': 2, 'units_0': 160, 'units_1': 96, 'freezed_layer_from_right': 1}. Best is trial 151 with value: 0.01814911514520645.\n"
     ]
    },
    {
     "name": "stdout",
     "output_type": "stream",
     "text": [
      "|\u001b[92m█\u001b[0m\u001b[92m█\u001b[0m\u001b[30m█\u001b[0m\u001b[30m█\u001b[0m\u001b[30m█\u001b[0m\u001b[30m█\u001b[0m\u001b[30m█\u001b[0m\u001b[30m█\u001b[0m\u001b[30m█\u001b[0m\u001b[30m█\u001b[0m\u001b[30m█\u001b[0m\u001b[30m█\u001b[0m\u001b[30m█\u001b[0m\u001b[30m█\u001b[0m\u001b[30m█\u001b[0m\u001b[30m█\u001b[0m\u001b[30m█\u001b[0m\u001b[30m█\u001b[0m\u001b[30m█\u001b[0m\u001b[30m█\u001b[0m|(1323/10000) (0.02s avg time) ETA: ~04 min -  MSE (TRAIN) : \u001b[93m0.071090\u001b[0m, MSE (VAL) : \u001b[96m0.071774\u001b[0m -- BEST Val Loss : \u001b[92m0.071547\u001b[0m (at epoch 821) Eary Stopping in: 0001   \r"
     ]
    },
    {
     "name": "stderr",
     "output_type": "stream",
     "text": [
      "[I 2024-05-08 18:04:27,393] Trial 165 finished with value: 0.018696028739213943 and parameters: {'std': 0.0176, 'num_layers': 2, 'units_0': 160, 'units_1': 96, 'freezed_layer_from_right': 1}. Best is trial 151 with value: 0.01814911514520645.\n"
     ]
    },
    {
     "name": "stdout",
     "output_type": "stream",
     "text": [
      "|\u001b[92m█\u001b[0m\u001b[92m█\u001b[0m\u001b[92m█\u001b[0m\u001b[92m█\u001b[0m\u001b[92m█\u001b[0m\u001b[92m█\u001b[0m\u001b[30m█\u001b[0m\u001b[30m█\u001b[0m\u001b[30m█\u001b[0m\u001b[30m█\u001b[0m\u001b[30m█\u001b[0m\u001b[30m█\u001b[0m\u001b[30m█\u001b[0m\u001b[30m█\u001b[0m\u001b[30m█\u001b[0m\u001b[30m█\u001b[0m\u001b[30m█\u001b[0m\u001b[30m█\u001b[0m\u001b[30m█\u001b[0m\u001b[30m█\u001b[0m|(3143/10000) (0.02s avg time) ETA: ~03 min -  MSE (TRAIN) : \u001b[93m0.057086\u001b[0m, MSE (VAL) : \u001b[96m0.058271\u001b[0m -- BEST Val Loss : \u001b[92m0.057199\u001b[0m (at epoch 2641) Eary Stopping in: 0001   \r"
     ]
    },
    {
     "name": "stderr",
     "output_type": "stream",
     "text": [
      "[I 2024-05-08 18:09:26,900] Trial 166 finished with value: 0.021990656852722168 and parameters: {'std': 0.0136, 'num_layers': 2, 'units_0': 160, 'units_1': 96, 'freezed_layer_from_right': 1}. Best is trial 151 with value: 0.01814911514520645.\n"
     ]
    },
    {
     "name": "stdout",
     "output_type": "stream",
     "text": [
      "|\u001b[92m█\u001b[0m\u001b[92m█\u001b[0m\u001b[92m█\u001b[0m\u001b[92m█\u001b[0m\u001b[30m█\u001b[0m\u001b[30m█\u001b[0m\u001b[30m█\u001b[0m\u001b[30m█\u001b[0m\u001b[30m█\u001b[0m\u001b[30m█\u001b[0m\u001b[30m█\u001b[0m\u001b[30m█\u001b[0m\u001b[30m█\u001b[0m\u001b[30m█\u001b[0m\u001b[30m█\u001b[0m\u001b[30m█\u001b[0m\u001b[30m█\u001b[0m\u001b[30m█\u001b[0m\u001b[30m█\u001b[0m\u001b[30m█\u001b[0m|(2351/10000) (0.02s avg time) ETA: ~03 min -  MSE (TRAIN) : \u001b[93m0.068178\u001b[0m, MSE (VAL) : \u001b[96m0.065761\u001b[0m -- BEST Val Loss : \u001b[92m0.063637\u001b[0m (at epoch 1849) Eary Stopping in: 0001   \r"
     ]
    },
    {
     "name": "stderr",
     "output_type": "stream",
     "text": [
      "[I 2024-05-08 18:14:02,825] Trial 167 finished with value: 0.024191860109567642 and parameters: {'std': 0.0181, 'num_layers': 2, 'units_0': 64, 'units_1': 80, 'freezed_layer_from_right': 1}. Best is trial 151 with value: 0.01814911514520645.\n"
     ]
    },
    {
     "name": "stdout",
     "output_type": "stream",
     "text": [
      "|\u001b[92m█\u001b[0m\u001b[30m█\u001b[0m\u001b[30m█\u001b[0m\u001b[30m█\u001b[0m\u001b[30m█\u001b[0m\u001b[30m█\u001b[0m\u001b[30m█\u001b[0m\u001b[30m█\u001b[0m\u001b[30m█\u001b[0m\u001b[30m█\u001b[0m\u001b[30m█\u001b[0m\u001b[30m█\u001b[0m\u001b[30m█\u001b[0m\u001b[30m█\u001b[0m\u001b[30m█\u001b[0m\u001b[30m█\u001b[0m\u001b[30m█\u001b[0m\u001b[30m█\u001b[0m\u001b[30m█\u001b[0m\u001b[30m█\u001b[0m|(775/10000) (0.02s avg time) ETA: ~04 min -  MSE (TRAIN) : \u001b[93m0.070772\u001b[0m, MSE (VAL) : \u001b[96m0.068683\u001b[0m -- BEST Val Loss : \u001b[92m0.067928\u001b[0m (at epoch 273) Eary Stopping in: 0001   \r"
     ]
    },
    {
     "name": "stderr",
     "output_type": "stream",
     "text": [
      "[I 2024-05-08 18:18:11,727] Trial 168 finished with value: 0.018847908824682236 and parameters: {'std': 0.0161, 'num_layers': 2, 'units_0': 176, 'units_1': 112, 'freezed_layer_from_right': 1}. Best is trial 151 with value: 0.01814911514520645.\n"
     ]
    },
    {
     "name": "stdout",
     "output_type": "stream",
     "text": [
      "|\u001b[92m█\u001b[0m\u001b[92m█\u001b[0m\u001b[92m█\u001b[0m\u001b[92m█\u001b[0m\u001b[30m█\u001b[0m\u001b[30m█\u001b[0m\u001b[30m█\u001b[0m\u001b[30m█\u001b[0m\u001b[30m█\u001b[0m\u001b[30m█\u001b[0m\u001b[30m█\u001b[0m\u001b[30m█\u001b[0m\u001b[30m█\u001b[0m\u001b[30m█\u001b[0m\u001b[30m█\u001b[0m\u001b[30m█\u001b[0m\u001b[30m█\u001b[0m\u001b[30m█\u001b[0m\u001b[30m█\u001b[0m\u001b[30m█\u001b[0m|(2300/10000) (0.02s avg time) ETA: ~03 min -  MSE (TRAIN) : \u001b[93m0.056644\u001b[0m, MSE (VAL) : \u001b[96m0.055480\u001b[0m -- BEST Val Loss : \u001b[92m0.055095\u001b[0m (at epoch 1798) Eary Stopping in: 0001   \r"
     ]
    },
    {
     "name": "stderr",
     "output_type": "stream",
     "text": [
      "[I 2024-05-08 18:22:51,544] Trial 169 finished with value: 0.021099168807268143 and parameters: {'std': 0.0121, 'num_layers': 2, 'units_0': 176, 'units_1': 96, 'freezed_layer_from_right': 1}. Best is trial 151 with value: 0.01814911514520645.\n"
     ]
    },
    {
     "name": "stdout",
     "output_type": "stream",
     "text": [
      "|\u001b[92m█\u001b[0m\u001b[92m█\u001b[0m\u001b[92m█\u001b[0m\u001b[92m█\u001b[0m\u001b[30m█\u001b[0m\u001b[30m█\u001b[0m\u001b[30m█\u001b[0m\u001b[30m█\u001b[0m\u001b[30m█\u001b[0m\u001b[30m█\u001b[0m\u001b[30m█\u001b[0m\u001b[30m█\u001b[0m\u001b[30m█\u001b[0m\u001b[30m█\u001b[0m\u001b[30m█\u001b[0m\u001b[30m█\u001b[0m\u001b[30m█\u001b[0m\u001b[30m█\u001b[0m\u001b[30m█\u001b[0m\u001b[30m█\u001b[0m|(2182/10000) (0.03s avg time) ETA: ~04 min -  MSE (TRAIN) : \u001b[93m0.031725\u001b[0m, MSE (VAL) : \u001b[96m0.037943\u001b[0m -- BEST Val Loss : \u001b[92m0.032735\u001b[0m (at epoch 1680) Eary Stopping in: 0001   \r"
     ]
    },
    {
     "name": "stderr",
     "output_type": "stream",
     "text": [
      "[I 2024-05-08 18:28:32,551] Trial 170 finished with value: 0.029046680778265 and parameters: {'std': 0.015099999999999999, 'num_layers': 5, 'units_0': 32, 'units_1': 96, 'units_2': 144, 'units_3': 160, 'units_4': 96, 'freezed_layer_from_right': 3}. Best is trial 151 with value: 0.01814911514520645.\n"
     ]
    },
    {
     "name": "stdout",
     "output_type": "stream",
     "text": [
      "|\u001b[92m█\u001b[0m\u001b[92m█\u001b[0m\u001b[92m█\u001b[0m\u001b[30m█\u001b[0m\u001b[30m█\u001b[0m\u001b[30m█\u001b[0m\u001b[30m█\u001b[0m\u001b[30m█\u001b[0m\u001b[30m█\u001b[0m\u001b[30m█\u001b[0m\u001b[30m█\u001b[0m\u001b[30m█\u001b[0m\u001b[30m█\u001b[0m\u001b[30m█\u001b[0m\u001b[30m█\u001b[0m\u001b[30m█\u001b[0m\u001b[30m█\u001b[0m\u001b[30m█\u001b[0m\u001b[30m█\u001b[0m\u001b[30m█\u001b[0m|(1746/10000) (0.02s avg time) ETA: ~04 min -  MSE (TRAIN) : \u001b[93m0.067406\u001b[0m, MSE (VAL) : \u001b[96m0.068146\u001b[0m -- BEST Val Loss : \u001b[92m0.067668\u001b[0m (at epoch 1244) Eary Stopping in: 0001   \r"
     ]
    },
    {
     "name": "stderr",
     "output_type": "stream",
     "text": [
      "[I 2024-05-08 18:33:02,651] Trial 171 finished with value: 0.020469604060053825 and parameters: {'std': 0.0166, 'num_layers': 2, 'units_0': 176, 'units_1': 112, 'freezed_layer_from_right': 1}. Best is trial 151 with value: 0.01814911514520645.\n"
     ]
    },
    {
     "name": "stdout",
     "output_type": "stream",
     "text": [
      "|\u001b[92m█\u001b[0m\u001b[92m█\u001b[0m\u001b[92m█\u001b[0m\u001b[30m█\u001b[0m\u001b[30m█\u001b[0m\u001b[30m█\u001b[0m\u001b[30m█\u001b[0m\u001b[30m█\u001b[0m\u001b[30m█\u001b[0m\u001b[30m█\u001b[0m\u001b[30m█\u001b[0m\u001b[30m█\u001b[0m\u001b[30m█\u001b[0m\u001b[30m█\u001b[0m\u001b[30m█\u001b[0m\u001b[30m█\u001b[0m\u001b[30m█\u001b[0m\u001b[30m█\u001b[0m\u001b[30m█\u001b[0m\u001b[30m█\u001b[0m|(1620/10000) (0.02s avg time) ETA: ~03 min -  MSE (TRAIN) : \u001b[93m0.116952\u001b[0m, MSE (VAL) : \u001b[96m0.121399\u001b[0m -- BEST Val Loss : \u001b[92m0.117399\u001b[0m (at epoch 1118) Eary Stopping in: 0001   \r"
     ]
    },
    {
     "name": "stderr",
     "output_type": "stream",
     "text": [
      "[I 2024-05-08 18:34:48,956] Trial 172 finished with value: 0.02141876518726349 and parameters: {'std': 0.0186, 'num_layers': 2, 'units_0': 160, 'units_1': 112, 'freezed_layer_from_right': 1}. Best is trial 151 with value: 0.01814911514520645.\n"
     ]
    },
    {
     "name": "stdout",
     "output_type": "stream",
     "text": [
      "|\u001b[92m█\u001b[0m\u001b[92m█\u001b[0m\u001b[92m█\u001b[0m\u001b[30m█\u001b[0m\u001b[30m█\u001b[0m\u001b[30m█\u001b[0m\u001b[30m█\u001b[0m\u001b[30m█\u001b[0m\u001b[30m█\u001b[0m\u001b[30m█\u001b[0m\u001b[30m█\u001b[0m\u001b[30m█\u001b[0m\u001b[30m█\u001b[0m\u001b[30m█\u001b[0m\u001b[30m█\u001b[0m\u001b[30m█\u001b[0m\u001b[30m█\u001b[0m\u001b[30m█\u001b[0m\u001b[30m█\u001b[0m\u001b[30m█\u001b[0m|(1767/10000) (0.02s avg time) ETA: ~04 min -  MSE (TRAIN) : \u001b[93m0.100688\u001b[0m, MSE (VAL) : \u001b[96m0.101426\u001b[0m -- BEST Val Loss : \u001b[92m0.099590\u001b[0m (at epoch 1265) Eary Stopping in: 0001   \r"
     ]
    },
    {
     "name": "stderr",
     "output_type": "stream",
     "text": [
      "[I 2024-05-08 18:36:48,682] Trial 173 finished with value: 0.029310159385204315 and parameters: {'std': 0.0216, 'num_layers': 2, 'units_0': 176, 'units_1': 112, 'freezed_layer_from_right': 1}. Best is trial 151 with value: 0.01814911514520645.\n"
     ]
    },
    {
     "name": "stdout",
     "output_type": "stream",
     "text": [
      "|\u001b[92m█\u001b[0m\u001b[92m█\u001b[0m\u001b[30m█\u001b[0m\u001b[30m█\u001b[0m\u001b[30m█\u001b[0m\u001b[30m█\u001b[0m\u001b[30m█\u001b[0m\u001b[30m█\u001b[0m\u001b[30m█\u001b[0m\u001b[30m█\u001b[0m\u001b[30m█\u001b[0m\u001b[30m█\u001b[0m\u001b[30m█\u001b[0m\u001b[30m█\u001b[0m\u001b[30m█\u001b[0m\u001b[30m█\u001b[0m\u001b[30m█\u001b[0m\u001b[30m█\u001b[0m\u001b[30m█\u001b[0m\u001b[30m█\u001b[0m|(1452/10000) (0.02s avg time) ETA: ~04 min -  MSE (TRAIN) : \u001b[93m0.058204\u001b[0m, MSE (VAL) : \u001b[96m0.059435\u001b[0m -- BEST Val Loss : \u001b[92m0.058666\u001b[0m (at epoch 950) Eary Stopping in: 0001   \r"
     ]
    },
    {
     "name": "stderr",
     "output_type": "stream",
     "text": [
      "[I 2024-05-08 18:41:14,133] Trial 174 finished with value: 0.019247015938162804 and parameters: {'std': 0.015099999999999999, 'num_layers': 2, 'units_0': 160, 'units_1': 128, 'freezed_layer_from_right': 1}. Best is trial 151 with value: 0.01814911514520645.\n"
     ]
    },
    {
     "name": "stdout",
     "output_type": "stream",
     "text": [
      "|\u001b[92m█\u001b[0m\u001b[92m█\u001b[0m\u001b[92m█\u001b[0m\u001b[92m█\u001b[0m\u001b[92m█\u001b[0m\u001b[92m█\u001b[0m\u001b[30m█\u001b[0m\u001b[30m█\u001b[0m\u001b[30m█\u001b[0m\u001b[30m█\u001b[0m\u001b[30m█\u001b[0m\u001b[30m█\u001b[0m\u001b[30m█\u001b[0m\u001b[30m█\u001b[0m\u001b[30m█\u001b[0m\u001b[30m█\u001b[0m\u001b[30m█\u001b[0m\u001b[30m█\u001b[0m\u001b[30m█\u001b[0m\u001b[30m█\u001b[0m|(3149/10000) (0.02s avg time) ETA: ~03 min -  MSE (TRAIN) : \u001b[93m0.054988\u001b[0m, MSE (VAL) : \u001b[96m0.056442\u001b[0m -- BEST Val Loss : \u001b[92m0.055630\u001b[0m (at epoch 2647) Eary Stopping in: 0001   \r"
     ]
    },
    {
     "name": "stderr",
     "output_type": "stream",
     "text": [
      "[I 2024-05-08 18:46:16,680] Trial 175 finished with value: 0.022016815841197968 and parameters: {'std': 0.0096, 'num_layers': 2, 'units_0': 176, 'units_1': 96, 'freezed_layer_from_right': 1}. Best is trial 151 with value: 0.01814911514520645.\n"
     ]
    },
    {
     "name": "stdout",
     "output_type": "stream",
     "text": [
      "|\u001b[92m█\u001b[0m\u001b[92m█\u001b[0m\u001b[30m█\u001b[0m\u001b[30m█\u001b[0m\u001b[30m█\u001b[0m\u001b[30m█\u001b[0m\u001b[30m█\u001b[0m\u001b[30m█\u001b[0m\u001b[30m█\u001b[0m\u001b[30m█\u001b[0m\u001b[30m█\u001b[0m\u001b[30m█\u001b[0m\u001b[30m█\u001b[0m\u001b[30m█\u001b[0m\u001b[30m█\u001b[0m\u001b[30m█\u001b[0m\u001b[30m█\u001b[0m\u001b[30m█\u001b[0m\u001b[30m█\u001b[0m\u001b[30m█\u001b[0m|(1137/10000) (0.02s avg time) ETA: ~04 min -  MSE (TRAIN) : \u001b[93m0.060484\u001b[0m, MSE (VAL) : \u001b[96m0.071040\u001b[0m -- BEST Val Loss : \u001b[92m0.061240\u001b[0m (at epoch 635) Eary Stopping in: 0001   \r"
     ]
    },
    {
     "name": "stderr",
     "output_type": "stream",
     "text": [
      "[I 2024-05-08 18:50:34,843] Trial 176 finished with value: 0.018930938094854355 and parameters: {'std': 0.0141, 'num_layers': 2, 'units_0': 160, 'units_1': 144, 'freezed_layer_from_right': 1}. Best is trial 151 with value: 0.01814911514520645.\n"
     ]
    },
    {
     "name": "stdout",
     "output_type": "stream",
     "text": [
      "|\u001b[92m█\u001b[0m\u001b[92m█\u001b[0m\u001b[30m█\u001b[0m\u001b[30m█\u001b[0m\u001b[30m█\u001b[0m\u001b[30m█\u001b[0m\u001b[30m█\u001b[0m\u001b[30m█\u001b[0m\u001b[30m█\u001b[0m\u001b[30m█\u001b[0m\u001b[30m█\u001b[0m\u001b[30m█\u001b[0m\u001b[30m█\u001b[0m\u001b[30m█\u001b[0m\u001b[30m█\u001b[0m\u001b[30m█\u001b[0m\u001b[30m█\u001b[0m\u001b[30m█\u001b[0m\u001b[30m█\u001b[0m\u001b[30m█\u001b[0m|(1327/10000) (0.02s avg time) ETA: ~04 min -  MSE (TRAIN) : \u001b[93m0.062328\u001b[0m, MSE (VAL) : \u001b[96m0.064327\u001b[0m -- BEST Val Loss : \u001b[92m0.063001\u001b[0m (at epoch 825) Eary Stopping in: 0001   \r"
     ]
    },
    {
     "name": "stderr",
     "output_type": "stream",
     "text": [
      "[I 2024-05-08 18:54:55,427] Trial 177 finished with value: 0.022927645593881607 and parameters: {'std': 0.0131, 'num_layers': 2, 'units_0': 160, 'units_1': 160, 'freezed_layer_from_right': 1}. Best is trial 151 with value: 0.01814911514520645.\n"
     ]
    },
    {
     "name": "stdout",
     "output_type": "stream",
     "text": [
      "|\u001b[92m█\u001b[0m\u001b[92m█\u001b[0m\u001b[30m█\u001b[0m\u001b[30m█\u001b[0m\u001b[30m█\u001b[0m\u001b[30m█\u001b[0m\u001b[30m█\u001b[0m\u001b[30m█\u001b[0m\u001b[30m█\u001b[0m\u001b[30m█\u001b[0m\u001b[30m█\u001b[0m\u001b[30m█\u001b[0m\u001b[30m█\u001b[0m\u001b[30m█\u001b[0m\u001b[30m█\u001b[0m\u001b[30m█\u001b[0m\u001b[30m█\u001b[0m\u001b[30m█\u001b[0m\u001b[30m█\u001b[0m\u001b[30m█\u001b[0m|(1482/10000) (0.02s avg time) ETA: ~04 min -  MSE (TRAIN) : \u001b[93m0.160123\u001b[0m, MSE (VAL) : \u001b[96m0.160385\u001b[0m -- BEST Val Loss : \u001b[92m0.159708\u001b[0m (at epoch 980) Eary Stopping in: 0001   \r"
     ]
    },
    {
     "name": "stderr",
     "output_type": "stream",
     "text": [
      "[I 2024-05-08 18:56:21,390] Trial 178 finished with value: 0.02096797339618206 and parameters: {'std': 0.015099999999999999, 'num_layers': 2, 'units_0': 176, 'units_1': 144, 'freezed_layer_from_right': 1}. Best is trial 151 with value: 0.01814911514520645.\n"
     ]
    },
    {
     "name": "stdout",
     "output_type": "stream",
     "text": [
      "|\u001b[92m█\u001b[0m\u001b[92m█\u001b[0m\u001b[92m█\u001b[0m\u001b[92m█\u001b[0m\u001b[92m█\u001b[0m\u001b[30m█\u001b[0m\u001b[30m█\u001b[0m\u001b[30m█\u001b[0m\u001b[30m█\u001b[0m\u001b[30m█\u001b[0m\u001b[30m█\u001b[0m\u001b[30m█\u001b[0m\u001b[30m█\u001b[0m\u001b[30m█\u001b[0m\u001b[30m█\u001b[0m\u001b[30m█\u001b[0m\u001b[30m█\u001b[0m\u001b[30m█\u001b[0m\u001b[30m█\u001b[0m\u001b[30m█\u001b[0m|(2547/10000) (0.02s avg time) ETA: ~03 min -  MSE (TRAIN) : \u001b[93m0.064875\u001b[0m, MSE (VAL) : \u001b[96m0.065872\u001b[0m -- BEST Val Loss : \u001b[92m0.065554\u001b[0m (at epoch 2045) Eary Stopping in: 0001   \r"
     ]
    },
    {
     "name": "stderr",
     "output_type": "stream",
     "text": [
      "[I 2024-05-08 19:00:59,852] Trial 179 finished with value: 0.020046819001436234 and parameters: {'std': 0.0131, 'num_layers': 2, 'units_0': 160, 'units_1': 144, 'freezed_layer_from_right': 1}. Best is trial 151 with value: 0.01814911514520645.\n"
     ]
    },
    {
     "name": "stdout",
     "output_type": "stream",
     "text": [
      "|\u001b[92m█\u001b[0m\u001b[92m█\u001b[0m\u001b[30m█\u001b[0m\u001b[30m█\u001b[0m\u001b[30m█\u001b[0m\u001b[30m█\u001b[0m\u001b[30m█\u001b[0m\u001b[30m█\u001b[0m\u001b[30m█\u001b[0m\u001b[30m█\u001b[0m\u001b[30m█\u001b[0m\u001b[30m█\u001b[0m\u001b[30m█\u001b[0m\u001b[30m█\u001b[0m\u001b[30m█\u001b[0m\u001b[30m█\u001b[0m\u001b[30m█\u001b[0m\u001b[30m█\u001b[0m\u001b[30m█\u001b[0m\u001b[30m█\u001b[0m|(1392/10000) (0.02s avg time) ETA: ~04 min -  MSE (TRAIN) : \u001b[93m0.058766\u001b[0m, MSE (VAL) : \u001b[96m0.060192\u001b[0m -- BEST Val Loss : \u001b[92m0.059618\u001b[0m (at epoch 890) Eary Stopping in: 0001   \r"
     ]
    },
    {
     "name": "stderr",
     "output_type": "stream",
     "text": [
      "[I 2024-05-08 19:05:21,944] Trial 180 finished with value: 0.021947648376226425 and parameters: {'std': 0.011099999999999999, 'num_layers': 2, 'units_0': 176, 'units_1': 128, 'freezed_layer_from_right': 1}. Best is trial 151 with value: 0.01814911514520645.\n"
     ]
    },
    {
     "name": "stdout",
     "output_type": "stream",
     "text": [
      "|\u001b[92m█\u001b[0m\u001b[92m█\u001b[0m\u001b[30m█\u001b[0m\u001b[30m█\u001b[0m\u001b[30m█\u001b[0m\u001b[30m█\u001b[0m\u001b[30m█\u001b[0m\u001b[30m█\u001b[0m\u001b[30m█\u001b[0m\u001b[30m█\u001b[0m\u001b[30m█\u001b[0m\u001b[30m█\u001b[0m\u001b[30m█\u001b[0m\u001b[30m█\u001b[0m\u001b[30m█\u001b[0m\u001b[30m█\u001b[0m\u001b[30m█\u001b[0m\u001b[30m█\u001b[0m\u001b[30m█\u001b[0m\u001b[30m█\u001b[0m|(1241/10000) (0.02s avg time) ETA: ~04 min -  MSE (TRAIN) : \u001b[93m0.074435\u001b[0m, MSE (VAL) : \u001b[96m0.070988\u001b[0m -- BEST Val Loss : \u001b[92m0.065484\u001b[0m (at epoch 739) Eary Stopping in: 0001   \r"
     ]
    },
    {
     "name": "stderr",
     "output_type": "stream",
     "text": [
      "[I 2024-05-08 19:09:39,429] Trial 181 finished with value: 0.018474869430065155 and parameters: {'std': 0.0171, 'num_layers': 2, 'units_0': 160, 'units_1': 144, 'freezed_layer_from_right': 1}. Best is trial 151 with value: 0.01814911514520645.\n"
     ]
    },
    {
     "name": "stdout",
     "output_type": "stream",
     "text": [
      "|\u001b[92m█\u001b[0m\u001b[30m█\u001b[0m\u001b[30m█\u001b[0m\u001b[30m█\u001b[0m\u001b[30m█\u001b[0m\u001b[30m█\u001b[0m\u001b[30m█\u001b[0m\u001b[30m█\u001b[0m\u001b[30m█\u001b[0m\u001b[30m█\u001b[0m\u001b[30m█\u001b[0m\u001b[30m█\u001b[0m\u001b[30m█\u001b[0m\u001b[30m█\u001b[0m\u001b[30m█\u001b[0m\u001b[30m█\u001b[0m\u001b[30m█\u001b[0m\u001b[30m█\u001b[0m\u001b[30m█\u001b[0m\u001b[30m█\u001b[0m|(774/10000) (0.02s avg time) ETA: ~04 min -  MSE (TRAIN) : \u001b[93m0.065159\u001b[0m, MSE (VAL) : \u001b[96m0.067664\u001b[0m -- BEST Val Loss : \u001b[92m0.062697\u001b[0m (at epoch 272) Eary Stopping in: 0001   \r"
     ]
    },
    {
     "name": "stderr",
     "output_type": "stream",
     "text": [
      "[I 2024-05-08 19:13:47,963] Trial 182 finished with value: 0.025811733677983284 and parameters: {'std': 0.0166, 'num_layers': 2, 'units_0': 160, 'units_1': 144, 'freezed_layer_from_right': 1}. Best is trial 151 with value: 0.01814911514520645.\n"
     ]
    },
    {
     "name": "stdout",
     "output_type": "stream",
     "text": [
      "|\u001b[92m█\u001b[0m\u001b[30m█\u001b[0m\u001b[30m█\u001b[0m\u001b[30m█\u001b[0m\u001b[30m█\u001b[0m\u001b[30m█\u001b[0m\u001b[30m█\u001b[0m\u001b[30m█\u001b[0m\u001b[30m█\u001b[0m\u001b[30m█\u001b[0m\u001b[30m█\u001b[0m\u001b[30m█\u001b[0m\u001b[30m█\u001b[0m\u001b[30m█\u001b[0m\u001b[30m█\u001b[0m\u001b[30m█\u001b[0m\u001b[30m█\u001b[0m\u001b[30m█\u001b[0m\u001b[30m█\u001b[0m\u001b[30m█\u001b[0m|(968/10000) (0.02s avg time) ETA: ~04 min -  MSE (TRAIN) : \u001b[93m0.063863\u001b[0m, MSE (VAL) : \u001b[96m0.066316\u001b[0m -- BEST Val Loss : \u001b[92m0.063987\u001b[0m (at epoch 466) Eary Stopping in: 0001   \r"
     ]
    },
    {
     "name": "stderr",
     "output_type": "stream",
     "text": [
      "[I 2024-05-08 19:17:59,491] Trial 183 finished with value: 0.02026531845331192 and parameters: {'std': 0.015099999999999999, 'num_layers': 2, 'units_0': 160, 'units_1': 144, 'freezed_layer_from_right': 1}. Best is trial 151 with value: 0.01814911514520645.\n"
     ]
    },
    {
     "name": "stdout",
     "output_type": "stream",
     "text": [
      "|\u001b[92m█\u001b[0m\u001b[30m█\u001b[0m\u001b[30m█\u001b[0m\u001b[30m█\u001b[0m\u001b[30m█\u001b[0m\u001b[30m█\u001b[0m\u001b[30m█\u001b[0m\u001b[30m█\u001b[0m\u001b[30m█\u001b[0m\u001b[30m█\u001b[0m\u001b[30m█\u001b[0m\u001b[30m█\u001b[0m\u001b[30m█\u001b[0m\u001b[30m█\u001b[0m\u001b[30m█\u001b[0m\u001b[30m█\u001b[0m\u001b[30m█\u001b[0m\u001b[30m█\u001b[0m\u001b[30m█\u001b[0m\u001b[30m█\u001b[0m|(824/10000) (0.02s avg time) ETA: ~04 min -  MSE (TRAIN) : \u001b[93m0.104589\u001b[0m, MSE (VAL) : \u001b[96m0.103961\u001b[0m -- BEST Val Loss : \u001b[92m0.103143\u001b[0m (at epoch 322) Eary Stopping in: 0001   \r"
     ]
    },
    {
     "name": "stderr",
     "output_type": "stream",
     "text": [
      "[I 2024-05-08 19:19:52,281] Trial 184 finished with value: 0.020932961255311966 and parameters: {'std': 0.0171, 'num_layers': 2, 'units_0': 160, 'units_1': 160, 'freezed_layer_from_right': 1}. Best is trial 151 with value: 0.01814911514520645.\n"
     ]
    },
    {
     "name": "stdout",
     "output_type": "stream",
     "text": [
      "|\u001b[92m█\u001b[0m\u001b[92m█\u001b[0m\u001b[92m█\u001b[0m\u001b[92m█\u001b[0m\u001b[30m█\u001b[0m\u001b[30m█\u001b[0m\u001b[30m█\u001b[0m\u001b[30m█\u001b[0m\u001b[30m█\u001b[0m\u001b[30m█\u001b[0m\u001b[30m█\u001b[0m\u001b[30m█\u001b[0m\u001b[30m█\u001b[0m\u001b[30m█\u001b[0m\u001b[30m█\u001b[0m\u001b[30m█\u001b[0m\u001b[30m█\u001b[0m\u001b[30m█\u001b[0m\u001b[30m█\u001b[0m\u001b[30m█\u001b[0m|(2270/10000) (0.02s avg time) ETA: ~03 min -  MSE (TRAIN) : \u001b[93m0.056723\u001b[0m, MSE (VAL) : \u001b[96m0.058771\u001b[0m -- BEST Val Loss : \u001b[92m0.057832\u001b[0m (at epoch 1768) Eary Stopping in: 0001   \r"
     ]
    },
    {
     "name": "stderr",
     "output_type": "stream",
     "text": [
      "[I 2024-05-08 19:24:31,903] Trial 185 finished with value: 0.023715732619166374 and parameters: {'std': 0.0076, 'num_layers': 2, 'units_0': 176, 'units_1': 128, 'freezed_layer_from_right': 1}. Best is trial 151 with value: 0.01814911514520645.\n"
     ]
    },
    {
     "name": "stdout",
     "output_type": "stream",
     "text": [
      "|\u001b[92m█\u001b[0m\u001b[92m█\u001b[0m\u001b[30m█\u001b[0m\u001b[30m█\u001b[0m\u001b[30m█\u001b[0m\u001b[30m█\u001b[0m\u001b[30m█\u001b[0m\u001b[30m█\u001b[0m\u001b[30m█\u001b[0m\u001b[30m█\u001b[0m\u001b[30m█\u001b[0m\u001b[30m█\u001b[0m\u001b[30m█\u001b[0m\u001b[30m█\u001b[0m\u001b[30m█\u001b[0m\u001b[30m█\u001b[0m\u001b[30m█\u001b[0m\u001b[30m█\u001b[0m\u001b[30m█\u001b[0m\u001b[30m█\u001b[0m|(1018/10000) (0.02s avg time) ETA: ~04 min -  MSE (TRAIN) : \u001b[93m0.089609\u001b[0m, MSE (VAL) : \u001b[96m0.089716\u001b[0m -- BEST Val Loss : \u001b[92m0.088690\u001b[0m (at epoch 516) Eary Stopping in: 0001   \r"
     ]
    },
    {
     "name": "stderr",
     "output_type": "stream",
     "text": [
      "[I 2024-05-08 19:27:34,473] Trial 186 finished with value: 0.019005050882697105 and parameters: {'std': 0.0146, 'num_layers': 2, 'units_0': 160, 'units_1': 144, 'freezed_layer_from_right': 1}. Best is trial 151 with value: 0.01814911514520645.\n"
     ]
    },
    {
     "name": "stdout",
     "output_type": "stream",
     "text": [
      "|\u001b[92m█\u001b[0m\u001b[92m█\u001b[0m\u001b[92m█\u001b[0m\u001b[30m█\u001b[0m\u001b[30m█\u001b[0m\u001b[30m█\u001b[0m\u001b[30m█\u001b[0m\u001b[30m█\u001b[0m\u001b[30m█\u001b[0m\u001b[30m█\u001b[0m\u001b[30m█\u001b[0m\u001b[30m█\u001b[0m\u001b[30m█\u001b[0m\u001b[30m█\u001b[0m\u001b[30m█\u001b[0m\u001b[30m█\u001b[0m\u001b[30m█\u001b[0m\u001b[30m█\u001b[0m\u001b[30m█\u001b[0m\u001b[30m█\u001b[0m|(1699/10000) (0.02s avg time) ETA: ~04 min -  MSE (TRAIN) : \u001b[93m0.061383\u001b[0m, MSE (VAL) : \u001b[96m0.062598\u001b[0m -- BEST Val Loss : \u001b[92m0.061678\u001b[0m (at epoch 1197) Eary Stopping in: 0001   \r"
     ]
    },
    {
     "name": "stderr",
     "output_type": "stream",
     "text": [
      "[I 2024-05-08 19:32:01,795] Trial 187 finished with value: 0.020726794376969337 and parameters: {'std': 0.0116, 'num_layers': 2, 'units_0': 160, 'units_1': 144, 'freezed_layer_from_right': 1}. Best is trial 151 with value: 0.01814911514520645.\n"
     ]
    },
    {
     "name": "stdout",
     "output_type": "stream",
     "text": [
      "|\u001b[92m█\u001b[0m\u001b[92m█\u001b[0m\u001b[92m█\u001b[0m\u001b[30m█\u001b[0m\u001b[30m█\u001b[0m\u001b[30m█\u001b[0m\u001b[30m█\u001b[0m\u001b[30m█\u001b[0m\u001b[30m█\u001b[0m\u001b[30m█\u001b[0m\u001b[30m█\u001b[0m\u001b[30m█\u001b[0m\u001b[30m█\u001b[0m\u001b[30m█\u001b[0m\u001b[30m█\u001b[0m\u001b[30m█\u001b[0m\u001b[30m█\u001b[0m\u001b[30m█\u001b[0m\u001b[30m█\u001b[0m\u001b[30m█\u001b[0m|(1685/10000) (0.02s avg time) ETA: ~04 min -  MSE (TRAIN) : \u001b[93m0.063322\u001b[0m, MSE (VAL) : \u001b[96m0.065228\u001b[0m -- BEST Val Loss : \u001b[92m0.064395\u001b[0m (at epoch 1183) Eary Stopping in: 0001   \r"
     ]
    },
    {
     "name": "stderr",
     "output_type": "stream",
     "text": [
      "[I 2024-05-08 19:36:30,116] Trial 188 finished with value: 0.02501673996448517 and parameters: {'std': 0.0136, 'num_layers': 2, 'units_0': 48, 'units_1': 144, 'freezed_layer_from_right': 1}. Best is trial 151 with value: 0.01814911514520645.\n"
     ]
    },
    {
     "name": "stdout",
     "output_type": "stream",
     "text": [
      "|\u001b[92m█\u001b[0m\u001b[92m█\u001b[0m\u001b[92m█\u001b[0m\u001b[92m█\u001b[0m\u001b[30m█\u001b[0m\u001b[30m█\u001b[0m\u001b[30m█\u001b[0m\u001b[30m█\u001b[0m\u001b[30m█\u001b[0m\u001b[30m█\u001b[0m\u001b[30m█\u001b[0m\u001b[30m█\u001b[0m\u001b[30m█\u001b[0m\u001b[30m█\u001b[0m\u001b[30m█\u001b[0m\u001b[30m█\u001b[0m\u001b[30m█\u001b[0m\u001b[30m█\u001b[0m\u001b[30m█\u001b[0m\u001b[30m█\u001b[0m|(2247/10000) (0.02s avg time) ETA: ~03 min -  MSE (TRAIN) : \u001b[93m0.061294\u001b[0m, MSE (VAL) : \u001b[96m0.062342\u001b[0m -- BEST Val Loss : \u001b[92m0.061493\u001b[0m (at epoch 1745) Eary Stopping in: 0001   \r"
     ]
    },
    {
     "name": "stderr",
     "output_type": "stream",
     "text": [
      "[I 2024-05-08 19:41:09,754] Trial 189 finished with value: 0.017829593271017075 and parameters: {'std': 0.0201, 'num_layers': 2, 'units_0': 176, 'units_1': 128, 'freezed_layer_from_right': 1}. Best is trial 189 with value: 0.017829593271017075.\n"
     ]
    },
    {
     "name": "stdout",
     "output_type": "stream",
     "text": [
      "|\u001b[92m█\u001b[0m\u001b[92m█\u001b[0m\u001b[92m█\u001b[0m\u001b[92m█\u001b[0m\u001b[92m█\u001b[0m\u001b[30m█\u001b[0m\u001b[30m█\u001b[0m\u001b[30m█\u001b[0m\u001b[30m█\u001b[0m\u001b[30m█\u001b[0m\u001b[30m█\u001b[0m\u001b[30m█\u001b[0m\u001b[30m█\u001b[0m\u001b[30m█\u001b[0m\u001b[30m█\u001b[0m\u001b[30m█\u001b[0m\u001b[30m█\u001b[0m\u001b[30m█\u001b[0m\u001b[30m█\u001b[0m\u001b[30m█\u001b[0m|(2509/10000) (0.02s avg time) ETA: ~03 min -  MSE (TRAIN) : \u001b[93m0.113767\u001b[0m, MSE (VAL) : \u001b[96m0.106126\u001b[0m -- BEST Val Loss : \u001b[92m0.104597\u001b[0m (at epoch 2007) Eary Stopping in: 0001   \r"
     ]
    },
    {
     "name": "stderr",
     "output_type": "stream",
     "text": [
      "[I 2024-05-08 19:42:45,992] Trial 190 finished with value: 0.022261176258325577 and parameters: {'std': 0.0201, 'num_layers': 2, 'units_0': 160, 'units_1': 144, 'freezed_layer_from_right': 1}. Best is trial 189 with value: 0.017829593271017075.\n"
     ]
    },
    {
     "name": "stdout",
     "output_type": "stream",
     "text": [
      "|\u001b[92m█\u001b[0m\u001b[92m█\u001b[0m\u001b[92m█\u001b[0m\u001b[30m█\u001b[0m\u001b[30m█\u001b[0m\u001b[30m█\u001b[0m\u001b[30m█\u001b[0m\u001b[30m█\u001b[0m\u001b[30m█\u001b[0m\u001b[30m█\u001b[0m\u001b[30m█\u001b[0m\u001b[30m█\u001b[0m\u001b[30m█\u001b[0m\u001b[30m█\u001b[0m\u001b[30m█\u001b[0m\u001b[30m█\u001b[0m\u001b[30m█\u001b[0m\u001b[30m█\u001b[0m\u001b[30m█\u001b[0m\u001b[30m█\u001b[0m|(1915/10000) (0.02s avg time) ETA: ~03 min -  MSE (TRAIN) : \u001b[93m0.058492\u001b[0m, MSE (VAL) : \u001b[96m0.061549\u001b[0m -- BEST Val Loss : \u001b[92m0.058574\u001b[0m (at epoch 1413) Eary Stopping in: 0001   \r"
     ]
    },
    {
     "name": "stderr",
     "output_type": "stream",
     "text": [
      "[I 2024-05-08 19:47:17,668] Trial 191 finished with value: 0.019655853509902954 and parameters: {'std': 0.0181, 'num_layers': 2, 'units_0': 176, 'units_1': 128, 'freezed_layer_from_right': 1}. Best is trial 189 with value: 0.017829593271017075.\n"
     ]
    },
    {
     "name": "stdout",
     "output_type": "stream",
     "text": [
      "|\u001b[92m█\u001b[0m\u001b[92m█\u001b[0m\u001b[92m█\u001b[0m\u001b[30m█\u001b[0m\u001b[30m█\u001b[0m\u001b[30m█\u001b[0m\u001b[30m█\u001b[0m\u001b[30m█\u001b[0m\u001b[30m█\u001b[0m\u001b[30m█\u001b[0m\u001b[30m█\u001b[0m\u001b[30m█\u001b[0m\u001b[30m█\u001b[0m\u001b[30m█\u001b[0m\u001b[30m█\u001b[0m\u001b[30m█\u001b[0m\u001b[30m█\u001b[0m\u001b[30m█\u001b[0m\u001b[30m█\u001b[0m\u001b[30m█\u001b[0m|(1974/10000) (0.02s avg time) ETA: ~03 min -  MSE (TRAIN) : \u001b[93m0.145355\u001b[0m, MSE (VAL) : \u001b[96m0.145529\u001b[0m -- BEST Val Loss : \u001b[92m0.143000\u001b[0m (at epoch 1472) Eary Stopping in: 0001   \r"
     ]
    },
    {
     "name": "stderr",
     "output_type": "stream",
     "text": [
      "[I 2024-05-08 19:49:08,376] Trial 192 finished with value: 0.021838797256350517 and parameters: {'std': 0.0156, 'num_layers': 2, 'units_0': 176, 'units_1': 128, 'freezed_layer_from_right': 1}. Best is trial 189 with value: 0.017829593271017075.\n"
     ]
    },
    {
     "name": "stdout",
     "output_type": "stream",
     "text": [
      "|\u001b[92m█\u001b[0m\u001b[92m█\u001b[0m\u001b[92m█\u001b[0m\u001b[30m█\u001b[0m\u001b[30m█\u001b[0m\u001b[30m█\u001b[0m\u001b[30m█\u001b[0m\u001b[30m█\u001b[0m\u001b[30m█\u001b[0m\u001b[30m█\u001b[0m\u001b[30m█\u001b[0m\u001b[30m█\u001b[0m\u001b[30m█\u001b[0m\u001b[30m█\u001b[0m\u001b[30m█\u001b[0m\u001b[30m█\u001b[0m\u001b[30m█\u001b[0m\u001b[30m█\u001b[0m\u001b[30m█\u001b[0m\u001b[30m█\u001b[0m|(1725/10000) (0.02s avg time) ETA: ~03 min -  MSE (TRAIN) : \u001b[93m0.112869\u001b[0m, MSE (VAL) : \u001b[96m0.106687\u001b[0m -- BEST Val Loss : \u001b[92m0.104935\u001b[0m (at epoch 1223) Eary Stopping in: 0001   \r"
     ]
    },
    {
     "name": "stderr",
     "output_type": "stream",
     "text": [
      "[I 2024-05-08 19:50:43,979] Trial 193 finished with value: 0.023162782192230225 and parameters: {'std': 0.0196, 'num_layers': 2, 'units_0': 176, 'units_1': 144, 'freezed_layer_from_right': 1}. Best is trial 189 with value: 0.017829593271017075.\n"
     ]
    },
    {
     "name": "stdout",
     "output_type": "stream",
     "text": [
      "|\u001b[92m█\u001b[0m\u001b[92m█\u001b[0m\u001b[30m█\u001b[0m\u001b[30m█\u001b[0m\u001b[30m█\u001b[0m\u001b[30m█\u001b[0m\u001b[30m█\u001b[0m\u001b[30m█\u001b[0m\u001b[30m█\u001b[0m\u001b[30m█\u001b[0m\u001b[30m█\u001b[0m\u001b[30m█\u001b[0m\u001b[30m█\u001b[0m\u001b[30m█\u001b[0m\u001b[30m█\u001b[0m\u001b[30m█\u001b[0m\u001b[30m█\u001b[0m\u001b[30m█\u001b[0m\u001b[30m█\u001b[0m\u001b[30m█\u001b[0m|(1115/10000) (0.02s avg time) ETA: ~04 min -  MSE (TRAIN) : \u001b[93m0.064054\u001b[0m, MSE (VAL) : \u001b[96m0.063731\u001b[0m -- BEST Val Loss : \u001b[92m0.062234\u001b[0m (at epoch 613) Eary Stopping in: 0001   \r"
     ]
    },
    {
     "name": "stderr",
     "output_type": "stream",
     "text": [
      "[I 2024-05-08 19:54:58,148] Trial 194 finished with value: 0.024909699335694313 and parameters: {'std': 0.0176, 'num_layers': 2, 'units_0': 176, 'units_1': 144, 'freezed_layer_from_right': 1}. Best is trial 189 with value: 0.017829593271017075.\n"
     ]
    },
    {
     "name": "stdout",
     "output_type": "stream",
     "text": [
      "|\u001b[92m█\u001b[0m\u001b[92m█\u001b[0m\u001b[92m█\u001b[0m\u001b[30m█\u001b[0m\u001b[30m█\u001b[0m\u001b[30m█\u001b[0m\u001b[30m█\u001b[0m\u001b[30m█\u001b[0m\u001b[30m█\u001b[0m\u001b[30m█\u001b[0m\u001b[30m█\u001b[0m\u001b[30m█\u001b[0m\u001b[30m█\u001b[0m\u001b[30m█\u001b[0m\u001b[30m█\u001b[0m\u001b[30m█\u001b[0m\u001b[30m█\u001b[0m\u001b[30m█\u001b[0m\u001b[30m█\u001b[0m\u001b[30m█\u001b[0m|(1855/10000) (0.02s avg time) ETA: ~03 min -  MSE (TRAIN) : \u001b[93m0.066301\u001b[0m, MSE (VAL) : \u001b[96m0.066297\u001b[0m -- BEST Val Loss : \u001b[92m0.066200\u001b[0m (at epoch 1353) Eary Stopping in: 0001   \r"
     ]
    },
    {
     "name": "stderr",
     "output_type": "stream",
     "text": [
      "[I 2024-05-08 19:59:56,206] Trial 195 finished with value: 0.02139410935342312 and parameters: {'std': 0.0141, 'num_layers': 2, 'units_0': 160, 'units_1': 128, 'freezed_layer_from_right': 1}. Best is trial 189 with value: 0.017829593271017075.\n"
     ]
    },
    {
     "name": "stdout",
     "output_type": "stream",
     "text": [
      "|\u001b[92m█\u001b[0m\u001b[92m█\u001b[0m\u001b[92m█\u001b[0m\u001b[30m█\u001b[0m\u001b[30m█\u001b[0m\u001b[30m█\u001b[0m\u001b[30m█\u001b[0m\u001b[30m█\u001b[0m\u001b[30m█\u001b[0m\u001b[30m█\u001b[0m\u001b[30m█\u001b[0m\u001b[30m█\u001b[0m\u001b[30m█\u001b[0m\u001b[30m█\u001b[0m\u001b[30m█\u001b[0m\u001b[30m█\u001b[0m\u001b[30m█\u001b[0m\u001b[30m█\u001b[0m\u001b[30m█\u001b[0m\u001b[30m█\u001b[0m|(1921/10000) (0.02s avg time) ETA: ~03 min -  MSE (TRAIN) : \u001b[93m0.076286\u001b[0m, MSE (VAL) : \u001b[96m0.076956\u001b[0m -- BEST Val Loss : \u001b[92m0.074774\u001b[0m (at epoch 1419) Eary Stopping in: 0001   \r"
     ]
    },
    {
     "name": "stderr",
     "output_type": "stream",
     "text": [
      "[I 2024-05-08 20:02:35,711] Trial 196 finished with value: 0.021731695160269737 and parameters: {'std': 0.0211, 'num_layers': 2, 'units_0': 176, 'units_1': 160, 'freezed_layer_from_right': 1}. Best is trial 189 with value: 0.017829593271017075.\n"
     ]
    },
    {
     "name": "stdout",
     "output_type": "stream",
     "text": [
      "|\u001b[92m█\u001b[0m\u001b[92m█\u001b[0m\u001b[92m█\u001b[0m\u001b[92m█\u001b[0m\u001b[92m█\u001b[0m\u001b[92m█\u001b[0m\u001b[30m█\u001b[0m\u001b[30m█\u001b[0m\u001b[30m█\u001b[0m\u001b[30m█\u001b[0m\u001b[30m█\u001b[0m\u001b[30m█\u001b[0m\u001b[30m█\u001b[0m\u001b[30m█\u001b[0m\u001b[30m█\u001b[0m\u001b[30m█\u001b[0m\u001b[30m█\u001b[0m\u001b[30m█\u001b[0m\u001b[30m█\u001b[0m\u001b[30m█\u001b[0m|(3031/10000) (0.02s avg time) ETA: ~03 min -  MSE (TRAIN) : \u001b[93m0.064535\u001b[0m, MSE (VAL) : \u001b[96m0.066526\u001b[0m -- BEST Val Loss : \u001b[92m0.063872\u001b[0m (at epoch 2529) Eary Stopping in: 0001   \r"
     ]
    },
    {
     "name": "stderr",
     "output_type": "stream",
     "text": [
      "[I 2024-05-08 20:07:34,647] Trial 197 finished with value: 0.01990598253905773 and parameters: {'std': 0.0156, 'num_layers': 2, 'units_0': 160, 'units_1': 128, 'freezed_layer_from_right': 1}. Best is trial 189 with value: 0.017829593271017075.\n"
     ]
    },
    {
     "name": "stdout",
     "output_type": "stream",
     "text": [
      "|\u001b[92m█\u001b[0m\u001b[92m█\u001b[0m\u001b[92m█\u001b[0m\u001b[92m█\u001b[0m\u001b[30m█\u001b[0m\u001b[30m█\u001b[0m\u001b[30m█\u001b[0m\u001b[30m█\u001b[0m\u001b[30m█\u001b[0m\u001b[30m█\u001b[0m\u001b[30m█\u001b[0m\u001b[30m█\u001b[0m\u001b[30m█\u001b[0m\u001b[30m█\u001b[0m\u001b[30m█\u001b[0m\u001b[30m█\u001b[0m\u001b[30m█\u001b[0m\u001b[30m█\u001b[0m\u001b[30m█\u001b[0m\u001b[30m█\u001b[0m|(2014/10000) (0.02s avg time) ETA: ~03 min -  MSE (TRAIN) : \u001b[93m0.059937\u001b[0m, MSE (VAL) : \u001b[96m0.061587\u001b[0m -- BEST Val Loss : \u001b[92m0.060046\u001b[0m (at epoch 1512) Eary Stopping in: 0001   \r"
     ]
    },
    {
     "name": "stderr",
     "output_type": "stream",
     "text": [
      "[I 2024-05-08 20:12:09,494] Trial 198 finished with value: 0.022089997306466103 and parameters: {'std': 0.0101, 'num_layers': 2, 'units_0': 144, 'units_1': 160, 'freezed_layer_from_right': 1}. Best is trial 189 with value: 0.017829593271017075.\n"
     ]
    },
    {
     "name": "stdout",
     "output_type": "stream",
     "text": [
      "|\u001b[92m█\u001b[0m\u001b[30m█\u001b[0m\u001b[30m█\u001b[0m\u001b[30m█\u001b[0m\u001b[30m█\u001b[0m\u001b[30m█\u001b[0m\u001b[30m█\u001b[0m\u001b[30m█\u001b[0m\u001b[30m█\u001b[0m\u001b[30m█\u001b[0m\u001b[30m█\u001b[0m\u001b[30m█\u001b[0m\u001b[30m█\u001b[0m\u001b[30m█\u001b[0m\u001b[30m█\u001b[0m\u001b[30m█\u001b[0m\u001b[30m█\u001b[0m\u001b[30m█\u001b[0m\u001b[30m█\u001b[0m\u001b[30m█\u001b[0m|(766/10000) (0.02s avg time) ETA: ~04 min -  MSE (TRAIN) : \u001b[93m0.122327\u001b[0m, MSE (VAL) : \u001b[96m0.127407\u001b[0m -- BEST Val Loss : \u001b[92m0.115959\u001b[0m (at epoch 264) Eary Stopping in: 0001   \r"
     ]
    },
    {
     "name": "stderr",
     "output_type": "stream",
     "text": [
      "[I 2024-05-08 20:13:20,651] Trial 199 finished with value: 0.02106722816824913 and parameters: {'std': 0.0186, 'num_layers': 2, 'units_0': 160, 'units_1': 144, 'freezed_layer_from_right': 1}. Best is trial 189 with value: 0.017829593271017075.\n"
     ]
    },
    {
     "name": "stdout",
     "output_type": "stream",
     "text": [
      "|\u001b[92m█\u001b[0m\u001b[92m█\u001b[0m\u001b[30m█\u001b[0m\u001b[30m█\u001b[0m\u001b[30m█\u001b[0m\u001b[30m█\u001b[0m\u001b[30m█\u001b[0m\u001b[30m█\u001b[0m\u001b[30m█\u001b[0m\u001b[30m█\u001b[0m\u001b[30m█\u001b[0m\u001b[30m█\u001b[0m\u001b[30m█\u001b[0m\u001b[30m█\u001b[0m\u001b[30m█\u001b[0m\u001b[30m█\u001b[0m\u001b[30m█\u001b[0m\u001b[30m█\u001b[0m\u001b[30m█\u001b[0m\u001b[30m█\u001b[0m|(1478/10000) (0.02s avg time) ETA: ~04 min -  MSE (TRAIN) : \u001b[93m0.055583\u001b[0m, MSE (VAL) : \u001b[96m0.059804\u001b[0m -- BEST Val Loss : \u001b[92m0.054806\u001b[0m (at epoch 976) Eary Stopping in: 0001   \r"
     ]
    },
    {
     "name": "stderr",
     "output_type": "stream",
     "text": [
      "[I 2024-05-08 20:17:42,932] Trial 200 finished with value: 0.019164063036441803 and parameters: {'std': 0.0231, 'num_layers': 2, 'units_0': 176, 'units_1': 128, 'freezed_layer_from_right': 1}. Best is trial 189 with value: 0.017829593271017075.\n"
     ]
    },
    {
     "name": "stdout",
     "output_type": "stream",
     "text": [
      "|\u001b[92m█\u001b[0m\u001b[92m█\u001b[0m\u001b[92m█\u001b[0m\u001b[30m█\u001b[0m\u001b[30m█\u001b[0m\u001b[30m█\u001b[0m\u001b[30m█\u001b[0m\u001b[30m█\u001b[0m\u001b[30m█\u001b[0m\u001b[30m█\u001b[0m\u001b[30m█\u001b[0m\u001b[30m█\u001b[0m\u001b[30m█\u001b[0m\u001b[30m█\u001b[0m\u001b[30m█\u001b[0m\u001b[30m█\u001b[0m\u001b[30m█\u001b[0m\u001b[30m█\u001b[0m\u001b[30m█\u001b[0m\u001b[30m█\u001b[0m|(1981/10000) (0.02s avg time) ETA: ~03 min -  MSE (TRAIN) : \u001b[93m0.097292\u001b[0m, MSE (VAL) : \u001b[96m0.087797\u001b[0m -- BEST Val Loss : \u001b[92m0.086032\u001b[0m (at epoch 1479) Eary Stopping in: 0001   \r"
     ]
    },
    {
     "name": "stderr",
     "output_type": "stream",
     "text": [
      "[I 2024-05-08 20:19:32,659] Trial 201 finished with value: 0.019034700468182564 and parameters: {'std': 0.0241, 'num_layers': 2, 'units_0': 176, 'units_1': 128, 'freezed_layer_from_right': 1}. Best is trial 189 with value: 0.017829593271017075.\n"
     ]
    },
    {
     "name": "stdout",
     "output_type": "stream",
     "text": [
      "|\u001b[92m█\u001b[0m\u001b[92m█\u001b[0m\u001b[92m█\u001b[0m\u001b[92m█\u001b[0m\u001b[30m█\u001b[0m\u001b[30m█\u001b[0m\u001b[30m█\u001b[0m\u001b[30m█\u001b[0m\u001b[30m█\u001b[0m\u001b[30m█\u001b[0m\u001b[30m█\u001b[0m\u001b[30m█\u001b[0m\u001b[30m█\u001b[0m\u001b[30m█\u001b[0m\u001b[30m█\u001b[0m\u001b[30m█\u001b[0m\u001b[30m█\u001b[0m\u001b[30m█\u001b[0m\u001b[30m█\u001b[0m\u001b[30m█\u001b[0m|(2026/10000) (0.02s avg time) ETA: ~03 min -  MSE (TRAIN) : \u001b[93m0.092738\u001b[0m, MSE (VAL) : \u001b[96m0.091955\u001b[0m -- BEST Val Loss : \u001b[92m0.085643\u001b[0m (at epoch 1524) Eary Stopping in: 0001   \r"
     ]
    },
    {
     "name": "stderr",
     "output_type": "stream",
     "text": [
      "[I 2024-05-08 20:21:36,289] Trial 202 finished with value: 0.01959499530494213 and parameters: {'std': 0.0231, 'num_layers': 2, 'units_0': 176, 'units_1': 128, 'freezed_layer_from_right': 1}. Best is trial 189 with value: 0.017829593271017075.\n"
     ]
    },
    {
     "name": "stdout",
     "output_type": "stream",
     "text": [
      "|\u001b[92m█\u001b[0m\u001b[92m█\u001b[0m\u001b[92m█\u001b[0m\u001b[92m█\u001b[0m\u001b[30m█\u001b[0m\u001b[30m█\u001b[0m\u001b[30m█\u001b[0m\u001b[30m█\u001b[0m\u001b[30m█\u001b[0m\u001b[30m█\u001b[0m\u001b[30m█\u001b[0m\u001b[30m█\u001b[0m\u001b[30m█\u001b[0m\u001b[30m█\u001b[0m\u001b[30m█\u001b[0m\u001b[30m█\u001b[0m\u001b[30m█\u001b[0m\u001b[30m█\u001b[0m\u001b[30m█\u001b[0m\u001b[30m█\u001b[0m|(2452/10000) (0.02s avg time) ETA: ~03 min -  MSE (TRAIN) : \u001b[93m0.075148\u001b[0m, MSE (VAL) : \u001b[96m0.076116\u001b[0m -- BEST Val Loss : \u001b[92m0.073464\u001b[0m (at epoch 1950) Eary Stopping in: 0001   \r"
     ]
    },
    {
     "name": "stderr",
     "output_type": "stream",
     "text": [
      "[I 2024-05-08 20:24:12,072] Trial 203 finished with value: 0.027345139533281326 and parameters: {'std': 0.0241, 'num_layers': 2, 'units_0': 176, 'units_1': 128, 'freezed_layer_from_right': 1}. Best is trial 189 with value: 0.017829593271017075.\n"
     ]
    },
    {
     "name": "stdout",
     "output_type": "stream",
     "text": [
      "|\u001b[92m█\u001b[0m\u001b[92m█\u001b[0m\u001b[92m█\u001b[0m\u001b[30m█\u001b[0m\u001b[30m█\u001b[0m\u001b[30m█\u001b[0m\u001b[30m█\u001b[0m\u001b[30m█\u001b[0m\u001b[30m█\u001b[0m\u001b[30m█\u001b[0m\u001b[30m█\u001b[0m\u001b[30m█\u001b[0m\u001b[30m█\u001b[0m\u001b[30m█\u001b[0m\u001b[30m█\u001b[0m\u001b[30m█\u001b[0m\u001b[30m█\u001b[0m\u001b[30m█\u001b[0m\u001b[30m█\u001b[0m\u001b[30m█\u001b[0m|(1726/10000) (0.02s avg time) ETA: ~03 min -  MSE (TRAIN) : \u001b[93m0.079723\u001b[0m, MSE (VAL) : \u001b[96m0.085978\u001b[0m -- BEST Val Loss : \u001b[92m0.074626\u001b[0m (at epoch 1224) Eary Stopping in: 0001   \r"
     ]
    },
    {
     "name": "stderr",
     "output_type": "stream",
     "text": [
      "[I 2024-05-08 20:26:43,980] Trial 204 finished with value: 0.024463044479489326 and parameters: {'std': 0.0216, 'num_layers': 2, 'units_0': 176, 'units_1': 128, 'freezed_layer_from_right': 1}. Best is trial 189 with value: 0.017829593271017075.\n"
     ]
    },
    {
     "name": "stdout",
     "output_type": "stream",
     "text": [
      "|\u001b[92m█\u001b[0m\u001b[30m█\u001b[0m\u001b[30m█\u001b[0m\u001b[30m█\u001b[0m\u001b[30m█\u001b[0m\u001b[30m█\u001b[0m\u001b[30m█\u001b[0m\u001b[30m█\u001b[0m\u001b[30m█\u001b[0m\u001b[30m█\u001b[0m\u001b[30m█\u001b[0m\u001b[30m█\u001b[0m\u001b[30m█\u001b[0m\u001b[30m█\u001b[0m\u001b[30m█\u001b[0m\u001b[30m█\u001b[0m\u001b[30m█\u001b[0m\u001b[30m█\u001b[0m\u001b[30m█\u001b[0m\u001b[30m█\u001b[0m|(743/10000) (0.02s avg time) ETA: ~04 min -  MSE (TRAIN) : \u001b[93m0.066449\u001b[0m, MSE (VAL) : \u001b[96m0.064064\u001b[0m -- BEST Val Loss : \u001b[92m0.059523\u001b[0m (at epoch 241) Eary Stopping in: 0001   \r"
     ]
    },
    {
     "name": "stderr",
     "output_type": "stream",
     "text": [
      "[I 2024-05-08 20:30:48,519] Trial 205 finished with value: 0.020171159878373146 and parameters: {'std': 0.0201, 'num_layers': 2, 'units_0': 160, 'units_1': 128, 'freezed_layer_from_right': 1}. Best is trial 189 with value: 0.017829593271017075.\n"
     ]
    },
    {
     "name": "stdout",
     "output_type": "stream",
     "text": [
      "|\u001b[92m█\u001b[0m\u001b[92m█\u001b[0m\u001b[30m█\u001b[0m\u001b[30m█\u001b[0m\u001b[30m█\u001b[0m\u001b[30m█\u001b[0m\u001b[30m█\u001b[0m\u001b[30m█\u001b[0m\u001b[30m█\u001b[0m\u001b[30m█\u001b[0m\u001b[30m█\u001b[0m\u001b[30m█\u001b[0m\u001b[30m█\u001b[0m\u001b[30m█\u001b[0m\u001b[30m█\u001b[0m\u001b[30m█\u001b[0m\u001b[30m█\u001b[0m\u001b[30m█\u001b[0m\u001b[30m█\u001b[0m\u001b[30m█\u001b[0m|(1363/10000) (0.02s avg time) ETA: ~04 min -  MSE (TRAIN) : \u001b[93m0.059144\u001b[0m, MSE (VAL) : \u001b[96m0.059054\u001b[0m -- BEST Val Loss : \u001b[92m0.058071\u001b[0m (at epoch 861) Eary Stopping in: 0001   \r"
     ]
    },
    {
     "name": "stderr",
     "output_type": "stream",
     "text": [
      "[I 2024-05-08 20:35:11,728] Trial 206 finished with value: 0.017589986324310303 and parameters: {'std': 0.0176, 'num_layers': 2, 'units_0': 176, 'units_1': 144, 'freezed_layer_from_right': 1}. Best is trial 206 with value: 0.017589986324310303.\n"
     ]
    },
    {
     "name": "stdout",
     "output_type": "stream",
     "text": [
      "|\u001b[92m█\u001b[0m\u001b[30m█\u001b[0m\u001b[30m█\u001b[0m\u001b[30m█\u001b[0m\u001b[30m█\u001b[0m\u001b[30m█\u001b[0m\u001b[30m█\u001b[0m\u001b[30m█\u001b[0m\u001b[30m█\u001b[0m\u001b[30m█\u001b[0m\u001b[30m█\u001b[0m\u001b[30m█\u001b[0m\u001b[30m█\u001b[0m\u001b[30m█\u001b[0m\u001b[30m█\u001b[0m\u001b[30m█\u001b[0m\u001b[30m█\u001b[0m\u001b[30m█\u001b[0m\u001b[30m█\u001b[0m\u001b[30m█\u001b[0m|(715/10000) (0.02s avg time) ETA: ~04 min -  MSE (TRAIN) : \u001b[93m0.063757\u001b[0m, MSE (VAL) : \u001b[96m0.066573\u001b[0m -- BEST Val Loss : \u001b[92m0.060693\u001b[0m (at epoch 213) Eary Stopping in: 0001   \r"
     ]
    },
    {
     "name": "stderr",
     "output_type": "stream",
     "text": [
      "[I 2024-05-08 20:37:43,995] Trial 207 finished with value: 0.020647967234253883 and parameters: {'std': 0.0261, 'num_layers': 2, 'units_0': 176, 'units_1': 144, 'freezed_layer_from_right': 1}. Best is trial 206 with value: 0.017589986324310303.\n"
     ]
    },
    {
     "name": "stdout",
     "output_type": "stream",
     "text": [
      "|\u001b[92m█\u001b[0m\u001b[92m█\u001b[0m\u001b[92m█\u001b[0m\u001b[92m█\u001b[0m\u001b[92m█\u001b[0m\u001b[30m█\u001b[0m\u001b[30m█\u001b[0m\u001b[30m█\u001b[0m\u001b[30m█\u001b[0m\u001b[30m█\u001b[0m\u001b[30m█\u001b[0m\u001b[30m█\u001b[0m\u001b[30m█\u001b[0m\u001b[30m█\u001b[0m\u001b[30m█\u001b[0m\u001b[30m█\u001b[0m\u001b[30m█\u001b[0m\u001b[30m█\u001b[0m\u001b[30m█\u001b[0m\u001b[30m█\u001b[0m|(2682/10000) (0.02s avg time) ETA: ~03 min -  MSE (TRAIN) : \u001b[93m0.087081\u001b[0m, MSE (VAL) : \u001b[96m0.084400\u001b[0m -- BEST Val Loss : \u001b[92m0.083124\u001b[0m (at epoch 2180) Eary Stopping in: 0001   \r"
     ]
    },
    {
     "name": "stderr",
     "output_type": "stream",
     "text": [
      "[I 2024-05-08 20:40:51,351] Trial 208 finished with value: 0.02069556713104248 and parameters: {'std': 0.0196, 'num_layers': 2, 'units_0': 160, 'units_1': 144, 'freezed_layer_from_right': 1}. Best is trial 206 with value: 0.017589986324310303.\n"
     ]
    },
    {
     "name": "stdout",
     "output_type": "stream",
     "text": [
      "|\u001b[92m█\u001b[0m\u001b[30m█\u001b[0m\u001b[30m█\u001b[0m\u001b[30m█\u001b[0m\u001b[30m█\u001b[0m\u001b[30m█\u001b[0m\u001b[30m█\u001b[0m\u001b[30m█\u001b[0m\u001b[30m█\u001b[0m\u001b[30m█\u001b[0m\u001b[30m█\u001b[0m\u001b[30m█\u001b[0m\u001b[30m█\u001b[0m\u001b[30m█\u001b[0m\u001b[30m█\u001b[0m\u001b[30m█\u001b[0m\u001b[30m█\u001b[0m\u001b[30m█\u001b[0m\u001b[30m█\u001b[0m\u001b[30m█\u001b[0m|(756/10000) (0.02s avg time) ETA: ~04 min -  MSE (TRAIN) : \u001b[93m0.061559\u001b[0m, MSE (VAL) : \u001b[96m0.066861\u001b[0m -- BEST Val Loss : \u001b[92m0.060858\u001b[0m (at epoch 254) Eary Stopping in: 0001   \r"
     ]
    },
    {
     "name": "stderr",
     "output_type": "stream",
     "text": [
      "[I 2024-05-08 20:44:58,601] Trial 209 finished with value: 0.01821892149746418 and parameters: {'std': 0.0176, 'num_layers': 2, 'units_0': 176, 'units_1': 128, 'freezed_layer_from_right': 1}. Best is trial 206 with value: 0.017589986324310303.\n"
     ]
    },
    {
     "name": "stdout",
     "output_type": "stream",
     "text": [
      "|\u001b[92m█\u001b[0m\u001b[92m█\u001b[0m\u001b[92m█\u001b[0m\u001b[92m█\u001b[0m\u001b[92m█\u001b[0m\u001b[30m█\u001b[0m\u001b[30m█\u001b[0m\u001b[30m█\u001b[0m\u001b[30m█\u001b[0m\u001b[30m█\u001b[0m\u001b[30m█\u001b[0m\u001b[30m█\u001b[0m\u001b[30m█\u001b[0m\u001b[30m█\u001b[0m\u001b[30m█\u001b[0m\u001b[30m█\u001b[0m\u001b[30m█\u001b[0m\u001b[30m█\u001b[0m\u001b[30m█\u001b[0m\u001b[30m█\u001b[0m|(2511/10000) (0.02s avg time) ETA: ~03 min -  MSE (TRAIN) : \u001b[93m0.071045\u001b[0m, MSE (VAL) : \u001b[96m0.070985\u001b[0m -- BEST Val Loss : \u001b[92m0.069608\u001b[0m (at epoch 2009) Eary Stopping in: 0001   \r"
     ]
    },
    {
     "name": "stderr",
     "output_type": "stream",
     "text": [
      "[I 2024-05-08 20:49:28,502] Trial 210 finished with value: 0.02118496783077717 and parameters: {'std': 0.0161, 'num_layers': 2, 'units_0': 176, 'units_1': 128, 'freezed_layer_from_right': 1}. Best is trial 206 with value: 0.017589986324310303.\n"
     ]
    },
    {
     "name": "stdout",
     "output_type": "stream",
     "text": [
      "|\u001b[92m█\u001b[0m\u001b[92m█\u001b[0m\u001b[92m█\u001b[0m\u001b[92m█\u001b[0m\u001b[30m█\u001b[0m\u001b[30m█\u001b[0m\u001b[30m█\u001b[0m\u001b[30m█\u001b[0m\u001b[30m█\u001b[0m\u001b[30m█\u001b[0m\u001b[30m█\u001b[0m\u001b[30m█\u001b[0m\u001b[30m█\u001b[0m\u001b[30m█\u001b[0m\u001b[30m█\u001b[0m\u001b[30m█\u001b[0m\u001b[30m█\u001b[0m\u001b[30m█\u001b[0m\u001b[30m█\u001b[0m\u001b[30m█\u001b[0m|(2121/10000) (0.02s avg time) ETA: ~03 min -  MSE (TRAIN) : \u001b[93m0.078583\u001b[0m, MSE (VAL) : \u001b[96m0.082083\u001b[0m -- BEST Val Loss : \u001b[92m0.078217\u001b[0m (at epoch 1619) Eary Stopping in: 0001   \r"
     ]
    },
    {
     "name": "stderr",
     "output_type": "stream",
     "text": [
      "[I 2024-05-08 20:52:55,794] Trial 211 finished with value: 0.024843689054250717 and parameters: {'std': 0.0181, 'num_layers': 2, 'units_0': 176, 'units_1': 128, 'freezed_layer_from_right': 1}. Best is trial 206 with value: 0.017589986324310303.\n"
     ]
    },
    {
     "name": "stdout",
     "output_type": "stream",
     "text": [
      "|\u001b[92m█\u001b[0m\u001b[92m█\u001b[0m\u001b[92m█\u001b[0m\u001b[92m█\u001b[0m\u001b[30m█\u001b[0m\u001b[30m█\u001b[0m\u001b[30m█\u001b[0m\u001b[30m█\u001b[0m\u001b[30m█\u001b[0m\u001b[30m█\u001b[0m\u001b[30m█\u001b[0m\u001b[30m█\u001b[0m\u001b[30m█\u001b[0m\u001b[30m█\u001b[0m\u001b[30m█\u001b[0m\u001b[30m█\u001b[0m\u001b[30m█\u001b[0m\u001b[30m█\u001b[0m\u001b[30m█\u001b[0m\u001b[30m█\u001b[0m|(2436/10000) (0.02s avg time) ETA: ~04 min -  MSE (TRAIN) : \u001b[93m0.089299\u001b[0m, MSE (VAL) : \u001b[96m0.096789\u001b[0m -- BEST Val Loss : \u001b[92m0.082849\u001b[0m (at epoch 1934) Eary Stopping in: 0001   \r"
     ]
    },
    {
     "name": "stderr",
     "output_type": "stream",
     "text": [
      "[I 2024-05-08 20:55:05,711] Trial 212 finished with value: 0.02272915653884411 and parameters: {'std': 0.022099999999999998, 'num_layers': 2, 'units_0': 176, 'units_1': 128, 'freezed_layer_from_right': 1}. Best is trial 206 with value: 0.017589986324310303.\n"
     ]
    },
    {
     "name": "stdout",
     "output_type": "stream",
     "text": [
      "|\u001b[92m█\u001b[0m\u001b[92m█\u001b[0m\u001b[30m█\u001b[0m\u001b[30m█\u001b[0m\u001b[30m█\u001b[0m\u001b[30m█\u001b[0m\u001b[30m█\u001b[0m\u001b[30m█\u001b[0m\u001b[30m█\u001b[0m\u001b[30m█\u001b[0m\u001b[30m█\u001b[0m\u001b[30m█\u001b[0m\u001b[30m█\u001b[0m\u001b[30m█\u001b[0m\u001b[30m█\u001b[0m\u001b[30m█\u001b[0m\u001b[30m█\u001b[0m\u001b[30m█\u001b[0m\u001b[30m█\u001b[0m\u001b[30m█\u001b[0m|(1437/10000) (0.02s avg time) ETA: ~04 min -  MSE (TRAIN) : \u001b[93m0.063462\u001b[0m, MSE (VAL) : \u001b[96m0.065005\u001b[0m -- BEST Val Loss : \u001b[92m0.063853\u001b[0m (at epoch 935) Eary Stopping in: 0001   \r"
     ]
    },
    {
     "name": "stderr",
     "output_type": "stream",
     "text": [
      "[I 2024-05-08 20:59:27,451] Trial 213 finished with value: 0.02021051198244095 and parameters: {'std': 0.0146, 'num_layers': 2, 'units_0': 176, 'units_1': 144, 'freezed_layer_from_right': 1}. Best is trial 206 with value: 0.017589986324310303.\n"
     ]
    },
    {
     "name": "stdout",
     "output_type": "stream",
     "text": [
      "|\u001b[92m█\u001b[0m\u001b[92m█\u001b[0m\u001b[30m█\u001b[0m\u001b[30m█\u001b[0m\u001b[30m█\u001b[0m\u001b[30m█\u001b[0m\u001b[30m█\u001b[0m\u001b[30m█\u001b[0m\u001b[30m█\u001b[0m\u001b[30m█\u001b[0m\u001b[30m█\u001b[0m\u001b[30m█\u001b[0m\u001b[30m█\u001b[0m\u001b[30m█\u001b[0m\u001b[30m█\u001b[0m\u001b[30m█\u001b[0m\u001b[30m█\u001b[0m\u001b[30m█\u001b[0m\u001b[30m█\u001b[0m\u001b[30m█\u001b[0m|(1334/10000) (0.02s avg time) ETA: ~04 min -  MSE (TRAIN) : \u001b[93m0.063207\u001b[0m, MSE (VAL) : \u001b[96m0.065908\u001b[0m -- BEST Val Loss : \u001b[92m0.063096\u001b[0m (at epoch 832) Eary Stopping in: 0001   \r"
     ]
    },
    {
     "name": "stderr",
     "output_type": "stream",
     "text": [
      "[I 2024-05-08 21:03:47,101] Trial 214 finished with value: 0.01926816999912262 and parameters: {'std': 0.0171, 'num_layers': 2, 'units_0': 160, 'units_1': 128, 'freezed_layer_from_right': 1}. Best is trial 206 with value: 0.017589986324310303.\n"
     ]
    },
    {
     "name": "stdout",
     "output_type": "stream",
     "text": [
      "|\u001b[92m█\u001b[0m\u001b[92m█\u001b[0m\u001b[92m█\u001b[0m\u001b[30m█\u001b[0m\u001b[30m█\u001b[0m\u001b[30m█\u001b[0m\u001b[30m█\u001b[0m\u001b[30m█\u001b[0m\u001b[30m█\u001b[0m\u001b[30m█\u001b[0m\u001b[30m█\u001b[0m\u001b[30m█\u001b[0m\u001b[30m█\u001b[0m\u001b[30m█\u001b[0m\u001b[30m█\u001b[0m\u001b[30m█\u001b[0m\u001b[30m█\u001b[0m\u001b[30m█\u001b[0m\u001b[30m█\u001b[0m\u001b[30m█\u001b[0m|(1579/10000) (0.02s avg time) ETA: ~04 min -  MSE (TRAIN) : \u001b[93m0.067968\u001b[0m, MSE (VAL) : \u001b[96m0.070117\u001b[0m -- BEST Val Loss : \u001b[92m0.066808\u001b[0m (at epoch 1077) Eary Stopping in: 0001   \r"
     ]
    },
    {
     "name": "stderr",
     "output_type": "stream",
     "text": [
      "[I 2024-05-08 21:08:14,188] Trial 215 finished with value: 0.020655030384659767 and parameters: {'std': 0.0121, 'num_layers': 2, 'units_0': 160, 'units_1': 128, 'freezed_layer_from_right': 1}. Best is trial 206 with value: 0.017589986324310303.\n"
     ]
    },
    {
     "name": "stdout",
     "output_type": "stream",
     "text": [
      "|\u001b[92m█\u001b[0m\u001b[92m█\u001b[0m\u001b[30m█\u001b[0m\u001b[30m█\u001b[0m\u001b[30m█\u001b[0m\u001b[30m█\u001b[0m\u001b[30m█\u001b[0m\u001b[30m█\u001b[0m\u001b[30m█\u001b[0m\u001b[30m█\u001b[0m\u001b[30m█\u001b[0m\u001b[30m█\u001b[0m\u001b[30m█\u001b[0m\u001b[30m█\u001b[0m\u001b[30m█\u001b[0m\u001b[30m█\u001b[0m\u001b[30m█\u001b[0m\u001b[30m█\u001b[0m\u001b[30m█\u001b[0m\u001b[30m█\u001b[0m|(1459/10000) (0.02s avg time) ETA: ~04 min -  MSE (TRAIN) : \u001b[93m0.063896\u001b[0m, MSE (VAL) : \u001b[96m0.064174\u001b[0m -- BEST Val Loss : \u001b[92m0.063793\u001b[0m (at epoch 957) Eary Stopping in: 0001   \r"
     ]
    },
    {
     "name": "stderr",
     "output_type": "stream",
     "text": [
      "[I 2024-05-08 21:12:36,511] Trial 216 finished with value: 0.021137692034244537 and parameters: {'std': 0.0171, 'num_layers': 2, 'units_0': 176, 'units_1': 128, 'freezed_layer_from_right': 1}. Best is trial 206 with value: 0.017589986324310303.\n"
     ]
    },
    {
     "name": "stdout",
     "output_type": "stream",
     "text": [
      "|\u001b[92m█\u001b[0m\u001b[92m█\u001b[0m\u001b[92m█\u001b[0m\u001b[30m█\u001b[0m\u001b[30m█\u001b[0m\u001b[30m█\u001b[0m\u001b[30m█\u001b[0m\u001b[30m█\u001b[0m\u001b[30m█\u001b[0m\u001b[30m█\u001b[0m\u001b[30m█\u001b[0m\u001b[30m█\u001b[0m\u001b[30m█\u001b[0m\u001b[30m█\u001b[0m\u001b[30m█\u001b[0m\u001b[30m█\u001b[0m\u001b[30m█\u001b[0m\u001b[30m█\u001b[0m\u001b[30m█\u001b[0m\u001b[30m█\u001b[0m|(1768/10000) (0.02s avg time) ETA: ~04 min -  MSE (TRAIN) : \u001b[93m0.086977\u001b[0m, MSE (VAL) : \u001b[96m0.089023\u001b[0m -- BEST Val Loss : \u001b[92m0.083437\u001b[0m (at epoch 1266) Eary Stopping in: 0001   \r"
     ]
    },
    {
     "name": "stderr",
     "output_type": "stream",
     "text": [
      "[I 2024-05-08 21:15:23,841] Trial 217 finished with value: 0.021034834906458855 and parameters: {'std': 0.0206, 'num_layers': 2, 'units_0': 160, 'units_1': 128, 'freezed_layer_from_right': 1}. Best is trial 206 with value: 0.017589986324310303.\n"
     ]
    },
    {
     "name": "stdout",
     "output_type": "stream",
     "text": [
      "|\u001b[92m█\u001b[0m\u001b[92m█\u001b[0m\u001b[30m█\u001b[0m\u001b[30m█\u001b[0m\u001b[30m█\u001b[0m\u001b[30m█\u001b[0m\u001b[30m█\u001b[0m\u001b[30m█\u001b[0m\u001b[30m█\u001b[0m\u001b[30m█\u001b[0m\u001b[30m█\u001b[0m\u001b[30m█\u001b[0m\u001b[30m█\u001b[0m\u001b[30m█\u001b[0m\u001b[30m█\u001b[0m\u001b[30m█\u001b[0m\u001b[30m█\u001b[0m\u001b[30m█\u001b[0m\u001b[30m█\u001b[0m\u001b[30m█\u001b[0m|(1175/10000) (0.02s avg time) ETA: ~04 min -  MSE (TRAIN) : \u001b[93m0.060867\u001b[0m, MSE (VAL) : \u001b[96m0.062630\u001b[0m -- BEST Val Loss : \u001b[92m0.060958\u001b[0m (at epoch 673) Eary Stopping in: 0001   \r"
     ]
    },
    {
     "name": "stderr",
     "output_type": "stream",
     "text": [
      "[I 2024-05-08 21:19:43,859] Trial 218 finished with value: 0.02135339379310608 and parameters: {'std': 0.0141, 'num_layers': 2, 'units_0': 176, 'units_1': 144, 'freezed_layer_from_right': 1}. Best is trial 206 with value: 0.017589986324310303.\n"
     ]
    },
    {
     "name": "stdout",
     "output_type": "stream",
     "text": [
      "|\u001b[92m█\u001b[0m\u001b[30m█\u001b[0m\u001b[30m█\u001b[0m\u001b[30m█\u001b[0m\u001b[30m█\u001b[0m\u001b[30m█\u001b[0m\u001b[30m█\u001b[0m\u001b[30m█\u001b[0m\u001b[30m█\u001b[0m\u001b[30m█\u001b[0m\u001b[30m█\u001b[0m\u001b[30m█\u001b[0m\u001b[30m█\u001b[0m\u001b[30m█\u001b[0m\u001b[30m█\u001b[0m\u001b[30m█\u001b[0m\u001b[30m█\u001b[0m\u001b[30m█\u001b[0m\u001b[30m█\u001b[0m\u001b[30m█\u001b[0m|(779/10000) (0.02s avg time) ETA: ~04 min -  MSE (TRAIN) : \u001b[93m0.057106\u001b[0m, MSE (VAL) : \u001b[96m0.058049\u001b[0m -- BEST Val Loss : \u001b[92m0.052815\u001b[0m (at epoch 277) Eary Stopping in: 0001   \r"
     ]
    },
    {
     "name": "stderr",
     "output_type": "stream",
     "text": [
      "[I 2024-05-08 21:23:28,842] Trial 219 finished with value: 0.018833287060260773 and parameters: {'std': 0.0231, 'num_layers': 2, 'units_0': 160, 'units_1': 144, 'freezed_layer_from_right': 1}. Best is trial 206 with value: 0.017589986324310303.\n"
     ]
    },
    {
     "name": "stdout",
     "output_type": "stream",
     "text": [
      "|\u001b[92m█\u001b[0m\u001b[30m█\u001b[0m\u001b[30m█\u001b[0m\u001b[30m█\u001b[0m\u001b[30m█\u001b[0m\u001b[30m█\u001b[0m\u001b[30m█\u001b[0m\u001b[30m█\u001b[0m\u001b[30m█\u001b[0m\u001b[30m█\u001b[0m\u001b[30m█\u001b[0m\u001b[30m█\u001b[0m\u001b[30m█\u001b[0m\u001b[30m█\u001b[0m\u001b[30m█\u001b[0m\u001b[30m█\u001b[0m\u001b[30m█\u001b[0m\u001b[30m█\u001b[0m\u001b[30m█\u001b[0m\u001b[30m█\u001b[0m|(995/10000) (0.02s avg time) ETA: ~04 min -  MSE (TRAIN) : \u001b[93m0.038305\u001b[0m, MSE (VAL) : \u001b[96m0.050165\u001b[0m -- BEST Val Loss : \u001b[92m0.036554\u001b[0m (at epoch 493) Eary Stopping in: 0001   \r"
     ]
    },
    {
     "name": "stderr",
     "output_type": "stream",
     "text": [
      "[I 2024-05-08 21:24:35,538] Trial 220 finished with value: 0.024196313694119453 and parameters: {'std': 0.048100000000000004, 'num_layers': 2, 'units_0': 176, 'units_1': 144, 'freezed_layer_from_right': 1}. Best is trial 206 with value: 0.017589986324310303.\n"
     ]
    },
    {
     "name": "stdout",
     "output_type": "stream",
     "text": [
      "|\u001b[92m█\u001b[0m\u001b[92m█\u001b[0m\u001b[92m█\u001b[0m\u001b[92m█\u001b[0m\u001b[30m█\u001b[0m\u001b[30m█\u001b[0m\u001b[30m█\u001b[0m\u001b[30m█\u001b[0m\u001b[30m█\u001b[0m\u001b[30m█\u001b[0m\u001b[30m█\u001b[0m\u001b[30m█\u001b[0m\u001b[30m█\u001b[0m\u001b[30m█\u001b[0m\u001b[30m█\u001b[0m\u001b[30m█\u001b[0m\u001b[30m█\u001b[0m\u001b[30m█\u001b[0m\u001b[30m█\u001b[0m\u001b[30m█\u001b[0m|(2139/10000) (0.02s avg time) ETA: ~03 min -  MSE (TRAIN) : \u001b[93m0.078687\u001b[0m, MSE (VAL) : \u001b[96m0.086340\u001b[0m -- BEST Val Loss : \u001b[92m0.077558\u001b[0m (at epoch 1637) Eary Stopping in: 0001   \r"
     ]
    },
    {
     "name": "stderr",
     "output_type": "stream",
     "text": [
      "[I 2024-05-08 21:26:52,689] Trial 221 finished with value: 0.02033894695341587 and parameters: {'std': 0.0231, 'num_layers': 2, 'units_0': 160, 'units_1': 144, 'freezed_layer_from_right': 1}. Best is trial 206 with value: 0.017589986324310303.\n"
     ]
    },
    {
     "name": "stdout",
     "output_type": "stream",
     "text": [
      "|\u001b[92m█\u001b[0m\u001b[92m█\u001b[0m\u001b[92m█\u001b[0m\u001b[92m█\u001b[0m\u001b[92m█\u001b[0m\u001b[30m█\u001b[0m\u001b[30m█\u001b[0m\u001b[30m█\u001b[0m\u001b[30m█\u001b[0m\u001b[30m█\u001b[0m\u001b[30m█\u001b[0m\u001b[30m█\u001b[0m\u001b[30m█\u001b[0m\u001b[30m█\u001b[0m\u001b[30m█\u001b[0m\u001b[30m█\u001b[0m\u001b[30m█\u001b[0m\u001b[30m█\u001b[0m\u001b[30m█\u001b[0m\u001b[30m█\u001b[0m|(2903/10000) (0.02s avg time) ETA: ~03 min -  MSE (TRAIN) : \u001b[93m0.090187\u001b[0m, MSE (VAL) : \u001b[96m0.074183\u001b[0m -- BEST Val Loss : \u001b[92m0.072653\u001b[0m (at epoch 2401) Eary Stopping in: 0001   \r"
     ]
    },
    {
     "name": "stderr",
     "output_type": "stream",
     "text": [
      "[I 2024-05-08 21:29:07,029] Trial 222 finished with value: 0.022290537133812904 and parameters: {'std': 0.0251, 'num_layers': 2, 'units_0': 160, 'units_1': 128, 'freezed_layer_from_right': 1}. Best is trial 206 with value: 0.017589986324310303.\n"
     ]
    },
    {
     "name": "stdout",
     "output_type": "stream",
     "text": [
      "|\u001b[92m█\u001b[0m\u001b[92m█\u001b[0m\u001b[30m█\u001b[0m\u001b[30m█\u001b[0m\u001b[30m█\u001b[0m\u001b[30m█\u001b[0m\u001b[30m█\u001b[0m\u001b[30m█\u001b[0m\u001b[30m█\u001b[0m\u001b[30m█\u001b[0m\u001b[30m█\u001b[0m\u001b[30m█\u001b[0m\u001b[30m█\u001b[0m\u001b[30m█\u001b[0m\u001b[30m█\u001b[0m\u001b[30m█\u001b[0m\u001b[30m█\u001b[0m\u001b[30m█\u001b[0m\u001b[30m█\u001b[0m\u001b[30m█\u001b[0m|(1130/10000) (0.02s avg time) ETA: ~04 min -  MSE (TRAIN) : \u001b[93m0.081657\u001b[0m, MSE (VAL) : \u001b[96m0.079923\u001b[0m -- BEST Val Loss : \u001b[92m0.079466\u001b[0m (at epoch 628) Eary Stopping in: 0001   \r"
     ]
    },
    {
     "name": "stderr",
     "output_type": "stream",
     "text": [
      "[I 2024-05-08 21:32:07,687] Trial 223 finished with value: 0.018807290121912956 and parameters: {'std': 0.0171, 'num_layers': 2, 'units_0': 160, 'units_1': 144, 'freezed_layer_from_right': 1}. Best is trial 206 with value: 0.017589986324310303.\n"
     ]
    },
    {
     "name": "stdout",
     "output_type": "stream",
     "text": [
      "|\u001b[92m█\u001b[0m\u001b[92m█\u001b[0m\u001b[92m█\u001b[0m\u001b[30m█\u001b[0m\u001b[30m█\u001b[0m\u001b[30m█\u001b[0m\u001b[30m█\u001b[0m\u001b[30m█\u001b[0m\u001b[30m█\u001b[0m\u001b[30m█\u001b[0m\u001b[30m█\u001b[0m\u001b[30m█\u001b[0m\u001b[30m█\u001b[0m\u001b[30m█\u001b[0m\u001b[30m█\u001b[0m\u001b[30m█\u001b[0m\u001b[30m█\u001b[0m\u001b[30m█\u001b[0m\u001b[30m█\u001b[0m\u001b[30m█\u001b[0m|(1532/10000) (0.02s avg time) ETA: ~04 min -  MSE (TRAIN) : \u001b[93m0.062685\u001b[0m, MSE (VAL) : \u001b[96m0.071136\u001b[0m -- BEST Val Loss : \u001b[92m0.062660\u001b[0m (at epoch 1030) Eary Stopping in: 0001   \r"
     ]
    },
    {
     "name": "stderr",
     "output_type": "stream",
     "text": [
      "[I 2024-05-08 21:36:31,931] Trial 224 finished with value: 0.02278074435889721 and parameters: {'std': 0.0191, 'num_layers': 2, 'units_0': 160, 'units_1': 144, 'freezed_layer_from_right': 1}. Best is trial 206 with value: 0.017589986324310303.\n"
     ]
    },
    {
     "name": "stdout",
     "output_type": "stream",
     "text": [
      "|\u001b[92m█\u001b[0m\u001b[92m█\u001b[0m\u001b[30m█\u001b[0m\u001b[30m█\u001b[0m\u001b[30m█\u001b[0m\u001b[30m█\u001b[0m\u001b[30m█\u001b[0m\u001b[30m█\u001b[0m\u001b[30m█\u001b[0m\u001b[30m█\u001b[0m\u001b[30m█\u001b[0m\u001b[30m█\u001b[0m\u001b[30m█\u001b[0m\u001b[30m█\u001b[0m\u001b[30m█\u001b[0m\u001b[30m█\u001b[0m\u001b[30m█\u001b[0m\u001b[30m█\u001b[0m\u001b[30m█\u001b[0m\u001b[30m█\u001b[0m|(1215/10000) (0.02s avg time) ETA: ~04 min -  MSE (TRAIN) : \u001b[93m0.063316\u001b[0m, MSE (VAL) : \u001b[96m0.065175\u001b[0m -- BEST Val Loss : \u001b[92m0.064089\u001b[0m (at epoch 713) Eary Stopping in: 0001   \r"
     ]
    },
    {
     "name": "stderr",
     "output_type": "stream",
     "text": [
      "[I 2024-05-08 21:40:48,391] Trial 225 finished with value: 0.018782421946525574 and parameters: {'std': 0.015099999999999999, 'num_layers': 2, 'units_0': 160, 'units_1': 144, 'freezed_layer_from_right': 1}. Best is trial 206 with value: 0.017589986324310303.\n"
     ]
    },
    {
     "name": "stdout",
     "output_type": "stream",
     "text": [
      "|\u001b[92m█\u001b[0m\u001b[92m█\u001b[0m\u001b[92m█\u001b[0m\u001b[30m█\u001b[0m\u001b[30m█\u001b[0m\u001b[30m█\u001b[0m\u001b[30m█\u001b[0m\u001b[30m█\u001b[0m\u001b[30m█\u001b[0m\u001b[30m█\u001b[0m\u001b[30m█\u001b[0m\u001b[30m█\u001b[0m\u001b[30m█\u001b[0m\u001b[30m█\u001b[0m\u001b[30m█\u001b[0m\u001b[30m█\u001b[0m\u001b[30m█\u001b[0m\u001b[30m█\u001b[0m\u001b[30m█\u001b[0m\u001b[30m█\u001b[0m|(1889/10000) (0.02s avg time) ETA: ~03 min -  MSE (TRAIN) : \u001b[93m0.090459\u001b[0m, MSE (VAL) : \u001b[96m0.085470\u001b[0m -- BEST Val Loss : \u001b[92m0.081989\u001b[0m (at epoch 1387) Eary Stopping in: 0001   \r"
     ]
    },
    {
     "name": "stderr",
     "output_type": "stream",
     "text": [
      "[I 2024-05-08 21:42:57,607] Trial 226 finished with value: 0.01836690679192543 and parameters: {'std': 0.0206, 'num_layers': 2, 'units_0': 160, 'units_1': 144, 'freezed_layer_from_right': 1}. Best is trial 206 with value: 0.017589986324310303.\n"
     ]
    },
    {
     "name": "stdout",
     "output_type": "stream",
     "text": [
      "|\u001b[92m█\u001b[0m\u001b[92m█\u001b[0m\u001b[92m█\u001b[0m\u001b[30m█\u001b[0m\u001b[30m█\u001b[0m\u001b[30m█\u001b[0m\u001b[30m█\u001b[0m\u001b[30m█\u001b[0m\u001b[30m█\u001b[0m\u001b[30m█\u001b[0m\u001b[30m█\u001b[0m\u001b[30m█\u001b[0m\u001b[30m█\u001b[0m\u001b[30m█\u001b[0m\u001b[30m█\u001b[0m\u001b[30m█\u001b[0m\u001b[30m█\u001b[0m\u001b[30m█\u001b[0m\u001b[30m█\u001b[0m\u001b[30m█\u001b[0m|(1954/10000) (0.02s avg time) ETA: ~03 min -  MSE (TRAIN) : \u001b[93m0.087663\u001b[0m, MSE (VAL) : \u001b[96m0.087549\u001b[0m -- BEST Val Loss : \u001b[92m0.082710\u001b[0m (at epoch 1452) Eary Stopping in: 0001   \r"
     ]
    },
    {
     "name": "stderr",
     "output_type": "stream",
     "text": [
      "[I 2024-05-08 21:44:51,895] Trial 227 finished with value: 0.01940583437681198 and parameters: {'std': 0.0211, 'num_layers': 2, 'units_0': 176, 'units_1': 144, 'freezed_layer_from_right': 1}. Best is trial 206 with value: 0.017589986324310303.\n"
     ]
    },
    {
     "name": "stdout",
     "output_type": "stream",
     "text": [
      "|\u001b[92m█\u001b[0m\u001b[92m█\u001b[0m\u001b[92m█\u001b[0m\u001b[92m█\u001b[0m\u001b[92m█\u001b[0m\u001b[30m█\u001b[0m\u001b[30m█\u001b[0m\u001b[30m█\u001b[0m\u001b[30m█\u001b[0m\u001b[30m█\u001b[0m\u001b[30m█\u001b[0m\u001b[30m█\u001b[0m\u001b[30m█\u001b[0m\u001b[30m█\u001b[0m\u001b[30m█\u001b[0m\u001b[30m█\u001b[0m\u001b[30m█\u001b[0m\u001b[30m█\u001b[0m\u001b[30m█\u001b[0m\u001b[30m█\u001b[0m|(2694/10000) (0.02s avg time) ETA: ~03 min -  MSE (TRAIN) : \u001b[93m0.085148\u001b[0m, MSE (VAL) : \u001b[96m0.083583\u001b[0m -- BEST Val Loss : \u001b[92m0.077555\u001b[0m (at epoch 2192) Eary Stopping in: 0001   \r"
     ]
    },
    {
     "name": "stderr",
     "output_type": "stream",
     "text": [
      "[I 2024-05-08 21:46:52,078] Trial 228 finished with value: 0.01814328506588936 and parameters: {'std': 0.0246, 'num_layers': 2, 'units_0': 160, 'units_1': 144, 'freezed_layer_from_right': 1}. Best is trial 206 with value: 0.017589986324310303.\n"
     ]
    },
    {
     "name": "stdout",
     "output_type": "stream",
     "text": [
      "|\u001b[92m█\u001b[0m\u001b[92m█\u001b[0m\u001b[30m█\u001b[0m\u001b[30m█\u001b[0m\u001b[30m█\u001b[0m\u001b[30m█\u001b[0m\u001b[30m█\u001b[0m\u001b[30m█\u001b[0m\u001b[30m█\u001b[0m\u001b[30m█\u001b[0m\u001b[30m█\u001b[0m\u001b[30m█\u001b[0m\u001b[30m█\u001b[0m\u001b[30m█\u001b[0m\u001b[30m█\u001b[0m\u001b[30m█\u001b[0m\u001b[30m█\u001b[0m\u001b[30m█\u001b[0m\u001b[30m█\u001b[0m\u001b[30m█\u001b[0m|(1308/10000) (0.02s avg time) ETA: ~04 min -  MSE (TRAIN) : \u001b[93m0.058364\u001b[0m, MSE (VAL) : \u001b[96m0.059502\u001b[0m -- BEST Val Loss : \u001b[92m0.058485\u001b[0m (at epoch 806) Eary Stopping in: 0001   \r"
     ]
    },
    {
     "name": "stderr",
     "output_type": "stream",
     "text": [
      "[I 2024-05-08 21:51:12,582] Trial 229 finished with value: 0.01922106370329857 and parameters: {'std': 0.0171, 'num_layers': 2, 'units_0': 160, 'units_1': 144, 'freezed_layer_from_right': 1}. Best is trial 206 with value: 0.017589986324310303.\n"
     ]
    },
    {
     "name": "stdout",
     "output_type": "stream",
     "text": [
      "|\u001b[92m█\u001b[0m\u001b[30m█\u001b[0m\u001b[30m█\u001b[0m\u001b[30m█\u001b[0m\u001b[30m█\u001b[0m\u001b[30m█\u001b[0m\u001b[30m█\u001b[0m\u001b[30m█\u001b[0m\u001b[30m█\u001b[0m\u001b[30m█\u001b[0m\u001b[30m█\u001b[0m\u001b[30m█\u001b[0m\u001b[30m█\u001b[0m\u001b[30m█\u001b[0m\u001b[30m█\u001b[0m\u001b[30m█\u001b[0m\u001b[30m█\u001b[0m\u001b[30m█\u001b[0m\u001b[30m█\u001b[0m\u001b[30m█\u001b[0m|(999/10000) (0.02s avg time) ETA: ~04 min -  MSE (TRAIN) : \u001b[93m0.094832\u001b[0m, MSE (VAL) : \u001b[96m0.066143\u001b[0m -- BEST Val Loss : \u001b[92m0.062511\u001b[0m (at epoch 497) Eary Stopping in: 0001   \r"
     ]
    },
    {
     "name": "stderr",
     "output_type": "stream",
     "text": [
      "[I 2024-05-08 21:52:42,977] Trial 230 finished with value: 0.021889835596084595 and parameters: {'std': 0.0276, 'num_layers': 2, 'units_0': 160, 'units_1': 144, 'freezed_layer_from_right': 1}. Best is trial 206 with value: 0.017589986324310303.\n"
     ]
    },
    {
     "name": "stdout",
     "output_type": "stream",
     "text": [
      "|\u001b[92m█\u001b[0m\u001b[92m█\u001b[0m\u001b[92m█\u001b[0m\u001b[92m█\u001b[0m\u001b[92m█\u001b[0m\u001b[30m█\u001b[0m\u001b[30m█\u001b[0m\u001b[30m█\u001b[0m\u001b[30m█\u001b[0m\u001b[30m█\u001b[0m\u001b[30m█\u001b[0m\u001b[30m█\u001b[0m\u001b[30m█\u001b[0m\u001b[30m█\u001b[0m\u001b[30m█\u001b[0m\u001b[30m█\u001b[0m\u001b[30m█\u001b[0m\u001b[30m█\u001b[0m\u001b[30m█\u001b[0m\u001b[30m█\u001b[0m|(2844/10000) (0.02s avg time) ETA: ~03 min -  MSE (TRAIN) : \u001b[93m0.079968\u001b[0m, MSE (VAL) : \u001b[96m0.072058\u001b[0m -- BEST Val Loss : \u001b[92m0.070732\u001b[0m (at epoch 2342) Eary Stopping in: 0001   \r"
     ]
    },
    {
     "name": "stderr",
     "output_type": "stream",
     "text": [
      "[I 2024-05-08 21:55:18,368] Trial 231 finished with value: 0.022534722462296486 and parameters: {'std': 0.0241, 'num_layers': 2, 'units_0': 160, 'units_1': 144, 'freezed_layer_from_right': 1}. Best is trial 206 with value: 0.017589986324310303.\n"
     ]
    },
    {
     "name": "stdout",
     "output_type": "stream",
     "text": [
      "|\u001b[92m█\u001b[0m\u001b[92m█\u001b[0m\u001b[92m█\u001b[0m\u001b[30m█\u001b[0m\u001b[30m█\u001b[0m\u001b[30m█\u001b[0m\u001b[30m█\u001b[0m\u001b[30m█\u001b[0m\u001b[30m█\u001b[0m\u001b[30m█\u001b[0m\u001b[30m█\u001b[0m\u001b[30m█\u001b[0m\u001b[30m█\u001b[0m\u001b[30m█\u001b[0m\u001b[30m█\u001b[0m\u001b[30m█\u001b[0m\u001b[30m█\u001b[0m\u001b[30m█\u001b[0m\u001b[30m█\u001b[0m\u001b[30m█\u001b[0m|(1608/10000) (0.02s avg time) ETA: ~04 min -  MSE (TRAIN) : \u001b[93m0.085491\u001b[0m, MSE (VAL) : \u001b[96m0.098524\u001b[0m -- BEST Val Loss : \u001b[92m0.081597\u001b[0m (at epoch 1106) Eary Stopping in: 0001   \r"
     ]
    },
    {
     "name": "stderr",
     "output_type": "stream",
     "text": [
      "[I 2024-05-08 21:56:44,872] Trial 232 finished with value: 0.020504575222730637 and parameters: {'std': 0.0226, 'num_layers': 2, 'units_0': 160, 'units_1': 144, 'freezed_layer_from_right': 1}. Best is trial 206 with value: 0.017589986324310303.\n"
     ]
    },
    {
     "name": "stdout",
     "output_type": "stream",
     "text": [
      "|\u001b[92m█\u001b[0m\u001b[92m█\u001b[0m\u001b[30m█\u001b[0m\u001b[30m█\u001b[0m\u001b[30m█\u001b[0m\u001b[30m█\u001b[0m\u001b[30m█\u001b[0m\u001b[30m█\u001b[0m\u001b[30m█\u001b[0m\u001b[30m█\u001b[0m\u001b[30m█\u001b[0m\u001b[30m█\u001b[0m\u001b[30m█\u001b[0m\u001b[30m█\u001b[0m\u001b[30m█\u001b[0m\u001b[30m█\u001b[0m\u001b[30m█\u001b[0m\u001b[30m█\u001b[0m\u001b[30m█\u001b[0m\u001b[30m█\u001b[0m|(1407/10000) (0.02s avg time) ETA: ~03 min -  MSE (TRAIN) : \u001b[93m0.068390\u001b[0m, MSE (VAL) : \u001b[96m0.071133\u001b[0m -- BEST Val Loss : \u001b[92m0.068817\u001b[0m (at epoch 905) Eary Stopping in: 0001   \r"
     ]
    },
    {
     "name": "stderr",
     "output_type": "stream",
     "text": [
      "[I 2024-05-08 22:01:04,095] Trial 233 finished with value: 0.023464269936084747 and parameters: {'std': 0.0206, 'num_layers': 2, 'units_0': 16, 'units_1': 160, 'freezed_layer_from_right': 1}. Best is trial 206 with value: 0.017589986324310303.\n"
     ]
    },
    {
     "name": "stdout",
     "output_type": "stream",
     "text": [
      "|\u001b[92m█\u001b[0m\u001b[92m█\u001b[0m\u001b[92m█\u001b[0m\u001b[30m█\u001b[0m\u001b[30m█\u001b[0m\u001b[30m█\u001b[0m\u001b[30m█\u001b[0m\u001b[30m█\u001b[0m\u001b[30m█\u001b[0m\u001b[30m█\u001b[0m\u001b[30m█\u001b[0m\u001b[30m█\u001b[0m\u001b[30m█\u001b[0m\u001b[30m█\u001b[0m\u001b[30m█\u001b[0m\u001b[30m█\u001b[0m\u001b[30m█\u001b[0m\u001b[30m█\u001b[0m\u001b[30m█\u001b[0m\u001b[30m█\u001b[0m|(1642/10000) (0.02s avg time) ETA: ~04 min -  MSE (TRAIN) : \u001b[93m0.102747\u001b[0m, MSE (VAL) : \u001b[96m0.075471\u001b[0m -- BEST Val Loss : \u001b[92m0.068923\u001b[0m (at epoch 1140) Eary Stopping in: 0001   \r"
     ]
    },
    {
     "name": "stderr",
     "output_type": "stream",
     "text": [
      "[I 2024-05-08 22:02:47,685] Trial 234 finished with value: 0.0258979219943285 and parameters: {'std': 0.0266, 'num_layers': 2, 'units_0': 112, 'units_1': 144, 'freezed_layer_from_right': 1}. Best is trial 206 with value: 0.017589986324310303.\n"
     ]
    },
    {
     "name": "stdout",
     "output_type": "stream",
     "text": [
      "|\u001b[92m█\u001b[0m\u001b[92m█\u001b[0m\u001b[92m█\u001b[0m\u001b[30m█\u001b[0m\u001b[30m█\u001b[0m\u001b[30m█\u001b[0m\u001b[30m█\u001b[0m\u001b[30m█\u001b[0m\u001b[30m█\u001b[0m\u001b[30m█\u001b[0m\u001b[30m█\u001b[0m\u001b[30m█\u001b[0m\u001b[30m█\u001b[0m\u001b[30m█\u001b[0m\u001b[30m█\u001b[0m\u001b[30m█\u001b[0m\u001b[30m█\u001b[0m\u001b[30m█\u001b[0m\u001b[30m█\u001b[0m\u001b[30m█\u001b[0m|(1682/10000) (0.02s avg time) ETA: ~04 min -  MSE (TRAIN) : \u001b[93m0.064659\u001b[0m, MSE (VAL) : \u001b[96m0.064337\u001b[0m -- BEST Val Loss : \u001b[92m0.063733\u001b[0m (at epoch 1180) Eary Stopping in: 0001   \r"
     ]
    },
    {
     "name": "stderr",
     "output_type": "stream",
     "text": [
      "[I 2024-05-08 22:07:16,057] Trial 235 finished with value: 0.01849355548620224 and parameters: {'std': 0.0161, 'num_layers': 2, 'units_0': 160, 'units_1': 144, 'freezed_layer_from_right': 1}. Best is trial 206 with value: 0.017589986324310303.\n"
     ]
    },
    {
     "name": "stdout",
     "output_type": "stream",
     "text": [
      "|\u001b[92m█\u001b[0m\u001b[30m█\u001b[0m\u001b[30m█\u001b[0m\u001b[30m█\u001b[0m\u001b[30m█\u001b[0m\u001b[30m█\u001b[0m\u001b[30m█\u001b[0m\u001b[30m█\u001b[0m\u001b[30m█\u001b[0m\u001b[30m█\u001b[0m\u001b[30m█\u001b[0m\u001b[30m█\u001b[0m\u001b[30m█\u001b[0m\u001b[30m█\u001b[0m\u001b[30m█\u001b[0m\u001b[30m█\u001b[0m\u001b[30m█\u001b[0m\u001b[30m█\u001b[0m\u001b[30m█\u001b[0m\u001b[30m█\u001b[0m|(860/10000) (0.02s avg time) ETA: ~04 min -  MSE (TRAIN) : \u001b[93m0.063775\u001b[0m, MSE (VAL) : \u001b[96m0.064336\u001b[0m -- BEST Val Loss : \u001b[92m0.063682\u001b[0m (at epoch 358) Eary Stopping in: 0001   \r"
     ]
    },
    {
     "name": "stderr",
     "output_type": "stream",
     "text": [
      "[I 2024-05-08 22:11:24,843] Trial 236 finished with value: 0.020353108644485474 and parameters: {'std': 0.0136, 'num_layers': 2, 'units_0': 160, 'units_1': 144, 'freezed_layer_from_right': 1}. Best is trial 206 with value: 0.017589986324310303.\n"
     ]
    },
    {
     "name": "stdout",
     "output_type": "stream",
     "text": [
      "|\u001b[92m█\u001b[0m\u001b[92m█\u001b[0m\u001b[92m█\u001b[0m\u001b[92m█\u001b[0m\u001b[30m█\u001b[0m\u001b[30m█\u001b[0m\u001b[30m█\u001b[0m\u001b[30m█\u001b[0m\u001b[30m█\u001b[0m\u001b[30m█\u001b[0m\u001b[30m█\u001b[0m\u001b[30m█\u001b[0m\u001b[30m█\u001b[0m\u001b[30m█\u001b[0m\u001b[30m█\u001b[0m\u001b[30m█\u001b[0m\u001b[30m█\u001b[0m\u001b[30m█\u001b[0m\u001b[30m█\u001b[0m\u001b[30m█\u001b[0m|(2227/10000) (0.02s avg time) ETA: ~03 min -  MSE (TRAIN) : \u001b[93m0.060396\u001b[0m, MSE (VAL) : \u001b[96m0.061115\u001b[0m -- BEST Val Loss : \u001b[92m0.057717\u001b[0m (at epoch 1725) Eary Stopping in: 0001   \r"
     ]
    },
    {
     "name": "stderr",
     "output_type": "stream",
     "text": [
      "[I 2024-05-08 22:16:04,173] Trial 237 finished with value: 0.018341198563575745 and parameters: {'std': 0.0161, 'num_layers': 2, 'units_0': 160, 'units_1': 144, 'freezed_layer_from_right': 1}. Best is trial 206 with value: 0.017589986324310303.\n"
     ]
    },
    {
     "name": "stdout",
     "output_type": "stream",
     "text": [
      "|\u001b[92m█\u001b[0m\u001b[92m█\u001b[0m\u001b[30m█\u001b[0m\u001b[30m█\u001b[0m\u001b[30m█\u001b[0m\u001b[30m█\u001b[0m\u001b[30m█\u001b[0m\u001b[30m█\u001b[0m\u001b[30m█\u001b[0m\u001b[30m█\u001b[0m\u001b[30m█\u001b[0m\u001b[30m█\u001b[0m\u001b[30m█\u001b[0m\u001b[30m█\u001b[0m\u001b[30m█\u001b[0m\u001b[30m█\u001b[0m\u001b[30m█\u001b[0m\u001b[30m█\u001b[0m\u001b[30m█\u001b[0m\u001b[30m█\u001b[0m|(1479/10000) (0.02s avg time) ETA: ~04 min -  MSE (TRAIN) : \u001b[93m0.116789\u001b[0m, MSE (VAL) : \u001b[96m0.113721\u001b[0m -- BEST Val Loss : \u001b[92m0.113108\u001b[0m (at epoch 977) Eary Stopping in: 0001   \r"
     ]
    },
    {
     "name": "stderr",
     "output_type": "stream",
     "text": [
      "[I 2024-05-08 22:17:45,842] Trial 238 finished with value: 0.02027112990617752 and parameters: {'std': 0.0161, 'num_layers': 2, 'units_0': 160, 'units_1': 144, 'freezed_layer_from_right': 1}. Best is trial 206 with value: 0.017589986324310303.\n"
     ]
    },
    {
     "name": "stdout",
     "output_type": "stream",
     "text": [
      "|\u001b[92m█\u001b[0m\u001b[92m█\u001b[0m\u001b[30m█\u001b[0m\u001b[30m█\u001b[0m\u001b[30m█\u001b[0m\u001b[30m█\u001b[0m\u001b[30m█\u001b[0m\u001b[30m█\u001b[0m\u001b[30m█\u001b[0m\u001b[30m█\u001b[0m\u001b[30m█\u001b[0m\u001b[30m█\u001b[0m\u001b[30m█\u001b[0m\u001b[30m█\u001b[0m\u001b[30m█\u001b[0m\u001b[30m█\u001b[0m\u001b[30m█\u001b[0m\u001b[30m█\u001b[0m\u001b[30m█\u001b[0m\u001b[30m█\u001b[0m|(1317/10000) (0.02s avg time) ETA: ~04 min -  MSE (TRAIN) : \u001b[93m0.063683\u001b[0m, MSE (VAL) : \u001b[96m0.064030\u001b[0m -- BEST Val Loss : \u001b[92m0.063768\u001b[0m (at epoch 815) Eary Stopping in: 0001   \r"
     ]
    },
    {
     "name": "stderr",
     "output_type": "stream",
     "text": [
      "[I 2024-05-08 22:22:07,127] Trial 239 finished with value: 0.021898286417126656 and parameters: {'std': 0.0131, 'num_layers': 2, 'units_0': 144, 'units_1': 144, 'freezed_layer_from_right': 1}. Best is trial 206 with value: 0.017589986324310303.\n"
     ]
    },
    {
     "name": "stdout",
     "output_type": "stream",
     "text": [
      "|\u001b[92m█\u001b[0m\u001b[92m█\u001b[0m\u001b[30m█\u001b[0m\u001b[30m█\u001b[0m\u001b[30m█\u001b[0m\u001b[30m█\u001b[0m\u001b[30m█\u001b[0m\u001b[30m█\u001b[0m\u001b[30m█\u001b[0m\u001b[30m█\u001b[0m\u001b[30m█\u001b[0m\u001b[30m█\u001b[0m\u001b[30m█\u001b[0m\u001b[30m█\u001b[0m\u001b[30m█\u001b[0m\u001b[30m█\u001b[0m\u001b[30m█\u001b[0m\u001b[30m█\u001b[0m\u001b[30m█\u001b[0m\u001b[30m█\u001b[0m|(1341/10000) (0.02s avg time) ETA: ~04 min -  MSE (TRAIN) : \u001b[93m0.057355\u001b[0m, MSE (VAL) : \u001b[96m0.058536\u001b[0m -- BEST Val Loss : \u001b[92m0.057328\u001b[0m (at epoch 839) Eary Stopping in: 0001   \r"
     ]
    },
    {
     "name": "stderr",
     "output_type": "stream",
     "text": [
      "[I 2024-05-08 22:26:26,108] Trial 240 finished with value: 0.02075878158211708 and parameters: {'std': 0.015099999999999999, 'num_layers': 2, 'units_0': 160, 'units_1': 144, 'freezed_layer_from_right': 1}. Best is trial 206 with value: 0.017589986324310303.\n"
     ]
    },
    {
     "name": "stdout",
     "output_type": "stream",
     "text": [
      "|\u001b[92m█\u001b[0m\u001b[30m█\u001b[0m\u001b[30m█\u001b[0m\u001b[30m█\u001b[0m\u001b[30m█\u001b[0m\u001b[30m█\u001b[0m\u001b[30m█\u001b[0m\u001b[30m█\u001b[0m\u001b[30m█\u001b[0m\u001b[30m█\u001b[0m\u001b[30m█\u001b[0m\u001b[30m█\u001b[0m\u001b[30m█\u001b[0m\u001b[30m█\u001b[0m\u001b[30m█\u001b[0m\u001b[30m█\u001b[0m\u001b[30m█\u001b[0m\u001b[30m█\u001b[0m\u001b[30m█\u001b[0m\u001b[30m█\u001b[0m|(976/10000) (0.02s avg time) ETA: ~04 min -  MSE (TRAIN) : \u001b[93m0.062966\u001b[0m, MSE (VAL) : \u001b[96m0.064231\u001b[0m -- BEST Val Loss : \u001b[92m0.062826\u001b[0m (at epoch 474) Eary Stopping in: 0001   \r"
     ]
    },
    {
     "name": "stderr",
     "output_type": "stream",
     "text": [
      "[I 2024-05-08 22:30:38,268] Trial 241 finished with value: 0.018614647909998894 and parameters: {'std': 0.0176, 'num_layers': 2, 'units_0': 160, 'units_1': 144, 'freezed_layer_from_right': 1}. Best is trial 206 with value: 0.017589986324310303.\n"
     ]
    },
    {
     "name": "stdout",
     "output_type": "stream",
     "text": [
      "|\u001b[92m█\u001b[0m\u001b[92m█\u001b[0m\u001b[30m█\u001b[0m\u001b[30m█\u001b[0m\u001b[30m█\u001b[0m\u001b[30m█\u001b[0m\u001b[30m█\u001b[0m\u001b[30m█\u001b[0m\u001b[30m█\u001b[0m\u001b[30m█\u001b[0m\u001b[30m█\u001b[0m\u001b[30m█\u001b[0m\u001b[30m█\u001b[0m\u001b[30m█\u001b[0m\u001b[30m█\u001b[0m\u001b[30m█\u001b[0m\u001b[30m█\u001b[0m\u001b[30m█\u001b[0m\u001b[30m█\u001b[0m\u001b[30m█\u001b[0m|(1256/10000) (0.02s avg time) ETA: ~04 min -  MSE (TRAIN) : \u001b[93m0.136260\u001b[0m, MSE (VAL) : \u001b[96m0.144702\u001b[0m -- BEST Val Loss : \u001b[92m0.134670\u001b[0m (at epoch 754) Eary Stopping in: 0001   \r"
     ]
    },
    {
     "name": "stderr",
     "output_type": "stream",
     "text": [
      "[I 2024-05-08 22:31:58,548] Trial 242 finished with value: 0.020707501098513603 and parameters: {'std': 0.0176, 'num_layers': 2, 'units_0': 160, 'units_1': 144, 'freezed_layer_from_right': 1}. Best is trial 206 with value: 0.017589986324310303.\n"
     ]
    },
    {
     "name": "stdout",
     "output_type": "stream",
     "text": [
      "|\u001b[92m█\u001b[0m\u001b[92m█\u001b[0m\u001b[92m█\u001b[0m\u001b[30m█\u001b[0m\u001b[30m█\u001b[0m\u001b[30m█\u001b[0m\u001b[30m█\u001b[0m\u001b[30m█\u001b[0m\u001b[30m█\u001b[0m\u001b[30m█\u001b[0m\u001b[30m█\u001b[0m\u001b[30m█\u001b[0m\u001b[30m█\u001b[0m\u001b[30m█\u001b[0m\u001b[30m█\u001b[0m\u001b[30m█\u001b[0m\u001b[30m█\u001b[0m\u001b[30m█\u001b[0m\u001b[30m█\u001b[0m\u001b[30m█\u001b[0m|(1669/10000) (0.02s avg time) ETA: ~04 min -  MSE (TRAIN) : \u001b[93m0.064052\u001b[0m, MSE (VAL) : \u001b[96m0.062438\u001b[0m -- BEST Val Loss : \u001b[92m0.061945\u001b[0m (at epoch 1167) Eary Stopping in: 0001   \r"
     ]
    },
    {
     "name": "stderr",
     "output_type": "stream",
     "text": [
      "[I 2024-05-08 22:37:01,622] Trial 243 finished with value: 0.019656658172607422 and parameters: {'std': 0.0161, 'num_layers': 2, 'units_0': 160, 'units_1': 144, 'freezed_layer_from_right': 1}. Best is trial 206 with value: 0.017589986324310303.\n"
     ]
    },
    {
     "name": "stdout",
     "output_type": "stream",
     "text": [
      "|\u001b[92m█\u001b[0m\u001b[30m█\u001b[0m\u001b[30m█\u001b[0m\u001b[30m█\u001b[0m\u001b[30m█\u001b[0m\u001b[30m█\u001b[0m\u001b[30m█\u001b[0m\u001b[30m█\u001b[0m\u001b[30m█\u001b[0m\u001b[30m█\u001b[0m\u001b[30m█\u001b[0m\u001b[30m█\u001b[0m\u001b[30m█\u001b[0m\u001b[30m█\u001b[0m\u001b[30m█\u001b[0m\u001b[30m█\u001b[0m\u001b[30m█\u001b[0m\u001b[30m█\u001b[0m\u001b[30m█\u001b[0m\u001b[30m█\u001b[0m|(986/10000) (0.02s avg time) ETA: ~04 min -  MSE (TRAIN) : \u001b[93m0.059303\u001b[0m, MSE (VAL) : \u001b[96m0.059973\u001b[0m -- BEST Val Loss : \u001b[92m0.059640\u001b[0m (at epoch 484) Eary Stopping in: 0001   \r"
     ]
    },
    {
     "name": "stderr",
     "output_type": "stream",
     "text": [
      "[I 2024-05-08 22:41:19,855] Trial 244 finished with value: 0.017156001180410385 and parameters: {'std': 0.0186, 'num_layers': 2, 'units_0': 160, 'units_1': 144, 'freezed_layer_from_right': 1}. Best is trial 244 with value: 0.017156001180410385.\n"
     ]
    },
    {
     "name": "stdout",
     "output_type": "stream",
     "text": [
      "|\u001b[92m█\u001b[0m\u001b[92m█\u001b[0m\u001b[30m█\u001b[0m\u001b[30m█\u001b[0m\u001b[30m█\u001b[0m\u001b[30m█\u001b[0m\u001b[30m█\u001b[0m\u001b[30m█\u001b[0m\u001b[30m█\u001b[0m\u001b[30m█\u001b[0m\u001b[30m█\u001b[0m\u001b[30m█\u001b[0m\u001b[30m█\u001b[0m\u001b[30m█\u001b[0m\u001b[30m█\u001b[0m\u001b[30m█\u001b[0m\u001b[30m█\u001b[0m\u001b[30m█\u001b[0m\u001b[30m█\u001b[0m\u001b[30m█\u001b[0m|(1233/10000) (0.02s avg time) ETA: ~04 min -  MSE (TRAIN) : \u001b[93m0.057685\u001b[0m, MSE (VAL) : \u001b[96m0.058549\u001b[0m -- BEST Val Loss : \u001b[92m0.056923\u001b[0m (at epoch 731) Eary Stopping in: 0001   \r"
     ]
    },
    {
     "name": "stderr",
     "output_type": "stream",
     "text": [
      "[I 2024-05-08 22:45:38,430] Trial 245 finished with value: 0.017980927601456642 and parameters: {'std': 0.0186, 'num_layers': 2, 'units_0': 160, 'units_1': 144, 'freezed_layer_from_right': 1}. Best is trial 244 with value: 0.017156001180410385.\n"
     ]
    },
    {
     "name": "stdout",
     "output_type": "stream",
     "text": [
      "|\u001b[92m█\u001b[0m\u001b[92m█\u001b[0m\u001b[92m█\u001b[0m\u001b[92m█\u001b[0m\u001b[30m█\u001b[0m\u001b[30m█\u001b[0m\u001b[30m█\u001b[0m\u001b[30m█\u001b[0m\u001b[30m█\u001b[0m\u001b[30m█\u001b[0m\u001b[30m█\u001b[0m\u001b[30m█\u001b[0m\u001b[30m█\u001b[0m\u001b[30m█\u001b[0m\u001b[30m█\u001b[0m\u001b[30m█\u001b[0m\u001b[30m█\u001b[0m\u001b[30m█\u001b[0m\u001b[30m█\u001b[0m\u001b[30m█\u001b[0m|(2137/10000) (0.02s avg time) ETA: ~03 min -  MSE (TRAIN) : \u001b[93m0.123282\u001b[0m, MSE (VAL) : \u001b[96m0.122353\u001b[0m -- BEST Val Loss : \u001b[92m0.121369\u001b[0m (at epoch 1635) Eary Stopping in: 0001   \r"
     ]
    },
    {
     "name": "stderr",
     "output_type": "stream",
     "text": [
      "[I 2024-05-08 22:47:23,351] Trial 246 finished with value: 0.020636381581425667 and parameters: {'std': 0.0191, 'num_layers': 2, 'units_0': 160, 'units_1': 144, 'freezed_layer_from_right': 1}. Best is trial 244 with value: 0.017156001180410385.\n"
     ]
    },
    {
     "name": "stdout",
     "output_type": "stream",
     "text": [
      "|\u001b[92m█\u001b[0m\u001b[92m█\u001b[0m\u001b[92m█\u001b[0m\u001b[92m█\u001b[0m\u001b[92m█\u001b[0m\u001b[30m█\u001b[0m\u001b[30m█\u001b[0m\u001b[30m█\u001b[0m\u001b[30m█\u001b[0m\u001b[30m█\u001b[0m\u001b[30m█\u001b[0m\u001b[30m█\u001b[0m\u001b[30m█\u001b[0m\u001b[30m█\u001b[0m\u001b[30m█\u001b[0m\u001b[30m█\u001b[0m\u001b[30m█\u001b[0m\u001b[30m█\u001b[0m\u001b[30m█\u001b[0m\u001b[30m█\u001b[0m|(2601/10000) (0.02s avg time) ETA: ~03 min -  MSE (TRAIN) : \u001b[93m0.057699\u001b[0m, MSE (VAL) : \u001b[96m0.057864\u001b[0m -- BEST Val Loss : \u001b[92m0.057465\u001b[0m (at epoch 2099) Eary Stopping in: 0001   \r"
     ]
    },
    {
     "name": "stderr",
     "output_type": "stream",
     "text": [
      "[I 2024-05-08 22:52:13,037] Trial 247 finished with value: 0.018602997064590454 and parameters: {'std': 0.0181, 'num_layers': 2, 'units_0': 160, 'units_1': 160, 'freezed_layer_from_right': 1}. Best is trial 244 with value: 0.017156001180410385.\n"
     ]
    },
    {
     "name": "stdout",
     "output_type": "stream",
     "text": [
      "|\u001b[92m█\u001b[0m\u001b[92m█\u001b[0m\u001b[92m█\u001b[0m\u001b[30m█\u001b[0m\u001b[30m█\u001b[0m\u001b[30m█\u001b[0m\u001b[30m█\u001b[0m\u001b[30m█\u001b[0m\u001b[30m█\u001b[0m\u001b[30m█\u001b[0m\u001b[30m█\u001b[0m\u001b[30m█\u001b[0m\u001b[30m█\u001b[0m\u001b[30m█\u001b[0m\u001b[30m█\u001b[0m\u001b[30m█\u001b[0m\u001b[30m█\u001b[0m\u001b[30m█\u001b[0m\u001b[30m█\u001b[0m\u001b[30m█\u001b[0m|(1583/10000) (0.02s avg time) ETA: ~04 min -  MSE (TRAIN) : \u001b[93m0.120360\u001b[0m, MSE (VAL) : \u001b[96m0.125236\u001b[0m -- BEST Val Loss : \u001b[92m0.114152\u001b[0m (at epoch 1081) Eary Stopping in: 0001   \r"
     ]
    },
    {
     "name": "stderr",
     "output_type": "stream",
     "text": [
      "[I 2024-05-08 22:53:56,291] Trial 248 finished with value: 0.03261815011501312 and parameters: {'std': 0.0186, 'num_layers': 2, 'units_0': 160, 'units_1': 160, 'freezed_layer_from_right': 1}. Best is trial 244 with value: 0.017156001180410385.\n"
     ]
    },
    {
     "name": "stdout",
     "output_type": "stream",
     "text": [
      "|\u001b[92m█\u001b[0m\u001b[92m█\u001b[0m\u001b[30m█\u001b[0m\u001b[30m█\u001b[0m\u001b[30m█\u001b[0m\u001b[30m█\u001b[0m\u001b[30m█\u001b[0m\u001b[30m█\u001b[0m\u001b[30m█\u001b[0m\u001b[30m█\u001b[0m\u001b[30m█\u001b[0m\u001b[30m█\u001b[0m\u001b[30m█\u001b[0m\u001b[30m█\u001b[0m\u001b[30m█\u001b[0m\u001b[30m█\u001b[0m\u001b[30m█\u001b[0m\u001b[30m█\u001b[0m\u001b[30m█\u001b[0m\u001b[30m█\u001b[0m|(1266/10000) (0.02s avg time) ETA: ~04 min -  MSE (TRAIN) : \u001b[93m0.093611\u001b[0m, MSE (VAL) : \u001b[96m0.098909\u001b[0m -- BEST Val Loss : \u001b[92m0.093077\u001b[0m (at epoch 764) Eary Stopping in: 0001   \r"
     ]
    },
    {
     "name": "stderr",
     "output_type": "stream",
     "text": [
      "[I 2024-05-08 22:55:29,677] Trial 249 finished with value: 0.021913623437285423 and parameters: {'std': 0.0206, 'num_layers': 2, 'units_0': 160, 'units_1': 160, 'freezed_layer_from_right': 1}. Best is trial 244 with value: 0.017156001180410385.\n"
     ]
    },
    {
     "name": "stdout",
     "output_type": "stream",
     "text": [
      "|\u001b[92m█\u001b[0m\u001b[92m█\u001b[0m\u001b[92m█\u001b[0m\u001b[30m█\u001b[0m\u001b[30m█\u001b[0m\u001b[30m█\u001b[0m\u001b[30m█\u001b[0m\u001b[30m█\u001b[0m\u001b[30m█\u001b[0m\u001b[30m█\u001b[0m\u001b[30m█\u001b[0m\u001b[30m█\u001b[0m\u001b[30m█\u001b[0m\u001b[30m█\u001b[0m\u001b[30m█\u001b[0m\u001b[30m█\u001b[0m\u001b[30m█\u001b[0m\u001b[30m█\u001b[0m\u001b[30m█\u001b[0m\u001b[30m█\u001b[0m|(1736/10000) (0.02s avg time) ETA: ~03 min -  MSE (TRAIN) : \u001b[93m0.078976\u001b[0m, MSE (VAL) : \u001b[96m0.080111\u001b[0m -- BEST Val Loss : \u001b[92m0.079129\u001b[0m (at epoch 1234) Eary Stopping in: 0001   \r"
     ]
    },
    {
     "name": "stderr",
     "output_type": "stream",
     "text": [
      "[I 2024-05-08 22:58:17,724] Trial 250 finished with value: 0.018220258876681328 and parameters: {'std': 0.0181, 'num_layers': 2, 'units_0': 160, 'units_1': 160, 'freezed_layer_from_right': 1}. Best is trial 244 with value: 0.017156001180410385.\n"
     ]
    },
    {
     "name": "stdout",
     "output_type": "stream",
     "text": [
      "|\u001b[92m█\u001b[0m\u001b[92m█\u001b[0m\u001b[30m█\u001b[0m\u001b[30m█\u001b[0m\u001b[30m█\u001b[0m\u001b[30m█\u001b[0m\u001b[30m█\u001b[0m\u001b[30m█\u001b[0m\u001b[30m█\u001b[0m\u001b[30m█\u001b[0m\u001b[30m█\u001b[0m\u001b[30m█\u001b[0m\u001b[30m█\u001b[0m\u001b[30m█\u001b[0m\u001b[30m█\u001b[0m\u001b[30m█\u001b[0m\u001b[30m█\u001b[0m\u001b[30m█\u001b[0m\u001b[30m█\u001b[0m\u001b[30m█\u001b[0m|(1376/10000) (0.02s avg time) ETA: ~04 min -  MSE (TRAIN) : \u001b[93m0.086556\u001b[0m, MSE (VAL) : \u001b[96m0.087235\u001b[0m -- BEST Val Loss : \u001b[92m0.080242\u001b[0m (at epoch 874) Eary Stopping in: 0001   \r"
     ]
    },
    {
     "name": "stderr",
     "output_type": "stream",
     "text": [
      "[I 2024-05-08 23:00:57,401] Trial 251 finished with value: 0.022105198353528976 and parameters: {'std': 0.0181, 'num_layers': 2, 'units_0': 144, 'units_1': 160, 'freezed_layer_from_right': 1}. Best is trial 244 with value: 0.017156001180410385.\n"
     ]
    },
    {
     "name": "stdout",
     "output_type": "stream",
     "text": [
      "|\u001b[92m█\u001b[0m\u001b[92m█\u001b[0m\u001b[30m█\u001b[0m\u001b[30m█\u001b[0m\u001b[30m█\u001b[0m\u001b[30m█\u001b[0m\u001b[30m█\u001b[0m\u001b[30m█\u001b[0m\u001b[30m█\u001b[0m\u001b[30m█\u001b[0m\u001b[30m█\u001b[0m\u001b[30m█\u001b[0m\u001b[30m█\u001b[0m\u001b[30m█\u001b[0m\u001b[30m█\u001b[0m\u001b[30m█\u001b[0m\u001b[30m█\u001b[0m\u001b[30m█\u001b[0m\u001b[30m█\u001b[0m\u001b[30m█\u001b[0m|(1347/10000) (0.02s avg time) ETA: ~04 min -  MSE (TRAIN) : \u001b[93m0.108305\u001b[0m, MSE (VAL) : \u001b[96m0.089580\u001b[0m -- BEST Val Loss : \u001b[92m0.084128\u001b[0m (at epoch 845) Eary Stopping in: 0001   \r"
     ]
    },
    {
     "name": "stderr",
     "output_type": "stream",
     "text": [
      "[I 2024-05-08 23:03:11,469] Trial 252 finished with value: 0.026057885959744453 and parameters: {'std': 0.0176, 'num_layers': 2, 'units_0': 160, 'units_1': 160, 'freezed_layer_from_right': 1}. Best is trial 244 with value: 0.017156001180410385.\n"
     ]
    },
    {
     "name": "stdout",
     "output_type": "stream",
     "text": [
      "|\u001b[92m█\u001b[0m\u001b[30m█\u001b[0m\u001b[30m█\u001b[0m\u001b[30m█\u001b[0m\u001b[30m█\u001b[0m\u001b[30m█\u001b[0m\u001b[30m█\u001b[0m\u001b[30m█\u001b[0m\u001b[30m█\u001b[0m\u001b[30m█\u001b[0m\u001b[30m█\u001b[0m\u001b[30m█\u001b[0m\u001b[30m█\u001b[0m\u001b[30m█\u001b[0m\u001b[30m█\u001b[0m\u001b[30m█\u001b[0m\u001b[30m█\u001b[0m\u001b[30m█\u001b[0m\u001b[30m█\u001b[0m\u001b[30m█\u001b[0m|(998/10000) (0.02s avg time) ETA: ~04 min -  MSE (TRAIN) : \u001b[93m0.098626\u001b[0m, MSE (VAL) : \u001b[96m0.100182\u001b[0m -- BEST Val Loss : \u001b[92m0.098559\u001b[0m (at epoch 496) Eary Stopping in: 0001   \r"
     ]
    },
    {
     "name": "stderr",
     "output_type": "stream",
     "text": [
      "[I 2024-05-08 23:04:34,992] Trial 253 finished with value: 0.01874333806335926 and parameters: {'std': 0.0201, 'num_layers': 2, 'units_0': 160, 'units_1': 160, 'freezed_layer_from_right': 1}. Best is trial 244 with value: 0.017156001180410385.\n"
     ]
    },
    {
     "name": "stdout",
     "output_type": "stream",
     "text": [
      "|\u001b[92m█\u001b[0m\u001b[92m█\u001b[0m\u001b[92m█\u001b[0m\u001b[30m█\u001b[0m\u001b[30m█\u001b[0m\u001b[30m█\u001b[0m\u001b[30m█\u001b[0m\u001b[30m█\u001b[0m\u001b[30m█\u001b[0m\u001b[30m█\u001b[0m\u001b[30m█\u001b[0m\u001b[30m█\u001b[0m\u001b[30m█\u001b[0m\u001b[30m█\u001b[0m\u001b[30m█\u001b[0m\u001b[30m█\u001b[0m\u001b[30m█\u001b[0m\u001b[30m█\u001b[0m\u001b[30m█\u001b[0m\u001b[30m█\u001b[0m|(1539/10000) (0.02s avg time) ETA: ~04 min -  MSE (TRAIN) : \u001b[93m0.053059\u001b[0m, MSE (VAL) : \u001b[96m0.053812\u001b[0m -- BEST Val Loss : \u001b[92m0.051023\u001b[0m (at epoch 1037) Eary Stopping in: 0001   \r"
     ]
    },
    {
     "name": "stderr",
     "output_type": "stream",
     "text": [
      "[I 2024-05-08 23:09:01,497] Trial 254 finished with value: 0.023834923282265663 and parameters: {'std': 0.0206, 'num_layers': 2, 'units_0': 128, 'units_1': 176, 'freezed_layer_from_right': 1}. Best is trial 244 with value: 0.017156001180410385.\n"
     ]
    },
    {
     "name": "stdout",
     "output_type": "stream",
     "text": [
      "|\u001b[92m█\u001b[0m\u001b[92m█\u001b[0m\u001b[30m█\u001b[0m\u001b[30m█\u001b[0m\u001b[30m█\u001b[0m\u001b[30m█\u001b[0m\u001b[30m█\u001b[0m\u001b[30m█\u001b[0m\u001b[30m█\u001b[0m\u001b[30m█\u001b[0m\u001b[30m█\u001b[0m\u001b[30m█\u001b[0m\u001b[30m█\u001b[0m\u001b[30m█\u001b[0m\u001b[30m█\u001b[0m\u001b[30m█\u001b[0m\u001b[30m█\u001b[0m\u001b[30m█\u001b[0m\u001b[30m█\u001b[0m\u001b[30m█\u001b[0m|(1047/10000) (0.02s avg time) ETA: ~04 min -  MSE (TRAIN) : \u001b[93m0.066281\u001b[0m, MSE (VAL) : \u001b[96m0.064027\u001b[0m -- BEST Val Loss : \u001b[92m0.061888\u001b[0m (at epoch 545) Eary Stopping in: 0001   \r"
     ]
    },
    {
     "name": "stderr",
     "output_type": "stream",
     "text": [
      "[I 2024-05-08 23:12:12,282] Trial 255 finished with value: 0.02397891692817211 and parameters: {'std': 0.0196, 'num_layers': 2, 'units_0': 160, 'units_1': 176, 'freezed_layer_from_right': 1}. Best is trial 244 with value: 0.017156001180410385.\n"
     ]
    },
    {
     "name": "stdout",
     "output_type": "stream",
     "text": [
      "|\u001b[92m█\u001b[0m\u001b[92m█\u001b[0m\u001b[92m█\u001b[0m\u001b[92m█\u001b[0m\u001b[30m█\u001b[0m\u001b[30m█\u001b[0m\u001b[30m█\u001b[0m\u001b[30m█\u001b[0m\u001b[30m█\u001b[0m\u001b[30m█\u001b[0m\u001b[30m█\u001b[0m\u001b[30m█\u001b[0m\u001b[30m█\u001b[0m\u001b[30m█\u001b[0m\u001b[30m█\u001b[0m\u001b[30m█\u001b[0m\u001b[30m█\u001b[0m\u001b[30m█\u001b[0m\u001b[30m█\u001b[0m\u001b[30m█\u001b[0m|(2479/10000) (0.02s avg time) ETA: ~03 min -  MSE (TRAIN) : \u001b[93m0.099675\u001b[0m, MSE (VAL) : \u001b[96m0.107463\u001b[0m -- BEST Val Loss : \u001b[92m0.098166\u001b[0m (at epoch 1977) Eary Stopping in: 0001   \r"
     ]
    },
    {
     "name": "stderr",
     "output_type": "stream",
     "text": [
      "[I 2024-05-08 23:13:57,019] Trial 256 finished with value: 0.024982288479804993 and parameters: {'std': 0.0176, 'num_layers': 3, 'units_0': 160, 'units_1': 160, 'units_2': 80, 'freezed_layer_from_right': 1}. Best is trial 244 with value: 0.017156001180410385.\n"
     ]
    },
    {
     "name": "stdout",
     "output_type": "stream",
     "text": [
      "|\u001b[92m█\u001b[0m\u001b[30m█\u001b[0m\u001b[30m█\u001b[0m\u001b[30m█\u001b[0m\u001b[30m█\u001b[0m\u001b[30m█\u001b[0m\u001b[30m█\u001b[0m\u001b[30m█\u001b[0m\u001b[30m█\u001b[0m\u001b[30m█\u001b[0m\u001b[30m█\u001b[0m\u001b[30m█\u001b[0m\u001b[30m█\u001b[0m\u001b[30m█\u001b[0m\u001b[30m█\u001b[0m\u001b[30m█\u001b[0m\u001b[30m█\u001b[0m\u001b[30m█\u001b[0m\u001b[30m█\u001b[0m\u001b[30m█\u001b[0m|(974/10000) (0.02s avg time) ETA: ~04 min -  MSE (TRAIN) : \u001b[93m0.113474\u001b[0m, MSE (VAL) : \u001b[96m0.107261\u001b[0m -- BEST Val Loss : \u001b[92m0.103385\u001b[0m (at epoch 472) Eary Stopping in: 0001   \r"
     ]
    },
    {
     "name": "stderr",
     "output_type": "stream",
     "text": [
      "[I 2024-05-08 23:15:11,284] Trial 257 finished with value: 0.020014574751257896 and parameters: {'std': 0.0191, 'num_layers': 2, 'units_0': 160, 'units_1': 160, 'freezed_layer_from_right': 1}. Best is trial 244 with value: 0.017156001180410385.\n"
     ]
    },
    {
     "name": "stdout",
     "output_type": "stream",
     "text": [
      "|\u001b[92m█\u001b[0m\u001b[92m█\u001b[0m\u001b[92m█\u001b[0m\u001b[30m█\u001b[0m\u001b[30m█\u001b[0m\u001b[30m█\u001b[0m\u001b[30m█\u001b[0m\u001b[30m█\u001b[0m\u001b[30m█\u001b[0m\u001b[30m█\u001b[0m\u001b[30m█\u001b[0m\u001b[30m█\u001b[0m\u001b[30m█\u001b[0m\u001b[30m█\u001b[0m\u001b[30m█\u001b[0m\u001b[30m█\u001b[0m\u001b[30m█\u001b[0m\u001b[30m█\u001b[0m\u001b[30m█\u001b[0m\u001b[30m█\u001b[0m|(1697/10000) (0.02s avg time) ETA: ~03 min -  MSE (TRAIN) : \u001b[93m0.062408\u001b[0m, MSE (VAL) : \u001b[96m0.063795\u001b[0m -- BEST Val Loss : \u001b[92m0.061552\u001b[0m (at epoch 1195) Eary Stopping in: 0001   \r"
     ]
    },
    {
     "name": "stderr",
     "output_type": "stream",
     "text": [
      "[I 2024-05-08 23:19:37,972] Trial 258 finished with value: 0.02183699421584606 and parameters: {'std': 0.0161, 'num_layers': 2, 'units_0': 80, 'units_1': 160, 'freezed_layer_from_right': 1}. Best is trial 244 with value: 0.017156001180410385.\n"
     ]
    },
    {
     "name": "stdout",
     "output_type": "stream",
     "text": [
      "|\u001b[92m█\u001b[0m\u001b[92m█\u001b[0m\u001b[92m█\u001b[0m\u001b[30m█\u001b[0m\u001b[30m█\u001b[0m\u001b[30m█\u001b[0m\u001b[30m█\u001b[0m\u001b[30m█\u001b[0m\u001b[30m█\u001b[0m\u001b[30m█\u001b[0m\u001b[30m█\u001b[0m\u001b[30m█\u001b[0m\u001b[30m█\u001b[0m\u001b[30m█\u001b[0m\u001b[30m█\u001b[0m\u001b[30m█\u001b[0m\u001b[30m█\u001b[0m\u001b[30m█\u001b[0m\u001b[30m█\u001b[0m\u001b[30m█\u001b[0m|(1776/10000) (0.02s avg time) ETA: ~04 min -  MSE (TRAIN) : \u001b[93m0.087000\u001b[0m, MSE (VAL) : \u001b[96m0.087509\u001b[0m -- BEST Val Loss : \u001b[92m0.084635\u001b[0m (at epoch 1274) Eary Stopping in: 0001   \r"
     ]
    },
    {
     "name": "stderr",
     "output_type": "stream",
     "text": [
      "[I 2024-05-08 23:21:37,275] Trial 259 finished with value: 0.0230117104947567 and parameters: {'std': 0.0206, 'num_layers': 2, 'units_0': 160, 'units_1': 160, 'freezed_layer_from_right': 1}. Best is trial 244 with value: 0.017156001180410385.\n"
     ]
    },
    {
     "name": "stdout",
     "output_type": "stream",
     "text": [
      "|\u001b[92m█\u001b[0m\u001b[92m█\u001b[0m\u001b[30m█\u001b[0m\u001b[30m█\u001b[0m\u001b[30m█\u001b[0m\u001b[30m█\u001b[0m\u001b[30m█\u001b[0m\u001b[30m█\u001b[0m\u001b[30m█\u001b[0m\u001b[30m█\u001b[0m\u001b[30m█\u001b[0m\u001b[30m█\u001b[0m\u001b[30m█\u001b[0m\u001b[30m█\u001b[0m\u001b[30m█\u001b[0m\u001b[30m█\u001b[0m\u001b[30m█\u001b[0m\u001b[30m█\u001b[0m\u001b[30m█\u001b[0m\u001b[30m█\u001b[0m|(1238/10000) (0.02s avg time) ETA: ~04 min -  MSE (TRAIN) : \u001b[93m0.128328\u001b[0m, MSE (VAL) : \u001b[96m0.131136\u001b[0m -- BEST Val Loss : \u001b[92m0.126093\u001b[0m (at epoch 736) Eary Stopping in: 0001   \r"
     ]
    },
    {
     "name": "stderr",
     "output_type": "stream",
     "text": [
      "[I 2024-05-08 23:22:56,400] Trial 260 finished with value: 0.022231919690966606 and parameters: {'std': 0.0176, 'num_layers': 2, 'units_0': 160, 'units_1': 144, 'freezed_layer_from_right': 1}. Best is trial 244 with value: 0.017156001180410385.\n"
     ]
    },
    {
     "name": "stdout",
     "output_type": "stream",
     "text": [
      "|\u001b[92m█\u001b[0m\u001b[92m█\u001b[0m\u001b[92m█\u001b[0m\u001b[92m█\u001b[0m\u001b[92m█\u001b[0m\u001b[30m█\u001b[0m\u001b[30m█\u001b[0m\u001b[30m█\u001b[0m\u001b[30m█\u001b[0m\u001b[30m█\u001b[0m\u001b[30m█\u001b[0m\u001b[30m█\u001b[0m\u001b[30m█\u001b[0m\u001b[30m█\u001b[0m\u001b[30m█\u001b[0m\u001b[30m█\u001b[0m\u001b[30m█\u001b[0m\u001b[30m█\u001b[0m\u001b[30m█\u001b[0m\u001b[30m█\u001b[0m|(2594/10000) (0.02s avg time) ETA: ~03 min -  MSE (TRAIN) : \u001b[93m0.072671\u001b[0m, MSE (VAL) : \u001b[96m0.073697\u001b[0m -- BEST Val Loss : \u001b[92m0.072156\u001b[0m (at epoch 2092) Eary Stopping in: 0001   \r"
     ]
    },
    {
     "name": "stderr",
     "output_type": "stream",
     "text": [
      "[I 2024-05-08 23:27:44,113] Trial 261 finished with value: 0.021257635205984116 and parameters: {'std': 0.0191, 'num_layers': 2, 'units_0': 144, 'units_1': 32, 'freezed_layer_from_right': 1}. Best is trial 244 with value: 0.017156001180410385.\n"
     ]
    },
    {
     "name": "stdout",
     "output_type": "stream",
     "text": [
      "|\u001b[92m█\u001b[0m\u001b[92m█\u001b[0m\u001b[92m█\u001b[0m\u001b[30m█\u001b[0m\u001b[30m█\u001b[0m\u001b[30m█\u001b[0m\u001b[30m█\u001b[0m\u001b[30m█\u001b[0m\u001b[30m█\u001b[0m\u001b[30m█\u001b[0m\u001b[30m█\u001b[0m\u001b[30m█\u001b[0m\u001b[30m█\u001b[0m\u001b[30m█\u001b[0m\u001b[30m█\u001b[0m\u001b[30m█\u001b[0m\u001b[30m█\u001b[0m\u001b[30m█\u001b[0m\u001b[30m█\u001b[0m\u001b[30m█\u001b[0m|(1824/10000) (0.02s avg time) ETA: ~04 min -  MSE (TRAIN) : \u001b[93m0.103552\u001b[0m, MSE (VAL) : \u001b[96m0.105117\u001b[0m -- BEST Val Loss : \u001b[92m0.102650\u001b[0m (at epoch 1322) Eary Stopping in: 0001   \r"
     ]
    },
    {
     "name": "stderr",
     "output_type": "stream",
     "text": [
      "[I 2024-05-08 23:30:20,893] Trial 262 finished with value: 0.023936571553349495 and parameters: {'std': 0.0166, 'num_layers': 4, 'units_0': 160, 'units_1': 160, 'units_2': 32, 'units_3': 64, 'freezed_layer_from_right': 1}. Best is trial 244 with value: 0.017156001180410385.\n"
     ]
    },
    {
     "name": "stdout",
     "output_type": "stream",
     "text": [
      "|\u001b[92m█\u001b[0m\u001b[92m█\u001b[0m\u001b[92m█\u001b[0m\u001b[30m█\u001b[0m\u001b[30m█\u001b[0m\u001b[30m█\u001b[0m\u001b[30m█\u001b[0m\u001b[30m█\u001b[0m\u001b[30m█\u001b[0m\u001b[30m█\u001b[0m\u001b[30m█\u001b[0m\u001b[30m█\u001b[0m\u001b[30m█\u001b[0m\u001b[30m█\u001b[0m\u001b[30m█\u001b[0m\u001b[30m█\u001b[0m\u001b[30m█\u001b[0m\u001b[30m█\u001b[0m\u001b[30m█\u001b[0m\u001b[30m█\u001b[0m|(1708/10000) (0.02s avg time) ETA: ~04 min -  MSE (TRAIN) : \u001b[93m0.082103\u001b[0m, MSE (VAL) : \u001b[96m0.087606\u001b[0m -- BEST Val Loss : \u001b[92m0.080063\u001b[0m (at epoch 1206) Eary Stopping in: 0001   \r"
     ]
    },
    {
     "name": "stderr",
     "output_type": "stream",
     "text": [
      "[I 2024-05-08 23:32:34,272] Trial 263 finished with value: 0.02287719026207924 and parameters: {'std': 0.022099999999999998, 'num_layers': 2, 'units_0': 160, 'units_1': 144, 'freezed_layer_from_right': 1}. Best is trial 244 with value: 0.017156001180410385.\n"
     ]
    },
    {
     "name": "stdout",
     "output_type": "stream",
     "text": [
      "|\u001b[92m█\u001b[0m\u001b[92m█\u001b[0m\u001b[92m█\u001b[0m\u001b[92m█\u001b[0m\u001b[30m█\u001b[0m\u001b[30m█\u001b[0m\u001b[30m█\u001b[0m\u001b[30m█\u001b[0m\u001b[30m█\u001b[0m\u001b[30m█\u001b[0m\u001b[30m█\u001b[0m\u001b[30m█\u001b[0m\u001b[30m█\u001b[0m\u001b[30m█\u001b[0m\u001b[30m█\u001b[0m\u001b[30m█\u001b[0m\u001b[30m█\u001b[0m\u001b[30m█\u001b[0m\u001b[30m█\u001b[0m\u001b[30m█\u001b[0m|(2073/10000) (0.02s avg time) ETA: ~04 min -  MSE (TRAIN) : \u001b[93m0.057460\u001b[0m, MSE (VAL) : \u001b[96m0.056544\u001b[0m -- BEST Val Loss : \u001b[92m0.054692\u001b[0m (at epoch 1571) Eary Stopping in: 0001   \r"
     ]
    },
    {
     "name": "stderr",
     "output_type": "stream",
     "text": [
      "[I 2024-05-08 23:37:11,856] Trial 264 finished with value: 0.01884576678276062 and parameters: {'std': 0.0156, 'num_layers': 2, 'units_0': 160, 'units_1': 176, 'freezed_layer_from_right': 1}. Best is trial 244 with value: 0.017156001180410385.\n"
     ]
    },
    {
     "name": "stdout",
     "output_type": "stream",
     "text": [
      "|\u001b[92m█\u001b[0m\u001b[92m█\u001b[0m\u001b[30m█\u001b[0m\u001b[30m█\u001b[0m\u001b[30m█\u001b[0m\u001b[30m█\u001b[0m\u001b[30m█\u001b[0m\u001b[30m█\u001b[0m\u001b[30m█\u001b[0m\u001b[30m█\u001b[0m\u001b[30m█\u001b[0m\u001b[30m█\u001b[0m\u001b[30m█\u001b[0m\u001b[30m█\u001b[0m\u001b[30m█\u001b[0m\u001b[30m█\u001b[0m\u001b[30m█\u001b[0m\u001b[30m█\u001b[0m\u001b[30m█\u001b[0m\u001b[30m█\u001b[0m|(1226/10000) (0.02s avg time) ETA: ~04 min -  MSE (TRAIN) : \u001b[93m0.114404\u001b[0m, MSE (VAL) : \u001b[96m0.112645\u001b[0m -- BEST Val Loss : \u001b[92m0.112061\u001b[0m (at epoch 724) Eary Stopping in: 0001   \r"
     ]
    },
    {
     "name": "stderr",
     "output_type": "stream",
     "text": [
      "[I 2024-05-08 23:38:20,971] Trial 265 finished with value: 0.022116348147392273 and parameters: {'std': 0.0201, 'num_layers': 2, 'units_0': 160, 'units_1': 160, 'freezed_layer_from_right': 1}. Best is trial 244 with value: 0.017156001180410385.\n"
     ]
    },
    {
     "name": "stdout",
     "output_type": "stream",
     "text": [
      "|\u001b[92m█\u001b[0m\u001b[92m█\u001b[0m\u001b[92m█\u001b[0m\u001b[30m█\u001b[0m\u001b[30m█\u001b[0m\u001b[30m█\u001b[0m\u001b[30m█\u001b[0m\u001b[30m█\u001b[0m\u001b[30m█\u001b[0m\u001b[30m█\u001b[0m\u001b[30m█\u001b[0m\u001b[30m█\u001b[0m\u001b[30m█\u001b[0m\u001b[30m█\u001b[0m\u001b[30m█\u001b[0m\u001b[30m█\u001b[0m\u001b[30m█\u001b[0m\u001b[30m█\u001b[0m\u001b[30m█\u001b[0m\u001b[30m█\u001b[0m|(1679/10000) (0.02s avg time) ETA: ~04 min -  MSE (TRAIN) : \u001b[93m0.061813\u001b[0m, MSE (VAL) : \u001b[96m0.060134\u001b[0m -- BEST Val Loss : \u001b[92m0.058236\u001b[0m (at epoch 1177) Eary Stopping in: 0001   \r"
     ]
    },
    {
     "name": "stderr",
     "output_type": "stream",
     "text": [
      "[I 2024-05-08 23:42:46,544] Trial 266 finished with value: 0.021991759538650513 and parameters: {'std': 0.0181, 'num_layers': 2, 'units_0': 160, 'units_1': 144, 'freezed_layer_from_right': 1}. Best is trial 244 with value: 0.017156001180410385.\n"
     ]
    },
    {
     "name": "stdout",
     "output_type": "stream",
     "text": [
      "|\u001b[92m█\u001b[0m\u001b[92m█\u001b[0m\u001b[30m█\u001b[0m\u001b[30m█\u001b[0m\u001b[30m█\u001b[0m\u001b[30m█\u001b[0m\u001b[30m█\u001b[0m\u001b[30m█\u001b[0m\u001b[30m█\u001b[0m\u001b[30m█\u001b[0m\u001b[30m█\u001b[0m\u001b[30m█\u001b[0m\u001b[30m█\u001b[0m\u001b[30m█\u001b[0m\u001b[30m█\u001b[0m\u001b[30m█\u001b[0m\u001b[30m█\u001b[0m\u001b[30m█\u001b[0m\u001b[30m█\u001b[0m\u001b[30m█\u001b[0m|(1186/10000) (0.02s avg time) ETA: ~04 min -  MSE (TRAIN) : \u001b[93m0.068109\u001b[0m, MSE (VAL) : \u001b[96m0.067527\u001b[0m -- BEST Val Loss : \u001b[92m0.066236\u001b[0m (at epoch 684) Eary Stopping in: 0001   \r"
     ]
    },
    {
     "name": "stderr",
     "output_type": "stream",
     "text": [
      "[I 2024-05-08 23:46:07,293] Trial 267 finished with value: 0.019439831376075745 and parameters: {'std': 0.0211, 'num_layers': 2, 'units_0': 144, 'units_1': 144, 'freezed_layer_from_right': 1}. Best is trial 244 with value: 0.017156001180410385.\n"
     ]
    },
    {
     "name": "stdout",
     "output_type": "stream",
     "text": [
      "|\u001b[92m█\u001b[0m\u001b[92m█\u001b[0m\u001b[92m█\u001b[0m\u001b[30m█\u001b[0m\u001b[30m█\u001b[0m\u001b[30m█\u001b[0m\u001b[30m█\u001b[0m\u001b[30m█\u001b[0m\u001b[30m█\u001b[0m\u001b[30m█\u001b[0m\u001b[30m█\u001b[0m\u001b[30m█\u001b[0m\u001b[30m█\u001b[0m\u001b[30m█\u001b[0m\u001b[30m█\u001b[0m\u001b[30m█\u001b[0m\u001b[30m█\u001b[0m\u001b[30m█\u001b[0m\u001b[30m█\u001b[0m\u001b[30m█\u001b[0m|(1884/10000) (0.02s avg time) ETA: ~04 min -  MSE (TRAIN) : \u001b[93m0.063216\u001b[0m, MSE (VAL) : \u001b[96m0.069709\u001b[0m -- BEST Val Loss : \u001b[92m0.063213\u001b[0m (at epoch 1382) Eary Stopping in: 0001   \r"
     ]
    },
    {
     "name": "stderr",
     "output_type": "stream",
     "text": [
      "[I 2024-05-08 23:50:39,312] Trial 268 finished with value: 0.02096540294587612 and parameters: {'std': 0.0131, 'num_layers': 2, 'units_0': 160, 'units_1': 144, 'freezed_layer_from_right': 1}. Best is trial 244 with value: 0.017156001180410385.\n"
     ]
    },
    {
     "name": "stdout",
     "output_type": "stream",
     "text": [
      "|\u001b[92m█\u001b[0m\u001b[92m█\u001b[0m\u001b[92m█\u001b[0m\u001b[30m█\u001b[0m\u001b[30m█\u001b[0m\u001b[30m█\u001b[0m\u001b[30m█\u001b[0m\u001b[30m█\u001b[0m\u001b[30m█\u001b[0m\u001b[30m█\u001b[0m\u001b[30m█\u001b[0m\u001b[30m█\u001b[0m\u001b[30m█\u001b[0m\u001b[30m█\u001b[0m\u001b[30m█\u001b[0m\u001b[30m█\u001b[0m\u001b[30m█\u001b[0m\u001b[30m█\u001b[0m\u001b[30m█\u001b[0m\u001b[30m█\u001b[0m|(1667/10000) (0.02s avg time) ETA: ~03 min -  MSE (TRAIN) : \u001b[93m0.034003\u001b[0m, MSE (VAL) : \u001b[96m0.035081\u001b[0m -- BEST Val Loss : \u001b[92m0.030560\u001b[0m (at epoch 1165) Eary Stopping in: 0001   \r"
     ]
    },
    {
     "name": "stderr",
     "output_type": "stream",
     "text": [
      "[I 2024-05-08 23:52:55,942] Trial 269 finished with value: 0.0239670742303133 and parameters: {'std': 0.0546, 'num_layers': 2, 'units_0': 160, 'units_1': 144, 'freezed_layer_from_right': 1}. Best is trial 244 with value: 0.017156001180410385.\n"
     ]
    },
    {
     "name": "stdout",
     "output_type": "stream",
     "text": [
      "|\u001b[92m█\u001b[0m\u001b[92m█\u001b[0m\u001b[30m█\u001b[0m\u001b[30m█\u001b[0m\u001b[30m█\u001b[0m\u001b[30m█\u001b[0m\u001b[30m█\u001b[0m\u001b[30m█\u001b[0m\u001b[30m█\u001b[0m\u001b[30m█\u001b[0m\u001b[30m█\u001b[0m\u001b[30m█\u001b[0m\u001b[30m█\u001b[0m\u001b[30m█\u001b[0m\u001b[30m█\u001b[0m\u001b[30m█\u001b[0m\u001b[30m█\u001b[0m\u001b[30m█\u001b[0m\u001b[30m█\u001b[0m\u001b[30m█\u001b[0m|(1202/10000) (0.02s avg time) ETA: ~04 min -  MSE (TRAIN) : \u001b[93m0.059930\u001b[0m, MSE (VAL) : \u001b[96m0.061550\u001b[0m -- BEST Val Loss : \u001b[92m0.059046\u001b[0m (at epoch 700) Eary Stopping in: 0001   \r"
     ]
    },
    {
     "name": "stderr",
     "output_type": "stream",
     "text": [
      "[I 2024-05-08 23:57:12,442] Trial 270 finished with value: 0.01844288595020771 and parameters: {'std': 0.0161, 'num_layers': 2, 'units_0': 160, 'units_1': 160, 'freezed_layer_from_right': 1}. Best is trial 244 with value: 0.017156001180410385.\n"
     ]
    },
    {
     "name": "stdout",
     "output_type": "stream",
     "text": [
      "|\u001b[92m█\u001b[0m\u001b[92m█\u001b[0m\u001b[30m█\u001b[0m\u001b[30m█\u001b[0m\u001b[30m█\u001b[0m\u001b[30m█\u001b[0m\u001b[30m█\u001b[0m\u001b[30m█\u001b[0m\u001b[30m█\u001b[0m\u001b[30m█\u001b[0m\u001b[30m█\u001b[0m\u001b[30m█\u001b[0m\u001b[30m█\u001b[0m\u001b[30m█\u001b[0m\u001b[30m█\u001b[0m\u001b[30m█\u001b[0m\u001b[30m█\u001b[0m\u001b[30m█\u001b[0m\u001b[30m█\u001b[0m\u001b[30m█\u001b[0m|(1375/10000) (0.02s avg time) ETA: ~04 min -  MSE (TRAIN) : \u001b[93m0.068293\u001b[0m, MSE (VAL) : \u001b[96m0.070785\u001b[0m -- BEST Val Loss : \u001b[92m0.069046\u001b[0m (at epoch 873) Eary Stopping in: 0001   \r"
     ]
    },
    {
     "name": "stderr",
     "output_type": "stream",
     "text": [
      "[I 2024-05-09 00:00:54,771] Trial 271 finished with value: 0.02010066621005535 and parameters: {'std': 0.015099999999999999, 'num_layers': 2, 'units_0': 160, 'units_1': 160, 'freezed_layer_from_right': 1}. Best is trial 244 with value: 0.017156001180410385.\n"
     ]
    },
    {
     "name": "stdout",
     "output_type": "stream",
     "text": [
      "|\u001b[92m█\u001b[0m\u001b[30m█\u001b[0m\u001b[30m█\u001b[0m\u001b[30m█\u001b[0m\u001b[30m█\u001b[0m\u001b[30m█\u001b[0m\u001b[30m█\u001b[0m\u001b[30m█\u001b[0m\u001b[30m█\u001b[0m\u001b[30m█\u001b[0m\u001b[30m█\u001b[0m\u001b[30m█\u001b[0m\u001b[30m█\u001b[0m\u001b[30m█\u001b[0m\u001b[30m█\u001b[0m\u001b[30m█\u001b[0m\u001b[30m█\u001b[0m\u001b[30m█\u001b[0m\u001b[30m█\u001b[0m\u001b[30m█\u001b[0m|(888/10000) (0.02s avg time) ETA: ~04 min -  MSE (TRAIN) : \u001b[93m0.057471\u001b[0m, MSE (VAL) : \u001b[96m0.061196\u001b[0m -- BEST Val Loss : \u001b[92m0.057657\u001b[0m (at epoch 386) Eary Stopping in: 0001   \r"
     ]
    },
    {
     "name": "stderr",
     "output_type": "stream",
     "text": [
      "[I 2024-05-09 00:05:01,951] Trial 272 finished with value: 0.02037087269127369 and parameters: {'std': 0.0191, 'num_layers': 2, 'units_0': 160, 'units_1': 160, 'freezed_layer_from_right': 1}. Best is trial 244 with value: 0.017156001180410385.\n"
     ]
    },
    {
     "name": "stdout",
     "output_type": "stream",
     "text": [
      "|\u001b[92m█\u001b[0m\u001b[92m█\u001b[0m\u001b[92m█\u001b[0m\u001b[30m█\u001b[0m\u001b[30m█\u001b[0m\u001b[30m█\u001b[0m\u001b[30m█\u001b[0m\u001b[30m█\u001b[0m\u001b[30m█\u001b[0m\u001b[30m█\u001b[0m\u001b[30m█\u001b[0m\u001b[30m█\u001b[0m\u001b[30m█\u001b[0m\u001b[30m█\u001b[0m\u001b[30m█\u001b[0m\u001b[30m█\u001b[0m\u001b[30m█\u001b[0m\u001b[30m█\u001b[0m\u001b[30m█\u001b[0m\u001b[30m█\u001b[0m|(1820/10000) (0.02s avg time) ETA: ~03 min -  MSE (TRAIN) : \u001b[93m0.062895\u001b[0m, MSE (VAL) : \u001b[96m0.061361\u001b[0m -- BEST Val Loss : \u001b[92m0.060089\u001b[0m (at epoch 1318) Eary Stopping in: 0001   \r"
     ]
    },
    {
     "name": "stderr",
     "output_type": "stream",
     "text": [
      "[I 2024-05-09 00:09:41,857] Trial 273 finished with value: 0.02065463922917843 and parameters: {'std': 0.0126, 'num_layers': 2, 'units_0': 160, 'units_1': 160, 'freezed_layer_from_right': 1}. Best is trial 244 with value: 0.017156001180410385.\n"
     ]
    },
    {
     "name": "stdout",
     "output_type": "stream",
     "text": [
      "|\u001b[92m█\u001b[0m\u001b[92m█\u001b[0m\u001b[92m█\u001b[0m\u001b[30m█\u001b[0m\u001b[30m█\u001b[0m\u001b[30m█\u001b[0m\u001b[30m█\u001b[0m\u001b[30m█\u001b[0m\u001b[30m█\u001b[0m\u001b[30m█\u001b[0m\u001b[30m█\u001b[0m\u001b[30m█\u001b[0m\u001b[30m█\u001b[0m\u001b[30m█\u001b[0m\u001b[30m█\u001b[0m\u001b[30m█\u001b[0m\u001b[30m█\u001b[0m\u001b[30m█\u001b[0m\u001b[30m█\u001b[0m\u001b[30m█\u001b[0m|(1538/10000) (0.02s avg time) ETA: ~04 min -  MSE (TRAIN) : \u001b[93m0.065880\u001b[0m, MSE (VAL) : \u001b[96m0.066852\u001b[0m -- BEST Val Loss : \u001b[92m0.066193\u001b[0m (at epoch 1036) Eary Stopping in: 0001   \r"
     ]
    },
    {
     "name": "stderr",
     "output_type": "stream",
     "text": [
      "[I 2024-05-09 00:14:08,236] Trial 274 finished with value: 0.018646981567144394 and parameters: {'std': 0.0161, 'num_layers': 2, 'units_0': 144, 'units_1': 160, 'freezed_layer_from_right': 1}. Best is trial 244 with value: 0.017156001180410385.\n"
     ]
    },
    {
     "name": "stdout",
     "output_type": "stream",
     "text": [
      "|\u001b[92m█\u001b[0m\u001b[92m█\u001b[0m\u001b[92m█\u001b[0m\u001b[92m█\u001b[0m\u001b[92m█\u001b[0m\u001b[30m█\u001b[0m\u001b[30m█\u001b[0m\u001b[30m█\u001b[0m\u001b[30m█\u001b[0m\u001b[30m█\u001b[0m\u001b[30m█\u001b[0m\u001b[30m█\u001b[0m\u001b[30m█\u001b[0m\u001b[30m█\u001b[0m\u001b[30m█\u001b[0m\u001b[30m█\u001b[0m\u001b[30m█\u001b[0m\u001b[30m█\u001b[0m\u001b[30m█\u001b[0m\u001b[30m█\u001b[0m|(2732/10000) (0.02s avg time) ETA: ~03 min -  MSE (TRAIN) : \u001b[93m0.097018\u001b[0m, MSE (VAL) : \u001b[96m0.104510\u001b[0m -- BEST Val Loss : \u001b[92m0.090154\u001b[0m (at epoch 2230) Eary Stopping in: 0001   \r"
     ]
    },
    {
     "name": "stderr",
     "output_type": "stream",
     "text": [
      "[I 2024-05-09 00:16:03,373] Trial 275 finished with value: 0.02738996036350727 and parameters: {'std': 0.0216, 'num_layers': 2, 'units_0': 112, 'units_1': 160, 'freezed_layer_from_right': 1}. Best is trial 244 with value: 0.017156001180410385.\n"
     ]
    },
    {
     "name": "stdout",
     "output_type": "stream",
     "text": [
      "|\u001b[92m█\u001b[0m\u001b[92m█\u001b[0m\u001b[92m█\u001b[0m\u001b[30m█\u001b[0m\u001b[30m█\u001b[0m\u001b[30m█\u001b[0m\u001b[30m█\u001b[0m\u001b[30m█\u001b[0m\u001b[30m█\u001b[0m\u001b[30m█\u001b[0m\u001b[30m█\u001b[0m\u001b[30m█\u001b[0m\u001b[30m█\u001b[0m\u001b[30m█\u001b[0m\u001b[30m█\u001b[0m\u001b[30m█\u001b[0m\u001b[30m█\u001b[0m\u001b[30m█\u001b[0m\u001b[30m█\u001b[0m\u001b[30m█\u001b[0m|(1592/10000) (0.02s avg time) ETA: ~04 min -  MSE (TRAIN) : \u001b[93m0.060661\u001b[0m, MSE (VAL) : \u001b[96m0.062190\u001b[0m -- BEST Val Loss : \u001b[92m0.059051\u001b[0m (at epoch 1090) Eary Stopping in: 0001   \r"
     ]
    },
    {
     "name": "stderr",
     "output_type": "stream",
     "text": [
      "[I 2024-05-09 00:20:29,155] Trial 276 finished with value: 0.020254602655768394 and parameters: {'std': 0.0171, 'num_layers': 2, 'units_0': 128, 'units_1': 160, 'freezed_layer_from_right': 1}. Best is trial 244 with value: 0.017156001180410385.\n"
     ]
    },
    {
     "name": "stdout",
     "output_type": "stream",
     "text": [
      "|\u001b[92m█\u001b[0m\u001b[92m█\u001b[0m\u001b[30m█\u001b[0m\u001b[30m█\u001b[0m\u001b[30m█\u001b[0m\u001b[30m█\u001b[0m\u001b[30m█\u001b[0m\u001b[30m█\u001b[0m\u001b[30m█\u001b[0m\u001b[30m█\u001b[0m\u001b[30m█\u001b[0m\u001b[30m█\u001b[0m\u001b[30m█\u001b[0m\u001b[30m█\u001b[0m\u001b[30m█\u001b[0m\u001b[30m█\u001b[0m\u001b[30m█\u001b[0m\u001b[30m█\u001b[0m\u001b[30m█\u001b[0m\u001b[30m█\u001b[0m|(1063/10000) (0.02s avg time) ETA: ~04 min -  MSE (TRAIN) : \u001b[93m0.055701\u001b[0m, MSE (VAL) : \u001b[96m0.057650\u001b[0m -- BEST Val Loss : \u001b[92m0.055118\u001b[0m (at epoch 561) Eary Stopping in: 0001   \r"
     ]
    },
    {
     "name": "stderr",
     "output_type": "stream",
     "text": [
      "[I 2024-05-09 00:24:42,473] Trial 277 finished with value: 0.019736234098672867 and parameters: {'std': 0.0186, 'num_layers': 2, 'units_0': 144, 'units_1': 160, 'freezed_layer_from_right': 1}. Best is trial 244 with value: 0.017156001180410385.\n"
     ]
    },
    {
     "name": "stdout",
     "output_type": "stream",
     "text": [
      "|\u001b[92m█\u001b[0m\u001b[92m█\u001b[0m\u001b[92m█\u001b[0m\u001b[92m█\u001b[0m\u001b[30m█\u001b[0m\u001b[30m█\u001b[0m\u001b[30m█\u001b[0m\u001b[30m█\u001b[0m\u001b[30m█\u001b[0m\u001b[30m█\u001b[0m\u001b[30m█\u001b[0m\u001b[30m█\u001b[0m\u001b[30m█\u001b[0m\u001b[30m█\u001b[0m\u001b[30m█\u001b[0m\u001b[30m█\u001b[0m\u001b[30m█\u001b[0m\u001b[30m█\u001b[0m\u001b[30m█\u001b[0m\u001b[30m█\u001b[0m|(2102/10000) (0.02s avg time) ETA: ~04 min -  MSE (TRAIN) : \u001b[93m0.059692\u001b[0m, MSE (VAL) : \u001b[96m0.060533\u001b[0m -- BEST Val Loss : \u001b[92m0.059756\u001b[0m (at epoch 1600) Eary Stopping in: 0001   \r"
     ]
    },
    {
     "name": "stderr",
     "output_type": "stream",
     "text": [
      "[I 2024-05-09 00:29:18,890] Trial 278 finished with value: 0.019665565341711044 and parameters: {'std': 0.0161, 'num_layers': 2, 'units_0': 144, 'units_1': 160, 'freezed_layer_from_right': 1}. Best is trial 244 with value: 0.017156001180410385.\n"
     ]
    },
    {
     "name": "stdout",
     "output_type": "stream",
     "text": [
      "|\u001b[92m█\u001b[0m\u001b[92m█\u001b[0m\u001b[92m█\u001b[0m\u001b[92m█\u001b[0m\u001b[30m█\u001b[0m\u001b[30m█\u001b[0m\u001b[30m█\u001b[0m\u001b[30m█\u001b[0m\u001b[30m█\u001b[0m\u001b[30m█\u001b[0m\u001b[30m█\u001b[0m\u001b[30m█\u001b[0m\u001b[30m█\u001b[0m\u001b[30m█\u001b[0m\u001b[30m█\u001b[0m\u001b[30m█\u001b[0m\u001b[30m█\u001b[0m\u001b[30m█\u001b[0m\u001b[30m█\u001b[0m\u001b[30m█\u001b[0m|(2425/10000) (0.03s avg time) ETA: ~04 min -  MSE (TRAIN) : \u001b[93m0.061629\u001b[0m, MSE (VAL) : \u001b[96m0.056728\u001b[0m -- BEST Val Loss : \u001b[92m0.055876\u001b[0m (at epoch 1923) Eary Stopping in: 0001   \r"
     ]
    },
    {
     "name": "stderr",
     "output_type": "stream",
     "text": [
      "[I 2024-05-09 00:32:41,929] Trial 279 finished with value: 0.02108340710401535 and parameters: {'std': 0.0201, 'num_layers': 5, 'units_0': 160, 'units_1': 176, 'units_2': 112, 'units_3': 96, 'units_4': 80, 'freezed_layer_from_right': 1}. Best is trial 244 with value: 0.017156001180410385.\n"
     ]
    },
    {
     "name": "stdout",
     "output_type": "stream",
     "text": [
      "|\u001b[92m█\u001b[0m\u001b[92m█\u001b[0m\u001b[92m█\u001b[0m\u001b[30m█\u001b[0m\u001b[30m█\u001b[0m\u001b[30m█\u001b[0m\u001b[30m█\u001b[0m\u001b[30m█\u001b[0m\u001b[30m█\u001b[0m\u001b[30m█\u001b[0m\u001b[30m█\u001b[0m\u001b[30m█\u001b[0m\u001b[30m█\u001b[0m\u001b[30m█\u001b[0m\u001b[30m█\u001b[0m\u001b[30m█\u001b[0m\u001b[30m█\u001b[0m\u001b[30m█\u001b[0m\u001b[30m█\u001b[0m\u001b[30m█\u001b[0m|(1765/10000) (0.02s avg time) ETA: ~04 min -  MSE (TRAIN) : \u001b[93m0.060724\u001b[0m, MSE (VAL) : \u001b[96m0.063371\u001b[0m -- BEST Val Loss : \u001b[92m0.060579\u001b[0m (at epoch 1263) Eary Stopping in: 0001   \r"
     ]
    },
    {
     "name": "stderr",
     "output_type": "stream",
     "text": [
      "[I 2024-05-09 00:37:11,805] Trial 280 finished with value: 0.020550398156046867 and parameters: {'std': 0.0146, 'num_layers': 2, 'units_0': 160, 'units_1': 160, 'freezed_layer_from_right': 1}. Best is trial 244 with value: 0.017156001180410385.\n"
     ]
    },
    {
     "name": "stdout",
     "output_type": "stream",
     "text": [
      "|\u001b[92m█\u001b[0m\u001b[92m█\u001b[0m\u001b[30m█\u001b[0m\u001b[30m█\u001b[0m\u001b[30m█\u001b[0m\u001b[30m█\u001b[0m\u001b[30m█\u001b[0m\u001b[30m█\u001b[0m\u001b[30m█\u001b[0m\u001b[30m█\u001b[0m\u001b[30m█\u001b[0m\u001b[30m█\u001b[0m\u001b[30m█\u001b[0m\u001b[30m█\u001b[0m\u001b[30m█\u001b[0m\u001b[30m█\u001b[0m\u001b[30m█\u001b[0m\u001b[30m█\u001b[0m\u001b[30m█\u001b[0m\u001b[30m█\u001b[0m|(1260/10000) (0.02s avg time) ETA: ~04 min -  MSE (TRAIN) : \u001b[93m0.095451\u001b[0m, MSE (VAL) : \u001b[96m0.098052\u001b[0m -- BEST Val Loss : \u001b[92m0.086566\u001b[0m (at epoch 758) Eary Stopping in: 0001   \r"
     ]
    },
    {
     "name": "stderr",
     "output_type": "stream",
     "text": [
      "[I 2024-05-09 00:38:36,461] Trial 281 finished with value: 0.02173403650522232 and parameters: {'std': 0.022099999999999998, 'num_layers': 2, 'units_0': 160, 'units_1': 160, 'freezed_layer_from_right': 1}. Best is trial 244 with value: 0.017156001180410385.\n"
     ]
    },
    {
     "name": "stdout",
     "output_type": "stream",
     "text": [
      "|\u001b[92m█\u001b[0m\u001b[92m█\u001b[0m\u001b[92m█\u001b[0m\u001b[30m█\u001b[0m\u001b[30m█\u001b[0m\u001b[30m█\u001b[0m\u001b[30m█\u001b[0m\u001b[30m█\u001b[0m\u001b[30m█\u001b[0m\u001b[30m█\u001b[0m\u001b[30m█\u001b[0m\u001b[30m█\u001b[0m\u001b[30m█\u001b[0m\u001b[30m█\u001b[0m\u001b[30m█\u001b[0m\u001b[30m█\u001b[0m\u001b[30m█\u001b[0m\u001b[30m█\u001b[0m\u001b[30m█\u001b[0m\u001b[30m█\u001b[0m|(1857/10000) (0.02s avg time) ETA: ~03 min -  MSE (TRAIN) : \u001b[93m0.113158\u001b[0m, MSE (VAL) : \u001b[96m0.111206\u001b[0m -- BEST Val Loss : \u001b[92m0.105079\u001b[0m (at epoch 1355) Eary Stopping in: 0001   \r"
     ]
    },
    {
     "name": "stderr",
     "output_type": "stream",
     "text": [
      "[I 2024-05-09 00:40:20,026] Trial 282 finished with value: 0.025223109871149063 and parameters: {'std': 0.0181, 'num_layers': 2, 'units_0': 160, 'units_1': 160, 'freezed_layer_from_right': 1}. Best is trial 244 with value: 0.017156001180410385.\n"
     ]
    },
    {
     "name": "stdout",
     "output_type": "stream",
     "text": [
      "|\u001b[92m█\u001b[0m\u001b[92m█\u001b[0m\u001b[92m█\u001b[0m\u001b[92m█\u001b[0m\u001b[30m█\u001b[0m\u001b[30m█\u001b[0m\u001b[30m█\u001b[0m\u001b[30m█\u001b[0m\u001b[30m█\u001b[0m\u001b[30m█\u001b[0m\u001b[30m█\u001b[0m\u001b[30m█\u001b[0m\u001b[30m█\u001b[0m\u001b[30m█\u001b[0m\u001b[30m█\u001b[0m\u001b[30m█\u001b[0m\u001b[30m█\u001b[0m\u001b[30m█\u001b[0m\u001b[30m█\u001b[0m\u001b[30m█\u001b[0m|(2087/10000) (0.02s avg time) ETA: ~03 min -  MSE (TRAIN) : \u001b[93m0.061381\u001b[0m, MSE (VAL) : \u001b[96m0.062434\u001b[0m -- BEST Val Loss : \u001b[92m0.060713\u001b[0m (at epoch 1585) Eary Stopping in: 0001   \r"
     ]
    },
    {
     "name": "stderr",
     "output_type": "stream",
     "text": [
      "[I 2024-05-09 00:44:56,973] Trial 283 finished with value: 0.01764066331088543 and parameters: {'std': 0.0166, 'num_layers': 2, 'units_0': 144, 'units_1': 160, 'freezed_layer_from_right': 1}. Best is trial 244 with value: 0.017156001180410385.\n"
     ]
    },
    {
     "name": "stdout",
     "output_type": "stream",
     "text": [
      "|\u001b[92m█\u001b[0m\u001b[30m█\u001b[0m\u001b[30m█\u001b[0m\u001b[30m█\u001b[0m\u001b[30m█\u001b[0m\u001b[30m█\u001b[0m\u001b[30m█\u001b[0m\u001b[30m█\u001b[0m\u001b[30m█\u001b[0m\u001b[30m█\u001b[0m\u001b[30m█\u001b[0m\u001b[30m█\u001b[0m\u001b[30m█\u001b[0m\u001b[30m█\u001b[0m\u001b[30m█\u001b[0m\u001b[30m█\u001b[0m\u001b[30m█\u001b[0m\u001b[30m█\u001b[0m\u001b[30m█\u001b[0m\u001b[30m█\u001b[0m|(808/10000) (0.02s avg time) ETA: ~04 min -  MSE (TRAIN) : \u001b[93m0.059678\u001b[0m, MSE (VAL) : \u001b[96m0.060256\u001b[0m -- BEST Val Loss : \u001b[92m0.059417\u001b[0m (at epoch 306) Eary Stopping in: 0001   \r"
     ]
    },
    {
     "name": "stderr",
     "output_type": "stream",
     "text": [
      "[I 2024-05-09 00:49:04,129] Trial 284 finished with value: 0.021081969141960144 and parameters: {'std': 0.0141, 'num_layers': 2, 'units_0': 128, 'units_1': 144, 'freezed_layer_from_right': 1}. Best is trial 244 with value: 0.017156001180410385.\n"
     ]
    },
    {
     "name": "stdout",
     "output_type": "stream",
     "text": [
      "|\u001b[92m█\u001b[0m\u001b[92m█\u001b[0m\u001b[92m█\u001b[0m\u001b[92m█\u001b[0m\u001b[92m█\u001b[0m\u001b[92m█\u001b[0m\u001b[30m█\u001b[0m\u001b[30m█\u001b[0m\u001b[30m█\u001b[0m\u001b[30m█\u001b[0m\u001b[30m█\u001b[0m\u001b[30m█\u001b[0m\u001b[30m█\u001b[0m\u001b[30m█\u001b[0m\u001b[30m█\u001b[0m\u001b[30m█\u001b[0m\u001b[30m█\u001b[0m\u001b[30m█\u001b[0m\u001b[30m█\u001b[0m\u001b[30m█\u001b[0m|(3052/10000) (0.02s avg time) ETA: ~03 min -  MSE (TRAIN) : \u001b[93m0.066076\u001b[0m, MSE (VAL) : \u001b[96m0.067279\u001b[0m -- BEST Val Loss : \u001b[92m0.067150\u001b[0m (at epoch 2550) Eary Stopping in: 0001   \r"
     ]
    },
    {
     "name": "stderr",
     "output_type": "stream",
     "text": [
      "[I 2024-05-09 00:54:01,805] Trial 285 finished with value: 0.02362373284995556 and parameters: {'std': 0.0116, 'num_layers': 2, 'units_0': 144, 'units_1': 64, 'freezed_layer_from_right': 1}. Best is trial 244 with value: 0.017156001180410385.\n"
     ]
    },
    {
     "name": "stdout",
     "output_type": "stream",
     "text": [
      "|\u001b[92m█\u001b[0m\u001b[92m█\u001b[0m\u001b[30m█\u001b[0m\u001b[30m█\u001b[0m\u001b[30m█\u001b[0m\u001b[30m█\u001b[0m\u001b[30m█\u001b[0m\u001b[30m█\u001b[0m\u001b[30m█\u001b[0m\u001b[30m█\u001b[0m\u001b[30m█\u001b[0m\u001b[30m█\u001b[0m\u001b[30m█\u001b[0m\u001b[30m█\u001b[0m\u001b[30m█\u001b[0m\u001b[30m█\u001b[0m\u001b[30m█\u001b[0m\u001b[30m█\u001b[0m\u001b[30m█\u001b[0m\u001b[30m█\u001b[0m|(1373/10000) (0.02s avg time) ETA: ~04 min -  MSE (TRAIN) : \u001b[93m0.058145\u001b[0m, MSE (VAL) : \u001b[96m0.058571\u001b[0m -- BEST Val Loss : \u001b[92m0.057866\u001b[0m (at epoch 871) Eary Stopping in: 0001   \r"
     ]
    },
    {
     "name": "stderr",
     "output_type": "stream",
     "text": [
      "[I 2024-05-09 00:58:23,712] Trial 286 finished with value: 0.019246749579906464 and parameters: {'std': 0.0166, 'num_layers': 2, 'units_0': 144, 'units_1': 176, 'freezed_layer_from_right': 1}. Best is trial 244 with value: 0.017156001180410385.\n"
     ]
    },
    {
     "name": "stdout",
     "output_type": "stream",
     "text": [
      "|\u001b[92m█\u001b[0m\u001b[92m█\u001b[0m\u001b[30m█\u001b[0m\u001b[30m█\u001b[0m\u001b[30m█\u001b[0m\u001b[30m█\u001b[0m\u001b[30m█\u001b[0m\u001b[30m█\u001b[0m\u001b[30m█\u001b[0m\u001b[30m█\u001b[0m\u001b[30m█\u001b[0m\u001b[30m█\u001b[0m\u001b[30m█\u001b[0m\u001b[30m█\u001b[0m\u001b[30m█\u001b[0m\u001b[30m█\u001b[0m\u001b[30m█\u001b[0m\u001b[30m█\u001b[0m\u001b[30m█\u001b[0m\u001b[30m█\u001b[0m|(1332/10000) (0.02s avg time) ETA: ~04 min -  MSE (TRAIN) : \u001b[93m0.121023\u001b[0m, MSE (VAL) : \u001b[96m0.109235\u001b[0m -- BEST Val Loss : \u001b[92m0.018726\u001b[0m (at epoch 830) Eary Stopping in: 0001   \r"
     ]
    },
    {
     "name": "stderr",
     "output_type": "stream",
     "text": [
      "[I 2024-05-09 00:59:45,870] Trial 287 finished with value: 0.03656693547964096 and parameters: {'std': 0.0776, 'num_layers': 2, 'units_0': 144, 'units_1': 144, 'freezed_layer_from_right': 1}. Best is trial 244 with value: 0.017156001180410385.\n"
     ]
    },
    {
     "name": "stdout",
     "output_type": "stream",
     "text": [
      "|\u001b[92m█\u001b[0m\u001b[92m█\u001b[0m\u001b[92m█\u001b[0m\u001b[92m█\u001b[0m\u001b[92m█\u001b[0m\u001b[30m█\u001b[0m\u001b[30m█\u001b[0m\u001b[30m█\u001b[0m\u001b[30m█\u001b[0m\u001b[30m█\u001b[0m\u001b[30m█\u001b[0m\u001b[30m█\u001b[0m\u001b[30m█\u001b[0m\u001b[30m█\u001b[0m\u001b[30m█\u001b[0m\u001b[30m█\u001b[0m\u001b[30m█\u001b[0m\u001b[30m█\u001b[0m\u001b[30m█\u001b[0m\u001b[30m█\u001b[0m|(2545/10000) (0.02s avg time) ETA: ~03 min -  MSE (TRAIN) : \u001b[93m0.064872\u001b[0m, MSE (VAL) : \u001b[96m0.064429\u001b[0m -- BEST Val Loss : \u001b[92m0.063382\u001b[0m (at epoch 2043) Eary Stopping in: 0001   \r"
     ]
    },
    {
     "name": "stderr",
     "output_type": "stream",
     "text": [
      "[I 2024-05-09 01:04:31,569] Trial 288 finished with value: 0.021253254264593124 and parameters: {'std': 0.0166, 'num_layers': 2, 'units_0': 160, 'units_1': 48, 'freezed_layer_from_right': 1}. Best is trial 244 with value: 0.017156001180410385.\n"
     ]
    },
    {
     "name": "stdout",
     "output_type": "stream",
     "text": [
      "|\u001b[92m█\u001b[0m\u001b[92m█\u001b[0m\u001b[92m█\u001b[0m\u001b[30m█\u001b[0m\u001b[30m█\u001b[0m\u001b[30m█\u001b[0m\u001b[30m█\u001b[0m\u001b[30m█\u001b[0m\u001b[30m█\u001b[0m\u001b[30m█\u001b[0m\u001b[30m█\u001b[0m\u001b[30m█\u001b[0m\u001b[30m█\u001b[0m\u001b[30m█\u001b[0m\u001b[30m█\u001b[0m\u001b[30m█\u001b[0m\u001b[30m█\u001b[0m\u001b[30m█\u001b[0m\u001b[30m█\u001b[0m\u001b[30m█\u001b[0m|(1647/10000) (0.02s avg time) ETA: ~04 min -  MSE (TRAIN) : \u001b[93m0.071310\u001b[0m, MSE (VAL) : \u001b[96m0.069887\u001b[0m -- BEST Val Loss : \u001b[92m0.068093\u001b[0m (at epoch 1145) Eary Stopping in: 0001   \r"
     ]
    },
    {
     "name": "stderr",
     "output_type": "stream",
     "text": [
      "[I 2024-05-09 01:09:01,254] Trial 289 finished with value: 0.019546307623386383 and parameters: {'std': 0.0131, 'num_layers': 2, 'units_0': 128, 'units_1': 160, 'freezed_layer_from_right': 1}. Best is trial 244 with value: 0.017156001180410385.\n"
     ]
    },
    {
     "name": "stdout",
     "output_type": "stream",
     "text": [
      "|\u001b[92m█\u001b[0m\u001b[92m█\u001b[0m\u001b[92m█\u001b[0m\u001b[30m█\u001b[0m\u001b[30m█\u001b[0m\u001b[30m█\u001b[0m\u001b[30m█\u001b[0m\u001b[30m█\u001b[0m\u001b[30m█\u001b[0m\u001b[30m█\u001b[0m\u001b[30m█\u001b[0m\u001b[30m█\u001b[0m\u001b[30m█\u001b[0m\u001b[30m█\u001b[0m\u001b[30m█\u001b[0m\u001b[30m█\u001b[0m\u001b[30m█\u001b[0m\u001b[30m█\u001b[0m\u001b[30m█\u001b[0m\u001b[30m█\u001b[0m|(1838/10000) (0.02s avg time) ETA: ~04 min -  MSE (TRAIN) : \u001b[93m0.088997\u001b[0m, MSE (VAL) : \u001b[96m0.090323\u001b[0m -- BEST Val Loss : \u001b[92m0.089409\u001b[0m (at epoch 1336) Eary Stopping in: 0001   \r"
     ]
    },
    {
     "name": "stderr",
     "output_type": "stream",
     "text": [
      "[I 2024-05-09 01:13:30,565] Trial 290 finished with value: 0.022881269454956055 and parameters: {'std': 0.0186, 'num_layers': 2, 'units_0': 160, 'units_1': 16, 'freezed_layer_from_right': 1}. Best is trial 244 with value: 0.017156001180410385.\n"
     ]
    },
    {
     "name": "stdout",
     "output_type": "stream",
     "text": [
      "|\u001b[92m█\u001b[0m\u001b[92m█\u001b[0m\u001b[92m█\u001b[0m\u001b[92m█\u001b[0m\u001b[92m█\u001b[0m\u001b[92m█\u001b[0m\u001b[30m█\u001b[0m\u001b[30m█\u001b[0m\u001b[30m█\u001b[0m\u001b[30m█\u001b[0m\u001b[30m█\u001b[0m\u001b[30m█\u001b[0m\u001b[30m█\u001b[0m\u001b[30m█\u001b[0m\u001b[30m█\u001b[0m\u001b[30m█\u001b[0m\u001b[30m█\u001b[0m\u001b[30m█\u001b[0m\u001b[30m█\u001b[0m\u001b[30m█\u001b[0m|(3161/10000) (0.02s avg time) ETA: ~03 min -  MSE (TRAIN) : \u001b[93m0.068110\u001b[0m, MSE (VAL) : \u001b[96m0.065727\u001b[0m -- BEST Val Loss : \u001b[92m0.065059\u001b[0m (at epoch 2659) Eary Stopping in: 0001   \r"
     ]
    },
    {
     "name": "stderr",
     "output_type": "stream",
     "text": [
      "[I 2024-05-09 01:18:30,493] Trial 291 finished with value: 0.02039618231356144 and parameters: {'std': 0.015099999999999999, 'num_layers': 2, 'units_0': 160, 'units_1': 80, 'freezed_layer_from_right': 1}. Best is trial 244 with value: 0.017156001180410385.\n"
     ]
    },
    {
     "name": "stdout",
     "output_type": "stream",
     "text": [
      "|\u001b[92m█\u001b[0m\u001b[92m█\u001b[0m\u001b[92m█\u001b[0m\u001b[92m█\u001b[0m\u001b[92m█\u001b[0m\u001b[30m█\u001b[0m\u001b[30m█\u001b[0m\u001b[30m█\u001b[0m\u001b[30m█\u001b[0m\u001b[30m█\u001b[0m\u001b[30m█\u001b[0m\u001b[30m█\u001b[0m\u001b[30m█\u001b[0m\u001b[30m█\u001b[0m\u001b[30m█\u001b[0m\u001b[30m█\u001b[0m\u001b[30m█\u001b[0m\u001b[30m█\u001b[0m\u001b[30m█\u001b[0m\u001b[30m█\u001b[0m|(2897/10000) (0.02s avg time) ETA: ~03 min -  MSE (TRAIN) : \u001b[93m0.039445\u001b[0m, MSE (VAL) : \u001b[96m0.041641\u001b[0m -- BEST Val Loss : \u001b[92m0.039566\u001b[0m (at epoch 2395) Eary Stopping in: 0001   \r"
     ]
    },
    {
     "name": "stderr",
     "output_type": "stream",
     "text": [
      "[I 2024-05-09 01:23:53,559] Trial 292 finished with value: 0.018222423270344734 and parameters: {'std': 0.0181, 'num_layers': 3, 'units_0': 160, 'units_1': 144, 'units_2': 176, 'freezed_layer_from_right': 2}. Best is trial 244 with value: 0.017156001180410385.\n"
     ]
    },
    {
     "name": "stdout",
     "output_type": "stream",
     "text": [
      "|\u001b[92m█\u001b[0m\u001b[92m█\u001b[0m\u001b[92m█\u001b[0m\u001b[92m█\u001b[0m\u001b[92m█\u001b[0m\u001b[92m█\u001b[0m\u001b[30m█\u001b[0m\u001b[30m█\u001b[0m\u001b[30m█\u001b[0m\u001b[30m█\u001b[0m\u001b[30m█\u001b[0m\u001b[30m█\u001b[0m\u001b[30m█\u001b[0m\u001b[30m█\u001b[0m\u001b[30m█\u001b[0m\u001b[30m█\u001b[0m\u001b[30m█\u001b[0m\u001b[30m█\u001b[0m\u001b[30m█\u001b[0m\u001b[30m█\u001b[0m|(3321/10000) (0.02s avg time) ETA: ~03 min -  MSE (TRAIN) : \u001b[93m0.058928\u001b[0m, MSE (VAL) : \u001b[96m0.057414\u001b[0m -- BEST Val Loss : \u001b[92m0.053462\u001b[0m (at epoch 2819) Eary Stopping in: 0001   \r"
     ]
    },
    {
     "name": "stderr",
     "output_type": "stream",
     "text": [
      "[I 2024-05-09 01:26:18,989] Trial 293 finished with value: 0.0197773315012455 and parameters: {'std': 0.0201, 'num_layers': 3, 'units_0': 144, 'units_1': 144, 'units_2': 176, 'freezed_layer_from_right': 2}. Best is trial 244 with value: 0.017156001180410385.\n"
     ]
    },
    {
     "name": "stdout",
     "output_type": "stream",
     "text": [
      "|\u001b[92m█\u001b[0m\u001b[92m█\u001b[0m\u001b[92m█\u001b[0m\u001b[92m█\u001b[0m\u001b[92m█\u001b[0m\u001b[92m█\u001b[0m\u001b[30m█\u001b[0m\u001b[30m█\u001b[0m\u001b[30m█\u001b[0m\u001b[30m█\u001b[0m\u001b[30m█\u001b[0m\u001b[30m█\u001b[0m\u001b[30m█\u001b[0m\u001b[30m█\u001b[0m\u001b[30m█\u001b[0m\u001b[30m█\u001b[0m\u001b[30m█\u001b[0m\u001b[30m█\u001b[0m\u001b[30m█\u001b[0m\u001b[30m█\u001b[0m|(3414/10000) (0.02s avg time) ETA: ~03 min -  MSE (TRAIN) : \u001b[93m0.050806\u001b[0m, MSE (VAL) : \u001b[96m0.052674\u001b[0m -- BEST Val Loss : \u001b[92m0.050794\u001b[0m (at epoch 2912) Eary Stopping in: 0001   \r"
     ]
    },
    {
     "name": "stderr",
     "output_type": "stream",
     "text": [
      "[I 2024-05-09 01:31:45,146] Trial 294 finished with value: 0.018086927011609077 and parameters: {'std': 0.0161, 'num_layers': 3, 'units_0': 96, 'units_1': 144, 'units_2': 160, 'freezed_layer_from_right': 1}. Best is trial 244 with value: 0.017156001180410385.\n"
     ]
    },
    {
     "name": "stdout",
     "output_type": "stream",
     "text": [
      "|\u001b[92m█\u001b[0m\u001b[92m█\u001b[0m\u001b[92m█\u001b[0m\u001b[30m█\u001b[0m\u001b[30m█\u001b[0m\u001b[30m█\u001b[0m\u001b[30m█\u001b[0m\u001b[30m█\u001b[0m\u001b[30m█\u001b[0m\u001b[30m█\u001b[0m\u001b[30m█\u001b[0m\u001b[30m█\u001b[0m\u001b[30m█\u001b[0m\u001b[30m█\u001b[0m\u001b[30m█\u001b[0m\u001b[30m█\u001b[0m\u001b[30m█\u001b[0m\u001b[30m█\u001b[0m\u001b[30m█\u001b[0m\u001b[30m█\u001b[0m|(1886/10000) (0.02s avg time) ETA: ~04 min -  MSE (TRAIN) : \u001b[93m0.055292\u001b[0m, MSE (VAL) : \u001b[96m0.057165\u001b[0m -- BEST Val Loss : \u001b[92m0.056704\u001b[0m (at epoch 1384) Eary Stopping in: 0001   \r"
     ]
    },
    {
     "name": "stderr",
     "output_type": "stream",
     "text": [
      "[I 2024-05-09 01:36:38,822] Trial 295 finished with value: 0.02039686217904091 and parameters: {'std': 0.011099999999999999, 'num_layers': 3, 'units_0': 96, 'units_1': 144, 'units_2': 144, 'freezed_layer_from_right': 2}. Best is trial 244 with value: 0.017156001180410385.\n"
     ]
    },
    {
     "name": "stdout",
     "output_type": "stream",
     "text": [
      "|\u001b[92m█\u001b[0m\u001b[92m█\u001b[0m\u001b[92m█\u001b[0m\u001b[92m█\u001b[0m\u001b[92m█\u001b[0m\u001b[92m█\u001b[0m\u001b[92m█\u001b[0m\u001b[92m█\u001b[0m\u001b[30m█\u001b[0m\u001b[30m█\u001b[0m\u001b[30m█\u001b[0m\u001b[30m█\u001b[0m\u001b[30m█\u001b[0m\u001b[30m█\u001b[0m\u001b[30m█\u001b[0m\u001b[30m█\u001b[0m\u001b[30m█\u001b[0m\u001b[30m█\u001b[0m\u001b[30m█\u001b[0m\u001b[30m█\u001b[0m|(4138/10000) (0.02s avg time) ETA: ~03 min -  MSE (TRAIN) : \u001b[93m0.054851\u001b[0m, MSE (VAL) : \u001b[96m0.053910\u001b[0m -- BEST Val Loss : \u001b[92m0.052427\u001b[0m (at epoch 3636) Eary Stopping in: 0001   \r"
     ]
    },
    {
     "name": "stderr",
     "output_type": "stream",
     "text": [
      "[I 2024-05-09 01:41:30,112] Trial 296 finished with value: 0.019960826262831688 and parameters: {'std': 0.0156, 'num_layers': 3, 'units_0': 96, 'units_1': 144, 'units_2': 160, 'freezed_layer_from_right': 2}. Best is trial 244 with value: 0.017156001180410385.\n"
     ]
    },
    {
     "name": "stdout",
     "output_type": "stream",
     "text": [
      "|\u001b[92m█\u001b[0m\u001b[92m█\u001b[0m\u001b[92m█\u001b[0m\u001b[92m█\u001b[0m\u001b[30m█\u001b[0m\u001b[30m█\u001b[0m\u001b[30m█\u001b[0m\u001b[30m█\u001b[0m\u001b[30m█\u001b[0m\u001b[30m█\u001b[0m\u001b[30m█\u001b[0m\u001b[30m█\u001b[0m\u001b[30m█\u001b[0m\u001b[30m█\u001b[0m\u001b[30m█\u001b[0m\u001b[30m█\u001b[0m\u001b[30m█\u001b[0m\u001b[30m█\u001b[0m\u001b[30m█\u001b[0m\u001b[30m█\u001b[0m|(2311/10000) (0.03s avg time) ETA: ~04 min -  MSE (TRAIN) : \u001b[93m0.050542\u001b[0m, MSE (VAL) : \u001b[96m0.050738\u001b[0m -- BEST Val Loss : \u001b[92m0.050048\u001b[0m (at epoch 1809) Eary Stopping in: 0001   \r"
     ]
    },
    {
     "name": "stderr",
     "output_type": "stream",
     "text": [
      "[I 2024-05-09 01:46:34,966] Trial 297 finished with value: 0.020512424409389496 and parameters: {'std': 0.0136, 'num_layers': 3, 'units_0': 80, 'units_1': 144, 'units_2': 160, 'freezed_layer_from_right': 2}. Best is trial 244 with value: 0.017156001180410385.\n"
     ]
    },
    {
     "name": "stdout",
     "output_type": "stream",
     "text": [
      "|\u001b[92m█\u001b[0m\u001b[92m█\u001b[0m\u001b[92m█\u001b[0m\u001b[92m█\u001b[0m\u001b[92m█\u001b[0m\u001b[92m█\u001b[0m\u001b[30m█\u001b[0m\u001b[30m█\u001b[0m\u001b[30m█\u001b[0m\u001b[30m█\u001b[0m\u001b[30m█\u001b[0m\u001b[30m█\u001b[0m\u001b[30m█\u001b[0m\u001b[30m█\u001b[0m\u001b[30m█\u001b[0m\u001b[30m█\u001b[0m\u001b[30m█\u001b[0m\u001b[30m█\u001b[0m\u001b[30m█\u001b[0m\u001b[30m█\u001b[0m|(3157/10000) (0.03s avg time) ETA: ~03 min -  MSE (TRAIN) : \u001b[93m0.045727\u001b[0m, MSE (VAL) : \u001b[96m0.047157\u001b[0m -- BEST Val Loss : \u001b[92m0.045450\u001b[0m (at epoch 2655) Eary Stopping in: 0001   \r"
     ]
    },
    {
     "name": "stderr",
     "output_type": "stream",
     "text": [
      "[I 2024-05-09 01:49:37,239] Trial 298 finished with value: 0.020653750747442245 and parameters: {'std': 0.0181, 'num_layers': 3, 'units_0': 64, 'units_1': 144, 'units_2': 176, 'freezed_layer_from_right': 2}. Best is trial 244 with value: 0.017156001180410385.\n"
     ]
    },
    {
     "name": "stdout",
     "output_type": "stream",
     "text": [
      "|\u001b[92m█\u001b[0m\u001b[92m█\u001b[0m\u001b[92m█\u001b[0m\u001b[92m█\u001b[0m\u001b[92m█\u001b[0m\u001b[92m█\u001b[0m\u001b[30m█\u001b[0m\u001b[30m█\u001b[0m\u001b[30m█\u001b[0m\u001b[30m█\u001b[0m\u001b[30m█\u001b[0m\u001b[30m█\u001b[0m\u001b[30m█\u001b[0m\u001b[30m█\u001b[0m\u001b[30m█\u001b[0m\u001b[30m█\u001b[0m\u001b[30m█\u001b[0m\u001b[30m█\u001b[0m\u001b[30m█\u001b[0m\u001b[30m█\u001b[0m|(3060/10000) (0.03s avg time) ETA: ~04 min -  MSE (TRAIN) : \u001b[93m0.045769\u001b[0m, MSE (VAL) : \u001b[96m0.046893\u001b[0m -- BEST Val Loss : \u001b[92m0.045637\u001b[0m (at epoch 2558) Eary Stopping in: 0001   \r"
     ]
    },
    {
     "name": "stderr",
     "output_type": "stream",
     "text": [
      "[I 2024-05-09 01:55:25,450] Trial 299 finished with value: 0.021463146433234215 and parameters: {'std': 0.0161, 'num_layers': 4, 'units_0': 112, 'units_1': 144, 'units_2': 128, 'units_3': 48, 'freezed_layer_from_right': 3}. Best is trial 244 with value: 0.017156001180410385.\n"
     ]
    },
    {
     "name": "stdout",
     "output_type": "stream",
     "text": [
      "|\u001b[92m█\u001b[0m\u001b[92m█\u001b[0m\u001b[30m█\u001b[0m\u001b[30m█\u001b[0m\u001b[30m█\u001b[0m\u001b[30m█\u001b[0m\u001b[30m█\u001b[0m\u001b[30m█\u001b[0m\u001b[30m█\u001b[0m\u001b[30m█\u001b[0m\u001b[30m█\u001b[0m\u001b[30m█\u001b[0m\u001b[30m█\u001b[0m\u001b[30m█\u001b[0m\u001b[30m█\u001b[0m\u001b[30m█\u001b[0m\u001b[30m█\u001b[0m\u001b[30m█\u001b[0m\u001b[30m█\u001b[0m\u001b[30m█\u001b[0m|(1018/10000) (0.02s avg time) ETA: ~04 min -  MSE (TRAIN) : \u001b[93m0.056837\u001b[0m, MSE (VAL) : \u001b[96m0.054083\u001b[0m -- BEST Val Loss : \u001b[92m0.052338\u001b[0m (at epoch 516) Eary Stopping in: 0001   \r"
     ]
    },
    {
     "name": "stderr",
     "output_type": "stream",
     "text": [
      "[I 2024-05-09 02:00:20,787] Trial 300 finished with value: 0.022608868777751923 and parameters: {'std': 0.0216, 'num_layers': 2, 'units_0': 112, 'units_1': 144, 'freezed_layer_from_right': 1}. Best is trial 244 with value: 0.017156001180410385.\n"
     ]
    },
    {
     "name": "stdout",
     "output_type": "stream",
     "text": [
      "|\u001b[92m█\u001b[0m\u001b[92m█\u001b[0m\u001b[92m█\u001b[0m\u001b[92m█\u001b[0m\u001b[30m█\u001b[0m\u001b[30m█\u001b[0m\u001b[30m█\u001b[0m\u001b[30m█\u001b[0m\u001b[30m█\u001b[0m\u001b[30m█\u001b[0m\u001b[30m█\u001b[0m\u001b[30m█\u001b[0m\u001b[30m█\u001b[0m\u001b[30m█\u001b[0m\u001b[30m█\u001b[0m\u001b[30m█\u001b[0m\u001b[30m█\u001b[0m\u001b[30m█\u001b[0m\u001b[30m█\u001b[0m\u001b[30m█\u001b[0m|(2341/10000) (0.03s avg time) ETA: ~04 min -  MSE (TRAIN) : \u001b[93m0.045074\u001b[0m, MSE (VAL) : \u001b[96m0.045993\u001b[0m -- BEST Val Loss : \u001b[92m0.045616\u001b[0m (at epoch 1839) Eary Stopping in: 0001   \r"
     ]
    },
    {
     "name": "stderr",
     "output_type": "stream",
     "text": [
      "[I 2024-05-09 02:05:46,322] Trial 301 finished with value: 0.021033357828855515 and parameters: {'std': 0.0121, 'num_layers': 4, 'units_0': 80, 'units_1': 144, 'units_2': 160, 'units_3': 112, 'freezed_layer_from_right': 3}. Best is trial 244 with value: 0.017156001180410385.\n"
     ]
    },
    {
     "name": "stdout",
     "output_type": "stream",
     "text": [
      "|\u001b[92m█\u001b[0m\u001b[92m█\u001b[0m\u001b[30m█\u001b[0m\u001b[30m█\u001b[0m\u001b[30m█\u001b[0m\u001b[30m█\u001b[0m\u001b[30m█\u001b[0m\u001b[30m█\u001b[0m\u001b[30m█\u001b[0m\u001b[30m█\u001b[0m\u001b[30m█\u001b[0m\u001b[30m█\u001b[0m\u001b[30m█\u001b[0m\u001b[30m█\u001b[0m\u001b[30m█\u001b[0m\u001b[30m█\u001b[0m\u001b[30m█\u001b[0m\u001b[30m█\u001b[0m\u001b[30m█\u001b[0m\u001b[30m█\u001b[0m|(1377/10000) (0.02s avg time) ETA: ~04 min -  MSE (TRAIN) : \u001b[93m0.076146\u001b[0m, MSE (VAL) : \u001b[96m0.068063\u001b[0m -- BEST Val Loss : \u001b[92m0.065775\u001b[0m (at epoch 875) Eary Stopping in: 0001   \r"
     ]
    },
    {
     "name": "stderr",
     "output_type": "stream",
     "text": [
      "[I 2024-05-09 02:08:21,543] Trial 302 finished with value: 0.018952662125229836 and parameters: {'std': 0.0191, 'num_layers': 3, 'units_0': 176, 'units_1': 144, 'units_2': 144, 'freezed_layer_from_right': 1}. Best is trial 244 with value: 0.017156001180410385.\n"
     ]
    },
    {
     "name": "stdout",
     "output_type": "stream",
     "text": [
      "|\u001b[92m█\u001b[0m\u001b[92m█\u001b[0m\u001b[92m█\u001b[0m\u001b[92m█\u001b[0m\u001b[30m█\u001b[0m\u001b[30m█\u001b[0m\u001b[30m█\u001b[0m\u001b[30m█\u001b[0m\u001b[30m█\u001b[0m\u001b[30m█\u001b[0m\u001b[30m█\u001b[0m\u001b[30m█\u001b[0m\u001b[30m█\u001b[0m\u001b[30m█\u001b[0m\u001b[30m█\u001b[0m\u001b[30m█\u001b[0m\u001b[30m█\u001b[0m\u001b[30m█\u001b[0m\u001b[30m█\u001b[0m\u001b[30m█\u001b[0m|(2225/10000) (0.02s avg time) ETA: ~03 min -  MSE (TRAIN) : \u001b[93m0.074327\u001b[0m, MSE (VAL) : \u001b[96m0.074119\u001b[0m -- BEST Val Loss : \u001b[92m0.070612\u001b[0m (at epoch 1723) Eary Stopping in: 0001   \r"
     ]
    },
    {
     "name": "stderr",
     "output_type": "stream",
     "text": [
      "[I 2024-05-09 02:10:09,052] Trial 303 finished with value: 0.021466491743922234 and parameters: {'std': 0.0251, 'num_layers': 2, 'units_0': 96, 'units_1': 160, 'freezed_layer_from_right': 1}. Best is trial 244 with value: 0.017156001180410385.\n"
     ]
    },
    {
     "name": "stdout",
     "output_type": "stream",
     "text": [
      "|\u001b[92m█\u001b[0m\u001b[92m█\u001b[0m\u001b[92m█\u001b[0m\u001b[30m█\u001b[0m\u001b[30m█\u001b[0m\u001b[30m█\u001b[0m\u001b[30m█\u001b[0m\u001b[30m█\u001b[0m\u001b[30m█\u001b[0m\u001b[30m█\u001b[0m\u001b[30m█\u001b[0m\u001b[30m█\u001b[0m\u001b[30m█\u001b[0m\u001b[30m█\u001b[0m\u001b[30m█\u001b[0m\u001b[30m█\u001b[0m\u001b[30m█\u001b[0m\u001b[30m█\u001b[0m\u001b[30m█\u001b[0m\u001b[30m█\u001b[0m|(1524/10000) (0.02s avg time) ETA: ~03 min -  MSE (TRAIN) : \u001b[93m0.062901\u001b[0m, MSE (VAL) : \u001b[96m0.064841\u001b[0m -- BEST Val Loss : \u001b[92m0.063387\u001b[0m (at epoch 1022) Eary Stopping in: 0001   \r"
     ]
    },
    {
     "name": "stderr",
     "output_type": "stream",
     "text": [
      "[I 2024-05-09 02:14:34,974] Trial 304 finished with value: 0.019794240593910217 and parameters: {'std': 0.0171, 'num_layers': 2, 'units_0': 96, 'units_1': 144, 'freezed_layer_from_right': 1}. Best is trial 244 with value: 0.017156001180410385.\n"
     ]
    },
    {
     "name": "stdout",
     "output_type": "stream",
     "text": [
      "|\u001b[92m█\u001b[0m\u001b[30m█\u001b[0m\u001b[30m█\u001b[0m\u001b[30m█\u001b[0m\u001b[30m█\u001b[0m\u001b[30m█\u001b[0m\u001b[30m█\u001b[0m\u001b[30m█\u001b[0m\u001b[30m█\u001b[0m\u001b[30m█\u001b[0m\u001b[30m█\u001b[0m\u001b[30m█\u001b[0m\u001b[30m█\u001b[0m\u001b[30m█\u001b[0m\u001b[30m█\u001b[0m\u001b[30m█\u001b[0m\u001b[30m█\u001b[0m\u001b[30m█\u001b[0m\u001b[30m█\u001b[0m\u001b[30m█\u001b[0m|(672/10000) (0.02s avg time) ETA: ~04 min -  MSE (TRAIN) : \u001b[93m0.062394\u001b[0m, MSE (VAL) : \u001b[96m0.061521\u001b[0m -- BEST Val Loss : \u001b[92m0.061315\u001b[0m (at epoch 170) Eary Stopping in: 0001   \r"
     ]
    },
    {
     "name": "stderr",
     "output_type": "stream",
     "text": [
      "[I 2024-05-09 02:18:58,091] Trial 305 finished with value: 0.0231688991189003 and parameters: {'std': 0.0146, 'num_layers': 3, 'units_0': 160, 'units_1': 160, 'units_2': 112, 'freezed_layer_from_right': 1}. Best is trial 244 with value: 0.017156001180410385.\n"
     ]
    },
    {
     "name": "stdout",
     "output_type": "stream",
     "text": [
      "|\u001b[92m█\u001b[0m\u001b[92m█\u001b[0m\u001b[92m█\u001b[0m\u001b[30m█\u001b[0m\u001b[30m█\u001b[0m\u001b[30m█\u001b[0m\u001b[30m█\u001b[0m\u001b[30m█\u001b[0m\u001b[30m█\u001b[0m\u001b[30m█\u001b[0m\u001b[30m█\u001b[0m\u001b[30m█\u001b[0m\u001b[30m█\u001b[0m\u001b[30m█\u001b[0m\u001b[30m█\u001b[0m\u001b[30m█\u001b[0m\u001b[30m█\u001b[0m\u001b[30m█\u001b[0m\u001b[30m█\u001b[0m\u001b[30m█\u001b[0m|(1807/10000) (0.02s avg time) ETA: ~03 min -  MSE (TRAIN) : \u001b[93m0.074865\u001b[0m, MSE (VAL) : \u001b[96m0.074196\u001b[0m -- BEST Val Loss : \u001b[92m0.071467\u001b[0m (at epoch 1305) Eary Stopping in: 0001   \r"
     ]
    },
    {
     "name": "stderr",
     "output_type": "stream",
     "text": [
      "[I 2024-05-09 02:21:29,557] Trial 306 finished with value: 0.019307026639580727 and parameters: {'std': 0.0226, 'num_layers': 2, 'units_0': 176, 'units_1': 144, 'freezed_layer_from_right': 1}. Best is trial 244 with value: 0.017156001180410385.\n"
     ]
    },
    {
     "name": "stdout",
     "output_type": "stream",
     "text": [
      "|\u001b[92m█\u001b[0m\u001b[30m█\u001b[0m\u001b[30m█\u001b[0m\u001b[30m█\u001b[0m\u001b[30m█\u001b[0m\u001b[30m█\u001b[0m\u001b[30m█\u001b[0m\u001b[30m█\u001b[0m\u001b[30m█\u001b[0m\u001b[30m█\u001b[0m\u001b[30m█\u001b[0m\u001b[30m█\u001b[0m\u001b[30m█\u001b[0m\u001b[30m█\u001b[0m\u001b[30m█\u001b[0m\u001b[30m█\u001b[0m\u001b[30m█\u001b[0m\u001b[30m█\u001b[0m\u001b[30m█\u001b[0m\u001b[30m█\u001b[0m|(528/10000) (0.02s avg time) ETA: ~04 min -  MSE (TRAIN) : \u001b[93m0.043339\u001b[0m, MSE (VAL) : \u001b[96m0.037777\u001b[0m -- BEST Val Loss : \u001b[92m0.019771\u001b[0m (at epoch 26) Eary Stopping in: 0001   \r"
     ]
    },
    {
     "name": "stderr",
     "output_type": "stream",
     "text": [
      "[I 2024-05-09 02:23:49,591] Trial 307 finished with value: 0.028491899371147156 and parameters: {'std': 0.06810000000000001, 'num_layers': 3, 'units_0': 160, 'units_1': 144, 'units_2': 176, 'freezed_layer_from_right': 1}. Best is trial 244 with value: 0.017156001180410385.\n"
     ]
    },
    {
     "name": "stdout",
     "output_type": "stream",
     "text": [
      "|\u001b[92m█\u001b[0m\u001b[30m█\u001b[0m\u001b[30m█\u001b[0m\u001b[30m█\u001b[0m\u001b[30m█\u001b[0m\u001b[30m█\u001b[0m\u001b[30m█\u001b[0m\u001b[30m█\u001b[0m\u001b[30m█\u001b[0m\u001b[30m█\u001b[0m\u001b[30m█\u001b[0m\u001b[30m█\u001b[0m\u001b[30m█\u001b[0m\u001b[30m█\u001b[0m\u001b[30m█\u001b[0m\u001b[30m█\u001b[0m\u001b[30m█\u001b[0m\u001b[30m█\u001b[0m\u001b[30m█\u001b[0m\u001b[30m█\u001b[0m|(981/10000) (0.02s avg time) ETA: ~04 min -  MSE (TRAIN) : \u001b[93m0.111605\u001b[0m, MSE (VAL) : \u001b[96m0.112898\u001b[0m -- BEST Val Loss : \u001b[92m0.105471\u001b[0m (at epoch 479) Eary Stopping in: 0001   \r"
     ]
    },
    {
     "name": "stderr",
     "output_type": "stream",
     "text": [
      "[I 2024-05-09 02:25:07,499] Trial 308 finished with value: 0.027935119345784187 and parameters: {'std': 0.0196, 'num_layers': 2, 'units_0': 176, 'units_1': 160, 'freezed_layer_from_right': 1}. Best is trial 244 with value: 0.017156001180410385.\n"
     ]
    },
    {
     "name": "stdout",
     "output_type": "stream",
     "text": [
      "|\u001b[92m█\u001b[0m\u001b[92m█\u001b[0m\u001b[92m█\u001b[0m\u001b[30m█\u001b[0m\u001b[30m█\u001b[0m\u001b[30m█\u001b[0m\u001b[30m█\u001b[0m\u001b[30m█\u001b[0m\u001b[30m█\u001b[0m\u001b[30m█\u001b[0m\u001b[30m█\u001b[0m\u001b[30m█\u001b[0m\u001b[30m█\u001b[0m\u001b[30m█\u001b[0m\u001b[30m█\u001b[0m\u001b[30m█\u001b[0m\u001b[30m█\u001b[0m\u001b[30m█\u001b[0m\u001b[30m█\u001b[0m\u001b[30m█\u001b[0m|(1734/10000) (0.02s avg time) ETA: ~04 min -  MSE (TRAIN) : \u001b[93m0.057386\u001b[0m, MSE (VAL) : \u001b[96m0.058638\u001b[0m -- BEST Val Loss : \u001b[92m0.057145\u001b[0m (at epoch 1232) Eary Stopping in: 0001   \r"
     ]
    },
    {
     "name": "stderr",
     "output_type": "stream",
     "text": [
      "[I 2024-05-09 02:29:34,995] Trial 309 finished with value: 0.021824786439538002 and parameters: {'std': 0.0156, 'num_layers': 2, 'units_0': 144, 'units_1': 144, 'freezed_layer_from_right': 1}. Best is trial 244 with value: 0.017156001180410385.\n"
     ]
    },
    {
     "name": "stdout",
     "output_type": "stream",
     "text": [
      "|\u001b[92m█\u001b[0m\u001b[92m█\u001b[0m\u001b[30m█\u001b[0m\u001b[30m█\u001b[0m\u001b[30m█\u001b[0m\u001b[30m█\u001b[0m\u001b[30m█\u001b[0m\u001b[30m█\u001b[0m\u001b[30m█\u001b[0m\u001b[30m█\u001b[0m\u001b[30m█\u001b[0m\u001b[30m█\u001b[0m\u001b[30m█\u001b[0m\u001b[30m█\u001b[0m\u001b[30m█\u001b[0m\u001b[30m█\u001b[0m\u001b[30m█\u001b[0m\u001b[30m█\u001b[0m\u001b[30m█\u001b[0m\u001b[30m█\u001b[0m|(1479/10000) (0.02s avg time) ETA: ~04 min -  MSE (TRAIN) : \u001b[93m0.073995\u001b[0m, MSE (VAL) : \u001b[96m0.075360\u001b[0m -- BEST Val Loss : \u001b[92m0.071462\u001b[0m (at epoch 977) Eary Stopping in: 0001   \r"
     ]
    },
    {
     "name": "stderr",
     "output_type": "stream",
     "text": [
      "[I 2024-05-09 02:32:55,138] Trial 310 finished with value: 0.023082954809069633 and parameters: {'std': 0.0171, 'num_layers': 2, 'units_0': 160, 'units_1': 160, 'freezed_layer_from_right': 1}. Best is trial 244 with value: 0.017156001180410385.\n"
     ]
    },
    {
     "name": "stdout",
     "output_type": "stream",
     "text": [
      "|\u001b[92m█\u001b[0m\u001b[92m█\u001b[0m\u001b[92m█\u001b[0m\u001b[30m█\u001b[0m\u001b[30m█\u001b[0m\u001b[30m█\u001b[0m\u001b[30m█\u001b[0m\u001b[30m█\u001b[0m\u001b[30m█\u001b[0m\u001b[30m█\u001b[0m\u001b[30m█\u001b[0m\u001b[30m█\u001b[0m\u001b[30m█\u001b[0m\u001b[30m█\u001b[0m\u001b[30m█\u001b[0m\u001b[30m█\u001b[0m\u001b[30m█\u001b[0m\u001b[30m█\u001b[0m\u001b[30m█\u001b[0m\u001b[30m█\u001b[0m|(1577/10000) (0.02s avg time) ETA: ~03 min -  MSE (TRAIN) : \u001b[93m0.067068\u001b[0m, MSE (VAL) : \u001b[96m0.069318\u001b[0m -- BEST Val Loss : \u001b[92m0.067282\u001b[0m (at epoch 1075) Eary Stopping in: 0001   \r"
     ]
    },
    {
     "name": "stderr",
     "output_type": "stream",
     "text": [
      "[I 2024-05-09 02:37:19,771] Trial 311 finished with value: 0.02203570120036602 and parameters: {'std': 0.0136, 'num_layers': 2, 'units_0': 128, 'units_1': 144, 'freezed_layer_from_right': 1}. Best is trial 244 with value: 0.017156001180410385.\n"
     ]
    },
    {
     "name": "stdout",
     "output_type": "stream",
     "text": [
      "|\u001b[92m█\u001b[0m\u001b[92m█\u001b[0m\u001b[92m█\u001b[0m\u001b[30m█\u001b[0m\u001b[30m█\u001b[0m\u001b[30m█\u001b[0m\u001b[30m█\u001b[0m\u001b[30m█\u001b[0m\u001b[30m█\u001b[0m\u001b[30m█\u001b[0m\u001b[30m█\u001b[0m\u001b[30m█\u001b[0m\u001b[30m█\u001b[0m\u001b[30m█\u001b[0m\u001b[30m█\u001b[0m\u001b[30m█\u001b[0m\u001b[30m█\u001b[0m\u001b[30m█\u001b[0m\u001b[30m█\u001b[0m\u001b[30m█\u001b[0m|(1665/10000) (0.02s avg time) ETA: ~04 min -  MSE (TRAIN) : \u001b[93m0.051573\u001b[0m, MSE (VAL) : \u001b[96m0.050508\u001b[0m -- BEST Val Loss : \u001b[92m0.048724\u001b[0m (at epoch 1163) Eary Stopping in: 0001   \r"
     ]
    },
    {
     "name": "stderr",
     "output_type": "stream",
     "text": [
      "[I 2024-05-09 02:41:50,751] Trial 312 finished with value: 0.024132177233695984 and parameters: {'std': 0.0211, 'num_layers': 2, 'units_0': 160, 'units_1': 144, 'freezed_layer_from_right': 1}. Best is trial 244 with value: 0.017156001180410385.\n"
     ]
    },
    {
     "name": "stdout",
     "output_type": "stream",
     "text": [
      "|\u001b[92m█\u001b[0m\u001b[92m█\u001b[0m\u001b[30m█\u001b[0m\u001b[30m█\u001b[0m\u001b[30m█\u001b[0m\u001b[30m█\u001b[0m\u001b[30m█\u001b[0m\u001b[30m█\u001b[0m\u001b[30m█\u001b[0m\u001b[30m█\u001b[0m\u001b[30m█\u001b[0m\u001b[30m█\u001b[0m\u001b[30m█\u001b[0m\u001b[30m█\u001b[0m\u001b[30m█\u001b[0m\u001b[30m█\u001b[0m\u001b[30m█\u001b[0m\u001b[30m█\u001b[0m\u001b[30m█\u001b[0m\u001b[30m█\u001b[0m|(1248/10000) (0.02s avg time) ETA: ~04 min -  MSE (TRAIN) : \u001b[93m0.060564\u001b[0m, MSE (VAL) : \u001b[96m0.061874\u001b[0m -- BEST Val Loss : \u001b[92m0.058102\u001b[0m (at epoch 746) Eary Stopping in: 0001   \r"
     ]
    },
    {
     "name": "stderr",
     "output_type": "stream",
     "text": [
      "[I 2024-05-09 02:45:58,216] Trial 313 finished with value: 0.021584346890449524 and parameters: {'std': 0.0186, 'num_layers': 2, 'units_0': 160, 'units_1': 160, 'freezed_layer_from_right': 1}. Best is trial 244 with value: 0.017156001180410385.\n"
     ]
    },
    {
     "name": "stdout",
     "output_type": "stream",
     "text": [
      "|\u001b[92m█\u001b[0m\u001b[92m█\u001b[0m\u001b[92m█\u001b[0m\u001b[92m█\u001b[0m\u001b[30m█\u001b[0m\u001b[30m█\u001b[0m\u001b[30m█\u001b[0m\u001b[30m█\u001b[0m\u001b[30m█\u001b[0m\u001b[30m█\u001b[0m\u001b[30m█\u001b[0m\u001b[30m█\u001b[0m\u001b[30m█\u001b[0m\u001b[30m█\u001b[0m\u001b[30m█\u001b[0m\u001b[30m█\u001b[0m\u001b[30m█\u001b[0m\u001b[30m█\u001b[0m\u001b[30m█\u001b[0m\u001b[30m█\u001b[0m|(2042/10000) (0.02s avg time) ETA: ~03 min -  MSE (TRAIN) : \u001b[93m0.051669\u001b[0m, MSE (VAL) : \u001b[96m0.087080\u001b[0m -- BEST Val Loss : \u001b[92m0.050285\u001b[0m (at epoch 1540) Eary Stopping in: 0001   \r"
     ]
    },
    {
     "name": "stderr",
     "output_type": "stream",
     "text": [
      "[I 2024-05-09 02:48:05,435] Trial 314 finished with value: 0.019620385020971298 and parameters: {'std': 0.033600000000000005, 'num_layers': 2, 'units_0': 176, 'units_1': 144, 'freezed_layer_from_right': 1}. Best is trial 244 with value: 0.017156001180410385.\n"
     ]
    },
    {
     "name": "stdout",
     "output_type": "stream",
     "text": [
      "|\u001b[92m█\u001b[0m\u001b[92m█\u001b[0m\u001b[30m█\u001b[0m\u001b[30m█\u001b[0m\u001b[30m█\u001b[0m\u001b[30m█\u001b[0m\u001b[30m█\u001b[0m\u001b[30m█\u001b[0m\u001b[30m█\u001b[0m\u001b[30m█\u001b[0m\u001b[30m█\u001b[0m\u001b[30m█\u001b[0m\u001b[30m█\u001b[0m\u001b[30m█\u001b[0m\u001b[30m█\u001b[0m\u001b[30m█\u001b[0m\u001b[30m█\u001b[0m\u001b[30m█\u001b[0m\u001b[30m█\u001b[0m\u001b[30m█\u001b[0m|(1255/10000) (0.02s avg time) ETA: ~04 min -  MSE (TRAIN) : \u001b[93m0.077536\u001b[0m, MSE (VAL) : \u001b[96m0.075777\u001b[0m -- BEST Val Loss : \u001b[92m0.075143\u001b[0m (at epoch 753) Eary Stopping in: 0001   \r"
     ]
    },
    {
     "name": "stderr",
     "output_type": "stream",
     "text": [
      "[I 2024-05-09 02:52:22,870] Trial 315 finished with value: 0.02270141802728176 and parameters: {'std': 0.0171, 'num_layers': 2, 'units_0': 160, 'units_1': 64, 'freezed_layer_from_right': 1}. Best is trial 244 with value: 0.017156001180410385.\n"
     ]
    },
    {
     "name": "stdout",
     "output_type": "stream",
     "text": [
      "|\u001b[92m█\u001b[0m\u001b[30m█\u001b[0m\u001b[30m█\u001b[0m\u001b[30m█\u001b[0m\u001b[30m█\u001b[0m\u001b[30m█\u001b[0m\u001b[30m█\u001b[0m\u001b[30m█\u001b[0m\u001b[30m█\u001b[0m\u001b[30m█\u001b[0m\u001b[30m█\u001b[0m\u001b[30m█\u001b[0m\u001b[30m█\u001b[0m\u001b[30m█\u001b[0m\u001b[30m█\u001b[0m\u001b[30m█\u001b[0m\u001b[30m█\u001b[0m\u001b[30m█\u001b[0m\u001b[30m█\u001b[0m\u001b[30m█\u001b[0m|(957/10000) (0.03s avg time) ETA: ~04 min -  MSE (TRAIN) : \u001b[93m0.029041\u001b[0m, MSE (VAL) : \u001b[96m0.043058\u001b[0m -- BEST Val Loss : \u001b[92m0.027700\u001b[0m (at epoch 455) Eary Stopping in: 0001   \r"
     ]
    },
    {
     "name": "stderr",
     "output_type": "stream",
     "text": [
      "[I 2024-05-09 02:55:14,877] Trial 316 finished with value: 0.022600848227739334 and parameters: {'std': 0.040100000000000004, 'num_layers': 4, 'units_0': 160, 'units_1': 176, 'units_2': 144, 'units_3': 144, 'freezed_layer_from_right': 1}. Best is trial 244 with value: 0.017156001180410385.\n"
     ]
    },
    {
     "name": "stdout",
     "output_type": "stream",
     "text": [
      "|\u001b[92m█\u001b[0m\u001b[92m█\u001b[0m\u001b[92m█\u001b[0m\u001b[30m█\u001b[0m\u001b[30m█\u001b[0m\u001b[30m█\u001b[0m\u001b[30m█\u001b[0m\u001b[30m█\u001b[0m\u001b[30m█\u001b[0m\u001b[30m█\u001b[0m\u001b[30m█\u001b[0m\u001b[30m█\u001b[0m\u001b[30m█\u001b[0m\u001b[30m█\u001b[0m\u001b[30m█\u001b[0m\u001b[30m█\u001b[0m\u001b[30m█\u001b[0m\u001b[30m█\u001b[0m\u001b[30m█\u001b[0m\u001b[30m█\u001b[0m|(1692/10000) (0.02s avg time) ETA: ~04 min -  MSE (TRAIN) : \u001b[93m0.056671\u001b[0m, MSE (VAL) : \u001b[96m0.071444\u001b[0m -- BEST Val Loss : \u001b[92m0.056074\u001b[0m (at epoch 1190) Eary Stopping in: 0001   \r"
     ]
    },
    {
     "name": "stderr",
     "output_type": "stream",
     "text": [
      "[I 2024-05-09 02:56:36,010] Trial 317 finished with value: 0.023811999708414078 and parameters: {'std': 0.0306, 'num_layers': 2, 'units_0': 176, 'units_1': 160, 'freezed_layer_from_right': 1}. Best is trial 244 with value: 0.017156001180410385.\n"
     ]
    },
    {
     "name": "stdout",
     "output_type": "stream",
     "text": [
      "|\u001b[92m█\u001b[0m\u001b[92m█\u001b[0m\u001b[92m█\u001b[0m\u001b[92m█\u001b[0m\u001b[92m█\u001b[0m\u001b[30m█\u001b[0m\u001b[30m█\u001b[0m\u001b[30m█\u001b[0m\u001b[30m█\u001b[0m\u001b[30m█\u001b[0m\u001b[30m█\u001b[0m\u001b[30m█\u001b[0m\u001b[30m█\u001b[0m\u001b[30m█\u001b[0m\u001b[30m█\u001b[0m\u001b[30m█\u001b[0m\u001b[30m█\u001b[0m\u001b[30m█\u001b[0m\u001b[30m█\u001b[0m\u001b[30m█\u001b[0m|(2784/10000) (0.02s avg time) ETA: ~03 min -  MSE (TRAIN) : \u001b[93m0.061242\u001b[0m, MSE (VAL) : \u001b[96m0.063331\u001b[0m -- BEST Val Loss : \u001b[92m0.062542\u001b[0m (at epoch 2282) Eary Stopping in: 0001   \r"
     ]
    },
    {
     "name": "stderr",
     "output_type": "stream",
     "text": [
      "[I 2024-05-09 03:01:26,091] Trial 318 finished with value: 0.02346339076757431 and parameters: {'std': 0.0101, 'num_layers': 2, 'units_0': 144, 'units_1': 80, 'freezed_layer_from_right': 1}. Best is trial 244 with value: 0.017156001180410385.\n"
     ]
    },
    {
     "name": "stdout",
     "output_type": "stream",
     "text": [
      "|\u001b[92m█\u001b[0m\u001b[92m█\u001b[0m\u001b[30m█\u001b[0m\u001b[30m█\u001b[0m\u001b[30m█\u001b[0m\u001b[30m█\u001b[0m\u001b[30m█\u001b[0m\u001b[30m█\u001b[0m\u001b[30m█\u001b[0m\u001b[30m█\u001b[0m\u001b[30m█\u001b[0m\u001b[30m█\u001b[0m\u001b[30m█\u001b[0m\u001b[30m█\u001b[0m\u001b[30m█\u001b[0m\u001b[30m█\u001b[0m\u001b[30m█\u001b[0m\u001b[30m█\u001b[0m\u001b[30m█\u001b[0m\u001b[30m█\u001b[0m|(1305/10000) (0.02s avg time) ETA: ~04 min -  MSE (TRAIN) : \u001b[93m0.094299\u001b[0m, MSE (VAL) : \u001b[96m0.075325\u001b[0m -- BEST Val Loss : \u001b[92m0.068699\u001b[0m (at epoch 803) Eary Stopping in: 0001   \r"
     ]
    },
    {
     "name": "stderr",
     "output_type": "stream",
     "text": [
      "[I 2024-05-09 03:03:24,401] Trial 319 finished with value: 0.01916840486228466 and parameters: {'std': 0.0241, 'num_layers': 2, 'units_0': 160, 'units_1': 144, 'freezed_layer_from_right': 1}. Best is trial 244 with value: 0.017156001180410385.\n"
     ]
    },
    {
     "name": "stdout",
     "output_type": "stream",
     "text": [
      "|\u001b[92m█\u001b[0m\u001b[92m█\u001b[0m\u001b[30m█\u001b[0m\u001b[30m█\u001b[0m\u001b[30m█\u001b[0m\u001b[30m█\u001b[0m\u001b[30m█\u001b[0m\u001b[30m█\u001b[0m\u001b[30m█\u001b[0m\u001b[30m█\u001b[0m\u001b[30m█\u001b[0m\u001b[30m█\u001b[0m\u001b[30m█\u001b[0m\u001b[30m█\u001b[0m\u001b[30m█\u001b[0m\u001b[30m█\u001b[0m\u001b[30m█\u001b[0m\u001b[30m█\u001b[0m\u001b[30m█\u001b[0m\u001b[30m█\u001b[0m|(1027/10000) (0.02s avg time) ETA: ~04 min -  MSE (TRAIN) : \u001b[93m0.063360\u001b[0m, MSE (VAL) : \u001b[96m0.059263\u001b[0m -- BEST Val Loss : \u001b[92m0.058691\u001b[0m (at epoch 525) Eary Stopping in: 0001   \r"
     ]
    },
    {
     "name": "stderr",
     "output_type": "stream",
     "text": [
      "[I 2024-05-09 03:06:57,053] Trial 320 finished with value: 0.01973946951329708 and parameters: {'std': 0.0196, 'num_layers': 2, 'units_0': 160, 'units_1': 144, 'freezed_layer_from_right': 1}. Best is trial 244 with value: 0.017156001180410385.\n"
     ]
    },
    {
     "name": "stdout",
     "output_type": "stream",
     "text": [
      "|\u001b[92m█\u001b[0m\u001b[92m█\u001b[0m\u001b[92m█\u001b[0m\u001b[30m█\u001b[0m\u001b[30m█\u001b[0m\u001b[30m█\u001b[0m\u001b[30m█\u001b[0m\u001b[30m█\u001b[0m\u001b[30m█\u001b[0m\u001b[30m█\u001b[0m\u001b[30m█\u001b[0m\u001b[30m█\u001b[0m\u001b[30m█\u001b[0m\u001b[30m█\u001b[0m\u001b[30m█\u001b[0m\u001b[30m█\u001b[0m\u001b[30m█\u001b[0m\u001b[30m█\u001b[0m\u001b[30m█\u001b[0m\u001b[30m█\u001b[0m|(1622/10000) (0.02s avg time) ETA: ~04 min -  MSE (TRAIN) : \u001b[93m0.060790\u001b[0m, MSE (VAL) : \u001b[96m0.061173\u001b[0m -- BEST Val Loss : \u001b[92m0.060654\u001b[0m (at epoch 1120) Eary Stopping in: 0001   \r"
     ]
    },
    {
     "name": "stderr",
     "output_type": "stream",
     "text": [
      "[I 2024-05-09 03:11:24,323] Trial 321 finished with value: 0.021512331441044807 and parameters: {'std': 0.0136, 'num_layers': 2, 'units_0': 176, 'units_1': 160, 'freezed_layer_from_right': 1}. Best is trial 244 with value: 0.017156001180410385.\n"
     ]
    },
    {
     "name": "stdout",
     "output_type": "stream",
     "text": [
      "|\u001b[92m█\u001b[0m\u001b[92m█\u001b[0m\u001b[30m█\u001b[0m\u001b[30m█\u001b[0m\u001b[30m█\u001b[0m\u001b[30m█\u001b[0m\u001b[30m█\u001b[0m\u001b[30m█\u001b[0m\u001b[30m█\u001b[0m\u001b[30m█\u001b[0m\u001b[30m█\u001b[0m\u001b[30m█\u001b[0m\u001b[30m█\u001b[0m\u001b[30m█\u001b[0m\u001b[30m█\u001b[0m\u001b[30m█\u001b[0m\u001b[30m█\u001b[0m\u001b[30m█\u001b[0m\u001b[30m█\u001b[0m\u001b[30m█\u001b[0m|(1231/10000) (0.02s avg time) ETA: ~04 min -  MSE (TRAIN) : \u001b[93m0.057538\u001b[0m, MSE (VAL) : \u001b[96m0.057460\u001b[0m -- BEST Val Loss : \u001b[92m0.057319\u001b[0m (at epoch 729) Eary Stopping in: 0001   \r"
     ]
    },
    {
     "name": "stderr",
     "output_type": "stream",
     "text": [
      "[I 2024-05-09 03:15:40,082] Trial 322 finished with value: 0.01958366297185421 and parameters: {'std': 0.0156, 'num_layers': 2, 'units_0': 160, 'units_1': 144, 'freezed_layer_from_right': 1}. Best is trial 244 with value: 0.017156001180410385.\n"
     ]
    },
    {
     "name": "stdout",
     "output_type": "stream",
     "text": [
      "|\u001b[92m█\u001b[0m\u001b[92m█\u001b[0m\u001b[92m█\u001b[0m\u001b[30m█\u001b[0m\u001b[30m█\u001b[0m\u001b[30m█\u001b[0m\u001b[30m█\u001b[0m\u001b[30m█\u001b[0m\u001b[30m█\u001b[0m\u001b[30m█\u001b[0m\u001b[30m█\u001b[0m\u001b[30m█\u001b[0m\u001b[30m█\u001b[0m\u001b[30m█\u001b[0m\u001b[30m█\u001b[0m\u001b[30m█\u001b[0m\u001b[30m█\u001b[0m\u001b[30m█\u001b[0m\u001b[30m█\u001b[0m\u001b[30m█\u001b[0m|(1769/10000) (0.02s avg time) ETA: ~04 min -  MSE (TRAIN) : \u001b[93m0.066670\u001b[0m, MSE (VAL) : \u001b[96m0.064053\u001b[0m -- BEST Val Loss : \u001b[92m0.063503\u001b[0m (at epoch 1267) Eary Stopping in: 0001   \r"
     ]
    },
    {
     "name": "stderr",
     "output_type": "stream",
     "text": [
      "[I 2024-05-09 03:18:44,828] Trial 323 finished with value: 0.019410984590649605 and parameters: {'std': 0.0211, 'num_layers': 2, 'units_0': 144, 'units_1': 144, 'freezed_layer_from_right': 1}. Best is trial 244 with value: 0.017156001180410385.\n"
     ]
    },
    {
     "name": "stdout",
     "output_type": "stream",
     "text": [
      "|\u001b[92m█\u001b[0m\u001b[92m█\u001b[0m\u001b[30m█\u001b[0m\u001b[30m█\u001b[0m\u001b[30m█\u001b[0m\u001b[30m█\u001b[0m\u001b[30m█\u001b[0m\u001b[30m█\u001b[0m\u001b[30m█\u001b[0m\u001b[30m█\u001b[0m\u001b[30m█\u001b[0m\u001b[30m█\u001b[0m\u001b[30m█\u001b[0m\u001b[30m█\u001b[0m\u001b[30m█\u001b[0m\u001b[30m█\u001b[0m\u001b[30m█\u001b[0m\u001b[30m█\u001b[0m\u001b[30m█\u001b[0m\u001b[30m█\u001b[0m|(1318/10000) (0.02s avg time) ETA: ~04 min -  MSE (TRAIN) : \u001b[93m0.067228\u001b[0m, MSE (VAL) : \u001b[96m0.068199\u001b[0m -- BEST Val Loss : \u001b[92m0.067726\u001b[0m (at epoch 816) Eary Stopping in: 0001   \r"
     ]
    },
    {
     "name": "stderr",
     "output_type": "stream",
     "text": [
      "[I 2024-05-09 03:23:04,052] Trial 324 finished with value: 0.019998816773295403 and parameters: {'std': 0.0171, 'num_layers': 2, 'units_0': 160, 'units_1': 80, 'freezed_layer_from_right': 1}. Best is trial 244 with value: 0.017156001180410385.\n"
     ]
    },
    {
     "name": "stdout",
     "output_type": "stream",
     "text": [
      "|\u001b[92m█\u001b[0m\u001b[92m█\u001b[0m\u001b[92m█\u001b[0m\u001b[30m█\u001b[0m\u001b[30m█\u001b[0m\u001b[30m█\u001b[0m\u001b[30m█\u001b[0m\u001b[30m█\u001b[0m\u001b[30m█\u001b[0m\u001b[30m█\u001b[0m\u001b[30m█\u001b[0m\u001b[30m█\u001b[0m\u001b[30m█\u001b[0m\u001b[30m█\u001b[0m\u001b[30m█\u001b[0m\u001b[30m█\u001b[0m\u001b[30m█\u001b[0m\u001b[30m█\u001b[0m\u001b[30m█\u001b[0m\u001b[30m█\u001b[0m|(1811/10000) (0.02s avg time) ETA: ~04 min -  MSE (TRAIN) : \u001b[93m0.079561\u001b[0m, MSE (VAL) : \u001b[96m0.076997\u001b[0m -- BEST Val Loss : \u001b[92m0.074714\u001b[0m (at epoch 1309) Eary Stopping in: 0001   \r"
     ]
    },
    {
     "name": "stderr",
     "output_type": "stream",
     "text": [
      "[I 2024-05-09 03:25:38,147] Trial 325 finished with value: 0.019170468673110008 and parameters: {'std': 0.0181, 'num_layers': 3, 'units_0': 176, 'units_1': 160, 'units_2': 128, 'freezed_layer_from_right': 1}. Best is trial 244 with value: 0.017156001180410385.\n"
     ]
    },
    {
     "name": "stdout",
     "output_type": "stream",
     "text": [
      "|\u001b[92m█\u001b[0m\u001b[92m█\u001b[0m\u001b[30m█\u001b[0m\u001b[30m█\u001b[0m\u001b[30m█\u001b[0m\u001b[30m█\u001b[0m\u001b[30m█\u001b[0m\u001b[30m█\u001b[0m\u001b[30m█\u001b[0m\u001b[30m█\u001b[0m\u001b[30m█\u001b[0m\u001b[30m█\u001b[0m\u001b[30m█\u001b[0m\u001b[30m█\u001b[0m\u001b[30m█\u001b[0m\u001b[30m█\u001b[0m\u001b[30m█\u001b[0m\u001b[30m█\u001b[0m\u001b[30m█\u001b[0m\u001b[30m█\u001b[0m|(1331/10000) (0.02s avg time) ETA: ~04 min -  MSE (TRAIN) : \u001b[93m0.061214\u001b[0m, MSE (VAL) : \u001b[96m0.062616\u001b[0m -- BEST Val Loss : \u001b[92m0.062078\u001b[0m (at epoch 829) Eary Stopping in: 0001   \r"
     ]
    },
    {
     "name": "stderr",
     "output_type": "stream",
     "text": [
      "[I 2024-05-09 03:29:56,600] Trial 326 finished with value: 0.0210605226457119 and parameters: {'std': 0.0116, 'num_layers': 2, 'units_0': 160, 'units_1': 144, 'freezed_layer_from_right': 1}. Best is trial 244 with value: 0.017156001180410385.\n"
     ]
    },
    {
     "name": "stdout",
     "output_type": "stream",
     "text": [
      "|\u001b[92m█\u001b[0m\u001b[92m█\u001b[0m\u001b[30m█\u001b[0m\u001b[30m█\u001b[0m\u001b[30m█\u001b[0m\u001b[30m█\u001b[0m\u001b[30m█\u001b[0m\u001b[30m█\u001b[0m\u001b[30m█\u001b[0m\u001b[30m█\u001b[0m\u001b[30m█\u001b[0m\u001b[30m█\u001b[0m\u001b[30m█\u001b[0m\u001b[30m█\u001b[0m\u001b[30m█\u001b[0m\u001b[30m█\u001b[0m\u001b[30m█\u001b[0m\u001b[30m█\u001b[0m\u001b[30m█\u001b[0m\u001b[30m█\u001b[0m|(1191/10000) (0.02s avg time) ETA: ~04 min -  MSE (TRAIN) : \u001b[93m0.065940\u001b[0m, MSE (VAL) : \u001b[96m0.063247\u001b[0m -- BEST Val Loss : \u001b[92m0.062496\u001b[0m (at epoch 689) Eary Stopping in: 0001   \r"
     ]
    },
    {
     "name": "stderr",
     "output_type": "stream",
     "text": [
      "[I 2024-05-09 03:34:13,978] Trial 327 finished with value: 0.01781773567199707 and parameters: {'std': 0.0146, 'num_layers': 2, 'units_0': 160, 'units_1': 144, 'freezed_layer_from_right': 1}. Best is trial 244 with value: 0.017156001180410385.\n"
     ]
    },
    {
     "name": "stdout",
     "output_type": "stream",
     "text": [
      "|\u001b[92m█\u001b[0m\u001b[92m█\u001b[0m\u001b[30m█\u001b[0m\u001b[30m█\u001b[0m\u001b[30m█\u001b[0m\u001b[30m█\u001b[0m\u001b[30m█\u001b[0m\u001b[30m█\u001b[0m\u001b[30m█\u001b[0m\u001b[30m█\u001b[0m\u001b[30m█\u001b[0m\u001b[30m█\u001b[0m\u001b[30m█\u001b[0m\u001b[30m█\u001b[0m\u001b[30m█\u001b[0m\u001b[30m█\u001b[0m\u001b[30m█\u001b[0m\u001b[30m█\u001b[0m\u001b[30m█\u001b[0m\u001b[30m█\u001b[0m|(1085/10000) (0.02s avg time) ETA: ~04 min -  MSE (TRAIN) : \u001b[93m0.064381\u001b[0m, MSE (VAL) : \u001b[96m0.065648\u001b[0m -- BEST Val Loss : \u001b[92m0.064623\u001b[0m (at epoch 583) Eary Stopping in: 0001   \r"
     ]
    },
    {
     "name": "stderr",
     "output_type": "stream",
     "text": [
      "[I 2024-05-09 03:38:27,389] Trial 328 finished with value: 0.019019417464733124 and parameters: {'std': 0.0136, 'num_layers': 2, 'units_0': 160, 'units_1': 144, 'freezed_layer_from_right': 1}. Best is trial 244 with value: 0.017156001180410385.\n"
     ]
    },
    {
     "name": "stdout",
     "output_type": "stream",
     "text": [
      "|\u001b[92m█\u001b[0m\u001b[92m█\u001b[0m\u001b[92m█\u001b[0m\u001b[30m█\u001b[0m\u001b[30m█\u001b[0m\u001b[30m█\u001b[0m\u001b[30m█\u001b[0m\u001b[30m█\u001b[0m\u001b[30m█\u001b[0m\u001b[30m█\u001b[0m\u001b[30m█\u001b[0m\u001b[30m█\u001b[0m\u001b[30m█\u001b[0m\u001b[30m█\u001b[0m\u001b[30m█\u001b[0m\u001b[30m█\u001b[0m\u001b[30m█\u001b[0m\u001b[30m█\u001b[0m\u001b[30m█\u001b[0m\u001b[30m█\u001b[0m|(1540/10000) (0.02s avg time) ETA: ~04 min -  MSE (TRAIN) : \u001b[93m0.101632\u001b[0m, MSE (VAL) : \u001b[96m0.105240\u001b[0m -- BEST Val Loss : \u001b[92m0.092000\u001b[0m (at epoch 1038) Eary Stopping in: 0001   \r"
     ]
    },
    {
     "name": "stderr",
     "output_type": "stream",
     "text": [
      "[I 2024-05-09 03:40:17,775] Trial 329 finished with value: 0.02046436071395874 and parameters: {'std': 0.0201, 'num_layers': 2, 'units_0': 160, 'units_1': 144, 'freezed_layer_from_right': 1}. Best is trial 244 with value: 0.017156001180410385.\n"
     ]
    },
    {
     "name": "stdout",
     "output_type": "stream",
     "text": [
      "|\u001b[92m█\u001b[0m\u001b[92m█\u001b[0m\u001b[92m█\u001b[0m\u001b[92m█\u001b[0m\u001b[30m█\u001b[0m\u001b[30m█\u001b[0m\u001b[30m█\u001b[0m\u001b[30m█\u001b[0m\u001b[30m█\u001b[0m\u001b[30m█\u001b[0m\u001b[30m█\u001b[0m\u001b[30m█\u001b[0m\u001b[30m█\u001b[0m\u001b[30m█\u001b[0m\u001b[30m█\u001b[0m\u001b[30m█\u001b[0m\u001b[30m█\u001b[0m\u001b[30m█\u001b[0m\u001b[30m█\u001b[0m\u001b[30m█\u001b[0m|(2352/10000) (0.02s avg time) ETA: ~03 min -  MSE (TRAIN) : \u001b[93m0.085688\u001b[0m, MSE (VAL) : \u001b[96m0.096604\u001b[0m -- BEST Val Loss : \u001b[92m0.085678\u001b[0m (at epoch 1850) Eary Stopping in: 0001   \r"
     ]
    },
    {
     "name": "stderr",
     "output_type": "stream",
     "text": [
      "[I 2024-05-09 03:42:13,735] Trial 330 finished with value: 0.01965051330626011 and parameters: {'std': 0.0231, 'num_layers': 2, 'units_0': 160, 'units_1': 144, 'freezed_layer_from_right': 1}. Best is trial 244 with value: 0.017156001180410385.\n"
     ]
    },
    {
     "name": "stdout",
     "output_type": "stream",
     "text": [
      "|\u001b[92m█\u001b[0m\u001b[92m█\u001b[0m\u001b[92m█\u001b[0m\u001b[30m█\u001b[0m\u001b[30m█\u001b[0m\u001b[30m█\u001b[0m\u001b[30m█\u001b[0m\u001b[30m█\u001b[0m\u001b[30m█\u001b[0m\u001b[30m█\u001b[0m\u001b[30m█\u001b[0m\u001b[30m█\u001b[0m\u001b[30m█\u001b[0m\u001b[30m█\u001b[0m\u001b[30m█\u001b[0m\u001b[30m█\u001b[0m\u001b[30m█\u001b[0m\u001b[30m█\u001b[0m\u001b[30m█\u001b[0m\u001b[30m█\u001b[0m|(1550/10000) (0.02s avg time) ETA: ~04 min -  MSE (TRAIN) : \u001b[93m0.061944\u001b[0m, MSE (VAL) : \u001b[96m0.062797\u001b[0m -- BEST Val Loss : \u001b[92m0.062560\u001b[0m (at epoch 1048) Eary Stopping in: 0001   \r"
     ]
    },
    {
     "name": "stderr",
     "output_type": "stream",
     "text": [
      "[I 2024-05-09 03:46:38,606] Trial 331 finished with value: 0.01924840360879898 and parameters: {'std': 0.0146, 'num_layers': 2, 'units_0': 160, 'units_1': 128, 'freezed_layer_from_right': 1}. Best is trial 244 with value: 0.017156001180410385.\n"
     ]
    },
    {
     "name": "stdout",
     "output_type": "stream",
     "text": [
      "|\u001b[92m█\u001b[0m\u001b[92m█\u001b[0m\u001b[92m█\u001b[0m\u001b[30m█\u001b[0m\u001b[30m█\u001b[0m\u001b[30m█\u001b[0m\u001b[30m█\u001b[0m\u001b[30m█\u001b[0m\u001b[30m█\u001b[0m\u001b[30m█\u001b[0m\u001b[30m█\u001b[0m\u001b[30m█\u001b[0m\u001b[30m█\u001b[0m\u001b[30m█\u001b[0m\u001b[30m█\u001b[0m\u001b[30m█\u001b[0m\u001b[30m█\u001b[0m\u001b[30m█\u001b[0m\u001b[30m█\u001b[0m\u001b[30m█\u001b[0m|(1519/10000) (0.02s avg time) ETA: ~04 min -  MSE (TRAIN) : \u001b[93m0.088367\u001b[0m, MSE (VAL) : \u001b[96m0.091560\u001b[0m -- BEST Val Loss : \u001b[92m0.084779\u001b[0m (at epoch 1017) Eary Stopping in: 0001   \r"
     ]
    },
    {
     "name": "stderr",
     "output_type": "stream",
     "text": [
      "[I 2024-05-09 03:49:00,000] Trial 332 finished with value: 0.019475996494293213 and parameters: {'std': 0.0186, 'num_layers': 2, 'units_0': 176, 'units_1': 144, 'freezed_layer_from_right': 1}. Best is trial 244 with value: 0.017156001180410385.\n"
     ]
    },
    {
     "name": "stdout",
     "output_type": "stream",
     "text": [
      "|\u001b[92m█\u001b[0m\u001b[92m█\u001b[0m\u001b[92m█\u001b[0m\u001b[92m█\u001b[0m\u001b[92m█\u001b[0m\u001b[92m█\u001b[0m\u001b[30m█\u001b[0m\u001b[30m█\u001b[0m\u001b[30m█\u001b[0m\u001b[30m█\u001b[0m\u001b[30m█\u001b[0m\u001b[30m█\u001b[0m\u001b[30m█\u001b[0m\u001b[30m█\u001b[0m\u001b[30m█\u001b[0m\u001b[30m█\u001b[0m\u001b[30m█\u001b[0m\u001b[30m█\u001b[0m\u001b[30m█\u001b[0m\u001b[30m█\u001b[0m|(3211/10000) (0.02s avg time) ETA: ~03 min -  MSE (TRAIN) : \u001b[93m0.059252\u001b[0m, MSE (VAL) : \u001b[96m0.061342\u001b[0m -- BEST Val Loss : \u001b[92m0.060346\u001b[0m (at epoch 2709) Eary Stopping in: 0001   \r"
     ]
    },
    {
     "name": "stderr",
     "output_type": "stream",
     "text": [
      "[I 2024-05-09 03:54:01,380] Trial 333 finished with value: 0.022503895685076714 and parameters: {'std': 0.0091, 'num_layers': 2, 'units_0': 160, 'units_1': 144, 'freezed_layer_from_right': 1}. Best is trial 244 with value: 0.017156001180410385.\n"
     ]
    },
    {
     "name": "stdout",
     "output_type": "stream",
     "text": [
      "|\u001b[92m█\u001b[0m\u001b[92m█\u001b[0m\u001b[92m█\u001b[0m\u001b[92m█\u001b[0m\u001b[30m█\u001b[0m\u001b[30m█\u001b[0m\u001b[30m█\u001b[0m\u001b[30m█\u001b[0m\u001b[30m█\u001b[0m\u001b[30m█\u001b[0m\u001b[30m█\u001b[0m\u001b[30m█\u001b[0m\u001b[30m█\u001b[0m\u001b[30m█\u001b[0m\u001b[30m█\u001b[0m\u001b[30m█\u001b[0m\u001b[30m█\u001b[0m\u001b[30m█\u001b[0m\u001b[30m█\u001b[0m\u001b[30m█\u001b[0m|(2053/10000) (0.02s avg time) ETA: ~03 min -  MSE (TRAIN) : \u001b[93m0.082028\u001b[0m, MSE (VAL) : \u001b[96m0.081939\u001b[0m -- BEST Val Loss : \u001b[92m0.080567\u001b[0m (at epoch 1551) Eary Stopping in: 0001   \r"
     ]
    },
    {
     "name": "stderr",
     "output_type": "stream",
     "text": [
      "[I 2024-05-09 03:56:49,671] Trial 334 finished with value: 0.019131004810333252 and parameters: {'std': 0.0216, 'num_layers': 2, 'units_0': 160, 'units_1': 128, 'freezed_layer_from_right': 1}. Best is trial 244 with value: 0.017156001180410385.\n"
     ]
    },
    {
     "name": "stdout",
     "output_type": "stream",
     "text": [
      "|\u001b[92m█\u001b[0m\u001b[92m█\u001b[0m\u001b[92m█\u001b[0m\u001b[30m█\u001b[0m\u001b[30m█\u001b[0m\u001b[30m█\u001b[0m\u001b[30m█\u001b[0m\u001b[30m█\u001b[0m\u001b[30m█\u001b[0m\u001b[30m█\u001b[0m\u001b[30m█\u001b[0m\u001b[30m█\u001b[0m\u001b[30m█\u001b[0m\u001b[30m█\u001b[0m\u001b[30m█\u001b[0m\u001b[30m█\u001b[0m\u001b[30m█\u001b[0m\u001b[30m█\u001b[0m\u001b[30m█\u001b[0m\u001b[30m█\u001b[0m|(1635/10000) (0.02s avg time) ETA: ~03 min -  MSE (TRAIN) : \u001b[93m0.062115\u001b[0m, MSE (VAL) : \u001b[96m0.063475\u001b[0m -- BEST Val Loss : \u001b[92m0.062082\u001b[0m (at epoch 1133) Eary Stopping in: 0001   \r"
     ]
    },
    {
     "name": "stderr",
     "output_type": "stream",
     "text": [
      "[I 2024-05-09 04:01:15,663] Trial 335 finished with value: 0.018089238554239273 and parameters: {'std': 0.0156, 'num_layers': 2, 'units_0': 176, 'units_1': 144, 'freezed_layer_from_right': 1}. Best is trial 244 with value: 0.017156001180410385.\n"
     ]
    },
    {
     "name": "stdout",
     "output_type": "stream",
     "text": [
      "|\u001b[92m█\u001b[0m\u001b[92m█\u001b[0m\u001b[92m█\u001b[0m\u001b[92m█\u001b[0m\u001b[92m█\u001b[0m\u001b[92m█\u001b[0m\u001b[30m█\u001b[0m\u001b[30m█\u001b[0m\u001b[30m█\u001b[0m\u001b[30m█\u001b[0m\u001b[30m█\u001b[0m\u001b[30m█\u001b[0m\u001b[30m█\u001b[0m\u001b[30m█\u001b[0m\u001b[30m█\u001b[0m\u001b[30m█\u001b[0m\u001b[30m█\u001b[0m\u001b[30m█\u001b[0m\u001b[30m█\u001b[0m\u001b[30m█\u001b[0m|(3225/10000) (0.02s avg time) ETA: ~03 min -  MSE (TRAIN) : \u001b[93m0.063272\u001b[0m, MSE (VAL) : \u001b[96m0.064331\u001b[0m -- BEST Val Loss : \u001b[92m0.063281\u001b[0m (at epoch 2723) Eary Stopping in: 0001   \r"
     ]
    },
    {
     "name": "stderr",
     "output_type": "stream",
     "text": [
      "[I 2024-05-09 04:06:16,197] Trial 336 finished with value: 0.01925736479461193 and parameters: {'std': 0.0121, 'num_layers': 2, 'units_0': 176, 'units_1': 144, 'freezed_layer_from_right': 1}. Best is trial 244 with value: 0.017156001180410385.\n"
     ]
    },
    {
     "name": "stdout",
     "output_type": "stream",
     "text": [
      "|\u001b[92m█\u001b[0m\u001b[92m█\u001b[0m\u001b[92m█\u001b[0m\u001b[30m█\u001b[0m\u001b[30m█\u001b[0m\u001b[30m█\u001b[0m\u001b[30m█\u001b[0m\u001b[30m█\u001b[0m\u001b[30m█\u001b[0m\u001b[30m█\u001b[0m\u001b[30m█\u001b[0m\u001b[30m█\u001b[0m\u001b[30m█\u001b[0m\u001b[30m█\u001b[0m\u001b[30m█\u001b[0m\u001b[30m█\u001b[0m\u001b[30m█\u001b[0m\u001b[30m█\u001b[0m\u001b[30m█\u001b[0m\u001b[30m█\u001b[0m|(1502/10000) (0.02s avg time) ETA: ~04 min -  MSE (TRAIN) : \u001b[93m0.060144\u001b[0m, MSE (VAL) : \u001b[96m0.060433\u001b[0m -- BEST Val Loss : \u001b[92m0.060271\u001b[0m (at epoch 1000) Eary Stopping in: 0001   \r"
     ]
    },
    {
     "name": "stderr",
     "output_type": "stream",
     "text": [
      "[I 2024-05-09 04:10:42,308] Trial 337 finished with value: 0.019397467374801636 and parameters: {'std': 0.015099999999999999, 'num_layers': 2, 'units_0': 176, 'units_1': 144, 'freezed_layer_from_right': 1}. Best is trial 244 with value: 0.017156001180410385.\n"
     ]
    },
    {
     "name": "stdout",
     "output_type": "stream",
     "text": [
      "|\u001b[92m█\u001b[0m\u001b[30m█\u001b[0m\u001b[30m█\u001b[0m\u001b[30m█\u001b[0m\u001b[30m█\u001b[0m\u001b[30m█\u001b[0m\u001b[30m█\u001b[0m\u001b[30m█\u001b[0m\u001b[30m█\u001b[0m\u001b[30m█\u001b[0m\u001b[30m█\u001b[0m\u001b[30m█\u001b[0m\u001b[30m█\u001b[0m\u001b[30m█\u001b[0m\u001b[30m█\u001b[0m\u001b[30m█\u001b[0m\u001b[30m█\u001b[0m\u001b[30m█\u001b[0m\u001b[30m█\u001b[0m\u001b[30m█\u001b[0m|(998/10000) (0.02s avg time) ETA: ~04 min -  MSE (TRAIN) : \u001b[93m0.067928\u001b[0m, MSE (VAL) : \u001b[96m0.067511\u001b[0m -- BEST Val Loss : \u001b[92m0.052305\u001b[0m (at epoch 496) Eary Stopping in: 0001   \r"
     ]
    },
    {
     "name": "stderr",
     "output_type": "stream",
     "text": [
      "[I 2024-05-09 04:11:37,043] Trial 338 finished with value: 0.025919655337929726 and parameters: {'std': 0.0456, 'num_layers': 2, 'units_0': 176, 'units_1': 80, 'freezed_layer_from_right': 1}. Best is trial 244 with value: 0.017156001180410385.\n"
     ]
    },
    {
     "name": "stdout",
     "output_type": "stream",
     "text": [
      "|\u001b[92m█\u001b[0m\u001b[30m█\u001b[0m\u001b[30m█\u001b[0m\u001b[30m█\u001b[0m\u001b[30m█\u001b[0m\u001b[30m█\u001b[0m\u001b[30m█\u001b[0m\u001b[30m█\u001b[0m\u001b[30m█\u001b[0m\u001b[30m█\u001b[0m\u001b[30m█\u001b[0m\u001b[30m█\u001b[0m\u001b[30m█\u001b[0m\u001b[30m█\u001b[0m\u001b[30m█\u001b[0m\u001b[30m█\u001b[0m\u001b[30m█\u001b[0m\u001b[30m█\u001b[0m\u001b[30m█\u001b[0m\u001b[30m█\u001b[0m|(745/10000) (0.02s avg time) ETA: ~04 min -  MSE (TRAIN) : \u001b[93m0.061157\u001b[0m, MSE (VAL) : \u001b[96m0.061277\u001b[0m -- BEST Val Loss : \u001b[92m0.060733\u001b[0m (at epoch 243) Eary Stopping in: 0001   \r"
     ]
    },
    {
     "name": "stderr",
     "output_type": "stream",
     "text": [
      "[I 2024-05-09 04:15:43,061] Trial 339 finished with value: 0.0192196536809206 and parameters: {'std': 0.0161, 'num_layers': 2, 'units_0': 176, 'units_1': 144, 'freezed_layer_from_right': 1}. Best is trial 244 with value: 0.017156001180410385.\n"
     ]
    },
    {
     "name": "stdout",
     "output_type": "stream",
     "text": [
      "|\u001b[92m█\u001b[0m\u001b[92m█\u001b[0m\u001b[92m█\u001b[0m\u001b[92m█\u001b[0m\u001b[92m█\u001b[0m\u001b[30m█\u001b[0m\u001b[30m█\u001b[0m\u001b[30m█\u001b[0m\u001b[30m█\u001b[0m\u001b[30m█\u001b[0m\u001b[30m█\u001b[0m\u001b[30m█\u001b[0m\u001b[30m█\u001b[0m\u001b[30m█\u001b[0m\u001b[30m█\u001b[0m\u001b[30m█\u001b[0m\u001b[30m█\u001b[0m\u001b[30m█\u001b[0m\u001b[30m█\u001b[0m\u001b[30m█\u001b[0m|(2929/10000) (0.02s avg time) ETA: ~03 min -  MSE (TRAIN) : \u001b[93m0.060900\u001b[0m, MSE (VAL) : \u001b[96m0.063477\u001b[0m -- BEST Val Loss : \u001b[92m0.061996\u001b[0m (at epoch 2427) Eary Stopping in: 0001   \r"
     ]
    },
    {
     "name": "stderr",
     "output_type": "stream",
     "text": [
      "[I 2024-05-09 04:20:36,299] Trial 340 finished with value: 0.020964089781045914 and parameters: {'std': 0.0126, 'num_layers': 2, 'units_0': 176, 'units_1': 64, 'freezed_layer_from_right': 1}. Best is trial 244 with value: 0.017156001180410385.\n"
     ]
    },
    {
     "name": "stdout",
     "output_type": "stream",
     "text": [
      "|\u001b[92m█\u001b[0m\u001b[92m█\u001b[0m\u001b[92m█\u001b[0m\u001b[30m█\u001b[0m\u001b[30m█\u001b[0m\u001b[30m█\u001b[0m\u001b[30m█\u001b[0m\u001b[30m█\u001b[0m\u001b[30m█\u001b[0m\u001b[30m█\u001b[0m\u001b[30m█\u001b[0m\u001b[30m█\u001b[0m\u001b[30m█\u001b[0m\u001b[30m█\u001b[0m\u001b[30m█\u001b[0m\u001b[30m█\u001b[0m\u001b[30m█\u001b[0m\u001b[30m█\u001b[0m\u001b[30m█\u001b[0m\u001b[30m█\u001b[0m|(1516/10000) (0.02s avg time) ETA: ~04 min -  MSE (TRAIN) : \u001b[93m0.105835\u001b[0m, MSE (VAL) : \u001b[96m0.113387\u001b[0m -- BEST Val Loss : \u001b[92m0.104578\u001b[0m (at epoch 1014) Eary Stopping in: 0001   \r"
     ]
    },
    {
     "name": "stderr",
     "output_type": "stream",
     "text": [
      "[I 2024-05-09 04:22:47,574] Trial 341 finished with value: 0.02099182829260826 and parameters: {'std': 0.0196, 'num_layers': 2, 'units_0': 176, 'units_1': 112, 'freezed_layer_from_right': 1}. Best is trial 244 with value: 0.017156001180410385.\n"
     ]
    },
    {
     "name": "stdout",
     "output_type": "stream",
     "text": [
      "|\u001b[92m█\u001b[0m\u001b[92m█\u001b[0m\u001b[92m█\u001b[0m\u001b[30m█\u001b[0m\u001b[30m█\u001b[0m\u001b[30m█\u001b[0m\u001b[30m█\u001b[0m\u001b[30m█\u001b[0m\u001b[30m█\u001b[0m\u001b[30m█\u001b[0m\u001b[30m█\u001b[0m\u001b[30m█\u001b[0m\u001b[30m█\u001b[0m\u001b[30m█\u001b[0m\u001b[30m█\u001b[0m\u001b[30m█\u001b[0m\u001b[30m█\u001b[0m\u001b[30m█\u001b[0m\u001b[30m█\u001b[0m\u001b[30m█\u001b[0m|(1652/10000) (0.02s avg time) ETA: ~04 min -  MSE (TRAIN) : \u001b[93m0.050536\u001b[0m, MSE (VAL) : \u001b[96m0.048742\u001b[0m -- BEST Val Loss : \u001b[92m0.048436\u001b[0m (at epoch 1150) Eary Stopping in: 0001   \r"
     ]
    },
    {
     "name": "stderr",
     "output_type": "stream",
     "text": [
      "[I 2024-05-09 04:27:36,200] Trial 342 finished with value: 0.019325682893395424 and parameters: {'std': 0.0146, 'num_layers': 3, 'units_0': 176, 'units_1': 128, 'units_2': 176, 'freezed_layer_from_right': 2}. Best is trial 244 with value: 0.017156001180410385.\n"
     ]
    },
    {
     "name": "stdout",
     "output_type": "stream",
     "text": [
      "|\u001b[92m█\u001b[0m\u001b[92m█\u001b[0m\u001b[92m█\u001b[0m\u001b[92m█\u001b[0m\u001b[30m█\u001b[0m\u001b[30m█\u001b[0m\u001b[30m█\u001b[0m\u001b[30m█\u001b[0m\u001b[30m█\u001b[0m\u001b[30m█\u001b[0m\u001b[30m█\u001b[0m\u001b[30m█\u001b[0m\u001b[30m█\u001b[0m\u001b[30m█\u001b[0m\u001b[30m█\u001b[0m\u001b[30m█\u001b[0m\u001b[30m█\u001b[0m\u001b[30m█\u001b[0m\u001b[30m█\u001b[0m\u001b[30m█\u001b[0m|(2187/10000) (0.02s avg time) ETA: ~03 min -  MSE (TRAIN) : \u001b[93m0.062764\u001b[0m, MSE (VAL) : \u001b[96m0.064726\u001b[0m -- BEST Val Loss : \u001b[92m0.059591\u001b[0m (at epoch 1685) Eary Stopping in: 0001   \r"
     ]
    },
    {
     "name": "stderr",
     "output_type": "stream",
     "text": [
      "[I 2024-05-09 04:32:14,437] Trial 343 finished with value: 0.021060654893517494 and parameters: {'std': 0.0176, 'num_layers': 2, 'units_0': 176, 'units_1': 144, 'freezed_layer_from_right': 1}. Best is trial 244 with value: 0.017156001180410385.\n"
     ]
    },
    {
     "name": "stdout",
     "output_type": "stream",
     "text": [
      "|\u001b[92m█\u001b[0m\u001b[30m█\u001b[0m\u001b[30m█\u001b[0m\u001b[30m█\u001b[0m\u001b[30m█\u001b[0m\u001b[30m█\u001b[0m\u001b[30m█\u001b[0m\u001b[30m█\u001b[0m\u001b[30m█\u001b[0m\u001b[30m█\u001b[0m\u001b[30m█\u001b[0m\u001b[30m█\u001b[0m\u001b[30m█\u001b[0m\u001b[30m█\u001b[0m\u001b[30m█\u001b[0m\u001b[30m█\u001b[0m\u001b[30m█\u001b[0m\u001b[30m█\u001b[0m\u001b[30m█\u001b[0m\u001b[30m█\u001b[0m|(899/10000) (0.02s avg time) ETA: ~04 min -  MSE (TRAIN) : \u001b[93m0.500285\u001b[0m, MSE (VAL) : \u001b[96m0.498442\u001b[0m -- BEST Val Loss : \u001b[92m0.497474\u001b[0m (at epoch 397) Eary Stopping in: 0001   \r"
     ]
    },
    {
     "name": "stderr",
     "output_type": "stream",
     "text": [
      "[I 2024-05-09 04:35:05,550] Trial 344 finished with value: 0.04901973903179169 and parameters: {'std': 0.0016, 'num_layers': 2, 'units_0': 176, 'units_1': 144, 'freezed_layer_from_right': 1}. Best is trial 244 with value: 0.017156001180410385.\n"
     ]
    },
    {
     "name": "stdout",
     "output_type": "stream",
     "text": [
      "|\u001b[92m█\u001b[0m\u001b[92m█\u001b[0m\u001b[92m█\u001b[0m\u001b[92m█\u001b[0m\u001b[30m█\u001b[0m\u001b[30m█\u001b[0m\u001b[30m█\u001b[0m\u001b[30m█\u001b[0m\u001b[30m█\u001b[0m\u001b[30m█\u001b[0m\u001b[30m█\u001b[0m\u001b[30m█\u001b[0m\u001b[30m█\u001b[0m\u001b[30m█\u001b[0m\u001b[30m█\u001b[0m\u001b[30m█\u001b[0m\u001b[30m█\u001b[0m\u001b[30m█\u001b[0m\u001b[30m█\u001b[0m\u001b[30m█\u001b[0m|(2130/10000) (0.02s avg time) ETA: ~03 min -  MSE (TRAIN) : \u001b[93m0.079847\u001b[0m, MSE (VAL) : \u001b[96m0.073886\u001b[0m -- BEST Val Loss : \u001b[92m0.071377\u001b[0m (at epoch 1628) Eary Stopping in: 0001   \r"
     ]
    },
    {
     "name": "stderr",
     "output_type": "stream",
     "text": [
      "[I 2024-05-09 04:37:15,961] Trial 345 finished with value: 0.020331967622041702 and parameters: {'std': 0.0251, 'num_layers': 2, 'units_0': 160, 'units_1': 144, 'freezed_layer_from_right': 1}. Best is trial 244 with value: 0.017156001180410385.\n"
     ]
    },
    {
     "name": "stdout",
     "output_type": "stream",
     "text": [
      "|\u001b[92m█\u001b[0m\u001b[92m█\u001b[0m\u001b[30m█\u001b[0m\u001b[30m█\u001b[0m\u001b[30m█\u001b[0m\u001b[30m█\u001b[0m\u001b[30m█\u001b[0m\u001b[30m█\u001b[0m\u001b[30m█\u001b[0m\u001b[30m█\u001b[0m\u001b[30m█\u001b[0m\u001b[30m█\u001b[0m\u001b[30m█\u001b[0m\u001b[30m█\u001b[0m\u001b[30m█\u001b[0m\u001b[30m█\u001b[0m\u001b[30m█\u001b[0m\u001b[30m█\u001b[0m\u001b[30m█\u001b[0m\u001b[30m█\u001b[0m|(1489/10000) (0.02s avg time) ETA: ~04 min -  MSE (TRAIN) : \u001b[93m0.140397\u001b[0m, MSE (VAL) : \u001b[96m0.140100\u001b[0m -- BEST Val Loss : \u001b[92m0.137781\u001b[0m (at epoch 987) Eary Stopping in: 0001   \r"
     ]
    },
    {
     "name": "stderr",
     "output_type": "stream",
     "text": [
      "[I 2024-05-09 04:38:47,718] Trial 346 finished with value: 0.021830206736922264 and parameters: {'std': 0.022099999999999998, 'num_layers': 2, 'units_0': 160, 'units_1': 80, 'freezed_layer_from_right': 1}. Best is trial 244 with value: 0.017156001180410385.\n"
     ]
    },
    {
     "name": "stdout",
     "output_type": "stream",
     "text": [
      "|\u001b[92m█\u001b[0m\u001b[30m█\u001b[0m\u001b[30m█\u001b[0m\u001b[30m█\u001b[0m\u001b[30m█\u001b[0m\u001b[30m█\u001b[0m\u001b[30m█\u001b[0m\u001b[30m█\u001b[0m\u001b[30m█\u001b[0m\u001b[30m█\u001b[0m\u001b[30m█\u001b[0m\u001b[30m█\u001b[0m\u001b[30m█\u001b[0m\u001b[30m█\u001b[0m\u001b[30m█\u001b[0m\u001b[30m█\u001b[0m\u001b[30m█\u001b[0m\u001b[30m█\u001b[0m\u001b[30m█\u001b[0m\u001b[30m█\u001b[0m|(920/10000) (0.02s avg time) ETA: ~04 min -  MSE (TRAIN) : \u001b[93m0.061639\u001b[0m, MSE (VAL) : \u001b[96m0.064067\u001b[0m -- BEST Val Loss : \u001b[92m0.062076\u001b[0m (at epoch 418) Eary Stopping in: 0001   \r"
     ]
    },
    {
     "name": "stderr",
     "output_type": "stream",
     "text": [
      "[I 2024-05-09 04:42:59,987] Trial 347 finished with value: 0.019171934574842453 and parameters: {'std': 0.0161, 'num_layers': 2, 'units_0': 176, 'units_1': 128, 'freezed_layer_from_right': 1}. Best is trial 244 with value: 0.017156001180410385.\n"
     ]
    },
    {
     "name": "stdout",
     "output_type": "stream",
     "text": [
      "|\u001b[92m█\u001b[0m\u001b[92m█\u001b[0m\u001b[30m█\u001b[0m\u001b[30m█\u001b[0m\u001b[30m█\u001b[0m\u001b[30m█\u001b[0m\u001b[30m█\u001b[0m\u001b[30m█\u001b[0m\u001b[30m█\u001b[0m\u001b[30m█\u001b[0m\u001b[30m█\u001b[0m\u001b[30m█\u001b[0m\u001b[30m█\u001b[0m\u001b[30m█\u001b[0m\u001b[30m█\u001b[0m\u001b[30m█\u001b[0m\u001b[30m█\u001b[0m\u001b[30m█\u001b[0m\u001b[30m█\u001b[0m\u001b[30m█\u001b[0m|(1044/10000) (0.02s avg time) ETA: ~04 min -  MSE (TRAIN) : \u001b[93m0.058405\u001b[0m, MSE (VAL) : \u001b[96m0.058956\u001b[0m -- BEST Val Loss : \u001b[92m0.057775\u001b[0m (at epoch 542) Eary Stopping in: 0001   \r"
     ]
    },
    {
     "name": "stderr",
     "output_type": "stream",
     "text": [
      "[I 2024-05-09 04:47:10,148] Trial 348 finished with value: 0.018813230097293854 and parameters: {'std': 0.0191, 'num_layers': 2, 'units_0': 112, 'units_1': 144, 'freezed_layer_from_right': 1}. Best is trial 244 with value: 0.017156001180410385.\n"
     ]
    },
    {
     "name": "stdout",
     "output_type": "stream",
     "text": [
      "|\u001b[92m█\u001b[0m\u001b[92m█\u001b[0m\u001b[92m█\u001b[0m\u001b[92m█\u001b[0m\u001b[30m█\u001b[0m\u001b[30m█\u001b[0m\u001b[30m█\u001b[0m\u001b[30m█\u001b[0m\u001b[30m█\u001b[0m\u001b[30m█\u001b[0m\u001b[30m█\u001b[0m\u001b[30m█\u001b[0m\u001b[30m█\u001b[0m\u001b[30m█\u001b[0m\u001b[30m█\u001b[0m\u001b[30m█\u001b[0m\u001b[30m█\u001b[0m\u001b[30m█\u001b[0m\u001b[30m█\u001b[0m\u001b[30m█\u001b[0m|(2075/10000) (0.02s avg time) ETA: ~04 min -  MSE (TRAIN) : \u001b[93m0.061272\u001b[0m, MSE (VAL) : \u001b[96m0.063283\u001b[0m -- BEST Val Loss : \u001b[92m0.061848\u001b[0m (at epoch 1573) Eary Stopping in: 0001   \r"
     ]
    },
    {
     "name": "stderr",
     "output_type": "stream",
     "text": [
      "[I 2024-05-09 04:51:46,254] Trial 349 finished with value: 0.01960276998579502 and parameters: {'std': 0.0141, 'num_layers': 2, 'units_0': 160, 'units_1': 144, 'freezed_layer_from_right': 1}. Best is trial 244 with value: 0.017156001180410385.\n"
     ]
    },
    {
     "name": "stdout",
     "output_type": "stream",
     "text": [
      "|\u001b[92m█\u001b[0m\u001b[92m█\u001b[0m\u001b[92m█\u001b[0m\u001b[92m█\u001b[0m\u001b[92m█\u001b[0m\u001b[30m█\u001b[0m\u001b[30m█\u001b[0m\u001b[30m█\u001b[0m\u001b[30m█\u001b[0m\u001b[30m█\u001b[0m\u001b[30m█\u001b[0m\u001b[30m█\u001b[0m\u001b[30m█\u001b[0m\u001b[30m█\u001b[0m\u001b[30m█\u001b[0m\u001b[30m█\u001b[0m\u001b[30m█\u001b[0m\u001b[30m█\u001b[0m\u001b[30m█\u001b[0m\u001b[30m█\u001b[0m|(2570/10000) (0.03s avg time) ETA: ~04 min -  MSE (TRAIN) : \u001b[93m0.056275\u001b[0m, MSE (VAL) : \u001b[96m0.058941\u001b[0m -- BEST Val Loss : \u001b[92m0.057335\u001b[0m (at epoch 2068) Eary Stopping in: 0001   \r"
     ]
    },
    {
     "name": "stderr",
     "output_type": "stream",
     "text": [
      "[I 2024-05-09 04:57:20,684] Trial 350 finished with value: 0.022039182484149933 and parameters: {'std': 0.0116, 'num_layers': 4, 'units_0': 160, 'units_1': 144, 'units_2': 160, 'units_3': 32, 'freezed_layer_from_right': 3}. Best is trial 244 with value: 0.017156001180410385.\n"
     ]
    },
    {
     "name": "stdout",
     "output_type": "stream",
     "text": [
      "|\u001b[92m█\u001b[0m\u001b[92m█\u001b[0m\u001b[30m█\u001b[0m\u001b[30m█\u001b[0m\u001b[30m█\u001b[0m\u001b[30m█\u001b[0m\u001b[30m█\u001b[0m\u001b[30m█\u001b[0m\u001b[30m█\u001b[0m\u001b[30m█\u001b[0m\u001b[30m█\u001b[0m\u001b[30m█\u001b[0m\u001b[30m█\u001b[0m\u001b[30m█\u001b[0m\u001b[30m█\u001b[0m\u001b[30m█\u001b[0m\u001b[30m█\u001b[0m\u001b[30m█\u001b[0m\u001b[30m█\u001b[0m\u001b[30m█\u001b[0m|(1100/10000) (0.02s avg time) ETA: ~04 min -  MSE (TRAIN) : \u001b[93m0.062616\u001b[0m, MSE (VAL) : \u001b[96m0.061252\u001b[0m -- BEST Val Loss : \u001b[92m0.059941\u001b[0m (at epoch 598) Eary Stopping in: 0001   \r"
     ]
    },
    {
     "name": "stderr",
     "output_type": "stream",
     "text": [
      "[I 2024-05-09 05:01:32,399] Trial 351 finished with value: 0.020597662776708603 and parameters: {'std': 0.0176, 'num_layers': 2, 'units_0': 96, 'units_1': 160, 'freezed_layer_from_right': 1}. Best is trial 244 with value: 0.017156001180410385.\n"
     ]
    },
    {
     "name": "stdout",
     "output_type": "stream",
     "text": [
      "|\u001b[92m█\u001b[0m\u001b[92m█\u001b[0m\u001b[30m█\u001b[0m\u001b[30m█\u001b[0m\u001b[30m█\u001b[0m\u001b[30m█\u001b[0m\u001b[30m█\u001b[0m\u001b[30m█\u001b[0m\u001b[30m█\u001b[0m\u001b[30m█\u001b[0m\u001b[30m█\u001b[0m\u001b[30m█\u001b[0m\u001b[30m█\u001b[0m\u001b[30m█\u001b[0m\u001b[30m█\u001b[0m\u001b[30m█\u001b[0m\u001b[30m█\u001b[0m\u001b[30m█\u001b[0m\u001b[30m█\u001b[0m\u001b[30m█\u001b[0m|(1014/10000) (0.02s avg time) ETA: ~04 min -  MSE (TRAIN) : \u001b[93m0.071528\u001b[0m, MSE (VAL) : \u001b[96m0.076883\u001b[0m -- BEST Val Loss : \u001b[92m0.071514\u001b[0m (at epoch 512) Eary Stopping in: 0001   \r"
     ]
    },
    {
     "name": "stderr",
     "output_type": "stream",
     "text": [
      "[I 2024-05-09 05:05:45,363] Trial 352 finished with value: 0.01865958236157894 and parameters: {'std': 0.0206, 'num_layers': 2, 'units_0': 160, 'units_1': 80, 'freezed_layer_from_right': 1}. Best is trial 244 with value: 0.017156001180410385.\n"
     ]
    },
    {
     "name": "stdout",
     "output_type": "stream",
     "text": [
      "|\u001b[92m█\u001b[0m\u001b[92m█\u001b[0m\u001b[92m█\u001b[0m\u001b[92m█\u001b[0m\u001b[92m█\u001b[0m\u001b[92m█\u001b[0m\u001b[30m█\u001b[0m\u001b[30m█\u001b[0m\u001b[30m█\u001b[0m\u001b[30m█\u001b[0m\u001b[30m█\u001b[0m\u001b[30m█\u001b[0m\u001b[30m█\u001b[0m\u001b[30m█\u001b[0m\u001b[30m█\u001b[0m\u001b[30m█\u001b[0m\u001b[30m█\u001b[0m\u001b[30m█\u001b[0m\u001b[30m█\u001b[0m\u001b[30m█\u001b[0m|(3407/10000) (0.02s avg time) ETA: ~03 min -  MSE (TRAIN) : \u001b[93m0.064391\u001b[0m, MSE (VAL) : \u001b[96m0.065939\u001b[0m -- BEST Val Loss : \u001b[92m0.063976\u001b[0m (at epoch 2905) Eary Stopping in: 0001   \r"
     ]
    },
    {
     "name": "stderr",
     "output_type": "stream",
     "text": [
      "[I 2024-05-09 05:10:51,164] Trial 353 finished with value: 0.019743643701076508 and parameters: {'std': 0.0161, 'num_layers': 2, 'units_0': 176, 'units_1': 144, 'freezed_layer_from_right': 1}. Best is trial 244 with value: 0.017156001180410385.\n"
     ]
    },
    {
     "name": "stdout",
     "output_type": "stream",
     "text": [
      "|\u001b[92m█\u001b[0m\u001b[92m█\u001b[0m\u001b[92m█\u001b[0m\u001b[92m█\u001b[0m\u001b[30m█\u001b[0m\u001b[30m█\u001b[0m\u001b[30m█\u001b[0m\u001b[30m█\u001b[0m\u001b[30m█\u001b[0m\u001b[30m█\u001b[0m\u001b[30m█\u001b[0m\u001b[30m█\u001b[0m\u001b[30m█\u001b[0m\u001b[30m█\u001b[0m\u001b[30m█\u001b[0m\u001b[30m█\u001b[0m\u001b[30m█\u001b[0m\u001b[30m█\u001b[0m\u001b[30m█\u001b[0m\u001b[30m█\u001b[0m|(2397/10000) (0.02s avg time) ETA: ~03 min -  MSE (TRAIN) : \u001b[93m0.054067\u001b[0m, MSE (VAL) : \u001b[96m0.056556\u001b[0m -- BEST Val Loss : \u001b[92m0.054891\u001b[0m (at epoch 1895) Eary Stopping in: 0001   \r"
     ]
    },
    {
     "name": "stderr",
     "output_type": "stream",
     "text": [
      "[I 2024-05-09 05:15:32,983] Trial 354 finished with value: 0.0230324175208807 and parameters: {'std': 0.0101, 'num_layers': 2, 'units_0': 160, 'units_1': 112, 'freezed_layer_from_right': 1}. Best is trial 244 with value: 0.017156001180410385.\n"
     ]
    },
    {
     "name": "stdout",
     "output_type": "stream",
     "text": [
      "|\u001b[92m█\u001b[0m\u001b[92m█\u001b[0m\u001b[30m█\u001b[0m\u001b[30m█\u001b[0m\u001b[30m█\u001b[0m\u001b[30m█\u001b[0m\u001b[30m█\u001b[0m\u001b[30m█\u001b[0m\u001b[30m█\u001b[0m\u001b[30m█\u001b[0m\u001b[30m█\u001b[0m\u001b[30m█\u001b[0m\u001b[30m█\u001b[0m\u001b[30m█\u001b[0m\u001b[30m█\u001b[0m\u001b[30m█\u001b[0m\u001b[30m█\u001b[0m\u001b[30m█\u001b[0m\u001b[30m█\u001b[0m\u001b[30m█\u001b[0m|(1464/10000) (0.02s avg time) ETA: ~04 min -  MSE (TRAIN) : \u001b[93m0.089251\u001b[0m, MSE (VAL) : \u001b[96m0.098854\u001b[0m -- BEST Val Loss : \u001b[92m0.089202\u001b[0m (at epoch 962) Eary Stopping in: 0001   \r"
     ]
    },
    {
     "name": "stderr",
     "output_type": "stream",
     "text": [
      "[I 2024-05-09 05:18:08,110] Trial 355 finished with value: 0.024181300774216652 and parameters: {'std': 0.0186, 'num_layers': 2, 'units_0': 160, 'units_1': 144, 'freezed_layer_from_right': 1}. Best is trial 244 with value: 0.017156001180410385.\n"
     ]
    },
    {
     "name": "stdout",
     "output_type": "stream",
     "text": [
      "|\u001b[92m█\u001b[0m\u001b[92m█\u001b[0m\u001b[30m█\u001b[0m\u001b[30m█\u001b[0m\u001b[30m█\u001b[0m\u001b[30m█\u001b[0m\u001b[30m█\u001b[0m\u001b[30m█\u001b[0m\u001b[30m█\u001b[0m\u001b[30m█\u001b[0m\u001b[30m█\u001b[0m\u001b[30m█\u001b[0m\u001b[30m█\u001b[0m\u001b[30m█\u001b[0m\u001b[30m█\u001b[0m\u001b[30m█\u001b[0m\u001b[30m█\u001b[0m\u001b[30m█\u001b[0m\u001b[30m█\u001b[0m\u001b[30m█\u001b[0m|(1179/10000) (0.02s avg time) ETA: ~04 min -  MSE (TRAIN) : \u001b[93m0.109350\u001b[0m, MSE (VAL) : \u001b[96m0.097451\u001b[0m -- BEST Val Loss : \u001b[92m0.074543\u001b[0m (at epoch 677) Eary Stopping in: 0001   \r"
     ]
    },
    {
     "name": "stderr",
     "output_type": "stream",
     "text": [
      "[I 2024-05-09 05:19:21,250] Trial 356 finished with value: 0.022455500438809395 and parameters: {'std': 0.0226, 'num_layers': 2, 'units_0': 176, 'units_1': 160, 'freezed_layer_from_right': 1}. Best is trial 244 with value: 0.017156001180410385.\n"
     ]
    },
    {
     "name": "stdout",
     "output_type": "stream",
     "text": [
      "|\u001b[92m█\u001b[0m\u001b[92m█\u001b[0m\u001b[92m█\u001b[0m\u001b[92m█\u001b[0m\u001b[92m█\u001b[0m\u001b[30m█\u001b[0m\u001b[30m█\u001b[0m\u001b[30m█\u001b[0m\u001b[30m█\u001b[0m\u001b[30m█\u001b[0m\u001b[30m█\u001b[0m\u001b[30m█\u001b[0m\u001b[30m█\u001b[0m\u001b[30m█\u001b[0m\u001b[30m█\u001b[0m\u001b[30m█\u001b[0m\u001b[30m█\u001b[0m\u001b[30m█\u001b[0m\u001b[30m█\u001b[0m\u001b[30m█\u001b[0m|(2829/10000) (0.02s avg time) ETA: ~03 min -  MSE (TRAIN) : \u001b[93m0.066650\u001b[0m, MSE (VAL) : \u001b[96m0.067406\u001b[0m -- BEST Val Loss : \u001b[92m0.066527\u001b[0m (at epoch 2327) Eary Stopping in: 0001   \r"
     ]
    },
    {
     "name": "stderr",
     "output_type": "stream",
     "text": [
      "[I 2024-05-09 05:24:16,110] Trial 357 finished with value: 0.01885872520506382 and parameters: {'std': 0.0136, 'num_layers': 2, 'units_0': 160, 'units_1': 128, 'freezed_layer_from_right': 1}. Best is trial 244 with value: 0.017156001180410385.\n"
     ]
    },
    {
     "name": "stdout",
     "output_type": "stream",
     "text": [
      "|\u001b[92m█\u001b[0m\u001b[92m█\u001b[0m\u001b[92m█\u001b[0m\u001b[92m█\u001b[0m\u001b[92m█\u001b[0m\u001b[30m█\u001b[0m\u001b[30m█\u001b[0m\u001b[30m█\u001b[0m\u001b[30m█\u001b[0m\u001b[30m█\u001b[0m\u001b[30m█\u001b[0m\u001b[30m█\u001b[0m\u001b[30m█\u001b[0m\u001b[30m█\u001b[0m\u001b[30m█\u001b[0m\u001b[30m█\u001b[0m\u001b[30m█\u001b[0m\u001b[30m█\u001b[0m\u001b[30m█\u001b[0m\u001b[30m█\u001b[0m|(2745/10000) (0.02s avg time) ETA: ~03 min -  MSE (TRAIN) : \u001b[93m0.119352\u001b[0m, MSE (VAL) : \u001b[96m0.115271\u001b[0m -- BEST Val Loss : \u001b[92m0.113022\u001b[0m (at epoch 2243) Eary Stopping in: 0001   \r"
     ]
    },
    {
     "name": "stderr",
     "output_type": "stream",
     "text": [
      "[I 2024-05-09 05:26:40,211] Trial 358 finished with value: 0.022631606087088585 and parameters: {'std': 0.0201, 'num_layers': 2, 'units_0': 160, 'units_1': 96, 'freezed_layer_from_right': 1}. Best is trial 244 with value: 0.017156001180410385.\n"
     ]
    },
    {
     "name": "stdout",
     "output_type": "stream",
     "text": [
      "|\u001b[92m█\u001b[0m\u001b[92m█\u001b[0m\u001b[30m█\u001b[0m\u001b[30m█\u001b[0m\u001b[30m█\u001b[0m\u001b[30m█\u001b[0m\u001b[30m█\u001b[0m\u001b[30m█\u001b[0m\u001b[30m█\u001b[0m\u001b[30m█\u001b[0m\u001b[30m█\u001b[0m\u001b[30m█\u001b[0m\u001b[30m█\u001b[0m\u001b[30m█\u001b[0m\u001b[30m█\u001b[0m\u001b[30m█\u001b[0m\u001b[30m█\u001b[0m\u001b[30m█\u001b[0m\u001b[30m█\u001b[0m\u001b[30m█\u001b[0m|(1343/10000) (0.02s avg time) ETA: ~04 min -  MSE (TRAIN) : \u001b[93m0.060028\u001b[0m, MSE (VAL) : \u001b[96m0.059433\u001b[0m -- BEST Val Loss : \u001b[92m0.058362\u001b[0m (at epoch 841) Eary Stopping in: 0001   \r"
     ]
    },
    {
     "name": "stderr",
     "output_type": "stream",
     "text": [
      "[I 2024-05-09 05:30:58,827] Trial 359 finished with value: 0.018281761556863785 and parameters: {'std': 0.0166, 'num_layers': 2, 'units_0': 176, 'units_1': 144, 'freezed_layer_from_right': 1}. Best is trial 244 with value: 0.017156001180410385.\n"
     ]
    },
    {
     "name": "stdout",
     "output_type": "stream",
     "text": [
      "|\u001b[92m█\u001b[0m\u001b[92m█\u001b[0m\u001b[30m█\u001b[0m\u001b[30m█\u001b[0m\u001b[30m█\u001b[0m\u001b[30m█\u001b[0m\u001b[30m█\u001b[0m\u001b[30m█\u001b[0m\u001b[30m█\u001b[0m\u001b[30m█\u001b[0m\u001b[30m█\u001b[0m\u001b[30m█\u001b[0m\u001b[30m█\u001b[0m\u001b[30m█\u001b[0m\u001b[30m█\u001b[0m\u001b[30m█\u001b[0m\u001b[30m█\u001b[0m\u001b[30m█\u001b[0m\u001b[30m█\u001b[0m\u001b[30m█\u001b[0m|(1203/10000) (0.02s avg time) ETA: ~04 min -  MSE (TRAIN) : \u001b[93m0.061982\u001b[0m, MSE (VAL) : \u001b[96m0.061118\u001b[0m -- BEST Val Loss : \u001b[92m0.060284\u001b[0m (at epoch 701) Eary Stopping in: 0001   \r"
     ]
    },
    {
     "name": "stderr",
     "output_type": "stream",
     "text": [
      "[I 2024-05-09 05:35:15,849] Trial 360 finished with value: 0.020474841818213463 and parameters: {'std': 0.015099999999999999, 'num_layers': 2, 'units_0': 176, 'units_1': 144, 'freezed_layer_from_right': 1}. Best is trial 244 with value: 0.017156001180410385.\n"
     ]
    },
    {
     "name": "stdout",
     "output_type": "stream",
     "text": [
      "|\u001b[92m█\u001b[0m\u001b[92m█\u001b[0m\u001b[92m█\u001b[0m\u001b[30m█\u001b[0m\u001b[30m█\u001b[0m\u001b[30m█\u001b[0m\u001b[30m█\u001b[0m\u001b[30m█\u001b[0m\u001b[30m█\u001b[0m\u001b[30m█\u001b[0m\u001b[30m█\u001b[0m\u001b[30m█\u001b[0m\u001b[30m█\u001b[0m\u001b[30m█\u001b[0m\u001b[30m█\u001b[0m\u001b[30m█\u001b[0m\u001b[30m█\u001b[0m\u001b[30m█\u001b[0m\u001b[30m█\u001b[0m\u001b[30m█\u001b[0m|(1881/10000) (0.02s avg time) ETA: ~03 min -  MSE (TRAIN) : \u001b[93m0.054098\u001b[0m, MSE (VAL) : \u001b[96m0.056561\u001b[0m -- BEST Val Loss : \u001b[92m0.054495\u001b[0m (at epoch 1379) Eary Stopping in: 0001   \r"
     ]
    },
    {
     "name": "stderr",
     "output_type": "stream",
     "text": [
      "[I 2024-05-09 05:39:46,972] Trial 361 finished with value: 0.022927038371562958 and parameters: {'std': 0.0131, 'num_layers': 2, 'units_0': 176, 'units_1': 144, 'freezed_layer_from_right': 1}. Best is trial 244 with value: 0.017156001180410385.\n"
     ]
    },
    {
     "name": "stdout",
     "output_type": "stream",
     "text": [
      "|\u001b[92m█\u001b[0m\u001b[30m█\u001b[0m\u001b[30m█\u001b[0m\u001b[30m█\u001b[0m\u001b[30m█\u001b[0m\u001b[30m█\u001b[0m\u001b[30m█\u001b[0m\u001b[30m█\u001b[0m\u001b[30m█\u001b[0m\u001b[30m█\u001b[0m\u001b[30m█\u001b[0m\u001b[30m█\u001b[0m\u001b[30m█\u001b[0m\u001b[30m█\u001b[0m\u001b[30m█\u001b[0m\u001b[30m█\u001b[0m\u001b[30m█\u001b[0m\u001b[30m█\u001b[0m\u001b[30m█\u001b[0m\u001b[30m█\u001b[0m|(913/10000) (0.02s avg time) ETA: ~04 min -  MSE (TRAIN) : \u001b[93m0.068881\u001b[0m, MSE (VAL) : \u001b[96m0.132589\u001b[0m -- BEST Val Loss : \u001b[92m0.016327\u001b[0m (at epoch 411) Eary Stopping in: 0001   \r"
     ]
    },
    {
     "name": "stderr",
     "output_type": "stream",
     "text": [
      "[I 2024-05-09 05:41:01,058] Trial 362 finished with value: 0.029130801558494568 and parameters: {'std': 0.08510000000000001, 'num_layers': 2, 'units_0': 176, 'units_1': 144, 'freezed_layer_from_right': 1}. Best is trial 244 with value: 0.017156001180410385.\n"
     ]
    },
    {
     "name": "stdout",
     "output_type": "stream",
     "text": [
      "|\u001b[92m█\u001b[0m\u001b[30m█\u001b[0m\u001b[30m█\u001b[0m\u001b[30m█\u001b[0m\u001b[30m█\u001b[0m\u001b[30m█\u001b[0m\u001b[30m█\u001b[0m\u001b[30m█\u001b[0m\u001b[30m█\u001b[0m\u001b[30m█\u001b[0m\u001b[30m█\u001b[0m\u001b[30m█\u001b[0m\u001b[30m█\u001b[0m\u001b[30m█\u001b[0m\u001b[30m█\u001b[0m\u001b[30m█\u001b[0m\u001b[30m█\u001b[0m\u001b[30m█\u001b[0m\u001b[30m█\u001b[0m\u001b[30m█\u001b[0m|(629/10000) (0.02s avg time) ETA: ~04 min -  MSE (TRAIN) : \u001b[93m0.057208\u001b[0m, MSE (VAL) : \u001b[96m0.058942\u001b[0m -- BEST Val Loss : \u001b[92m0.056425\u001b[0m (at epoch 127) Eary Stopping in: 0001   \r"
     ]
    },
    {
     "name": "stderr",
     "output_type": "stream",
     "text": [
      "[I 2024-05-09 05:45:22,003] Trial 363 finished with value: 0.020654816180467606 and parameters: {'std': 0.0166, 'num_layers': 3, 'units_0': 176, 'units_1': 144, 'units_2': 112, 'freezed_layer_from_right': 1}. Best is trial 244 with value: 0.017156001180410385.\n"
     ]
    },
    {
     "name": "stdout",
     "output_type": "stream",
     "text": [
      "|\u001b[92m█\u001b[0m\u001b[92m█\u001b[0m\u001b[92m█\u001b[0m\u001b[30m█\u001b[0m\u001b[30m█\u001b[0m\u001b[30m█\u001b[0m\u001b[30m█\u001b[0m\u001b[30m█\u001b[0m\u001b[30m█\u001b[0m\u001b[30m█\u001b[0m\u001b[30m█\u001b[0m\u001b[30m█\u001b[0m\u001b[30m█\u001b[0m\u001b[30m█\u001b[0m\u001b[30m█\u001b[0m\u001b[30m█\u001b[0m\u001b[30m█\u001b[0m\u001b[30m█\u001b[0m\u001b[30m█\u001b[0m\u001b[30m█\u001b[0m|(1901/10000) (0.02s avg time) ETA: ~03 min -  MSE (TRAIN) : \u001b[93m0.059937\u001b[0m, MSE (VAL) : \u001b[96m0.061803\u001b[0m -- BEST Val Loss : \u001b[92m0.060792\u001b[0m (at epoch 1399) Eary Stopping in: 0001   \r"
     ]
    },
    {
     "name": "stderr",
     "output_type": "stream",
     "text": [
      "[I 2024-05-09 05:49:53,531] Trial 364 finished with value: 0.02416548877954483 and parameters: {'std': 0.0156, 'num_layers': 2, 'units_0': 64, 'units_1': 128, 'freezed_layer_from_right': 1}. Best is trial 244 with value: 0.017156001180410385.\n"
     ]
    },
    {
     "name": "stdout",
     "output_type": "stream",
     "text": [
      "|\u001b[92m█\u001b[0m\u001b[30m█\u001b[0m\u001b[30m█\u001b[0m\u001b[30m█\u001b[0m\u001b[30m█\u001b[0m\u001b[30m█\u001b[0m\u001b[30m█\u001b[0m\u001b[30m█\u001b[0m\u001b[30m█\u001b[0m\u001b[30m█\u001b[0m\u001b[30m█\u001b[0m\u001b[30m█\u001b[0m\u001b[30m█\u001b[0m\u001b[30m█\u001b[0m\u001b[30m█\u001b[0m\u001b[30m█\u001b[0m\u001b[30m█\u001b[0m\u001b[30m█\u001b[0m\u001b[30m█\u001b[0m\u001b[30m█\u001b[0m|(966/10000) (0.02s avg time) ETA: ~04 min -  MSE (TRAIN) : \u001b[93m0.059406\u001b[0m, MSE (VAL) : \u001b[96m0.066394\u001b[0m -- BEST Val Loss : \u001b[92m0.049235\u001b[0m (at epoch 464) Eary Stopping in: 0001   \r"
     ]
    },
    {
     "name": "stderr",
     "output_type": "stream",
     "text": [
      "[I 2024-05-09 05:51:43,987] Trial 365 finished with value: 0.023141581565141678 and parameters: {'std': 0.0371, 'num_layers': 2, 'units_0': 80, 'units_1': 144, 'freezed_layer_from_right': 1}. Best is trial 244 with value: 0.017156001180410385.\n"
     ]
    },
    {
     "name": "stdout",
     "output_type": "stream",
     "text": [
      "|\u001b[92m█\u001b[0m\u001b[92m█\u001b[0m\u001b[92m█\u001b[0m\u001b[92m█\u001b[0m\u001b[92m█\u001b[0m\u001b[92m█\u001b[0m\u001b[92m█\u001b[0m\u001b[92m█\u001b[0m\u001b[92m█\u001b[0m\u001b[92m█\u001b[0m\u001b[30m█\u001b[0m\u001b[30m█\u001b[0m\u001b[30m█\u001b[0m\u001b[30m█\u001b[0m\u001b[30m█\u001b[0m\u001b[30m█\u001b[0m\u001b[30m█\u001b[0m\u001b[30m█\u001b[0m\u001b[30m█\u001b[0m\u001b[30m█\u001b[0m|(5046/10000) (0.03s avg time) ETA: ~03 min -  MSE (TRAIN) : \u001b[93m0.058553\u001b[0m, MSE (VAL) : \u001b[96m0.060549\u001b[0m -- BEST Val Loss : \u001b[92m0.059533\u001b[0m (at epoch 4544) Eary Stopping in: 0001   \r"
     ]
    },
    {
     "name": "stderr",
     "output_type": "stream",
     "text": [
      "[I 2024-05-09 05:58:53,227] Trial 366 finished with value: 0.0209805928170681 and parameters: {'std': 0.0076, 'num_layers': 5, 'units_0': 176, 'units_1': 144, 'units_2': 96, 'units_3': 160, 'units_4': 144, 'freezed_layer_from_right': 3}. Best is trial 244 with value: 0.017156001180410385.\n"
     ]
    },
    {
     "name": "stdout",
     "output_type": "stream",
     "text": [
      "|\u001b[92m█\u001b[0m\u001b[92m█\u001b[0m\u001b[92m█\u001b[0m\u001b[30m█\u001b[0m\u001b[30m█\u001b[0m\u001b[30m█\u001b[0m\u001b[30m█\u001b[0m\u001b[30m█\u001b[0m\u001b[30m█\u001b[0m\u001b[30m█\u001b[0m\u001b[30m█\u001b[0m\u001b[30m█\u001b[0m\u001b[30m█\u001b[0m\u001b[30m█\u001b[0m\u001b[30m█\u001b[0m\u001b[30m█\u001b[0m\u001b[30m█\u001b[0m\u001b[30m█\u001b[0m\u001b[30m█\u001b[0m\u001b[30m█\u001b[0m|(1590/10000) (0.02s avg time) ETA: ~04 min -  MSE (TRAIN) : \u001b[93m0.062263\u001b[0m, MSE (VAL) : \u001b[96m0.059930\u001b[0m -- BEST Val Loss : \u001b[92m0.058805\u001b[0m (at epoch 1088) Eary Stopping in: 0001   \r"
     ]
    },
    {
     "name": "stderr",
     "output_type": "stream",
     "text": [
      "[I 2024-05-09 06:04:10,241] Trial 367 finished with value: 0.01944204792380333 and parameters: {'std': 0.0181, 'num_layers': 2, 'units_0': 176, 'units_1': 144, 'freezed_layer_from_right': 1}. Best is trial 244 with value: 0.017156001180410385.\n"
     ]
    },
    {
     "name": "stdout",
     "output_type": "stream",
     "text": [
      "|\u001b[92m█\u001b[0m\u001b[92m█\u001b[0m\u001b[30m█\u001b[0m\u001b[30m█\u001b[0m\u001b[30m█\u001b[0m\u001b[30m█\u001b[0m\u001b[30m█\u001b[0m\u001b[30m█\u001b[0m\u001b[30m█\u001b[0m\u001b[30m█\u001b[0m\u001b[30m█\u001b[0m\u001b[30m█\u001b[0m\u001b[30m█\u001b[0m\u001b[30m█\u001b[0m\u001b[30m█\u001b[0m\u001b[30m█\u001b[0m\u001b[30m█\u001b[0m\u001b[30m█\u001b[0m\u001b[30m█\u001b[0m\u001b[30m█\u001b[0m|(1182/10000) (0.02s avg time) ETA: ~04 min -  MSE (TRAIN) : \u001b[93m0.079010\u001b[0m, MSE (VAL) : \u001b[96m0.081518\u001b[0m -- BEST Val Loss : \u001b[92m0.077838\u001b[0m (at epoch 680) Eary Stopping in: 0001   \r"
     ]
    },
    {
     "name": "stderr",
     "output_type": "stream",
     "text": [
      "[I 2024-05-09 06:06:22,155] Trial 368 finished with value: 0.022880947217345238 and parameters: {'std': 0.0271, 'num_layers': 2, 'units_0': 176, 'units_1': 96, 'freezed_layer_from_right': 1}. Best is trial 244 with value: 0.017156001180410385.\n"
     ]
    },
    {
     "name": "stdout",
     "output_type": "stream",
     "text": [
      "|\u001b[92m█\u001b[0m\u001b[92m█\u001b[0m\u001b[30m█\u001b[0m\u001b[30m█\u001b[0m\u001b[30m█\u001b[0m\u001b[30m█\u001b[0m\u001b[30m█\u001b[0m\u001b[30m█\u001b[0m\u001b[30m█\u001b[0m\u001b[30m█\u001b[0m\u001b[30m█\u001b[0m\u001b[30m█\u001b[0m\u001b[30m█\u001b[0m\u001b[30m█\u001b[0m\u001b[30m█\u001b[0m\u001b[30m█\u001b[0m\u001b[30m█\u001b[0m\u001b[30m█\u001b[0m\u001b[30m█\u001b[0m\u001b[30m█\u001b[0m|(1284/10000) (0.02s avg time) ETA: ~04 min -  MSE (TRAIN) : \u001b[93m0.059129\u001b[0m, MSE (VAL) : \u001b[96m0.057059\u001b[0m -- BEST Val Loss : \u001b[92m0.055802\u001b[0m (at epoch 782) Eary Stopping in: 0001   \r"
     ]
    },
    {
     "name": "stderr",
     "output_type": "stream",
     "text": [
      "[I 2024-05-09 06:09:22,150] Trial 369 finished with value: 0.021056072786450386 and parameters: {'std': 0.0241, 'num_layers': 3, 'units_0': 176, 'units_1': 112, 'units_2': 176, 'freezed_layer_from_right': 1}. Best is trial 244 with value: 0.017156001180410385.\n"
     ]
    },
    {
     "name": "stdout",
     "output_type": "stream",
     "text": [
      "|\u001b[92m█\u001b[0m\u001b[92m█\u001b[0m\u001b[30m█\u001b[0m\u001b[30m█\u001b[0m\u001b[30m█\u001b[0m\u001b[30m█\u001b[0m\u001b[30m█\u001b[0m\u001b[30m█\u001b[0m\u001b[30m█\u001b[0m\u001b[30m█\u001b[0m\u001b[30m█\u001b[0m\u001b[30m█\u001b[0m\u001b[30m█\u001b[0m\u001b[30m█\u001b[0m\u001b[30m█\u001b[0m\u001b[30m█\u001b[0m\u001b[30m█\u001b[0m\u001b[30m█\u001b[0m\u001b[30m█\u001b[0m\u001b[30m█\u001b[0m|(1069/10000) (0.02s avg time) ETA: ~04 min -  MSE (TRAIN) : \u001b[93m0.064489\u001b[0m, MSE (VAL) : \u001b[96m0.063326\u001b[0m -- BEST Val Loss : \u001b[92m0.061279\u001b[0m (at epoch 567) Eary Stopping in: 0001   \r"
     ]
    },
    {
     "name": "stderr",
     "output_type": "stream",
     "text": [
      "[I 2024-05-09 06:12:28,839] Trial 370 finished with value: 0.020665954798460007 and parameters: {'std': 0.0206, 'num_layers': 2, 'units_0': 176, 'units_1': 144, 'freezed_layer_from_right': 1}. Best is trial 244 with value: 0.017156001180410385.\n"
     ]
    },
    {
     "name": "stdout",
     "output_type": "stream",
     "text": [
      "|\u001b[92m█\u001b[0m\u001b[92m█\u001b[0m\u001b[92m█\u001b[0m\u001b[92m█\u001b[0m\u001b[30m█\u001b[0m\u001b[30m█\u001b[0m\u001b[30m█\u001b[0m\u001b[30m█\u001b[0m\u001b[30m█\u001b[0m\u001b[30m█\u001b[0m\u001b[30m█\u001b[0m\u001b[30m█\u001b[0m\u001b[30m█\u001b[0m\u001b[30m█\u001b[0m\u001b[30m█\u001b[0m\u001b[30m█\u001b[0m\u001b[30m█\u001b[0m\u001b[30m█\u001b[0m\u001b[30m█\u001b[0m\u001b[30m█\u001b[0m|(2356/10000) (0.02s avg time) ETA: ~03 min -  MSE (TRAIN) : \u001b[93m0.059251\u001b[0m, MSE (VAL) : \u001b[96m0.061157\u001b[0m -- BEST Val Loss : \u001b[92m0.060098\u001b[0m (at epoch 1854) Eary Stopping in: 0001   \r"
     ]
    },
    {
     "name": "stderr",
     "output_type": "stream",
     "text": [
      "[I 2024-05-09 06:17:10,692] Trial 371 finished with value: 0.021542152389883995 and parameters: {'std': 0.011099999999999999, 'num_layers': 2, 'units_0': 176, 'units_1': 128, 'freezed_layer_from_right': 1}. Best is trial 244 with value: 0.017156001180410385.\n"
     ]
    },
    {
     "name": "stdout",
     "output_type": "stream",
     "text": [
      "|\u001b[92m█\u001b[0m\u001b[92m█\u001b[0m\u001b[92m█\u001b[0m\u001b[30m█\u001b[0m\u001b[30m█\u001b[0m\u001b[30m█\u001b[0m\u001b[30m█\u001b[0m\u001b[30m█\u001b[0m\u001b[30m█\u001b[0m\u001b[30m█\u001b[0m\u001b[30m█\u001b[0m\u001b[30m█\u001b[0m\u001b[30m█\u001b[0m\u001b[30m█\u001b[0m\u001b[30m█\u001b[0m\u001b[30m█\u001b[0m\u001b[30m█\u001b[0m\u001b[30m█\u001b[0m\u001b[30m█\u001b[0m\u001b[30m█\u001b[0m|(1572/10000) (0.02s avg time) ETA: ~04 min -  MSE (TRAIN) : \u001b[93m0.057811\u001b[0m, MSE (VAL) : \u001b[96m0.058451\u001b[0m -- BEST Val Loss : \u001b[92m0.058130\u001b[0m (at epoch 1070) Eary Stopping in: 0001   \r"
     ]
    },
    {
     "name": "stderr",
     "output_type": "stream",
     "text": [
      "[I 2024-05-09 06:21:34,997] Trial 372 finished with value: 0.01890033297240734 and parameters: {'std': 0.0146, 'num_layers': 2, 'units_0': 160, 'units_1': 144, 'freezed_layer_from_right': 1}. Best is trial 244 with value: 0.017156001180410385.\n"
     ]
    },
    {
     "name": "stdout",
     "output_type": "stream",
     "text": [
      "|\u001b[92m█\u001b[0m\u001b[92m█\u001b[0m\u001b[92m█\u001b[0m\u001b[30m█\u001b[0m\u001b[30m█\u001b[0m\u001b[30m█\u001b[0m\u001b[30m█\u001b[0m\u001b[30m█\u001b[0m\u001b[30m█\u001b[0m\u001b[30m█\u001b[0m\u001b[30m█\u001b[0m\u001b[30m█\u001b[0m\u001b[30m█\u001b[0m\u001b[30m█\u001b[0m\u001b[30m█\u001b[0m\u001b[30m█\u001b[0m\u001b[30m█\u001b[0m\u001b[30m█\u001b[0m\u001b[30m█\u001b[0m\u001b[30m█\u001b[0m|(1877/10000) (0.02s avg time) ETA: ~04 min -  MSE (TRAIN) : \u001b[93m0.063618\u001b[0m, MSE (VAL) : \u001b[96m0.064112\u001b[0m -- BEST Val Loss : \u001b[92m0.063504\u001b[0m (at epoch 1375) Eary Stopping in: 0001   \r"
     ]
    },
    {
     "name": "stderr",
     "output_type": "stream",
     "text": [
      "[I 2024-05-09 06:26:08,661] Trial 373 finished with value: 0.021484099328517914 and parameters: {'std': 0.0171, 'num_layers': 2, 'units_0': 160, 'units_1': 32, 'freezed_layer_from_right': 1}. Best is trial 244 with value: 0.017156001180410385.\n"
     ]
    },
    {
     "name": "stdout",
     "output_type": "stream",
     "text": [
      "|\u001b[92m█\u001b[0m\u001b[92m█\u001b[0m\u001b[30m█\u001b[0m\u001b[30m█\u001b[0m\u001b[30m█\u001b[0m\u001b[30m█\u001b[0m\u001b[30m█\u001b[0m\u001b[30m█\u001b[0m\u001b[30m█\u001b[0m\u001b[30m█\u001b[0m\u001b[30m█\u001b[0m\u001b[30m█\u001b[0m\u001b[30m█\u001b[0m\u001b[30m█\u001b[0m\u001b[30m█\u001b[0m\u001b[30m█\u001b[0m\u001b[30m█\u001b[0m\u001b[30m█\u001b[0m\u001b[30m█\u001b[0m\u001b[30m█\u001b[0m|(1018/10000) (0.02s avg time) ETA: ~04 min -  MSE (TRAIN) : \u001b[93m0.069188\u001b[0m, MSE (VAL) : \u001b[96m0.072401\u001b[0m -- BEST Val Loss : \u001b[92m0.068987\u001b[0m (at epoch 516) Eary Stopping in: 0001   \r"
     ]
    },
    {
     "name": "stderr",
     "output_type": "stream",
     "text": [
      "[I 2024-05-09 06:30:22,642] Trial 374 finished with value: 0.020028002560138702 and parameters: {'std': 0.0191, 'num_layers': 2, 'units_0': 144, 'units_1': 80, 'freezed_layer_from_right': 1}. Best is trial 244 with value: 0.017156001180410385.\n"
     ]
    },
    {
     "name": "stdout",
     "output_type": "stream",
     "text": [
      "|\u001b[92m█\u001b[0m\u001b[92m█\u001b[0m\u001b[92m█\u001b[0m\u001b[92m█\u001b[0m\u001b[30m█\u001b[0m\u001b[30m█\u001b[0m\u001b[30m█\u001b[0m\u001b[30m█\u001b[0m\u001b[30m█\u001b[0m\u001b[30m█\u001b[0m\u001b[30m█\u001b[0m\u001b[30m█\u001b[0m\u001b[30m█\u001b[0m\u001b[30m█\u001b[0m\u001b[30m█\u001b[0m\u001b[30m█\u001b[0m\u001b[30m█\u001b[0m\u001b[30m█\u001b[0m\u001b[30m█\u001b[0m\u001b[30m█\u001b[0m|(2201/10000) (0.02s avg time) ETA: ~03 min -  MSE (TRAIN) : \u001b[93m0.076884\u001b[0m, MSE (VAL) : \u001b[96m0.083513\u001b[0m -- BEST Val Loss : \u001b[92m0.077128\u001b[0m (at epoch 1699) Eary Stopping in: 0001   \r"
     ]
    },
    {
     "name": "stderr",
     "output_type": "stream",
     "text": [
      "[I 2024-05-09 06:32:42,229] Trial 375 finished with value: 0.026377448812127113 and parameters: {'std': 0.022099999999999998, 'num_layers': 2, 'units_0': 160, 'units_1': 144, 'freezed_layer_from_right': 1}. Best is trial 244 with value: 0.017156001180410385.\n"
     ]
    },
    {
     "name": "stdout",
     "output_type": "stream",
     "text": [
      "|\u001b[92m█\u001b[0m\u001b[92m█\u001b[0m\u001b[30m█\u001b[0m\u001b[30m█\u001b[0m\u001b[30m█\u001b[0m\u001b[30m█\u001b[0m\u001b[30m█\u001b[0m\u001b[30m█\u001b[0m\u001b[30m█\u001b[0m\u001b[30m█\u001b[0m\u001b[30m█\u001b[0m\u001b[30m█\u001b[0m\u001b[30m█\u001b[0m\u001b[30m█\u001b[0m\u001b[30m█\u001b[0m\u001b[30m█\u001b[0m\u001b[30m█\u001b[0m\u001b[30m█\u001b[0m\u001b[30m█\u001b[0m\u001b[30m█\u001b[0m|(1282/10000) (0.02s avg time) ETA: ~04 min -  MSE (TRAIN) : \u001b[93m0.081747\u001b[0m, MSE (VAL) : \u001b[96m0.080557\u001b[0m -- BEST Val Loss : \u001b[92m0.079332\u001b[0m (at epoch 780) Eary Stopping in: 0001   \r"
     ]
    },
    {
     "name": "stderr",
     "output_type": "stream",
     "text": [
      "[I 2024-05-09 06:35:45,400] Trial 376 finished with value: 0.024264425039291382 and parameters: {'std': 0.0166, 'num_layers': 2, 'units_0': 176, 'units_1': 144, 'freezed_layer_from_right': 1}. Best is trial 244 with value: 0.017156001180410385.\n"
     ]
    },
    {
     "name": "stdout",
     "output_type": "stream",
     "text": [
      "|\u001b[92m█\u001b[0m\u001b[92m█\u001b[0m\u001b[92m█\u001b[0m\u001b[92m█\u001b[0m\u001b[92m█\u001b[0m\u001b[30m█\u001b[0m\u001b[30m█\u001b[0m\u001b[30m█\u001b[0m\u001b[30m█\u001b[0m\u001b[30m█\u001b[0m\u001b[30m█\u001b[0m\u001b[30m█\u001b[0m\u001b[30m█\u001b[0m\u001b[30m█\u001b[0m\u001b[30m█\u001b[0m\u001b[30m█\u001b[0m\u001b[30m█\u001b[0m\u001b[30m█\u001b[0m\u001b[30m█\u001b[0m\u001b[30m█\u001b[0m|(2724/10000) (0.02s avg time) ETA: ~03 min -  MSE (TRAIN) : \u001b[93m0.062047\u001b[0m, MSE (VAL) : \u001b[96m0.064295\u001b[0m -- BEST Val Loss : \u001b[92m0.061956\u001b[0m (at epoch 2222) Eary Stopping in: 0001   \r"
     ]
    },
    {
     "name": "stderr",
     "output_type": "stream",
     "text": [
      "[I 2024-05-09 06:40:41,961] Trial 377 finished with value: 0.022098492830991745 and parameters: {'std': 0.0131, 'num_layers': 2, 'units_0': 160, 'units_1': 96, 'freezed_layer_from_right': 1}. Best is trial 244 with value: 0.017156001180410385.\n"
     ]
    },
    {
     "name": "stdout",
     "output_type": "stream",
     "text": [
      "|\u001b[92m█\u001b[0m\u001b[92m█\u001b[0m\u001b[92m█\u001b[0m\u001b[92m█\u001b[0m\u001b[92m█\u001b[0m\u001b[30m█\u001b[0m\u001b[30m█\u001b[0m\u001b[30m█\u001b[0m\u001b[30m█\u001b[0m\u001b[30m█\u001b[0m\u001b[30m█\u001b[0m\u001b[30m█\u001b[0m\u001b[30m█\u001b[0m\u001b[30m█\u001b[0m\u001b[30m█\u001b[0m\u001b[30m█\u001b[0m\u001b[30m█\u001b[0m\u001b[30m█\u001b[0m\u001b[30m█\u001b[0m\u001b[30m█\u001b[0m|(2887/10000) (0.03s avg time) ETA: ~04 min -  MSE (TRAIN) : \u001b[93m0.092999\u001b[0m, MSE (VAL) : \u001b[96m0.088265\u001b[0m -- BEST Val Loss : \u001b[92m0.086057\u001b[0m (at epoch 2385) Eary Stopping in: 0001   \r"
     ]
    },
    {
     "name": "stderr",
     "output_type": "stream",
     "text": [
      "[I 2024-05-09 06:43:53,289] Trial 378 finished with value: 0.021811826154589653 and parameters: {'std': 0.0191, 'num_layers': 4, 'units_0': 176, 'units_1': 112, 'units_2': 64, 'units_3': 80, 'freezed_layer_from_right': 2}. Best is trial 244 with value: 0.017156001180410385.\n"
     ]
    },
    {
     "name": "stdout",
     "output_type": "stream",
     "text": [
      "|\u001b[92m█\u001b[0m\u001b[92m█\u001b[0m\u001b[92m█\u001b[0m\u001b[30m█\u001b[0m\u001b[30m█\u001b[0m\u001b[30m█\u001b[0m\u001b[30m█\u001b[0m\u001b[30m█\u001b[0m\u001b[30m█\u001b[0m\u001b[30m█\u001b[0m\u001b[30m█\u001b[0m\u001b[30m█\u001b[0m\u001b[30m█\u001b[0m\u001b[30m█\u001b[0m\u001b[30m█\u001b[0m\u001b[30m█\u001b[0m\u001b[30m█\u001b[0m\u001b[30m█\u001b[0m\u001b[30m█\u001b[0m\u001b[30m█\u001b[0m|(1874/10000) (0.02s avg time) ETA: ~04 min -  MSE (TRAIN) : \u001b[93m0.059054\u001b[0m, MSE (VAL) : \u001b[96m0.060172\u001b[0m -- BEST Val Loss : \u001b[92m0.059547\u001b[0m (at epoch 1372) Eary Stopping in: 0001   \r"
     ]
    },
    {
     "name": "stderr",
     "output_type": "stream",
     "text": [
      "[I 2024-05-09 06:48:23,710] Trial 379 finished with value: 0.020431237295269966 and parameters: {'std': 0.015099999999999999, 'num_layers': 2, 'units_0': 96, 'units_1': 144, 'freezed_layer_from_right': 1}. Best is trial 244 with value: 0.017156001180410385.\n"
     ]
    },
    {
     "name": "stdout",
     "output_type": "stream",
     "text": [
      "|\u001b[92m█\u001b[0m\u001b[92m█\u001b[0m\u001b[30m█\u001b[0m\u001b[30m█\u001b[0m\u001b[30m█\u001b[0m\u001b[30m█\u001b[0m\u001b[30m█\u001b[0m\u001b[30m█\u001b[0m\u001b[30m█\u001b[0m\u001b[30m█\u001b[0m\u001b[30m█\u001b[0m\u001b[30m█\u001b[0m\u001b[30m█\u001b[0m\u001b[30m█\u001b[0m\u001b[30m█\u001b[0m\u001b[30m█\u001b[0m\u001b[30m█\u001b[0m\u001b[30m█\u001b[0m\u001b[30m█\u001b[0m\u001b[30m█\u001b[0m|(1053/10000) (0.02s avg time) ETA: ~04 min -  MSE (TRAIN) : \u001b[93m0.089440\u001b[0m, MSE (VAL) : \u001b[96m0.087297\u001b[0m -- BEST Val Loss : \u001b[92m0.086963\u001b[0m (at epoch 551) Eary Stopping in: 0001   \r"
     ]
    },
    {
     "name": "stderr",
     "output_type": "stream",
     "text": [
      "[I 2024-05-09 06:50:21,205] Trial 380 finished with value: 0.02195582166314125 and parameters: {'std': 0.0206, 'num_layers': 2, 'units_0': 160, 'units_1': 128, 'freezed_layer_from_right': 1}. Best is trial 244 with value: 0.017156001180410385.\n"
     ]
    },
    {
     "name": "stdout",
     "output_type": "stream",
     "text": [
      "|\u001b[92m█\u001b[0m\u001b[92m█\u001b[0m\u001b[92m█\u001b[0m\u001b[30m█\u001b[0m\u001b[30m█\u001b[0m\u001b[30m█\u001b[0m\u001b[30m█\u001b[0m\u001b[30m█\u001b[0m\u001b[30m█\u001b[0m\u001b[30m█\u001b[0m\u001b[30m█\u001b[0m\u001b[30m█\u001b[0m\u001b[30m█\u001b[0m\u001b[30m█\u001b[0m\u001b[30m█\u001b[0m\u001b[30m█\u001b[0m\u001b[30m█\u001b[0m\u001b[30m█\u001b[0m\u001b[30m█\u001b[0m\u001b[30m█\u001b[0m|(1547/10000) (0.02s avg time) ETA: ~04 min -  MSE (TRAIN) : \u001b[93m0.059965\u001b[0m, MSE (VAL) : \u001b[96m0.061611\u001b[0m -- BEST Val Loss : \u001b[92m0.059929\u001b[0m (at epoch 1045) Eary Stopping in: 0001   \r"
     ]
    },
    {
     "name": "stderr",
     "output_type": "stream",
     "text": [
      "[I 2024-05-09 06:54:44,774] Trial 381 finished with value: 0.01678026281297207 and parameters: {'std': 0.0176, 'num_layers': 2, 'units_0': 160, 'units_1': 144, 'freezed_layer_from_right': 1}. Best is trial 381 with value: 0.01678026281297207.\n"
     ]
    },
    {
     "name": "stdout",
     "output_type": "stream",
     "text": [
      "|\u001b[92m█\u001b[0m\u001b[30m█\u001b[0m\u001b[30m█\u001b[0m\u001b[30m█\u001b[0m\u001b[30m█\u001b[0m\u001b[30m█\u001b[0m\u001b[30m█\u001b[0m\u001b[30m█\u001b[0m\u001b[30m█\u001b[0m\u001b[30m█\u001b[0m\u001b[30m█\u001b[0m\u001b[30m█\u001b[0m\u001b[30m█\u001b[0m\u001b[30m█\u001b[0m\u001b[30m█\u001b[0m\u001b[30m█\u001b[0m\u001b[30m█\u001b[0m\u001b[30m█\u001b[0m\u001b[30m█\u001b[0m\u001b[30m█\u001b[0m|(842/10000) (0.02s avg time) ETA: ~04 min -  MSE (TRAIN) : \u001b[93m0.058806\u001b[0m, MSE (VAL) : \u001b[96m0.060196\u001b[0m -- BEST Val Loss : \u001b[92m0.059502\u001b[0m (at epoch 340) Eary Stopping in: 0001   \r"
     ]
    },
    {
     "name": "stderr",
     "output_type": "stream",
     "text": [
      "[I 2024-05-09 06:58:54,528] Trial 382 finished with value: 0.02317696064710617 and parameters: {'std': 0.0121, 'num_layers': 2, 'units_0': 176, 'units_1': 144, 'freezed_layer_from_right': 1}. Best is trial 381 with value: 0.01678026281297207.\n"
     ]
    },
    {
     "name": "stdout",
     "output_type": "stream",
     "text": [
      "|\u001b[92m█\u001b[0m\u001b[92m█\u001b[0m\u001b[92m█\u001b[0m\u001b[30m█\u001b[0m\u001b[30m█\u001b[0m\u001b[30m█\u001b[0m\u001b[30m█\u001b[0m\u001b[30m█\u001b[0m\u001b[30m█\u001b[0m\u001b[30m█\u001b[0m\u001b[30m█\u001b[0m\u001b[30m█\u001b[0m\u001b[30m█\u001b[0m\u001b[30m█\u001b[0m\u001b[30m█\u001b[0m\u001b[30m█\u001b[0m\u001b[30m█\u001b[0m\u001b[30m█\u001b[0m\u001b[30m█\u001b[0m\u001b[30m█\u001b[0m|(1865/10000) (0.02s avg time) ETA: ~04 min -  MSE (TRAIN) : \u001b[93m0.066615\u001b[0m, MSE (VAL) : \u001b[96m0.063565\u001b[0m -- BEST Val Loss : \u001b[92m0.063070\u001b[0m (at epoch 1363) Eary Stopping in: 0001   \r"
     ]
    },
    {
     "name": "stderr",
     "output_type": "stream",
     "text": [
      "[I 2024-05-09 07:03:14,234] Trial 383 finished with value: 0.02118106000125408 and parameters: {'std': 0.0171, 'num_layers': 2, 'units_0': 160, 'units_1': 144, 'freezed_layer_from_right': 1}. Best is trial 381 with value: 0.01678026281297207.\n"
     ]
    },
    {
     "name": "stdout",
     "output_type": "stream",
     "text": [
      "|\u001b[92m█\u001b[0m\u001b[92m█\u001b[0m\u001b[30m█\u001b[0m\u001b[30m█\u001b[0m\u001b[30m█\u001b[0m\u001b[30m█\u001b[0m\u001b[30m█\u001b[0m\u001b[30m█\u001b[0m\u001b[30m█\u001b[0m\u001b[30m█\u001b[0m\u001b[30m█\u001b[0m\u001b[30m█\u001b[0m\u001b[30m█\u001b[0m\u001b[30m█\u001b[0m\u001b[30m█\u001b[0m\u001b[30m█\u001b[0m\u001b[30m█\u001b[0m\u001b[30m█\u001b[0m\u001b[30m█\u001b[0m\u001b[30m█\u001b[0m|(1368/10000) (0.02s avg time) ETA: ~04 min -  MSE (TRAIN) : \u001b[93m0.064490\u001b[0m, MSE (VAL) : \u001b[96m0.065789\u001b[0m -- BEST Val Loss : \u001b[92m0.064350\u001b[0m (at epoch 866) Eary Stopping in: 0001   \r"
     ]
    },
    {
     "name": "stderr",
     "output_type": "stream",
     "text": [
      "[I 2024-05-09 07:07:33,295] Trial 384 finished with value: 0.02048378810286522 and parameters: {'std': 0.0146, 'num_layers': 2, 'units_0': 160, 'units_1': 144, 'freezed_layer_from_right': 1}. Best is trial 381 with value: 0.01678026281297207.\n"
     ]
    },
    {
     "name": "stdout",
     "output_type": "stream",
     "text": [
      "|\u001b[92m█\u001b[0m\u001b[92m█\u001b[0m\u001b[92m█\u001b[0m\u001b[30m█\u001b[0m\u001b[30m█\u001b[0m\u001b[30m█\u001b[0m\u001b[30m█\u001b[0m\u001b[30m█\u001b[0m\u001b[30m█\u001b[0m\u001b[30m█\u001b[0m\u001b[30m█\u001b[0m\u001b[30m█\u001b[0m\u001b[30m█\u001b[0m\u001b[30m█\u001b[0m\u001b[30m█\u001b[0m\u001b[30m█\u001b[0m\u001b[30m█\u001b[0m\u001b[30m█\u001b[0m\u001b[30m█\u001b[0m\u001b[30m█\u001b[0m|(1717/10000) (0.02s avg time) ETA: ~03 min -  MSE (TRAIN) : \u001b[93m0.122372\u001b[0m, MSE (VAL) : \u001b[96m0.121184\u001b[0m -- BEST Val Loss : \u001b[92m0.119387\u001b[0m (at epoch 1215) Eary Stopping in: 0001   \r"
     ]
    },
    {
     "name": "stderr",
     "output_type": "stream",
     "text": [
      "[I 2024-05-09 07:09:10,643] Trial 385 finished with value: 0.020186103880405426 and parameters: {'std': 0.0171, 'num_layers': 2, 'units_0': 176, 'units_1': 144, 'freezed_layer_from_right': 1}. Best is trial 381 with value: 0.01678026281297207.\n"
     ]
    },
    {
     "name": "stdout",
     "output_type": "stream",
     "text": [
      "|\u001b[92m█\u001b[0m\u001b[92m█\u001b[0m\u001b[92m█\u001b[0m\u001b[30m█\u001b[0m\u001b[30m█\u001b[0m\u001b[30m█\u001b[0m\u001b[30m█\u001b[0m\u001b[30m█\u001b[0m\u001b[30m█\u001b[0m\u001b[30m█\u001b[0m\u001b[30m█\u001b[0m\u001b[30m█\u001b[0m\u001b[30m█\u001b[0m\u001b[30m█\u001b[0m\u001b[30m█\u001b[0m\u001b[30m█\u001b[0m\u001b[30m█\u001b[0m\u001b[30m█\u001b[0m\u001b[30m█\u001b[0m\u001b[30m█\u001b[0m|(1590/10000) (0.02s avg time) ETA: ~04 min -  MSE (TRAIN) : \u001b[93m0.057426\u001b[0m, MSE (VAL) : \u001b[96m0.059508\u001b[0m -- BEST Val Loss : \u001b[92m0.058702\u001b[0m (at epoch 1088) Eary Stopping in: 0001   \r"
     ]
    },
    {
     "name": "stderr",
     "output_type": "stream",
     "text": [
      "[I 2024-05-09 07:13:36,576] Trial 386 finished with value: 0.024688750505447388 and parameters: {'std': 0.0191, 'num_layers': 2, 'units_0': 32, 'units_1': 144, 'freezed_layer_from_right': 1}. Best is trial 381 with value: 0.01678026281297207.\n"
     ]
    },
    {
     "name": "stdout",
     "output_type": "stream",
     "text": [
      "|\u001b[92m█\u001b[0m\u001b[92m█\u001b[0m\u001b[92m█\u001b[0m\u001b[92m█\u001b[0m\u001b[30m█\u001b[0m\u001b[30m█\u001b[0m\u001b[30m█\u001b[0m\u001b[30m█\u001b[0m\u001b[30m█\u001b[0m\u001b[30m█\u001b[0m\u001b[30m█\u001b[0m\u001b[30m█\u001b[0m\u001b[30m█\u001b[0m\u001b[30m█\u001b[0m\u001b[30m█\u001b[0m\u001b[30m█\u001b[0m\u001b[30m█\u001b[0m\u001b[30m█\u001b[0m\u001b[30m█\u001b[0m\u001b[30m█\u001b[0m|(2495/10000) (0.02s avg time) ETA: ~03 min -  MSE (TRAIN) : \u001b[93m0.083332\u001b[0m, MSE (VAL) : \u001b[96m0.081105\u001b[0m -- BEST Val Loss : \u001b[92m0.076298\u001b[0m (at epoch 1993) Eary Stopping in: 0001   \r"
     ]
    },
    {
     "name": "stderr",
     "output_type": "stream",
     "text": [
      "[I 2024-05-09 07:15:45,540] Trial 387 finished with value: 0.02348952554166317 and parameters: {'std': 0.0231, 'num_layers': 2, 'units_0': 144, 'units_1': 144, 'freezed_layer_from_right': 1}. Best is trial 381 with value: 0.01678026281297207.\n"
     ]
    },
    {
     "name": "stdout",
     "output_type": "stream",
     "text": [
      "|\u001b[92m█\u001b[0m\u001b[92m█\u001b[0m\u001b[92m█\u001b[0m\u001b[92m█\u001b[0m\u001b[30m█\u001b[0m\u001b[30m█\u001b[0m\u001b[30m█\u001b[0m\u001b[30m█\u001b[0m\u001b[30m█\u001b[0m\u001b[30m█\u001b[0m\u001b[30m█\u001b[0m\u001b[30m█\u001b[0m\u001b[30m█\u001b[0m\u001b[30m█\u001b[0m\u001b[30m█\u001b[0m\u001b[30m█\u001b[0m\u001b[30m█\u001b[0m\u001b[30m█\u001b[0m\u001b[30m█\u001b[0m\u001b[30m█\u001b[0m|(2088/10000) (0.02s avg time) ETA: ~03 min -  MSE (TRAIN) : \u001b[93m0.063997\u001b[0m, MSE (VAL) : \u001b[96m0.065318\u001b[0m -- BEST Val Loss : \u001b[92m0.064712\u001b[0m (at epoch 1586) Eary Stopping in: 0001   \r"
     ]
    },
    {
     "name": "stderr",
     "output_type": "stream",
     "text": [
      "[I 2024-05-09 07:20:20,771] Trial 388 finished with value: 0.021058136597275734 and parameters: {'std': 0.0136, 'num_layers': 2, 'units_0': 112, 'units_1': 128, 'freezed_layer_from_right': 1}. Best is trial 381 with value: 0.01678026281297207.\n"
     ]
    },
    {
     "name": "stdout",
     "output_type": "stream",
     "text": [
      "|\u001b[92m█\u001b[0m\u001b[92m█\u001b[0m\u001b[92m█\u001b[0m\u001b[30m█\u001b[0m\u001b[30m█\u001b[0m\u001b[30m█\u001b[0m\u001b[30m█\u001b[0m\u001b[30m█\u001b[0m\u001b[30m█\u001b[0m\u001b[30m█\u001b[0m\u001b[30m█\u001b[0m\u001b[30m█\u001b[0m\u001b[30m█\u001b[0m\u001b[30m█\u001b[0m\u001b[30m█\u001b[0m\u001b[30m█\u001b[0m\u001b[30m█\u001b[0m\u001b[30m█\u001b[0m\u001b[30m█\u001b[0m\u001b[30m█\u001b[0m|(1956/10000) (0.02s avg time) ETA: ~04 min -  MSE (TRAIN) : \u001b[93m0.054921\u001b[0m, MSE (VAL) : \u001b[96m0.053456\u001b[0m -- BEST Val Loss : \u001b[92m0.052337\u001b[0m (at epoch 1454) Eary Stopping in: 0001   \r"
     ]
    },
    {
     "name": "stderr",
     "output_type": "stream",
     "text": [
      "[I 2024-05-09 07:25:16,378] Trial 389 finished with value: 0.01915605366230011 and parameters: {'std': 0.0166, 'num_layers': 3, 'units_0': 160, 'units_1': 176, 'units_2': 80, 'freezed_layer_from_right': 1}. Best is trial 381 with value: 0.01678026281297207.\n"
     ]
    },
    {
     "name": "stdout",
     "output_type": "stream",
     "text": [
      "|\u001b[92m█\u001b[0m\u001b[92m█\u001b[0m\u001b[92m█\u001b[0m\u001b[92m█\u001b[0m\u001b[30m█\u001b[0m\u001b[30m█\u001b[0m\u001b[30m█\u001b[0m\u001b[30m█\u001b[0m\u001b[30m█\u001b[0m\u001b[30m█\u001b[0m\u001b[30m█\u001b[0m\u001b[30m█\u001b[0m\u001b[30m█\u001b[0m\u001b[30m█\u001b[0m\u001b[30m█\u001b[0m\u001b[30m█\u001b[0m\u001b[30m█\u001b[0m\u001b[30m█\u001b[0m\u001b[30m█\u001b[0m\u001b[30m█\u001b[0m|(2003/10000) (0.02s avg time) ETA: ~03 min -  MSE (TRAIN) : \u001b[93m0.097566\u001b[0m, MSE (VAL) : \u001b[96m0.103486\u001b[0m -- BEST Val Loss : \u001b[92m0.089598\u001b[0m (at epoch 1501) Eary Stopping in: 0001   \r"
     ]
    },
    {
     "name": "stderr",
     "output_type": "stream",
     "text": [
      "[I 2024-05-09 07:27:08,676] Trial 390 finished with value: 0.019097186625003815 and parameters: {'std': 0.0211, 'num_layers': 2, 'units_0': 176, 'units_1': 144, 'freezed_layer_from_right': 1}. Best is trial 381 with value: 0.01678026281297207.\n"
     ]
    },
    {
     "name": "stdout",
     "output_type": "stream",
     "text": [
      "|\u001b[92m█\u001b[0m\u001b[92m█\u001b[0m\u001b[92m█\u001b[0m\u001b[92m█\u001b[0m\u001b[92m█\u001b[0m\u001b[92m█\u001b[0m\u001b[92m█\u001b[0m\u001b[30m█\u001b[0m\u001b[30m█\u001b[0m\u001b[30m█\u001b[0m\u001b[30m█\u001b[0m\u001b[30m█\u001b[0m\u001b[30m█\u001b[0m\u001b[30m█\u001b[0m\u001b[30m█\u001b[0m\u001b[30m█\u001b[0m\u001b[30m█\u001b[0m\u001b[30m█\u001b[0m\u001b[30m█\u001b[0m\u001b[30m█\u001b[0m|(3671/10000) (0.02s avg time) ETA: ~03 min -  MSE (TRAIN) : \u001b[93m0.057661\u001b[0m, MSE (VAL) : \u001b[96m0.059715\u001b[0m -- BEST Val Loss : \u001b[92m0.058632\u001b[0m (at epoch 3169) Eary Stopping in: 0001   \r"
     ]
    },
    {
     "name": "stderr",
     "output_type": "stream",
     "text": [
      "[I 2024-05-09 07:32:19,261] Trial 391 finished with value: 0.023143770173192024 and parameters: {'std': 0.0091, 'num_layers': 2, 'units_0': 160, 'units_1': 144, 'freezed_layer_from_right': 1}. Best is trial 381 with value: 0.01678026281297207.\n"
     ]
    },
    {
     "name": "stdout",
     "output_type": "stream",
     "text": [
      "|\u001b[92m█\u001b[0m\u001b[92m█\u001b[0m\u001b[92m█\u001b[0m\u001b[30m█\u001b[0m\u001b[30m█\u001b[0m\u001b[30m█\u001b[0m\u001b[30m█\u001b[0m\u001b[30m█\u001b[0m\u001b[30m█\u001b[0m\u001b[30m█\u001b[0m\u001b[30m█\u001b[0m\u001b[30m█\u001b[0m\u001b[30m█\u001b[0m\u001b[30m█\u001b[0m\u001b[30m█\u001b[0m\u001b[30m█\u001b[0m\u001b[30m█\u001b[0m\u001b[30m█\u001b[0m\u001b[30m█\u001b[0m\u001b[30m█\u001b[0m|(1862/10000) (0.02s avg time) ETA: ~03 min -  MSE (TRAIN) : \u001b[93m0.062616\u001b[0m, MSE (VAL) : \u001b[96m0.062990\u001b[0m -- BEST Val Loss : \u001b[92m0.062330\u001b[0m (at epoch 1360) Eary Stopping in: 0001   \r"
     ]
    },
    {
     "name": "stderr",
     "output_type": "stream",
     "text": [
      "[I 2024-05-09 07:36:49,551] Trial 392 finished with value: 0.01933738961815834 and parameters: {'std': 0.0146, 'num_layers': 2, 'units_0': 144, 'units_1': 144, 'freezed_layer_from_right': 1}. Best is trial 381 with value: 0.01678026281297207.\n"
     ]
    },
    {
     "name": "stdout",
     "output_type": "stream",
     "text": [
      "|\u001b[92m█\u001b[0m\u001b[92m█\u001b[0m\u001b[30m█\u001b[0m\u001b[30m█\u001b[0m\u001b[30m█\u001b[0m\u001b[30m█\u001b[0m\u001b[30m█\u001b[0m\u001b[30m█\u001b[0m\u001b[30m█\u001b[0m\u001b[30m█\u001b[0m\u001b[30m█\u001b[0m\u001b[30m█\u001b[0m\u001b[30m█\u001b[0m\u001b[30m█\u001b[0m\u001b[30m█\u001b[0m\u001b[30m█\u001b[0m\u001b[30m█\u001b[0m\u001b[30m█\u001b[0m\u001b[30m█\u001b[0m\u001b[30m█\u001b[0m|(1407/10000) (0.02s avg time) ETA: ~04 min -  MSE (TRAIN) : \u001b[93m0.027491\u001b[0m, MSE (VAL) : \u001b[96m0.050363\u001b[0m -- BEST Val Loss : \u001b[92m0.026290\u001b[0m (at epoch 905) Eary Stopping in: 0001   \r"
     ]
    },
    {
     "name": "stderr",
     "output_type": "stream",
     "text": [
      "[I 2024-05-09 07:38:22,519] Trial 393 finished with value: 0.025937775149941444 and parameters: {'std': 0.0611, 'num_layers': 2, 'units_0': 160, 'units_1': 144, 'freezed_layer_from_right': 1}. Best is trial 381 with value: 0.01678026281297207.\n"
     ]
    },
    {
     "name": "stdout",
     "output_type": "stream",
     "text": [
      "|\u001b[92m█\u001b[0m\u001b[92m█\u001b[0m\u001b[30m█\u001b[0m\u001b[30m█\u001b[0m\u001b[30m█\u001b[0m\u001b[30m█\u001b[0m\u001b[30m█\u001b[0m\u001b[30m█\u001b[0m\u001b[30m█\u001b[0m\u001b[30m█\u001b[0m\u001b[30m█\u001b[0m\u001b[30m█\u001b[0m\u001b[30m█\u001b[0m\u001b[30m█\u001b[0m\u001b[30m█\u001b[0m\u001b[30m█\u001b[0m\u001b[30m█\u001b[0m\u001b[30m█\u001b[0m\u001b[30m█\u001b[0m\u001b[30m█\u001b[0m|(1447/10000) (0.02s avg time) ETA: ~04 min -  MSE (TRAIN) : \u001b[93m0.073363\u001b[0m, MSE (VAL) : \u001b[96m0.073584\u001b[0m -- BEST Val Loss : \u001b[92m0.071761\u001b[0m (at epoch 945) Eary Stopping in: 0001   \r"
     ]
    },
    {
     "name": "stderr",
     "output_type": "stream",
     "text": [
      "[I 2024-05-09 07:42:45,510] Trial 394 finished with value: 0.019715536385774612 and parameters: {'std': 0.0186, 'num_layers': 2, 'units_0': 160, 'units_1': 80, 'freezed_layer_from_right': 1}. Best is trial 381 with value: 0.01678026281297207.\n"
     ]
    },
    {
     "name": "stdout",
     "output_type": "stream",
     "text": [
      "|\u001b[92m█\u001b[0m\u001b[92m█\u001b[0m\u001b[92m█\u001b[0m\u001b[30m█\u001b[0m\u001b[30m█\u001b[0m\u001b[30m█\u001b[0m\u001b[30m█\u001b[0m\u001b[30m█\u001b[0m\u001b[30m█\u001b[0m\u001b[30m█\u001b[0m\u001b[30m█\u001b[0m\u001b[30m█\u001b[0m\u001b[30m█\u001b[0m\u001b[30m█\u001b[0m\u001b[30m█\u001b[0m\u001b[30m█\u001b[0m\u001b[30m█\u001b[0m\u001b[30m█\u001b[0m\u001b[30m█\u001b[0m\u001b[30m█\u001b[0m|(1763/10000) (0.02s avg time) ETA: ~03 min -  MSE (TRAIN) : \u001b[93m0.060355\u001b[0m, MSE (VAL) : \u001b[96m0.060270\u001b[0m -- BEST Val Loss : \u001b[92m0.059420\u001b[0m (at epoch 1261) Eary Stopping in: 0001   \r"
     ]
    },
    {
     "name": "stderr",
     "output_type": "stream",
     "text": [
      "[I 2024-05-09 07:47:13,413] Trial 395 finished with value: 0.02217419072985649 and parameters: {'std': 0.0116, 'num_layers': 2, 'units_0': 176, 'units_1': 128, 'freezed_layer_from_right': 1}. Best is trial 381 with value: 0.01678026281297207.\n"
     ]
    },
    {
     "name": "stdout",
     "output_type": "stream",
     "text": [
      "|\u001b[92m█\u001b[0m\u001b[92m█\u001b[0m\u001b[30m█\u001b[0m\u001b[30m█\u001b[0m\u001b[30m█\u001b[0m\u001b[30m█\u001b[0m\u001b[30m█\u001b[0m\u001b[30m█\u001b[0m\u001b[30m█\u001b[0m\u001b[30m█\u001b[0m\u001b[30m█\u001b[0m\u001b[30m█\u001b[0m\u001b[30m█\u001b[0m\u001b[30m█\u001b[0m\u001b[30m█\u001b[0m\u001b[30m█\u001b[0m\u001b[30m█\u001b[0m\u001b[30m█\u001b[0m\u001b[30m█\u001b[0m\u001b[30m█\u001b[0m|(1267/10000) (0.02s avg time) ETA: ~04 min -  MSE (TRAIN) : \u001b[93m0.061552\u001b[0m, MSE (VAL) : \u001b[96m0.062563\u001b[0m -- BEST Val Loss : \u001b[92m0.061130\u001b[0m (at epoch 765) Eary Stopping in: 0001   \r"
     ]
    },
    {
     "name": "stderr",
     "output_type": "stream",
     "text": [
      "[I 2024-05-09 07:51:32,769] Trial 396 finished with value: 0.019250480458140373 and parameters: {'std': 0.0166, 'num_layers': 2, 'units_0': 160, 'units_1': 144, 'freezed_layer_from_right': 1}. Best is trial 381 with value: 0.01678026281297207.\n"
     ]
    },
    {
     "name": "stdout",
     "output_type": "stream",
     "text": [
      "|\u001b[92m█\u001b[0m\u001b[92m█\u001b[0m\u001b[92m█\u001b[0m\u001b[92m█\u001b[0m\u001b[92m█\u001b[0m\u001b[30m█\u001b[0m\u001b[30m█\u001b[0m\u001b[30m█\u001b[0m\u001b[30m█\u001b[0m\u001b[30m█\u001b[0m\u001b[30m█\u001b[0m\u001b[30m█\u001b[0m\u001b[30m█\u001b[0m\u001b[30m█\u001b[0m\u001b[30m█\u001b[0m\u001b[30m█\u001b[0m\u001b[30m█\u001b[0m\u001b[30m█\u001b[0m\u001b[30m█\u001b[0m\u001b[30m█\u001b[0m|(2608/10000) (0.02s avg time) ETA: ~03 min -  MSE (TRAIN) : \u001b[93m0.064754\u001b[0m, MSE (VAL) : \u001b[96m0.066104\u001b[0m -- BEST Val Loss : \u001b[92m0.062941\u001b[0m (at epoch 2106) Eary Stopping in: 0001   \r"
     ]
    },
    {
     "name": "stderr",
     "output_type": "stream",
     "text": [
      "[I 2024-05-09 07:54:15,540] Trial 397 finished with value: 0.02624962292611599 and parameters: {'std': 0.0261, 'num_layers': 2, 'units_0': 176, 'units_1': 160, 'freezed_layer_from_right': 1}. Best is trial 381 with value: 0.01678026281297207.\n"
     ]
    },
    {
     "name": "stdout",
     "output_type": "stream",
     "text": [
      "|\u001b[92m█\u001b[0m\u001b[92m█\u001b[0m\u001b[92m█\u001b[0m\u001b[92m█\u001b[0m\u001b[30m█\u001b[0m\u001b[30m█\u001b[0m\u001b[30m█\u001b[0m\u001b[30m█\u001b[0m\u001b[30m█\u001b[0m\u001b[30m█\u001b[0m\u001b[30m█\u001b[0m\u001b[30m█\u001b[0m\u001b[30m█\u001b[0m\u001b[30m█\u001b[0m\u001b[30m█\u001b[0m\u001b[30m█\u001b[0m\u001b[30m█\u001b[0m\u001b[30m█\u001b[0m\u001b[30m█\u001b[0m\u001b[30m█\u001b[0m|(2013/10000) (0.02s avg time) ETA: ~03 min -  MSE (TRAIN) : \u001b[93m0.109575\u001b[0m, MSE (VAL) : \u001b[96m0.109936\u001b[0m -- BEST Val Loss : \u001b[92m0.101957\u001b[0m (at epoch 1511) Eary Stopping in: 0001   \r"
     ]
    },
    {
     "name": "stderr",
     "output_type": "stream",
     "text": [
      "[I 2024-05-09 07:55:54,538] Trial 398 finished with value: 0.029452621936798096 and parameters: {'std': 0.0211, 'num_layers': 2, 'units_0': 160, 'units_1': 144, 'freezed_layer_from_right': 1}. Best is trial 381 with value: 0.01678026281297207.\n"
     ]
    },
    {
     "name": "stdout",
     "output_type": "stream",
     "text": [
      "|\u001b[92m█\u001b[0m\u001b[30m█\u001b[0m\u001b[30m█\u001b[0m\u001b[30m█\u001b[0m\u001b[30m█\u001b[0m\u001b[30m█\u001b[0m\u001b[30m█\u001b[0m\u001b[30m█\u001b[0m\u001b[30m█\u001b[0m\u001b[30m█\u001b[0m\u001b[30m█\u001b[0m\u001b[30m█\u001b[0m\u001b[30m█\u001b[0m\u001b[30m█\u001b[0m\u001b[30m█\u001b[0m\u001b[30m█\u001b[0m\u001b[30m█\u001b[0m\u001b[30m█\u001b[0m\u001b[30m█\u001b[0m\u001b[30m█\u001b[0m|(795/10000) (0.02s avg time) ETA: ~04 min -  MSE (TRAIN) : \u001b[93m0.065179\u001b[0m, MSE (VAL) : \u001b[96m0.069014\u001b[0m -- BEST Val Loss : \u001b[92m0.065682\u001b[0m (at epoch 293) Eary Stopping in: 0001   \r"
     ]
    },
    {
     "name": "stderr",
     "output_type": "stream",
     "text": [
      "[I 2024-05-09 07:59:41,071] Trial 399 finished with value: 0.0185493603348732 and parameters: {'std': 0.0156, 'num_layers': 2, 'units_0': 128, 'units_1': 160, 'freezed_layer_from_right': 1}. Best is trial 381 with value: 0.01678026281297207.\n"
     ]
    },
    {
     "name": "stdout",
     "output_type": "stream",
     "text": [
      "|\u001b[92m█\u001b[0m\u001b[92m█\u001b[0m\u001b[92m█\u001b[0m\u001b[92m█\u001b[0m\u001b[92m█\u001b[0m\u001b[92m█\u001b[0m\u001b[30m█\u001b[0m\u001b[30m█\u001b[0m\u001b[30m█\u001b[0m\u001b[30m█\u001b[0m\u001b[30m█\u001b[0m\u001b[30m█\u001b[0m\u001b[30m█\u001b[0m\u001b[30m█\u001b[0m\u001b[30m█\u001b[0m\u001b[30m█\u001b[0m\u001b[30m█\u001b[0m\u001b[30m█\u001b[0m\u001b[30m█\u001b[0m\u001b[30m█\u001b[0m|(3005/10000) (0.03s avg time) ETA: ~03 min -  MSE (TRAIN) : \u001b[93m0.043404\u001b[0m, MSE (VAL) : \u001b[96m0.045181\u001b[0m -- BEST Val Loss : \u001b[92m0.041258\u001b[0m (at epoch 2503) Eary Stopping in: 0001   \r"
     ]
    },
    {
     "name": "stderr",
     "output_type": "stream",
     "text": [
      "[I 2024-05-09 08:04:44,064] Trial 400 finished with value: 0.03133499249815941 and parameters: {'std': 0.0181, 'num_layers': 4, 'units_0': 80, 'units_1': 144, 'units_2': 144, 'units_3': 112, 'freezed_layer_from_right': 2}. Best is trial 381 with value: 0.01678026281297207.\n"
     ]
    },
    {
     "name": "stdout",
     "output_type": "stream",
     "text": [
      "|\u001b[92m█\u001b[0m\u001b[92m█\u001b[0m\u001b[30m█\u001b[0m\u001b[30m█\u001b[0m\u001b[30m█\u001b[0m\u001b[30m█\u001b[0m\u001b[30m█\u001b[0m\u001b[30m█\u001b[0m\u001b[30m█\u001b[0m\u001b[30m█\u001b[0m\u001b[30m█\u001b[0m\u001b[30m█\u001b[0m\u001b[30m█\u001b[0m\u001b[30m█\u001b[0m\u001b[30m█\u001b[0m\u001b[30m█\u001b[0m\u001b[30m█\u001b[0m\u001b[30m█\u001b[0m\u001b[30m█\u001b[0m\u001b[30m█\u001b[0m|(1370/10000) (0.02s avg time) ETA: ~04 min -  MSE (TRAIN) : \u001b[93m0.065067\u001b[0m, MSE (VAL) : \u001b[96m0.065031\u001b[0m -- BEST Val Loss : \u001b[92m0.064425\u001b[0m (at epoch 868) Eary Stopping in: 0001   \r"
     ]
    },
    {
     "name": "stderr",
     "output_type": "stream",
     "text": [
      "[I 2024-05-09 08:09:11,006] Trial 401 finished with value: 0.02188584953546524 and parameters: {'std': 0.0131, 'num_layers': 2, 'units_0': 176, 'units_1': 128, 'freezed_layer_from_right': 1}. Best is trial 381 with value: 0.01678026281297207.\n"
     ]
    },
    {
     "name": "stdout",
     "output_type": "stream",
     "text": [
      "|\u001b[92m█\u001b[0m\u001b[92m█\u001b[0m\u001b[92m█\u001b[0m\u001b[30m█\u001b[0m\u001b[30m█\u001b[0m\u001b[30m█\u001b[0m\u001b[30m█\u001b[0m\u001b[30m█\u001b[0m\u001b[30m█\u001b[0m\u001b[30m█\u001b[0m\u001b[30m█\u001b[0m\u001b[30m█\u001b[0m\u001b[30m█\u001b[0m\u001b[30m█\u001b[0m\u001b[30m█\u001b[0m\u001b[30m█\u001b[0m\u001b[30m█\u001b[0m\u001b[30m█\u001b[0m\u001b[30m█\u001b[0m\u001b[30m█\u001b[0m|(1904/10000) (0.02s avg time) ETA: ~03 min -  MSE (TRAIN) : \u001b[93m0.101728\u001b[0m, MSE (VAL) : \u001b[96m0.106000\u001b[0m -- BEST Val Loss : \u001b[92m0.099105\u001b[0m (at epoch 1402) Eary Stopping in: 0001   \r"
     ]
    },
    {
     "name": "stderr",
     "output_type": "stream",
     "text": [
      "[I 2024-05-09 08:11:13,216] Trial 402 finished with value: 0.0243705902248621 and parameters: {'std': 0.0196, 'num_layers': 2, 'units_0': 160, 'units_1': 144, 'freezed_layer_from_right': 1}. Best is trial 381 with value: 0.01678026281297207.\n"
     ]
    },
    {
     "name": "stdout",
     "output_type": "stream",
     "text": [
      "|\u001b[92m█\u001b[0m\u001b[92m█\u001b[0m\u001b[30m█\u001b[0m\u001b[30m█\u001b[0m\u001b[30m█\u001b[0m\u001b[30m█\u001b[0m\u001b[30m█\u001b[0m\u001b[30m█\u001b[0m\u001b[30m█\u001b[0m\u001b[30m█\u001b[0m\u001b[30m█\u001b[0m\u001b[30m█\u001b[0m\u001b[30m█\u001b[0m\u001b[30m█\u001b[0m\u001b[30m█\u001b[0m\u001b[30m█\u001b[0m\u001b[30m█\u001b[0m\u001b[30m█\u001b[0m\u001b[30m█\u001b[0m\u001b[30m█\u001b[0m|(1435/10000) (0.02s avg time) ETA: ~04 min -  MSE (TRAIN) : \u001b[93m0.086922\u001b[0m, MSE (VAL) : \u001b[96m0.084276\u001b[0m -- BEST Val Loss : \u001b[92m0.077857\u001b[0m (at epoch 933) Eary Stopping in: 0001   \r"
     ]
    },
    {
     "name": "stderr",
     "output_type": "stream",
     "text": [
      "[I 2024-05-09 08:13:10,755] Trial 403 finished with value: 0.022230030968785286 and parameters: {'std': 0.0231, 'num_layers': 2, 'units_0': 160, 'units_1': 144, 'freezed_layer_from_right': 1}. Best is trial 381 with value: 0.01678026281297207.\n"
     ]
    },
    {
     "name": "stdout",
     "output_type": "stream",
     "text": [
      "|\u001b[92m█\u001b[0m\u001b[30m█\u001b[0m\u001b[30m█\u001b[0m\u001b[30m█\u001b[0m\u001b[30m█\u001b[0m\u001b[30m█\u001b[0m\u001b[30m█\u001b[0m\u001b[30m█\u001b[0m\u001b[30m█\u001b[0m\u001b[30m█\u001b[0m\u001b[30m█\u001b[0m\u001b[30m█\u001b[0m\u001b[30m█\u001b[0m\u001b[30m█\u001b[0m\u001b[30m█\u001b[0m\u001b[30m█\u001b[0m\u001b[30m█\u001b[0m\u001b[30m█\u001b[0m\u001b[30m█\u001b[0m\u001b[30m█\u001b[0m|(951/10000) (0.02s avg time) ETA: ~04 min -  MSE (TRAIN) : \u001b[93m0.062557\u001b[0m, MSE (VAL) : \u001b[96m0.063409\u001b[0m -- BEST Val Loss : \u001b[92m0.062899\u001b[0m (at epoch 449) Eary Stopping in: 0001   \r"
     ]
    },
    {
     "name": "stderr",
     "output_type": "stream",
     "text": [
      "[I 2024-05-09 08:17:22,073] Trial 404 finished with value: 0.019038675352931023 and parameters: {'std': 0.0156, 'num_layers': 2, 'units_0': 160, 'units_1': 112, 'freezed_layer_from_right': 1}. Best is trial 381 with value: 0.01678026281297207.\n"
     ]
    },
    {
     "name": "stdout",
     "output_type": "stream",
     "text": [
      "|\u001b[92m█\u001b[0m\u001b[92m█\u001b[0m\u001b[30m█\u001b[0m\u001b[30m█\u001b[0m\u001b[30m█\u001b[0m\u001b[30m█\u001b[0m\u001b[30m█\u001b[0m\u001b[30m█\u001b[0m\u001b[30m█\u001b[0m\u001b[30m█\u001b[0m\u001b[30m█\u001b[0m\u001b[30m█\u001b[0m\u001b[30m█\u001b[0m\u001b[30m█\u001b[0m\u001b[30m█\u001b[0m\u001b[30m█\u001b[0m\u001b[30m█\u001b[0m\u001b[30m█\u001b[0m\u001b[30m█\u001b[0m\u001b[30m█\u001b[0m|(1482/10000) (0.02s avg time) ETA: ~04 min -  MSE (TRAIN) : \u001b[93m0.064677\u001b[0m, MSE (VAL) : \u001b[96m0.060238\u001b[0m -- BEST Val Loss : \u001b[92m0.059656\u001b[0m (at epoch 980) Eary Stopping in: 0001   \r"
     ]
    },
    {
     "name": "stderr",
     "output_type": "stream",
     "text": [
      "[I 2024-05-09 08:21:40,791] Trial 405 finished with value: 0.0204593725502491 and parameters: {'std': 0.0181, 'num_layers': 2, 'units_0': 176, 'units_1': 144, 'freezed_layer_from_right': 1}. Best is trial 381 with value: 0.01678026281297207.\n"
     ]
    },
    {
     "name": "stdout",
     "output_type": "stream",
     "text": [
      "|\u001b[92m█\u001b[0m\u001b[92m█\u001b[0m\u001b[30m█\u001b[0m\u001b[30m█\u001b[0m\u001b[30m█\u001b[0m\u001b[30m█\u001b[0m\u001b[30m█\u001b[0m\u001b[30m█\u001b[0m\u001b[30m█\u001b[0m\u001b[30m█\u001b[0m\u001b[30m█\u001b[0m\u001b[30m█\u001b[0m\u001b[30m█\u001b[0m\u001b[30m█\u001b[0m\u001b[30m█\u001b[0m\u001b[30m█\u001b[0m\u001b[30m█\u001b[0m\u001b[30m█\u001b[0m\u001b[30m█\u001b[0m\u001b[30m█\u001b[0m|(1336/10000) (0.02s avg time) ETA: ~04 min -  MSE (TRAIN) : \u001b[93m0.083905\u001b[0m, MSE (VAL) : \u001b[96m0.081876\u001b[0m -- BEST Val Loss : \u001b[92m0.081323\u001b[0m (at epoch 834) Eary Stopping in: 0001   \r"
     ]
    },
    {
     "name": "stderr",
     "output_type": "stream",
     "text": [
      "[I 2024-05-09 08:24:56,999] Trial 406 finished with value: 0.020121920853853226 and parameters: {'std': 0.0201, 'num_layers': 2, 'units_0': 160, 'units_1': 80, 'freezed_layer_from_right': 1}. Best is trial 381 with value: 0.01678026281297207.\n"
     ]
    },
    {
     "name": "stdout",
     "output_type": "stream",
     "text": [
      "|\u001b[92m█\u001b[0m\u001b[92m█\u001b[0m\u001b[30m█\u001b[0m\u001b[30m█\u001b[0m\u001b[30m█\u001b[0m\u001b[30m█\u001b[0m\u001b[30m█\u001b[0m\u001b[30m█\u001b[0m\u001b[30m█\u001b[0m\u001b[30m█\u001b[0m\u001b[30m█\u001b[0m\u001b[30m█\u001b[0m\u001b[30m█\u001b[0m\u001b[30m█\u001b[0m\u001b[30m█\u001b[0m\u001b[30m█\u001b[0m\u001b[30m█\u001b[0m\u001b[30m█\u001b[0m\u001b[30m█\u001b[0m\u001b[30m█\u001b[0m|(1496/10000) (0.02s avg time) ETA: ~04 min -  MSE (TRAIN) : \u001b[93m0.055232\u001b[0m, MSE (VAL) : \u001b[96m0.056029\u001b[0m -- BEST Val Loss : \u001b[92m0.055111\u001b[0m (at epoch 994) Eary Stopping in: 0001   \r"
     ]
    },
    {
     "name": "stderr",
     "output_type": "stream",
     "text": [
      "[I 2024-05-09 08:29:32,965] Trial 407 finished with value: 0.019025729969143867 and parameters: {'std': 0.0141, 'num_layers': 3, 'units_0': 176, 'units_1': 160, 'units_2': 160, 'freezed_layer_from_right': 1}. Best is trial 381 with value: 0.01678026281297207.\n"
     ]
    },
    {
     "name": "stdout",
     "output_type": "stream",
     "text": [
      "|\u001b[92m█\u001b[0m\u001b[92m█\u001b[0m\u001b[92m█\u001b[0m\u001b[92m█\u001b[0m\u001b[30m█\u001b[0m\u001b[30m█\u001b[0m\u001b[30m█\u001b[0m\u001b[30m█\u001b[0m\u001b[30m█\u001b[0m\u001b[30m█\u001b[0m\u001b[30m█\u001b[0m\u001b[30m█\u001b[0m\u001b[30m█\u001b[0m\u001b[30m█\u001b[0m\u001b[30m█\u001b[0m\u001b[30m█\u001b[0m\u001b[30m█\u001b[0m\u001b[30m█\u001b[0m\u001b[30m█\u001b[0m\u001b[30m█\u001b[0m|(2125/10000) (0.02s avg time) ETA: ~03 min -  MSE (TRAIN) : \u001b[93m0.065998\u001b[0m, MSE (VAL) : \u001b[96m0.067014\u001b[0m -- BEST Val Loss : \u001b[92m0.066711\u001b[0m (at epoch 1623) Eary Stopping in: 0001   \r"
     ]
    },
    {
     "name": "stderr",
     "output_type": "stream",
     "text": [
      "[I 2024-05-09 08:34:04,418] Trial 408 finished with value: 0.021071387454867363 and parameters: {'std': 0.0166, 'num_layers': 2, 'units_0': 48, 'units_1': 144, 'freezed_layer_from_right': 1}. Best is trial 381 with value: 0.01678026281297207.\n"
     ]
    },
    {
     "name": "stdout",
     "output_type": "stream",
     "text": [
      "|\u001b[92m█\u001b[0m\u001b[92m█\u001b[0m\u001b[92m█\u001b[0m\u001b[30m█\u001b[0m\u001b[30m█\u001b[0m\u001b[30m█\u001b[0m\u001b[30m█\u001b[0m\u001b[30m█\u001b[0m\u001b[30m█\u001b[0m\u001b[30m█\u001b[0m\u001b[30m█\u001b[0m\u001b[30m█\u001b[0m\u001b[30m█\u001b[0m\u001b[30m█\u001b[0m\u001b[30m█\u001b[0m\u001b[30m█\u001b[0m\u001b[30m█\u001b[0m\u001b[30m█\u001b[0m\u001b[30m█\u001b[0m\u001b[30m█\u001b[0m|(1700/10000) (0.02s avg time) ETA: ~03 min -  MSE (TRAIN) : \u001b[93m0.065325\u001b[0m, MSE (VAL) : \u001b[96m0.069437\u001b[0m -- BEST Val Loss : \u001b[92m0.065592\u001b[0m (at epoch 1198) Eary Stopping in: 0001   \r"
     ]
    },
    {
     "name": "stderr",
     "output_type": "stream",
     "text": [
      "[I 2024-05-09 08:38:27,971] Trial 409 finished with value: 0.022414010018110275 and parameters: {'std': 0.022099999999999998, 'num_layers': 2, 'units_0': 112, 'units_1': 64, 'freezed_layer_from_right': 1}. Best is trial 381 with value: 0.01678026281297207.\n"
     ]
    },
    {
     "name": "stdout",
     "output_type": "stream",
     "text": [
      "|\u001b[92m█\u001b[0m\u001b[92m█\u001b[0m\u001b[92m█\u001b[0m\u001b[92m█\u001b[0m\u001b[30m█\u001b[0m\u001b[30m█\u001b[0m\u001b[30m█\u001b[0m\u001b[30m█\u001b[0m\u001b[30m█\u001b[0m\u001b[30m█\u001b[0m\u001b[30m█\u001b[0m\u001b[30m█\u001b[0m\u001b[30m█\u001b[0m\u001b[30m█\u001b[0m\u001b[30m█\u001b[0m\u001b[30m█\u001b[0m\u001b[30m█\u001b[0m\u001b[30m█\u001b[0m\u001b[30m█\u001b[0m\u001b[30m█\u001b[0m|(2267/10000) (0.02s avg time) ETA: ~03 min -  MSE (TRAIN) : \u001b[93m0.058967\u001b[0m, MSE (VAL) : \u001b[96m0.059920\u001b[0m -- BEST Val Loss : \u001b[92m0.059702\u001b[0m (at epoch 1765) Eary Stopping in: 0001   \r"
     ]
    },
    {
     "name": "stderr",
     "output_type": "stream",
     "text": [
      "[I 2024-05-09 08:43:06,779] Trial 410 finished with value: 0.0202851053327322 and parameters: {'std': 0.0101, 'num_layers': 2, 'units_0': 160, 'units_1': 144, 'freezed_layer_from_right': 1}. Best is trial 381 with value: 0.01678026281297207.\n"
     ]
    },
    {
     "name": "stdout",
     "output_type": "stream",
     "text": [
      "|\u001b[92m█\u001b[0m\u001b[92m█\u001b[0m\u001b[92m█\u001b[0m\u001b[30m█\u001b[0m\u001b[30m█\u001b[0m\u001b[30m█\u001b[0m\u001b[30m█\u001b[0m\u001b[30m█\u001b[0m\u001b[30m█\u001b[0m\u001b[30m█\u001b[0m\u001b[30m█\u001b[0m\u001b[30m█\u001b[0m\u001b[30m█\u001b[0m\u001b[30m█\u001b[0m\u001b[30m█\u001b[0m\u001b[30m█\u001b[0m\u001b[30m█\u001b[0m\u001b[30m█\u001b[0m\u001b[30m█\u001b[0m\u001b[30m█\u001b[0m|(1518/10000) (0.02s avg time) ETA: ~04 min -  MSE (TRAIN) : \u001b[93m0.068958\u001b[0m, MSE (VAL) : \u001b[96m0.070957\u001b[0m -- BEST Val Loss : \u001b[92m0.066282\u001b[0m (at epoch 1016) Eary Stopping in: 0001   \r"
     ]
    },
    {
     "name": "stderr",
     "output_type": "stream",
     "text": [
      "[I 2024-05-09 08:47:13,478] Trial 411 finished with value: 0.01914926990866661 and parameters: {'std': 0.0181, 'num_layers': 2, 'units_0': 144, 'units_1': 128, 'freezed_layer_from_right': 1}. Best is trial 381 with value: 0.01678026281297207.\n"
     ]
    },
    {
     "name": "stdout",
     "output_type": "stream",
     "text": [
      "|\u001b[92m█\u001b[0m\u001b[30m█\u001b[0m\u001b[30m█\u001b[0m\u001b[30m█\u001b[0m\u001b[30m█\u001b[0m\u001b[30m█\u001b[0m\u001b[30m█\u001b[0m\u001b[30m█\u001b[0m\u001b[30m█\u001b[0m\u001b[30m█\u001b[0m\u001b[30m█\u001b[0m\u001b[30m█\u001b[0m\u001b[30m█\u001b[0m\u001b[30m█\u001b[0m\u001b[30m█\u001b[0m\u001b[30m█\u001b[0m\u001b[30m█\u001b[0m\u001b[30m█\u001b[0m\u001b[30m█\u001b[0m\u001b[30m█\u001b[0m|(644/10000) (0.02s avg time) ETA: ~04 min -  MSE (TRAIN) : \u001b[93m0.084874\u001b[0m, MSE (VAL) : \u001b[96m0.032954\u001b[0m -- BEST Val Loss : \u001b[92m0.025838\u001b[0m (at epoch 142) Eary Stopping in: 0001   \r"
     ]
    },
    {
     "name": "stderr",
     "output_type": "stream",
     "text": [
      "[I 2024-05-09 08:48:35,269] Trial 412 finished with value: 0.026462718844413757 and parameters: {'std': 0.057100000000000005, 'num_layers': 2, 'units_0': 176, 'units_1': 160, 'freezed_layer_from_right': 1}. Best is trial 381 with value: 0.01678026281297207.\n"
     ]
    },
    {
     "name": "stdout",
     "output_type": "stream",
     "text": [
      "|\u001b[92m█\u001b[0m\u001b[92m█\u001b[0m\u001b[92m█\u001b[0m\u001b[30m█\u001b[0m\u001b[30m█\u001b[0m\u001b[30m█\u001b[0m\u001b[30m█\u001b[0m\u001b[30m█\u001b[0m\u001b[30m█\u001b[0m\u001b[30m█\u001b[0m\u001b[30m█\u001b[0m\u001b[30m█\u001b[0m\u001b[30m█\u001b[0m\u001b[30m█\u001b[0m\u001b[30m█\u001b[0m\u001b[30m█\u001b[0m\u001b[30m█\u001b[0m\u001b[30m█\u001b[0m\u001b[30m█\u001b[0m\u001b[30m█\u001b[0m|(1976/10000) (0.02s avg time) ETA: ~04 min -  MSE (TRAIN) : \u001b[93m0.116283\u001b[0m, MSE (VAL) : \u001b[96m0.120885\u001b[0m -- BEST Val Loss : \u001b[92m0.116236\u001b[0m (at epoch 1474) Eary Stopping in: 0001   \r"
     ]
    },
    {
     "name": "stderr",
     "output_type": "stream",
     "text": [
      "[I 2024-05-09 08:50:15,653] Trial 413 finished with value: 0.02315017208456993 and parameters: {'std': 0.0286, 'num_layers': 2, 'units_0': 160, 'units_1': 48, 'freezed_layer_from_right': 1}. Best is trial 381 with value: 0.01678026281297207.\n"
     ]
    },
    {
     "name": "stdout",
     "output_type": "stream",
     "text": [
      "|\u001b[92m█\u001b[0m\u001b[92m█\u001b[0m\u001b[30m█\u001b[0m\u001b[30m█\u001b[0m\u001b[30m█\u001b[0m\u001b[30m█\u001b[0m\u001b[30m█\u001b[0m\u001b[30m█\u001b[0m\u001b[30m█\u001b[0m\u001b[30m█\u001b[0m\u001b[30m█\u001b[0m\u001b[30m█\u001b[0m\u001b[30m█\u001b[0m\u001b[30m█\u001b[0m\u001b[30m█\u001b[0m\u001b[30m█\u001b[0m\u001b[30m█\u001b[0m\u001b[30m█\u001b[0m\u001b[30m█\u001b[0m\u001b[30m█\u001b[0m|(1313/10000) (0.02s avg time) ETA: ~04 min -  MSE (TRAIN) : \u001b[93m0.087841\u001b[0m, MSE (VAL) : \u001b[96m0.096352\u001b[0m -- BEST Val Loss : \u001b[92m0.082613\u001b[0m (at epoch 811) Eary Stopping in: 0001   \r"
     ]
    },
    {
     "name": "stderr",
     "output_type": "stream",
     "text": [
      "[I 2024-05-09 08:51:20,767] Trial 414 finished with value: 0.021325578913092613 and parameters: {'std': 0.0246, 'num_layers': 2, 'units_0': 176, 'units_1': 144, 'freezed_layer_from_right': 1}. Best is trial 381 with value: 0.01678026281297207.\n"
     ]
    },
    {
     "name": "stdout",
     "output_type": "stream",
     "text": [
      "|\u001b[92m█\u001b[0m\u001b[30m█\u001b[0m\u001b[30m█\u001b[0m\u001b[30m█\u001b[0m\u001b[30m█\u001b[0m\u001b[30m█\u001b[0m\u001b[30m█\u001b[0m\u001b[30m█\u001b[0m\u001b[30m█\u001b[0m\u001b[30m█\u001b[0m\u001b[30m█\u001b[0m\u001b[30m█\u001b[0m\u001b[30m█\u001b[0m\u001b[30m█\u001b[0m\u001b[30m█\u001b[0m\u001b[30m█\u001b[0m\u001b[30m█\u001b[0m\u001b[30m█\u001b[0m\u001b[30m█\u001b[0m\u001b[30m█\u001b[0m|(700/10000) (0.02s avg time) ETA: ~04 min -  MSE (TRAIN) : \u001b[93m0.040964\u001b[0m, MSE (VAL) : \u001b[96m0.044202\u001b[0m -- BEST Val Loss : \u001b[92m0.020832\u001b[0m (at epoch 198) Eary Stopping in: 0001   \r"
     ]
    },
    {
     "name": "stderr",
     "output_type": "stream",
     "text": [
      "[I 2024-05-09 08:53:09,587] Trial 415 finished with value: 0.02892974577844143 and parameters: {'std': 0.0671, 'num_layers': 2, 'units_0': 160, 'units_1': 144, 'freezed_layer_from_right': 1}. Best is trial 381 with value: 0.01678026281297207.\n"
     ]
    },
    {
     "name": "stdout",
     "output_type": "stream",
     "text": [
      "|\u001b[92m█\u001b[0m\u001b[92m█\u001b[0m\u001b[92m█\u001b[0m\u001b[30m█\u001b[0m\u001b[30m█\u001b[0m\u001b[30m█\u001b[0m\u001b[30m█\u001b[0m\u001b[30m█\u001b[0m\u001b[30m█\u001b[0m\u001b[30m█\u001b[0m\u001b[30m█\u001b[0m\u001b[30m█\u001b[0m\u001b[30m█\u001b[0m\u001b[30m█\u001b[0m\u001b[30m█\u001b[0m\u001b[30m█\u001b[0m\u001b[30m█\u001b[0m\u001b[30m█\u001b[0m\u001b[30m█\u001b[0m\u001b[30m█\u001b[0m|(1999/10000) (0.02s avg time) ETA: ~03 min -  MSE (TRAIN) : \u001b[93m0.063406\u001b[0m, MSE (VAL) : \u001b[96m0.063436\u001b[0m -- BEST Val Loss : \u001b[92m0.062918\u001b[0m (at epoch 1497) Eary Stopping in: 0001   \r"
     ]
    },
    {
     "name": "stderr",
     "output_type": "stream",
     "text": [
      "[I 2024-05-09 08:57:44,057] Trial 416 finished with value: 0.021345730870962143 and parameters: {'std': 0.0121, 'num_layers': 2, 'units_0': 160, 'units_1': 128, 'freezed_layer_from_right': 1}. Best is trial 381 with value: 0.01678026281297207.\n"
     ]
    },
    {
     "name": "stdout",
     "output_type": "stream",
     "text": [
      "|\u001b[92m█\u001b[0m\u001b[30m█\u001b[0m\u001b[30m█\u001b[0m\u001b[30m█\u001b[0m\u001b[30m█\u001b[0m\u001b[30m█\u001b[0m\u001b[30m█\u001b[0m\u001b[30m█\u001b[0m\u001b[30m█\u001b[0m\u001b[30m█\u001b[0m\u001b[30m█\u001b[0m\u001b[30m█\u001b[0m\u001b[30m█\u001b[0m\u001b[30m█\u001b[0m\u001b[30m█\u001b[0m\u001b[30m█\u001b[0m\u001b[30m█\u001b[0m\u001b[30m█\u001b[0m\u001b[30m█\u001b[0m\u001b[30m█\u001b[0m|(914/10000) (0.02s avg time) ETA: ~04 min -  MSE (TRAIN) : \u001b[93m0.083579\u001b[0m, MSE (VAL) : \u001b[96m0.081841\u001b[0m -- BEST Val Loss : \u001b[92m0.080915\u001b[0m (at epoch 412) Eary Stopping in: 0001   \r"
     ]
    },
    {
     "name": "stderr",
     "output_type": "stream",
     "text": [
      "[I 2024-05-09 09:00:45,205] Trial 417 finished with value: 0.018408363685011864 and parameters: {'std': 0.015099999999999999, 'num_layers': 2, 'units_0': 176, 'units_1': 144, 'freezed_layer_from_right': 1}. Best is trial 381 with value: 0.01678026281297207.\n"
     ]
    },
    {
     "name": "stdout",
     "output_type": "stream",
     "text": [
      "|\u001b[92m█\u001b[0m\u001b[30m█\u001b[0m\u001b[30m█\u001b[0m\u001b[30m█\u001b[0m\u001b[30m█\u001b[0m\u001b[30m█\u001b[0m\u001b[30m█\u001b[0m\u001b[30m█\u001b[0m\u001b[30m█\u001b[0m\u001b[30m█\u001b[0m\u001b[30m█\u001b[0m\u001b[30m█\u001b[0m\u001b[30m█\u001b[0m\u001b[30m█\u001b[0m\u001b[30m█\u001b[0m\u001b[30m█\u001b[0m\u001b[30m█\u001b[0m\u001b[30m█\u001b[0m\u001b[30m█\u001b[0m\u001b[30m█\u001b[0m|(748/10000) (0.03s avg time) ETA: ~05 min -  MSE (TRAIN) : \u001b[93m0.029416\u001b[0m, MSE (VAL) : \u001b[96m0.033144\u001b[0m -- BEST Val Loss : \u001b[92m0.017084\u001b[0m (at epoch 246) Eary Stopping in: 0001   \r"
     ]
    },
    {
     "name": "stderr",
     "output_type": "stream",
     "text": [
      "[I 2024-05-09 09:04:03,965] Trial 418 finished with value: 0.024527262896299362 and parameters: {'std': 0.0641, 'num_layers': 5, 'units_0': 176, 'units_1': 144, 'units_2': 128, 'units_3': 64, 'units_4': 64, 'freezed_layer_from_right': 3}. Best is trial 381 with value: 0.01678026281297207.\n"
     ]
    },
    {
     "name": "stdout",
     "output_type": "stream",
     "text": [
      "|\u001b[92m█\u001b[0m\u001b[92m█\u001b[0m\u001b[92m█\u001b[0m\u001b[30m█\u001b[0m\u001b[30m█\u001b[0m\u001b[30m█\u001b[0m\u001b[30m█\u001b[0m\u001b[30m█\u001b[0m\u001b[30m█\u001b[0m\u001b[30m█\u001b[0m\u001b[30m█\u001b[0m\u001b[30m█\u001b[0m\u001b[30m█\u001b[0m\u001b[30m█\u001b[0m\u001b[30m█\u001b[0m\u001b[30m█\u001b[0m\u001b[30m█\u001b[0m\u001b[30m█\u001b[0m\u001b[30m█\u001b[0m\u001b[30m█\u001b[0m|(1918/10000) (0.02s avg time) ETA: ~03 min -  MSE (TRAIN) : \u001b[93m0.062887\u001b[0m, MSE (VAL) : \u001b[96m0.061116\u001b[0m -- BEST Val Loss : \u001b[92m0.060872\u001b[0m (at epoch 1416) Eary Stopping in: 0001   \r"
     ]
    },
    {
     "name": "stderr",
     "output_type": "stream",
     "text": [
      "[I 2024-05-09 09:08:32,241] Trial 419 finished with value: 0.019263193011283875 and parameters: {'std': 0.0146, 'num_layers': 2, 'units_0': 176, 'units_1': 160, 'freezed_layer_from_right': 1}. Best is trial 381 with value: 0.01678026281297207.\n"
     ]
    },
    {
     "name": "stdout",
     "output_type": "stream",
     "text": [
      "|\u001b[92m█\u001b[0m\u001b[92m█\u001b[0m\u001b[30m█\u001b[0m\u001b[30m█\u001b[0m\u001b[30m█\u001b[0m\u001b[30m█\u001b[0m\u001b[30m█\u001b[0m\u001b[30m█\u001b[0m\u001b[30m█\u001b[0m\u001b[30m█\u001b[0m\u001b[30m█\u001b[0m\u001b[30m█\u001b[0m\u001b[30m█\u001b[0m\u001b[30m█\u001b[0m\u001b[30m█\u001b[0m\u001b[30m█\u001b[0m\u001b[30m█\u001b[0m\u001b[30m█\u001b[0m\u001b[30m█\u001b[0m\u001b[30m█\u001b[0m|(1091/10000) (0.02s avg time) ETA: ~04 min -  MSE (TRAIN) : \u001b[93m0.092990\u001b[0m, MSE (VAL) : \u001b[96m0.082544\u001b[0m -- BEST Val Loss : \u001b[92m0.080631\u001b[0m (at epoch 589) Eary Stopping in: 0001   \r"
     ]
    },
    {
     "name": "stderr",
     "output_type": "stream",
     "text": [
      "[I 2024-05-09 09:10:32,119] Trial 420 finished with value: 0.021034572273492813 and parameters: {'std': 0.0206, 'num_layers': 2, 'units_0': 176, 'units_1': 176, 'freezed_layer_from_right': 1}. Best is trial 381 with value: 0.01678026281297207.\n"
     ]
    },
    {
     "name": "stdout",
     "output_type": "stream",
     "text": [
      "|\u001b[92m█\u001b[0m\u001b[92m█\u001b[0m\u001b[30m█\u001b[0m\u001b[30m█\u001b[0m\u001b[30m█\u001b[0m\u001b[30m█\u001b[0m\u001b[30m█\u001b[0m\u001b[30m█\u001b[0m\u001b[30m█\u001b[0m\u001b[30m█\u001b[0m\u001b[30m█\u001b[0m\u001b[30m█\u001b[0m\u001b[30m█\u001b[0m\u001b[30m█\u001b[0m\u001b[30m█\u001b[0m\u001b[30m█\u001b[0m\u001b[30m█\u001b[0m\u001b[30m█\u001b[0m\u001b[30m█\u001b[0m\u001b[30m█\u001b[0m|(1459/10000) (0.02s avg time) ETA: ~04 min -  MSE (TRAIN) : \u001b[93m0.059127\u001b[0m, MSE (VAL) : \u001b[96m0.063470\u001b[0m -- BEST Val Loss : \u001b[92m0.059260\u001b[0m (at epoch 957) Eary Stopping in: 0001   \r"
     ]
    },
    {
     "name": "stderr",
     "output_type": "stream",
     "text": [
      "[I 2024-05-09 09:14:52,745] Trial 421 finished with value: 0.02001245692372322 and parameters: {'std': 0.0176, 'num_layers': 2, 'units_0': 176, 'units_1': 144, 'freezed_layer_from_right': 1}. Best is trial 381 with value: 0.01678026281297207.\n"
     ]
    },
    {
     "name": "stdout",
     "output_type": "stream",
     "text": [
      "|\u001b[92m█\u001b[0m\u001b[30m█\u001b[0m\u001b[30m█\u001b[0m\u001b[30m█\u001b[0m\u001b[30m█\u001b[0m\u001b[30m█\u001b[0m\u001b[30m█\u001b[0m\u001b[30m█\u001b[0m\u001b[30m█\u001b[0m\u001b[30m█\u001b[0m\u001b[30m█\u001b[0m\u001b[30m█\u001b[0m\u001b[30m█\u001b[0m\u001b[30m█\u001b[0m\u001b[30m█\u001b[0m\u001b[30m█\u001b[0m\u001b[30m█\u001b[0m\u001b[30m█\u001b[0m\u001b[30m█\u001b[0m\u001b[30m█\u001b[0m|(656/10000) (0.02s avg time) ETA: ~04 min -  MSE (TRAIN) : \u001b[93m0.064567\u001b[0m, MSE (VAL) : \u001b[96m0.066500\u001b[0m -- BEST Val Loss : \u001b[92m0.064999\u001b[0m (at epoch 154) Eary Stopping in: 0001   \r"
     ]
    },
    {
     "name": "stderr",
     "output_type": "stream",
     "text": [
      "[I 2024-05-09 09:19:15,609] Trial 422 finished with value: 0.020883511751890182 and parameters: {'std': 0.0131, 'num_layers': 3, 'units_0': 176, 'units_1': 112, 'units_2': 112, 'freezed_layer_from_right': 1}. Best is trial 381 with value: 0.01678026281297207.\n"
     ]
    },
    {
     "name": "stdout",
     "output_type": "stream",
     "text": [
      "|\u001b[92m█\u001b[0m\u001b[92m█\u001b[0m\u001b[30m█\u001b[0m\u001b[30m█\u001b[0m\u001b[30m█\u001b[0m\u001b[30m█\u001b[0m\u001b[30m█\u001b[0m\u001b[30m█\u001b[0m\u001b[30m█\u001b[0m\u001b[30m█\u001b[0m\u001b[30m█\u001b[0m\u001b[30m█\u001b[0m\u001b[30m█\u001b[0m\u001b[30m█\u001b[0m\u001b[30m█\u001b[0m\u001b[30m█\u001b[0m\u001b[30m█\u001b[0m\u001b[30m█\u001b[0m\u001b[30m█\u001b[0m\u001b[30m█\u001b[0m|(1098/10000) (0.02s avg time) ETA: ~04 min -  MSE (TRAIN) : \u001b[93m0.065695\u001b[0m, MSE (VAL) : \u001b[96m0.066379\u001b[0m -- BEST Val Loss : \u001b[92m0.063182\u001b[0m (at epoch 596) Eary Stopping in: 0001   \r"
     ]
    },
    {
     "name": "stderr",
     "output_type": "stream",
     "text": [
      "[I 2024-05-09 09:23:28,388] Trial 423 finished with value: 0.021495088934898376 and parameters: {'std': 0.015099999999999999, 'num_layers': 2, 'units_0': 176, 'units_1': 80, 'freezed_layer_from_right': 1}. Best is trial 381 with value: 0.01678026281297207.\n"
     ]
    },
    {
     "name": "stdout",
     "output_type": "stream",
     "text": [
      "|\u001b[92m█\u001b[0m\u001b[92m█\u001b[0m\u001b[92m█\u001b[0m\u001b[92m█\u001b[0m\u001b[92m█\u001b[0m\u001b[30m█\u001b[0m\u001b[30m█\u001b[0m\u001b[30m█\u001b[0m\u001b[30m█\u001b[0m\u001b[30m█\u001b[0m\u001b[30m█\u001b[0m\u001b[30m█\u001b[0m\u001b[30m█\u001b[0m\u001b[30m█\u001b[0m\u001b[30m█\u001b[0m\u001b[30m█\u001b[0m\u001b[30m█\u001b[0m\u001b[30m█\u001b[0m\u001b[30m█\u001b[0m\u001b[30m█\u001b[0m|(2768/10000) (0.02s avg time) ETA: ~03 min -  MSE (TRAIN) : \u001b[93m0.064744\u001b[0m, MSE (VAL) : \u001b[96m0.065001\u001b[0m -- BEST Val Loss : \u001b[92m0.063365\u001b[0m (at epoch 2266) Eary Stopping in: 0001   \r"
     ]
    },
    {
     "name": "stderr",
     "output_type": "stream",
     "text": [
      "[I 2024-05-09 09:27:50,571] Trial 424 finished with value: 0.018442710861563683 and parameters: {'std': 0.0191, 'num_layers': 2, 'units_0': 176, 'units_1': 144, 'freezed_layer_from_right': 1}. Best is trial 381 with value: 0.01678026281297207.\n"
     ]
    },
    {
     "name": "stdout",
     "output_type": "stream",
     "text": [
      "|\u001b[92m█\u001b[0m\u001b[92m█\u001b[0m\u001b[92m█\u001b[0m\u001b[92m█\u001b[0m\u001b[30m█\u001b[0m\u001b[30m█\u001b[0m\u001b[30m█\u001b[0m\u001b[30m█\u001b[0m\u001b[30m█\u001b[0m\u001b[30m█\u001b[0m\u001b[30m█\u001b[0m\u001b[30m█\u001b[0m\u001b[30m█\u001b[0m\u001b[30m█\u001b[0m\u001b[30m█\u001b[0m\u001b[30m█\u001b[0m\u001b[30m█\u001b[0m\u001b[30m█\u001b[0m\u001b[30m█\u001b[0m\u001b[30m█\u001b[0m|(2265/10000) (0.02s avg time) ETA: ~03 min -  MSE (TRAIN) : \u001b[93m0.111992\u001b[0m, MSE (VAL) : \u001b[96m0.101757\u001b[0m -- BEST Val Loss : \u001b[92m0.094742\u001b[0m (at epoch 1763) Eary Stopping in: 0001   \r"
     ]
    },
    {
     "name": "stderr",
     "output_type": "stream",
     "text": [
      "[I 2024-05-09 09:29:47,489] Trial 425 finished with value: 0.019696451723575592 and parameters: {'std': 0.0191, 'num_layers': 2, 'units_0': 176, 'units_1': 144, 'freezed_layer_from_right': 1}. Best is trial 381 with value: 0.01678026281297207.\n"
     ]
    },
    {
     "name": "stdout",
     "output_type": "stream",
     "text": [
      "|\u001b[92m█\u001b[0m\u001b[92m█\u001b[0m\u001b[30m█\u001b[0m\u001b[30m█\u001b[0m\u001b[30m█\u001b[0m\u001b[30m█\u001b[0m\u001b[30m█\u001b[0m\u001b[30m█\u001b[0m\u001b[30m█\u001b[0m\u001b[30m█\u001b[0m\u001b[30m█\u001b[0m\u001b[30m█\u001b[0m\u001b[30m█\u001b[0m\u001b[30m█\u001b[0m\u001b[30m█\u001b[0m\u001b[30m█\u001b[0m\u001b[30m█\u001b[0m\u001b[30m█\u001b[0m\u001b[30m█\u001b[0m\u001b[30m█\u001b[0m|(1219/10000) (0.02s avg time) ETA: ~04 min -  MSE (TRAIN) : \u001b[93m0.059006\u001b[0m, MSE (VAL) : \u001b[96m0.063704\u001b[0m -- BEST Val Loss : \u001b[92m0.059803\u001b[0m (at epoch 717) Eary Stopping in: 0001   \r"
     ]
    },
    {
     "name": "stderr",
     "output_type": "stream",
     "text": [
      "[I 2024-05-09 09:34:03,835] Trial 426 finished with value: 0.018197108060121536 and parameters: {'std': 0.0171, 'num_layers': 2, 'units_0': 176, 'units_1': 144, 'freezed_layer_from_right': 1}. Best is trial 381 with value: 0.01678026281297207.\n"
     ]
    },
    {
     "name": "stdout",
     "output_type": "stream",
     "text": [
      "|\u001b[92m█\u001b[0m\u001b[92m█\u001b[0m\u001b[30m█\u001b[0m\u001b[30m█\u001b[0m\u001b[30m█\u001b[0m\u001b[30m█\u001b[0m\u001b[30m█\u001b[0m\u001b[30m█\u001b[0m\u001b[30m█\u001b[0m\u001b[30m█\u001b[0m\u001b[30m█\u001b[0m\u001b[30m█\u001b[0m\u001b[30m█\u001b[0m\u001b[30m█\u001b[0m\u001b[30m█\u001b[0m\u001b[30m█\u001b[0m\u001b[30m█\u001b[0m\u001b[30m█\u001b[0m\u001b[30m█\u001b[0m\u001b[30m█\u001b[0m|(1455/10000) (0.02s avg time) ETA: ~04 min -  MSE (TRAIN) : \u001b[93m0.056885\u001b[0m, MSE (VAL) : \u001b[96m0.058047\u001b[0m -- BEST Val Loss : \u001b[92m0.056895\u001b[0m (at epoch 953) Eary Stopping in: 0001   \r"
     ]
    },
    {
     "name": "stderr",
     "output_type": "stream",
     "text": [
      "[I 2024-05-09 09:38:22,335] Trial 427 finished with value: 0.01809067092835903 and parameters: {'std': 0.0191, 'num_layers': 2, 'units_0': 176, 'units_1': 144, 'freezed_layer_from_right': 1}. Best is trial 381 with value: 0.01678026281297207.\n"
     ]
    },
    {
     "name": "stdout",
     "output_type": "stream",
     "text": [
      "|\u001b[92m█\u001b[0m\u001b[30m█\u001b[0m\u001b[30m█\u001b[0m\u001b[30m█\u001b[0m\u001b[30m█\u001b[0m\u001b[30m█\u001b[0m\u001b[30m█\u001b[0m\u001b[30m█\u001b[0m\u001b[30m█\u001b[0m\u001b[30m█\u001b[0m\u001b[30m█\u001b[0m\u001b[30m█\u001b[0m\u001b[30m█\u001b[0m\u001b[30m█\u001b[0m\u001b[30m█\u001b[0m\u001b[30m█\u001b[0m\u001b[30m█\u001b[0m\u001b[30m█\u001b[0m\u001b[30m█\u001b[0m\u001b[30m█\u001b[0m|(796/10000) (0.02s avg time) ETA: ~04 min -  MSE (TRAIN) : \u001b[93m0.056910\u001b[0m, MSE (VAL) : \u001b[96m0.057417\u001b[0m -- BEST Val Loss : \u001b[92m0.056431\u001b[0m (at epoch 294) Eary Stopping in: 0001   \r"
     ]
    },
    {
     "name": "stderr",
     "output_type": "stream",
     "text": [
      "[I 2024-05-09 09:42:26,228] Trial 428 finished with value: 0.01815512403845787 and parameters: {'std': 0.0201, 'num_layers': 2, 'units_0': 176, 'units_1': 144, 'freezed_layer_from_right': 1}. Best is trial 381 with value: 0.01678026281297207.\n"
     ]
    },
    {
     "name": "stdout",
     "output_type": "stream",
     "text": [
      "|\u001b[92m█\u001b[0m\u001b[30m█\u001b[0m\u001b[30m█\u001b[0m\u001b[30m█\u001b[0m\u001b[30m█\u001b[0m\u001b[30m█\u001b[0m\u001b[30m█\u001b[0m\u001b[30m█\u001b[0m\u001b[30m█\u001b[0m\u001b[30m█\u001b[0m\u001b[30m█\u001b[0m\u001b[30m█\u001b[0m\u001b[30m█\u001b[0m\u001b[30m█\u001b[0m\u001b[30m█\u001b[0m\u001b[30m█\u001b[0m\u001b[30m█\u001b[0m\u001b[30m█\u001b[0m\u001b[30m█\u001b[0m\u001b[30m█\u001b[0m|(951/10000) (0.02s avg time) ETA: ~04 min -  MSE (TRAIN) : \u001b[93m0.085381\u001b[0m, MSE (VAL) : \u001b[96m0.050632\u001b[0m -- BEST Val Loss : \u001b[92m0.014046\u001b[0m (at epoch 449) Eary Stopping in: 0001   \r"
     ]
    },
    {
     "name": "stderr",
     "output_type": "stream",
     "text": [
      "[I 2024-05-09 09:44:06,404] Trial 429 finished with value: 0.03922339528799057 and parameters: {'std': 0.0946, 'num_layers': 2, 'units_0': 176, 'units_1': 144, 'freezed_layer_from_right': 1}. Best is trial 381 with value: 0.01678026281297207.\n"
     ]
    },
    {
     "name": "stdout",
     "output_type": "stream",
     "text": [
      "|\u001b[92m█\u001b[0m\u001b[92m█\u001b[0m\u001b[92m█\u001b[0m\u001b[92m█\u001b[0m\u001b[30m█\u001b[0m\u001b[30m█\u001b[0m\u001b[30m█\u001b[0m\u001b[30m█\u001b[0m\u001b[30m█\u001b[0m\u001b[30m█\u001b[0m\u001b[30m█\u001b[0m\u001b[30m█\u001b[0m\u001b[30m█\u001b[0m\u001b[30m█\u001b[0m\u001b[30m█\u001b[0m\u001b[30m█\u001b[0m\u001b[30m█\u001b[0m\u001b[30m█\u001b[0m\u001b[30m█\u001b[0m\u001b[30m█\u001b[0m|(2380/10000) (0.02s avg time) ETA: ~03 min -  MSE (TRAIN) : \u001b[93m0.086358\u001b[0m, MSE (VAL) : \u001b[96m0.078507\u001b[0m -- BEST Val Loss : \u001b[92m0.078115\u001b[0m (at epoch 1878) Eary Stopping in: 0001   \r"
     ]
    },
    {
     "name": "stderr",
     "output_type": "stream",
     "text": [
      "[I 2024-05-09 09:46:04,295] Trial 430 finished with value: 0.024605203419923782 and parameters: {'std': 0.022099999999999998, 'num_layers': 2, 'units_0': 176, 'units_1': 144, 'freezed_layer_from_right': 1}. Best is trial 381 with value: 0.01678026281297207.\n"
     ]
    },
    {
     "name": "stdout",
     "output_type": "stream",
     "text": [
      "|\u001b[92m█\u001b[0m\u001b[92m█\u001b[0m\u001b[30m█\u001b[0m\u001b[30m█\u001b[0m\u001b[30m█\u001b[0m\u001b[30m█\u001b[0m\u001b[30m█\u001b[0m\u001b[30m█\u001b[0m\u001b[30m█\u001b[0m\u001b[30m█\u001b[0m\u001b[30m█\u001b[0m\u001b[30m█\u001b[0m\u001b[30m█\u001b[0m\u001b[30m█\u001b[0m\u001b[30m█\u001b[0m\u001b[30m█\u001b[0m\u001b[30m█\u001b[0m\u001b[30m█\u001b[0m\u001b[30m█\u001b[0m\u001b[30m█\u001b[0m|(1344/10000) (0.02s avg time) ETA: ~04 min -  MSE (TRAIN) : \u001b[93m0.111500\u001b[0m, MSE (VAL) : \u001b[96m0.113609\u001b[0m -- BEST Val Loss : \u001b[92m0.102745\u001b[0m (at epoch 842) Eary Stopping in: 0001   \r"
     ]
    },
    {
     "name": "stderr",
     "output_type": "stream",
     "text": [
      "[I 2024-05-09 09:47:20,531] Trial 431 finished with value: 0.022964367642998695 and parameters: {'std': 0.0201, 'num_layers': 2, 'units_0': 176, 'units_1': 144, 'freezed_layer_from_right': 1}. Best is trial 381 with value: 0.01678026281297207.\n"
     ]
    },
    {
     "name": "stdout",
     "output_type": "stream",
     "text": [
      "|\u001b[92m█\u001b[0m\u001b[92m█\u001b[0m\u001b[92m█\u001b[0m\u001b[30m█\u001b[0m\u001b[30m█\u001b[0m\u001b[30m█\u001b[0m\u001b[30m█\u001b[0m\u001b[30m█\u001b[0m\u001b[30m█\u001b[0m\u001b[30m█\u001b[0m\u001b[30m█\u001b[0m\u001b[30m█\u001b[0m\u001b[30m█\u001b[0m\u001b[30m█\u001b[0m\u001b[30m█\u001b[0m\u001b[30m█\u001b[0m\u001b[30m█\u001b[0m\u001b[30m█\u001b[0m\u001b[30m█\u001b[0m\u001b[30m█\u001b[0m|(1708/10000) (0.02s avg time) ETA: ~04 min -  MSE (TRAIN) : \u001b[93m0.103085\u001b[0m, MSE (VAL) : \u001b[96m0.098930\u001b[0m -- BEST Val Loss : \u001b[92m0.095850\u001b[0m (at epoch 1206) Eary Stopping in: 0001   \r"
     ]
    },
    {
     "name": "stderr",
     "output_type": "stream",
     "text": [
      "[I 2024-05-09 09:49:03,935] Trial 432 finished with value: 0.021641820669174194 and parameters: {'std': 0.0211, 'num_layers': 2, 'units_0': 176, 'units_1': 144, 'freezed_layer_from_right': 1}. Best is trial 381 with value: 0.01678026281297207.\n"
     ]
    },
    {
     "name": "stdout",
     "output_type": "stream",
     "text": [
      "|\u001b[92m█\u001b[0m\u001b[30m█\u001b[0m\u001b[30m█\u001b[0m\u001b[30m█\u001b[0m\u001b[30m█\u001b[0m\u001b[30m█\u001b[0m\u001b[30m█\u001b[0m\u001b[30m█\u001b[0m\u001b[30m█\u001b[0m\u001b[30m█\u001b[0m\u001b[30m█\u001b[0m\u001b[30m█\u001b[0m\u001b[30m█\u001b[0m\u001b[30m█\u001b[0m\u001b[30m█\u001b[0m\u001b[30m█\u001b[0m\u001b[30m█\u001b[0m\u001b[30m█\u001b[0m\u001b[30m█\u001b[0m\u001b[30m█\u001b[0m|(890/10000) (0.02s avg time) ETA: ~04 min -  MSE (TRAIN) : \u001b[93m0.114437\u001b[0m, MSE (VAL) : \u001b[96m0.108462\u001b[0m -- BEST Val Loss : \u001b[92m0.106782\u001b[0m (at epoch 388) Eary Stopping in: 0001   \r"
     ]
    },
    {
     "name": "stderr",
     "output_type": "stream",
     "text": [
      "[I 2024-05-09 09:51:18,864] Trial 433 finished with value: 0.021707139909267426 and parameters: {'std': 0.0171, 'num_layers': 2, 'units_0': 176, 'units_1': 144, 'freezed_layer_from_right': 1}. Best is trial 381 with value: 0.01678026281297207.\n"
     ]
    },
    {
     "name": "stdout",
     "output_type": "stream",
     "text": [
      "|\u001b[92m█\u001b[0m\u001b[92m█\u001b[0m\u001b[92m█\u001b[0m\u001b[30m█\u001b[0m\u001b[30m█\u001b[0m\u001b[30m█\u001b[0m\u001b[30m█\u001b[0m\u001b[30m█\u001b[0m\u001b[30m█\u001b[0m\u001b[30m█\u001b[0m\u001b[30m█\u001b[0m\u001b[30m█\u001b[0m\u001b[30m█\u001b[0m\u001b[30m█\u001b[0m\u001b[30m█\u001b[0m\u001b[30m█\u001b[0m\u001b[30m█\u001b[0m\u001b[30m█\u001b[0m\u001b[30m█\u001b[0m\u001b[30m█\u001b[0m|(1993/10000) (0.02s avg time) ETA: ~03 min -  MSE (TRAIN) : \u001b[93m0.105361\u001b[0m, MSE (VAL) : \u001b[96m0.113893\u001b[0m -- BEST Val Loss : \u001b[92m0.097970\u001b[0m (at epoch 1491) Eary Stopping in: 0001   \r"
     ]
    },
    {
     "name": "stderr",
     "output_type": "stream",
     "text": [
      "[I 2024-05-09 09:53:41,021] Trial 434 finished with value: 0.02038593217730522 and parameters: {'std': 0.0186, 'num_layers': 2, 'units_0': 176, 'units_1': 128, 'freezed_layer_from_right': 1}. Best is trial 381 with value: 0.01678026281297207.\n"
     ]
    },
    {
     "name": "stdout",
     "output_type": "stream",
     "text": [
      "|\u001b[92m█\u001b[0m\u001b[92m█\u001b[0m\u001b[92m█\u001b[0m\u001b[30m█\u001b[0m\u001b[30m█\u001b[0m\u001b[30m█\u001b[0m\u001b[30m█\u001b[0m\u001b[30m█\u001b[0m\u001b[30m█\u001b[0m\u001b[30m█\u001b[0m\u001b[30m█\u001b[0m\u001b[30m█\u001b[0m\u001b[30m█\u001b[0m\u001b[30m█\u001b[0m\u001b[30m█\u001b[0m\u001b[30m█\u001b[0m\u001b[30m█\u001b[0m\u001b[30m█\u001b[0m\u001b[30m█\u001b[0m\u001b[30m█\u001b[0m|(1767/10000) (0.02s avg time) ETA: ~04 min -  MSE (TRAIN) : \u001b[93m0.058830\u001b[0m, MSE (VAL) : \u001b[96m0.049205\u001b[0m -- BEST Val Loss : \u001b[92m0.039674\u001b[0m (at epoch 1265) Eary Stopping in: 0001   \r"
     ]
    },
    {
     "name": "stderr",
     "output_type": "stream",
     "text": [
      "[I 2024-05-09 09:55:10,554] Trial 435 finished with value: 0.03708338364958763 and parameters: {'std': 0.042600000000000006, 'num_layers': 2, 'units_0': 176, 'units_1': 144, 'freezed_layer_from_right': 1}. Best is trial 381 with value: 0.01678026281297207.\n"
     ]
    },
    {
     "name": "stdout",
     "output_type": "stream",
     "text": [
      "|\u001b[92m█\u001b[0m\u001b[92m█\u001b[0m\u001b[92m█\u001b[0m\u001b[30m█\u001b[0m\u001b[30m█\u001b[0m\u001b[30m█\u001b[0m\u001b[30m█\u001b[0m\u001b[30m█\u001b[0m\u001b[30m█\u001b[0m\u001b[30m█\u001b[0m\u001b[30m█\u001b[0m\u001b[30m█\u001b[0m\u001b[30m█\u001b[0m\u001b[30m█\u001b[0m\u001b[30m█\u001b[0m\u001b[30m█\u001b[0m\u001b[30m█\u001b[0m\u001b[30m█\u001b[0m\u001b[30m█\u001b[0m\u001b[30m█\u001b[0m|(1538/10000) (0.02s avg time) ETA: ~04 min -  MSE (TRAIN) : \u001b[93m0.110106\u001b[0m, MSE (VAL) : \u001b[96m0.110840\u001b[0m -- BEST Val Loss : \u001b[92m0.106944\u001b[0m (at epoch 1036) Eary Stopping in: 0001   \r"
     ]
    },
    {
     "name": "stderr",
     "output_type": "stream",
     "text": [
      "[I 2024-05-09 09:56:46,026] Trial 436 finished with value: 0.021416787058115005 and parameters: {'std': 0.0156, 'num_layers': 3, 'units_0': 176, 'units_1': 144, 'units_2': 176, 'freezed_layer_from_right': 1}. Best is trial 381 with value: 0.01678026281297207.\n"
     ]
    },
    {
     "name": "stdout",
     "output_type": "stream",
     "text": [
      "|\u001b[92m█\u001b[0m\u001b[92m█\u001b[0m\u001b[92m█\u001b[0m\u001b[92m█\u001b[0m\u001b[92m█\u001b[0m\u001b[92m█\u001b[0m\u001b[30m█\u001b[0m\u001b[30m█\u001b[0m\u001b[30m█\u001b[0m\u001b[30m█\u001b[0m\u001b[30m█\u001b[0m\u001b[30m█\u001b[0m\u001b[30m█\u001b[0m\u001b[30m█\u001b[0m\u001b[30m█\u001b[0m\u001b[30m█\u001b[0m\u001b[30m█\u001b[0m\u001b[30m█\u001b[0m\u001b[30m█\u001b[0m\u001b[30m█\u001b[0m|(3327/10000) (0.02s avg time) ETA: ~03 min -  MSE (TRAIN) : \u001b[93m0.059044\u001b[0m, MSE (VAL) : \u001b[96m0.059048\u001b[0m -- BEST Val Loss : \u001b[92m0.057532\u001b[0m (at epoch 2825) Eary Stopping in: 0001   \r"
     ]
    },
    {
     "name": "stderr",
     "output_type": "stream",
     "text": [
      "[I 2024-05-09 10:01:50,063] Trial 437 finished with value: 0.018215985968708992 and parameters: {'std': 0.0201, 'num_layers': 2, 'units_0': 176, 'units_1': 144, 'freezed_layer_from_right': 1}. Best is trial 381 with value: 0.01678026281297207.\n"
     ]
    },
    {
     "name": "stdout",
     "output_type": "stream",
     "text": [
      "|\u001b[92m█\u001b[0m\u001b[92m█\u001b[0m\u001b[30m█\u001b[0m\u001b[30m█\u001b[0m\u001b[30m█\u001b[0m\u001b[30m█\u001b[0m\u001b[30m█\u001b[0m\u001b[30m█\u001b[0m\u001b[30m█\u001b[0m\u001b[30m█\u001b[0m\u001b[30m█\u001b[0m\u001b[30m█\u001b[0m\u001b[30m█\u001b[0m\u001b[30m█\u001b[0m\u001b[30m█\u001b[0m\u001b[30m█\u001b[0m\u001b[30m█\u001b[0m\u001b[30m█\u001b[0m\u001b[30m█\u001b[0m\u001b[30m█\u001b[0m|(1166/10000) (0.02s avg time) ETA: ~04 min -  MSE (TRAIN) : \u001b[93m0.067906\u001b[0m, MSE (VAL) : \u001b[96m0.063642\u001b[0m -- BEST Val Loss : \u001b[92m0.059957\u001b[0m (at epoch 664) Eary Stopping in: 0001   \r"
     ]
    },
    {
     "name": "stderr",
     "output_type": "stream",
     "text": [
      "[I 2024-05-09 10:05:10,423] Trial 438 finished with value: 0.020743252709507942 and parameters: {'std': 0.0241, 'num_layers': 2, 'units_0': 176, 'units_1': 144, 'freezed_layer_from_right': 1}. Best is trial 381 with value: 0.01678026281297207.\n"
     ]
    },
    {
     "name": "stdout",
     "output_type": "stream",
     "text": [
      "|\u001b[92m█\u001b[0m\u001b[92m█\u001b[0m\u001b[30m█\u001b[0m\u001b[30m█\u001b[0m\u001b[30m█\u001b[0m\u001b[30m█\u001b[0m\u001b[30m█\u001b[0m\u001b[30m█\u001b[0m\u001b[30m█\u001b[0m\u001b[30m█\u001b[0m\u001b[30m█\u001b[0m\u001b[30m█\u001b[0m\u001b[30m█\u001b[0m\u001b[30m█\u001b[0m\u001b[30m█\u001b[0m\u001b[30m█\u001b[0m\u001b[30m█\u001b[0m\u001b[30m█\u001b[0m\u001b[30m█\u001b[0m\u001b[30m█\u001b[0m|(1213/10000) (0.02s avg time) ETA: ~04 min -  MSE (TRAIN) : \u001b[93m0.054769\u001b[0m, MSE (VAL) : \u001b[96m0.055127\u001b[0m -- BEST Val Loss : \u001b[92m0.053855\u001b[0m (at epoch 711) Eary Stopping in: 0001   \r"
     ]
    },
    {
     "name": "stderr",
     "output_type": "stream",
     "text": [
      "[I 2024-05-09 10:09:27,156] Trial 439 finished with value: 0.027646414935588837 and parameters: {'std': 0.022099999999999998, 'num_layers': 2, 'units_0': 176, 'units_1': 128, 'freezed_layer_from_right': 1}. Best is trial 381 with value: 0.01678026281297207.\n"
     ]
    },
    {
     "name": "stdout",
     "output_type": "stream",
     "text": [
      "|\u001b[92m█\u001b[0m\u001b[30m█\u001b[0m\u001b[30m█\u001b[0m\u001b[30m█\u001b[0m\u001b[30m█\u001b[0m\u001b[30m█\u001b[0m\u001b[30m█\u001b[0m\u001b[30m█\u001b[0m\u001b[30m█\u001b[0m\u001b[30m█\u001b[0m\u001b[30m█\u001b[0m\u001b[30m█\u001b[0m\u001b[30m█\u001b[0m\u001b[30m█\u001b[0m\u001b[30m█\u001b[0m\u001b[30m█\u001b[0m\u001b[30m█\u001b[0m\u001b[30m█\u001b[0m\u001b[30m█\u001b[0m\u001b[30m█\u001b[0m|(974/10000) (0.02s avg time) ETA: ~04 min -  MSE (TRAIN) : \u001b[93m0.074015\u001b[0m, MSE (VAL) : \u001b[96m0.078634\u001b[0m -- BEST Val Loss : \u001b[92m0.069263\u001b[0m (at epoch 472) Eary Stopping in: 0001   \r"
     ]
    },
    {
     "name": "stderr",
     "output_type": "stream",
     "text": [
      "[I 2024-05-09 10:12:18,172] Trial 440 finished with value: 0.021037062630057335 and parameters: {'std': 0.0201, 'num_layers': 2, 'units_0': 176, 'units_1': 144, 'freezed_layer_from_right': 1}. Best is trial 381 with value: 0.01678026281297207.\n"
     ]
    },
    {
     "name": "stdout",
     "output_type": "stream",
     "text": [
      "|\u001b[92m█\u001b[0m\u001b[92m█\u001b[0m\u001b[92m█\u001b[0m\u001b[30m█\u001b[0m\u001b[30m█\u001b[0m\u001b[30m█\u001b[0m\u001b[30m█\u001b[0m\u001b[30m█\u001b[0m\u001b[30m█\u001b[0m\u001b[30m█\u001b[0m\u001b[30m█\u001b[0m\u001b[30m█\u001b[0m\u001b[30m█\u001b[0m\u001b[30m█\u001b[0m\u001b[30m█\u001b[0m\u001b[30m█\u001b[0m\u001b[30m█\u001b[0m\u001b[30m█\u001b[0m\u001b[30m█\u001b[0m\u001b[30m█\u001b[0m|(1715/10000) (0.02s avg time) ETA: ~03 min -  MSE (TRAIN) : \u001b[93m0.069549\u001b[0m, MSE (VAL) : \u001b[96m0.073776\u001b[0m -- BEST Val Loss : \u001b[92m0.069449\u001b[0m (at epoch 1213) Eary Stopping in: 0001   \r"
     ]
    },
    {
     "name": "stderr",
     "output_type": "stream",
     "text": [
      "[I 2024-05-09 10:15:01,990] Trial 441 finished with value: 0.021316971629858017 and parameters: {'std': 0.0216, 'num_layers': 2, 'units_0': 176, 'units_1': 144, 'freezed_layer_from_right': 1}. Best is trial 381 with value: 0.01678026281297207.\n"
     ]
    },
    {
     "name": "stdout",
     "output_type": "stream",
     "text": [
      "|\u001b[92m█\u001b[0m\u001b[92m█\u001b[0m\u001b[30m█\u001b[0m\u001b[30m█\u001b[0m\u001b[30m█\u001b[0m\u001b[30m█\u001b[0m\u001b[30m█\u001b[0m\u001b[30m█\u001b[0m\u001b[30m█\u001b[0m\u001b[30m█\u001b[0m\u001b[30m█\u001b[0m\u001b[30m█\u001b[0m\u001b[30m█\u001b[0m\u001b[30m█\u001b[0m\u001b[30m█\u001b[0m\u001b[30m█\u001b[0m\u001b[30m█\u001b[0m\u001b[30m█\u001b[0m\u001b[30m█\u001b[0m\u001b[30m█\u001b[0m|(1153/10000) (0.02s avg time) ETA: ~04 min -  MSE (TRAIN) : \u001b[93m0.085712\u001b[0m, MSE (VAL) : \u001b[96m0.087040\u001b[0m -- BEST Val Loss : \u001b[92m0.083466\u001b[0m (at epoch 651) Eary Stopping in: 0001   \r"
     ]
    },
    {
     "name": "stderr",
     "output_type": "stream",
     "text": [
      "[I 2024-05-09 10:17:31,754] Trial 442 finished with value: 0.02196292206645012 and parameters: {'std': 0.0191, 'num_layers': 2, 'units_0': 176, 'units_1': 128, 'freezed_layer_from_right': 1}. Best is trial 381 with value: 0.01678026281297207.\n"
     ]
    },
    {
     "name": "stdout",
     "output_type": "stream",
     "text": [
      "|\u001b[92m█\u001b[0m\u001b[92m█\u001b[0m\u001b[92m█\u001b[0m\u001b[92m█\u001b[0m\u001b[30m█\u001b[0m\u001b[30m█\u001b[0m\u001b[30m█\u001b[0m\u001b[30m█\u001b[0m\u001b[30m█\u001b[0m\u001b[30m█\u001b[0m\u001b[30m█\u001b[0m\u001b[30m█\u001b[0m\u001b[30m█\u001b[0m\u001b[30m█\u001b[0m\u001b[30m█\u001b[0m\u001b[30m█\u001b[0m\u001b[30m█\u001b[0m\u001b[30m█\u001b[0m\u001b[30m█\u001b[0m\u001b[30m█\u001b[0m|(2073/10000) (0.02s avg time) ETA: ~03 min -  MSE (TRAIN) : \u001b[93m0.057247\u001b[0m, MSE (VAL) : \u001b[96m0.057537\u001b[0m -- BEST Val Loss : \u001b[92m0.057352\u001b[0m (at epoch 1571) Eary Stopping in: 0001   \r"
     ]
    },
    {
     "name": "stderr",
     "output_type": "stream",
     "text": [
      "[I 2024-05-09 10:22:07,164] Trial 443 finished with value: 0.018135273829102516 and parameters: {'std': 0.0171, 'num_layers': 2, 'units_0': 176, 'units_1': 144, 'freezed_layer_from_right': 1}. Best is trial 381 with value: 0.01678026281297207.\n"
     ]
    },
    {
     "name": "stdout",
     "output_type": "stream",
     "text": [
      "|\u001b[92m█\u001b[0m\u001b[92m█\u001b[0m\u001b[30m█\u001b[0m\u001b[30m█\u001b[0m\u001b[30m█\u001b[0m\u001b[30m█\u001b[0m\u001b[30m█\u001b[0m\u001b[30m█\u001b[0m\u001b[30m█\u001b[0m\u001b[30m█\u001b[0m\u001b[30m█\u001b[0m\u001b[30m█\u001b[0m\u001b[30m█\u001b[0m\u001b[30m█\u001b[0m\u001b[30m█\u001b[0m\u001b[30m█\u001b[0m\u001b[30m█\u001b[0m\u001b[30m█\u001b[0m\u001b[30m█\u001b[0m\u001b[30m█\u001b[0m|(1191/10000) (0.02s avg time) ETA: ~04 min -  MSE (TRAIN) : \u001b[93m0.124152\u001b[0m, MSE (VAL) : \u001b[96m0.088123\u001b[0m -- BEST Val Loss : \u001b[92m0.086266\u001b[0m (at epoch 689) Eary Stopping in: 0001   \r"
     ]
    },
    {
     "name": "stderr",
     "output_type": "stream",
     "text": [
      "[I 2024-05-09 10:24:06,154] Trial 444 finished with value: 0.023796791210770607 and parameters: {'std': 0.0201, 'num_layers': 2, 'units_0': 176, 'units_1': 144, 'freezed_layer_from_right': 1}. Best is trial 381 with value: 0.01678026281297207.\n"
     ]
    },
    {
     "name": "stdout",
     "output_type": "stream",
     "text": [
      "|\u001b[92m█\u001b[0m\u001b[92m█\u001b[0m\u001b[92m█\u001b[0m\u001b[30m█\u001b[0m\u001b[30m█\u001b[0m\u001b[30m█\u001b[0m\u001b[30m█\u001b[0m\u001b[30m█\u001b[0m\u001b[30m█\u001b[0m\u001b[30m█\u001b[0m\u001b[30m█\u001b[0m\u001b[30m█\u001b[0m\u001b[30m█\u001b[0m\u001b[30m█\u001b[0m\u001b[30m█\u001b[0m\u001b[30m█\u001b[0m\u001b[30m█\u001b[0m\u001b[30m█\u001b[0m\u001b[30m█\u001b[0m\u001b[30m█\u001b[0m|(1815/10000) (0.02s avg time) ETA: ~04 min -  MSE (TRAIN) : \u001b[93m0.089221\u001b[0m, MSE (VAL) : \u001b[96m0.094115\u001b[0m -- BEST Val Loss : \u001b[92m0.086511\u001b[0m (at epoch 1313) Eary Stopping in: 0001   \r"
     ]
    },
    {
     "name": "stderr",
     "output_type": "stream",
     "text": [
      "[I 2024-05-09 10:25:52,657] Trial 445 finished with value: 0.02209186926484108 and parameters: {'std': 0.0231, 'num_layers': 2, 'units_0': 176, 'units_1': 144, 'freezed_layer_from_right': 1}. Best is trial 381 with value: 0.01678026281297207.\n"
     ]
    },
    {
     "name": "stdout",
     "output_type": "stream",
     "text": [
      "|\u001b[92m█\u001b[0m\u001b[92m█\u001b[0m\u001b[30m█\u001b[0m\u001b[30m█\u001b[0m\u001b[30m█\u001b[0m\u001b[30m█\u001b[0m\u001b[30m█\u001b[0m\u001b[30m█\u001b[0m\u001b[30m█\u001b[0m\u001b[30m█\u001b[0m\u001b[30m█\u001b[0m\u001b[30m█\u001b[0m\u001b[30m█\u001b[0m\u001b[30m█\u001b[0m\u001b[30m█\u001b[0m\u001b[30m█\u001b[0m\u001b[30m█\u001b[0m\u001b[30m█\u001b[0m\u001b[30m█\u001b[0m\u001b[30m█\u001b[0m|(1143/10000) (0.02s avg time) ETA: ~04 min -  MSE (TRAIN) : \u001b[93m0.058569\u001b[0m, MSE (VAL) : \u001b[96m0.056618\u001b[0m -- BEST Val Loss : \u001b[92m0.056002\u001b[0m (at epoch 641) Eary Stopping in: 0001   \r"
     ]
    },
    {
     "name": "stderr",
     "output_type": "stream",
     "text": [
      "[I 2024-05-09 10:30:10,914] Trial 446 finished with value: 0.02853415347635746 and parameters: {'std': 0.0181, 'num_layers': 2, 'units_0': 176, 'units_1': 144, 'freezed_layer_from_right': 1}. Best is trial 381 with value: 0.01678026281297207.\n"
     ]
    },
    {
     "name": "stdout",
     "output_type": "stream",
     "text": [
      "|\u001b[92m█\u001b[0m\u001b[92m█\u001b[0m\u001b[92m█\u001b[0m\u001b[30m█\u001b[0m\u001b[30m█\u001b[0m\u001b[30m█\u001b[0m\u001b[30m█\u001b[0m\u001b[30m█\u001b[0m\u001b[30m█\u001b[0m\u001b[30m█\u001b[0m\u001b[30m█\u001b[0m\u001b[30m█\u001b[0m\u001b[30m█\u001b[0m\u001b[30m█\u001b[0m\u001b[30m█\u001b[0m\u001b[30m█\u001b[0m\u001b[30m█\u001b[0m\u001b[30m█\u001b[0m\u001b[30m█\u001b[0m\u001b[30m█\u001b[0m|(1535/10000) (0.02s avg time) ETA: ~03 min -  MSE (TRAIN) : \u001b[93m0.075633\u001b[0m, MSE (VAL) : \u001b[96m0.076868\u001b[0m -- BEST Val Loss : \u001b[92m0.074506\u001b[0m (at epoch 1033) Eary Stopping in: 0001   \r"
     ]
    },
    {
     "name": "stderr",
     "output_type": "stream",
     "text": [
      "[I 2024-05-09 10:33:44,793] Trial 447 finished with value: 0.019930902868509293 and parameters: {'std': 0.0171, 'num_layers': 2, 'units_0': 176, 'units_1': 144, 'freezed_layer_from_right': 1}. Best is trial 381 with value: 0.01678026281297207.\n"
     ]
    },
    {
     "name": "stdout",
     "output_type": "stream",
     "text": [
      "|\u001b[92m█\u001b[0m\u001b[92m█\u001b[0m\u001b[92m█\u001b[0m\u001b[30m█\u001b[0m\u001b[30m█\u001b[0m\u001b[30m█\u001b[0m\u001b[30m█\u001b[0m\u001b[30m█\u001b[0m\u001b[30m█\u001b[0m\u001b[30m█\u001b[0m\u001b[30m█\u001b[0m\u001b[30m█\u001b[0m\u001b[30m█\u001b[0m\u001b[30m█\u001b[0m\u001b[30m█\u001b[0m\u001b[30m█\u001b[0m\u001b[30m█\u001b[0m\u001b[30m█\u001b[0m\u001b[30m█\u001b[0m\u001b[30m█\u001b[0m|(1677/10000) (0.02s avg time) ETA: ~04 min -  MSE (TRAIN) : \u001b[93m0.056894\u001b[0m, MSE (VAL) : \u001b[96m0.058143\u001b[0m -- BEST Val Loss : \u001b[92m0.056682\u001b[0m (at epoch 1175) Eary Stopping in: 0001   \r"
     ]
    },
    {
     "name": "stderr",
     "output_type": "stream",
     "text": [
      "[I 2024-05-09 10:38:11,133] Trial 448 finished with value: 0.018620837479829788 and parameters: {'std': 0.0206, 'num_layers': 2, 'units_0': 176, 'units_1': 144, 'freezed_layer_from_right': 1}. Best is trial 381 with value: 0.01678026281297207.\n"
     ]
    },
    {
     "name": "stdout",
     "output_type": "stream",
     "text": [
      "|\u001b[92m█\u001b[0m\u001b[92m█\u001b[0m\u001b[92m█\u001b[0m\u001b[92m█\u001b[0m\u001b[30m█\u001b[0m\u001b[30m█\u001b[0m\u001b[30m█\u001b[0m\u001b[30m█\u001b[0m\u001b[30m█\u001b[0m\u001b[30m█\u001b[0m\u001b[30m█\u001b[0m\u001b[30m█\u001b[0m\u001b[30m█\u001b[0m\u001b[30m█\u001b[0m\u001b[30m█\u001b[0m\u001b[30m█\u001b[0m\u001b[30m█\u001b[0m\u001b[30m█\u001b[0m\u001b[30m█\u001b[0m\u001b[30m█\u001b[0m|(2223/10000) (0.02s avg time) ETA: ~03 min -  MSE (TRAIN) : \u001b[93m0.069150\u001b[0m, MSE (VAL) : \u001b[96m0.071191\u001b[0m -- BEST Val Loss : \u001b[92m0.069881\u001b[0m (at epoch 1721) Eary Stopping in: 0001   \r"
     ]
    },
    {
     "name": "stderr",
     "output_type": "stream",
     "text": [
      "[I 2024-05-09 10:42:51,379] Trial 449 finished with value: 0.02194780483841896 and parameters: {'std': 0.0176, 'num_layers': 2, 'units_0': 48, 'units_1': 144, 'freezed_layer_from_right': 1}. Best is trial 381 with value: 0.01678026281297207.\n"
     ]
    },
    {
     "name": "stdout",
     "output_type": "stream",
     "text": [
      "|\u001b[92m█\u001b[0m\u001b[92m█\u001b[0m\u001b[30m█\u001b[0m\u001b[30m█\u001b[0m\u001b[30m█\u001b[0m\u001b[30m█\u001b[0m\u001b[30m█\u001b[0m\u001b[30m█\u001b[0m\u001b[30m█\u001b[0m\u001b[30m█\u001b[0m\u001b[30m█\u001b[0m\u001b[30m█\u001b[0m\u001b[30m█\u001b[0m\u001b[30m█\u001b[0m\u001b[30m█\u001b[0m\u001b[30m█\u001b[0m\u001b[30m█\u001b[0m\u001b[30m█\u001b[0m\u001b[30m█\u001b[0m\u001b[30m█\u001b[0m|(1453/10000) (0.02s avg time) ETA: ~04 min -  MSE (TRAIN) : \u001b[93m0.068895\u001b[0m, MSE (VAL) : \u001b[96m0.068969\u001b[0m -- BEST Val Loss : \u001b[92m0.067313\u001b[0m (at epoch 951) Eary Stopping in: 0001   \r"
     ]
    },
    {
     "name": "stderr",
     "output_type": "stream",
     "text": [
      "[I 2024-05-09 10:45:35,802] Trial 450 finished with value: 0.019808586686849594 and parameters: {'std': 0.0226, 'num_layers': 2, 'units_0': 176, 'units_1': 144, 'freezed_layer_from_right': 1}. Best is trial 381 with value: 0.01678026281297207.\n"
     ]
    },
    {
     "name": "stdout",
     "output_type": "stream",
     "text": [
      "|\u001b[92m█\u001b[0m\u001b[92m█\u001b[0m\u001b[30m█\u001b[0m\u001b[30m█\u001b[0m\u001b[30m█\u001b[0m\u001b[30m█\u001b[0m\u001b[30m█\u001b[0m\u001b[30m█\u001b[0m\u001b[30m█\u001b[0m\u001b[30m█\u001b[0m\u001b[30m█\u001b[0m\u001b[30m█\u001b[0m\u001b[30m█\u001b[0m\u001b[30m█\u001b[0m\u001b[30m█\u001b[0m\u001b[30m█\u001b[0m\u001b[30m█\u001b[0m\u001b[30m█\u001b[0m\u001b[30m█\u001b[0m\u001b[30m█\u001b[0m|(1481/10000) (0.02s avg time) ETA: ~03 min -  MSE (TRAIN) : \u001b[93m0.064065\u001b[0m, MSE (VAL) : \u001b[96m0.063664\u001b[0m -- BEST Val Loss : \u001b[92m0.061670\u001b[0m (at epoch 979) Eary Stopping in: 0001   \r"
     ]
    },
    {
     "name": "stderr",
     "output_type": "stream",
     "text": [
      "[I 2024-05-09 10:49:59,507] Trial 451 finished with value: 0.0194539874792099 and parameters: {'std': 0.0191, 'num_layers': 2, 'units_0': 176, 'units_1': 128, 'freezed_layer_from_right': 1}. Best is trial 381 with value: 0.01678026281297207.\n"
     ]
    },
    {
     "name": "stdout",
     "output_type": "stream",
     "text": [
      "|\u001b[92m█\u001b[0m\u001b[92m█\u001b[0m\u001b[30m█\u001b[0m\u001b[30m█\u001b[0m\u001b[30m█\u001b[0m\u001b[30m█\u001b[0m\u001b[30m█\u001b[0m\u001b[30m█\u001b[0m\u001b[30m█\u001b[0m\u001b[30m█\u001b[0m\u001b[30m█\u001b[0m\u001b[30m█\u001b[0m\u001b[30m█\u001b[0m\u001b[30m█\u001b[0m\u001b[30m█\u001b[0m\u001b[30m█\u001b[0m\u001b[30m█\u001b[0m\u001b[30m█\u001b[0m\u001b[30m█\u001b[0m\u001b[30m█\u001b[0m|(1337/10000) (0.02s avg time) ETA: ~04 min -  MSE (TRAIN) : \u001b[93m0.059722\u001b[0m, MSE (VAL) : \u001b[96m0.070305\u001b[0m -- BEST Val Loss : \u001b[92m0.059229\u001b[0m (at epoch 835) Eary Stopping in: 0001   \r"
     ]
    },
    {
     "name": "stderr",
     "output_type": "stream",
     "text": [
      "[I 2024-05-09 10:52:59,769] Trial 452 finished with value: 0.01987040415406227 and parameters: {'std': 0.0251, 'num_layers': 2, 'units_0': 176, 'units_1': 144, 'freezed_layer_from_right': 1}. Best is trial 381 with value: 0.01678026281297207.\n"
     ]
    },
    {
     "name": "stdout",
     "output_type": "stream",
     "text": [
      "|\u001b[92m█\u001b[0m\u001b[92m█\u001b[0m\u001b[92m█\u001b[0m\u001b[92m█\u001b[0m\u001b[92m█\u001b[0m\u001b[92m█\u001b[0m\u001b[30m█\u001b[0m\u001b[30m█\u001b[0m\u001b[30m█\u001b[0m\u001b[30m█\u001b[0m\u001b[30m█\u001b[0m\u001b[30m█\u001b[0m\u001b[30m█\u001b[0m\u001b[30m█\u001b[0m\u001b[30m█\u001b[0m\u001b[30m█\u001b[0m\u001b[30m█\u001b[0m\u001b[30m█\u001b[0m\u001b[30m█\u001b[0m\u001b[30m█\u001b[0m|(3374/10000) (0.02s avg time) ETA: ~03 min -  MSE (TRAIN) : \u001b[93m0.050119\u001b[0m, MSE (VAL) : \u001b[96m0.049882\u001b[0m -- BEST Val Loss : \u001b[92m0.049489\u001b[0m (at epoch 2872) Eary Stopping in: 0001   \r"
     ]
    },
    {
     "name": "stderr",
     "output_type": "stream",
     "text": [
      "[I 2024-05-09 10:58:06,265] Trial 453 finished with value: 0.01920049451291561 and parameters: {'std': 0.0176, 'num_layers': 3, 'units_0': 176, 'units_1': 144, 'units_2': 128, 'freezed_layer_from_right': 2}. Best is trial 381 with value: 0.01678026281297207.\n"
     ]
    },
    {
     "name": "stdout",
     "output_type": "stream",
     "text": [
      "|\u001b[92m█\u001b[0m\u001b[92m█\u001b[0m\u001b[30m█\u001b[0m\u001b[30m█\u001b[0m\u001b[30m█\u001b[0m\u001b[30m█\u001b[0m\u001b[30m█\u001b[0m\u001b[30m█\u001b[0m\u001b[30m█\u001b[0m\u001b[30m█\u001b[0m\u001b[30m█\u001b[0m\u001b[30m█\u001b[0m\u001b[30m█\u001b[0m\u001b[30m█\u001b[0m\u001b[30m█\u001b[0m\u001b[30m█\u001b[0m\u001b[30m█\u001b[0m\u001b[30m█\u001b[0m\u001b[30m█\u001b[0m\u001b[30m█\u001b[0m|(1219/10000) (0.02s avg time) ETA: ~04 min -  MSE (TRAIN) : \u001b[93m0.086282\u001b[0m, MSE (VAL) : \u001b[96m0.120121\u001b[0m -- BEST Val Loss : \u001b[92m0.081581\u001b[0m (at epoch 717) Eary Stopping in: 0001   \r"
     ]
    },
    {
     "name": "stderr",
     "output_type": "stream",
     "text": [
      "[I 2024-05-09 11:00:18,171] Trial 454 finished with value: 0.020843904465436935 and parameters: {'std': 0.0211, 'num_layers': 2, 'units_0': 176, 'units_1': 144, 'freezed_layer_from_right': 1}. Best is trial 381 with value: 0.01678026281297207.\n"
     ]
    },
    {
     "name": "stdout",
     "output_type": "stream",
     "text": [
      "|\u001b[92m█\u001b[0m\u001b[30m█\u001b[0m\u001b[30m█\u001b[0m\u001b[30m█\u001b[0m\u001b[30m█\u001b[0m\u001b[30m█\u001b[0m\u001b[30m█\u001b[0m\u001b[30m█\u001b[0m\u001b[30m█\u001b[0m\u001b[30m█\u001b[0m\u001b[30m█\u001b[0m\u001b[30m█\u001b[0m\u001b[30m█\u001b[0m\u001b[30m█\u001b[0m\u001b[30m█\u001b[0m\u001b[30m█\u001b[0m\u001b[30m█\u001b[0m\u001b[30m█\u001b[0m\u001b[30m█\u001b[0m\u001b[30m█\u001b[0m|(878/10000) (0.02s avg time) ETA: ~04 min -  MSE (TRAIN) : \u001b[93m0.043472\u001b[0m, MSE (VAL) : \u001b[96m0.043842\u001b[0m -- BEST Val Loss : \u001b[92m0.019577\u001b[0m (at epoch 376) Eary Stopping in: 0001   \r"
     ]
    },
    {
     "name": "stderr",
     "output_type": "stream",
     "text": [
      "[I 2024-05-09 11:02:17,080] Trial 455 finished with value: 0.025251485407352448 and parameters: {'std': 0.07110000000000001, 'num_layers': 2, 'units_0': 176, 'units_1': 144, 'freezed_layer_from_right': 1}. Best is trial 381 with value: 0.01678026281297207.\n"
     ]
    },
    {
     "name": "stdout",
     "output_type": "stream",
     "text": [
      "|\u001b[92m█\u001b[0m\u001b[30m█\u001b[0m\u001b[30m█\u001b[0m\u001b[30m█\u001b[0m\u001b[30m█\u001b[0m\u001b[30m█\u001b[0m\u001b[30m█\u001b[0m\u001b[30m█\u001b[0m\u001b[30m█\u001b[0m\u001b[30m█\u001b[0m\u001b[30m█\u001b[0m\u001b[30m█\u001b[0m\u001b[30m█\u001b[0m\u001b[30m█\u001b[0m\u001b[30m█\u001b[0m\u001b[30m█\u001b[0m\u001b[30m█\u001b[0m\u001b[30m█\u001b[0m\u001b[30m█\u001b[0m\u001b[30m█\u001b[0m|(700/10000) (0.02s avg time) ETA: ~04 min -  MSE (TRAIN) : \u001b[93m0.058799\u001b[0m, MSE (VAL) : \u001b[96m0.061596\u001b[0m -- BEST Val Loss : \u001b[92m0.058167\u001b[0m (at epoch 198) Eary Stopping in: 0001   \r"
     ]
    },
    {
     "name": "stderr",
     "output_type": "stream",
     "text": [
      "[I 2024-05-09 11:06:56,100] Trial 456 finished with value: 0.02074703760445118 and parameters: {'std': 0.0161, 'num_layers': 4, 'units_0': 176, 'units_1': 144, 'units_2': 160, 'units_3': 32, 'freezed_layer_from_right': 1}. Best is trial 381 with value: 0.01678026281297207.\n"
     ]
    },
    {
     "name": "stdout",
     "output_type": "stream",
     "text": [
      "|\u001b[92m█\u001b[0m\u001b[92m█\u001b[0m\u001b[92m█\u001b[0m\u001b[30m█\u001b[0m\u001b[30m█\u001b[0m\u001b[30m█\u001b[0m\u001b[30m█\u001b[0m\u001b[30m█\u001b[0m\u001b[30m█\u001b[0m\u001b[30m█\u001b[0m\u001b[30m█\u001b[0m\u001b[30m█\u001b[0m\u001b[30m█\u001b[0m\u001b[30m█\u001b[0m\u001b[30m█\u001b[0m\u001b[30m█\u001b[0m\u001b[30m█\u001b[0m\u001b[30m█\u001b[0m\u001b[30m█\u001b[0m\u001b[30m█\u001b[0m|(1862/10000) (0.02s avg time) ETA: ~04 min -  MSE (TRAIN) : \u001b[93m0.056376\u001b[0m, MSE (VAL) : \u001b[96m0.057392\u001b[0m -- BEST Val Loss : \u001b[92m0.056788\u001b[0m (at epoch 1360) Eary Stopping in: 0001   \r"
     ]
    },
    {
     "name": "stderr",
     "output_type": "stream",
     "text": [
      "[I 2024-05-09 11:12:32,668] Trial 457 finished with value: 0.01804112084209919 and parameters: {'std': 0.0196, 'num_layers': 2, 'units_0': 176, 'units_1': 144, 'freezed_layer_from_right': 1}. Best is trial 381 with value: 0.01678026281297207.\n"
     ]
    },
    {
     "name": "stdout",
     "output_type": "stream",
     "text": [
      "|\u001b[92m█\u001b[0m\u001b[92m█\u001b[0m\u001b[92m█\u001b[0m\u001b[92m█\u001b[0m\u001b[92m█\u001b[0m\u001b[92m█\u001b[0m\u001b[30m█\u001b[0m\u001b[30m█\u001b[0m\u001b[30m█\u001b[0m\u001b[30m█\u001b[0m\u001b[30m█\u001b[0m\u001b[30m█\u001b[0m\u001b[30m█\u001b[0m\u001b[30m█\u001b[0m\u001b[30m█\u001b[0m\u001b[30m█\u001b[0m\u001b[30m█\u001b[0m\u001b[30m█\u001b[0m\u001b[30m█\u001b[0m\u001b[30m█\u001b[0m|(3314/10000) (0.02s avg time) ETA: ~03 min -  MSE (TRAIN) : \u001b[93m0.059608\u001b[0m, MSE (VAL) : \u001b[96m0.060762\u001b[0m -- BEST Val Loss : \u001b[92m0.059612\u001b[0m (at epoch 2812) Eary Stopping in: 0001   \r"
     ]
    },
    {
     "name": "stderr",
     "output_type": "stream",
     "text": [
      "[I 2024-05-09 11:17:36,529] Trial 458 finished with value: 0.019416319206357002 and parameters: {'std': 0.0131, 'num_layers': 2, 'units_0': 176, 'units_1': 128, 'freezed_layer_from_right': 1}. Best is trial 381 with value: 0.01678026281297207.\n"
     ]
    },
    {
     "name": "stdout",
     "output_type": "stream",
     "text": [
      "|\u001b[92m█\u001b[0m\u001b[92m█\u001b[0m\u001b[92m█\u001b[0m\u001b[30m█\u001b[0m\u001b[30m█\u001b[0m\u001b[30m█\u001b[0m\u001b[30m█\u001b[0m\u001b[30m█\u001b[0m\u001b[30m█\u001b[0m\u001b[30m█\u001b[0m\u001b[30m█\u001b[0m\u001b[30m█\u001b[0m\u001b[30m█\u001b[0m\u001b[30m█\u001b[0m\u001b[30m█\u001b[0m\u001b[30m█\u001b[0m\u001b[30m█\u001b[0m\u001b[30m█\u001b[0m\u001b[30m█\u001b[0m\u001b[30m█\u001b[0m|(1825/10000) (0.02s avg time) ETA: ~04 min -  MSE (TRAIN) : \u001b[93m0.063342\u001b[0m, MSE (VAL) : \u001b[96m0.059827\u001b[0m -- BEST Val Loss : \u001b[92m0.058786\u001b[0m (at epoch 1323) Eary Stopping in: 0001   \r"
     ]
    },
    {
     "name": "stderr",
     "output_type": "stream",
     "text": [
      "[I 2024-05-09 11:22:07,018] Trial 459 finished with value: 0.018196111544966698 and parameters: {'std': 0.0186, 'num_layers': 2, 'units_0': 176, 'units_1': 144, 'freezed_layer_from_right': 1}. Best is trial 381 with value: 0.01678026281297207.\n"
     ]
    },
    {
     "name": "stdout",
     "output_type": "stream",
     "text": [
      "|\u001b[92m█\u001b[0m\u001b[92m█\u001b[0m\u001b[92m█\u001b[0m\u001b[30m█\u001b[0m\u001b[30m█\u001b[0m\u001b[30m█\u001b[0m\u001b[30m█\u001b[0m\u001b[30m█\u001b[0m\u001b[30m█\u001b[0m\u001b[30m█\u001b[0m\u001b[30m█\u001b[0m\u001b[30m█\u001b[0m\u001b[30m█\u001b[0m\u001b[30m█\u001b[0m\u001b[30m█\u001b[0m\u001b[30m█\u001b[0m\u001b[30m█\u001b[0m\u001b[30m█\u001b[0m\u001b[30m█\u001b[0m\u001b[30m█\u001b[0m|(1825/10000) (0.02s avg time) ETA: ~03 min -  MSE (TRAIN) : \u001b[93m0.088915\u001b[0m, MSE (VAL) : \u001b[96m0.094709\u001b[0m -- BEST Val Loss : \u001b[92m0.088379\u001b[0m (at epoch 1323) Eary Stopping in: 0001   \r"
     ]
    },
    {
     "name": "stderr",
     "output_type": "stream",
     "text": [
      "[I 2024-05-09 11:24:14,710] Trial 460 finished with value: 0.019923608750104904 and parameters: {'std': 0.0191, 'num_layers': 2, 'units_0': 176, 'units_1': 144, 'freezed_layer_from_right': 1}. Best is trial 381 with value: 0.01678026281297207.\n"
     ]
    },
    {
     "name": "stdout",
     "output_type": "stream",
     "text": [
      "|\u001b[92m█\u001b[0m\u001b[92m█\u001b[0m\u001b[92m█\u001b[0m\u001b[30m█\u001b[0m\u001b[30m█\u001b[0m\u001b[30m█\u001b[0m\u001b[30m█\u001b[0m\u001b[30m█\u001b[0m\u001b[30m█\u001b[0m\u001b[30m█\u001b[0m\u001b[30m█\u001b[0m\u001b[30m█\u001b[0m\u001b[30m█\u001b[0m\u001b[30m█\u001b[0m\u001b[30m█\u001b[0m\u001b[30m█\u001b[0m\u001b[30m█\u001b[0m\u001b[30m█\u001b[0m\u001b[30m█\u001b[0m\u001b[30m█\u001b[0m|(1761/10000) (0.02s avg time) ETA: ~03 min -  MSE (TRAIN) : \u001b[93m0.079671\u001b[0m, MSE (VAL) : \u001b[96m0.073758\u001b[0m -- BEST Val Loss : \u001b[92m0.072717\u001b[0m (at epoch 1259) Eary Stopping in: 0001   \r"
     ]
    },
    {
     "name": "stderr",
     "output_type": "stream",
     "text": [
      "[I 2024-05-09 11:26:31,234] Trial 461 finished with value: 0.018480852246284485 and parameters: {'std': 0.0226, 'num_layers': 2, 'units_0': 176, 'units_1': 144, 'freezed_layer_from_right': 1}. Best is trial 381 with value: 0.01678026281297207.\n"
     ]
    },
    {
     "name": "stdout",
     "output_type": "stream",
     "text": [
      "|\u001b[92m█\u001b[0m\u001b[92m█\u001b[0m\u001b[92m█\u001b[0m\u001b[92m█\u001b[0m\u001b[30m█\u001b[0m\u001b[30m█\u001b[0m\u001b[30m█\u001b[0m\u001b[30m█\u001b[0m\u001b[30m█\u001b[0m\u001b[30m█\u001b[0m\u001b[30m█\u001b[0m\u001b[30m█\u001b[0m\u001b[30m█\u001b[0m\u001b[30m█\u001b[0m\u001b[30m█\u001b[0m\u001b[30m█\u001b[0m\u001b[30m█\u001b[0m\u001b[30m█\u001b[0m\u001b[30m█\u001b[0m\u001b[30m█\u001b[0m|(2183/10000) (0.02s avg time) ETA: ~03 min -  MSE (TRAIN) : \u001b[93m0.058314\u001b[0m, MSE (VAL) : \u001b[96m0.059014\u001b[0m -- BEST Val Loss : \u001b[92m0.058095\u001b[0m (at epoch 1681) Eary Stopping in: 0001   \r"
     ]
    },
    {
     "name": "stderr",
     "output_type": "stream",
     "text": [
      "[I 2024-05-09 11:31:10,548] Trial 462 finished with value: 0.01808120124042034 and parameters: {'std': 0.0191, 'num_layers': 2, 'units_0': 176, 'units_1': 128, 'freezed_layer_from_right': 1}. Best is trial 381 with value: 0.01678026281297207.\n"
     ]
    },
    {
     "name": "stdout",
     "output_type": "stream",
     "text": [
      "|\u001b[92m█\u001b[0m\u001b[92m█\u001b[0m\u001b[30m█\u001b[0m\u001b[30m█\u001b[0m\u001b[30m█\u001b[0m\u001b[30m█\u001b[0m\u001b[30m█\u001b[0m\u001b[30m█\u001b[0m\u001b[30m█\u001b[0m\u001b[30m█\u001b[0m\u001b[30m█\u001b[0m\u001b[30m█\u001b[0m\u001b[30m█\u001b[0m\u001b[30m█\u001b[0m\u001b[30m█\u001b[0m\u001b[30m█\u001b[0m\u001b[30m█\u001b[0m\u001b[30m█\u001b[0m\u001b[30m█\u001b[0m\u001b[30m█\u001b[0m|(1458/10000) (0.02s avg time) ETA: ~03 min -  MSE (TRAIN) : \u001b[93m0.087768\u001b[0m, MSE (VAL) : \u001b[96m0.090584\u001b[0m -- BEST Val Loss : \u001b[92m0.087464\u001b[0m (at epoch 956) Eary Stopping in: 0001   \r"
     ]
    },
    {
     "name": "stderr",
     "output_type": "stream",
     "text": [
      "[I 2024-05-09 11:34:01,325] Trial 463 finished with value: 0.019867420196533203 and parameters: {'std': 0.0201, 'num_layers': 2, 'units_0': 96, 'units_1': 128, 'freezed_layer_from_right': 1}. Best is trial 381 with value: 0.01678026281297207.\n"
     ]
    },
    {
     "name": "stdout",
     "output_type": "stream",
     "text": [
      "|\u001b[92m█\u001b[0m\u001b[92m█\u001b[0m\u001b[92m█\u001b[0m\u001b[30m█\u001b[0m\u001b[30m█\u001b[0m\u001b[30m█\u001b[0m\u001b[30m█\u001b[0m\u001b[30m█\u001b[0m\u001b[30m█\u001b[0m\u001b[30m█\u001b[0m\u001b[30m█\u001b[0m\u001b[30m█\u001b[0m\u001b[30m█\u001b[0m\u001b[30m█\u001b[0m\u001b[30m█\u001b[0m\u001b[30m█\u001b[0m\u001b[30m█\u001b[0m\u001b[30m█\u001b[0m\u001b[30m█\u001b[0m\u001b[30m█\u001b[0m|(1629/10000) (0.02s avg time) ETA: ~03 min -  MSE (TRAIN) : \u001b[93m0.097006\u001b[0m, MSE (VAL) : \u001b[96m0.098478\u001b[0m -- BEST Val Loss : \u001b[92m0.095110\u001b[0m (at epoch 1127) Eary Stopping in: 0001   \r"
     ]
    },
    {
     "name": "stderr",
     "output_type": "stream",
     "text": [
      "[I 2024-05-09 11:35:14,289] Trial 464 finished with value: 0.019946584478020668 and parameters: {'std': 0.0241, 'num_layers': 2, 'units_0': 176, 'units_1': 128, 'freezed_layer_from_right': 1}. Best is trial 381 with value: 0.01678026281297207.\n"
     ]
    },
    {
     "name": "stdout",
     "output_type": "stream",
     "text": [
      "|\u001b[92m█\u001b[0m\u001b[92m█\u001b[0m\u001b[30m█\u001b[0m\u001b[30m█\u001b[0m\u001b[30m█\u001b[0m\u001b[30m█\u001b[0m\u001b[30m█\u001b[0m\u001b[30m█\u001b[0m\u001b[30m█\u001b[0m\u001b[30m█\u001b[0m\u001b[30m█\u001b[0m\u001b[30m█\u001b[0m\u001b[30m█\u001b[0m\u001b[30m█\u001b[0m\u001b[30m█\u001b[0m\u001b[30m█\u001b[0m\u001b[30m█\u001b[0m\u001b[30m█\u001b[0m\u001b[30m█\u001b[0m\u001b[30m█\u001b[0m|(1403/10000) (0.02s avg time) ETA: ~04 min -  MSE (TRAIN) : \u001b[93m0.057951\u001b[0m, MSE (VAL) : \u001b[96m0.060680\u001b[0m -- BEST Val Loss : \u001b[92m0.057507\u001b[0m (at epoch 901) Eary Stopping in: 0001   \r"
     ]
    },
    {
     "name": "stderr",
     "output_type": "stream",
     "text": [
      "[I 2024-05-09 11:39:40,454] Trial 465 finished with value: 0.019160646945238113 and parameters: {'std': 0.0191, 'num_layers': 3, 'units_0': 176, 'units_1': 128, 'units_2': 96, 'freezed_layer_from_right': 1}. Best is trial 381 with value: 0.01678026281297207.\n"
     ]
    },
    {
     "name": "stdout",
     "output_type": "stream",
     "text": [
      "|\u001b[92m█\u001b[0m\u001b[92m█\u001b[0m\u001b[30m█\u001b[0m\u001b[30m█\u001b[0m\u001b[30m█\u001b[0m\u001b[30m█\u001b[0m\u001b[30m█\u001b[0m\u001b[30m█\u001b[0m\u001b[30m█\u001b[0m\u001b[30m█\u001b[0m\u001b[30m█\u001b[0m\u001b[30m█\u001b[0m\u001b[30m█\u001b[0m\u001b[30m█\u001b[0m\u001b[30m█\u001b[0m\u001b[30m█\u001b[0m\u001b[30m█\u001b[0m\u001b[30m█\u001b[0m\u001b[30m█\u001b[0m\u001b[30m█\u001b[0m|(1048/10000) (0.02s avg time) ETA: ~04 min -  MSE (TRAIN) : \u001b[93m0.087346\u001b[0m, MSE (VAL) : \u001b[96m0.087896\u001b[0m -- BEST Val Loss : \u001b[92m0.084085\u001b[0m (at epoch 546) Eary Stopping in: 0001   \r"
     ]
    },
    {
     "name": "stderr",
     "output_type": "stream",
     "text": [
      "[I 2024-05-09 11:41:13,687] Trial 466 finished with value: 0.02645142562687397 and parameters: {'std': 0.022099999999999998, 'num_layers': 2, 'units_0': 176, 'units_1': 144, 'freezed_layer_from_right': 1}. Best is trial 381 with value: 0.01678026281297207.\n"
     ]
    },
    {
     "name": "stdout",
     "output_type": "stream",
     "text": [
      "|\u001b[92m█\u001b[0m\u001b[92m█\u001b[0m\u001b[92m█\u001b[0m\u001b[30m█\u001b[0m\u001b[30m█\u001b[0m\u001b[30m█\u001b[0m\u001b[30m█\u001b[0m\u001b[30m█\u001b[0m\u001b[30m█\u001b[0m\u001b[30m█\u001b[0m\u001b[30m█\u001b[0m\u001b[30m█\u001b[0m\u001b[30m█\u001b[0m\u001b[30m█\u001b[0m\u001b[30m█\u001b[0m\u001b[30m█\u001b[0m\u001b[30m█\u001b[0m\u001b[30m█\u001b[0m\u001b[30m█\u001b[0m\u001b[30m█\u001b[0m|(1589/10000) (0.02s avg time) ETA: ~04 min -  MSE (TRAIN) : \u001b[93m0.058230\u001b[0m, MSE (VAL) : \u001b[96m0.059757\u001b[0m -- BEST Val Loss : \u001b[92m0.058141\u001b[0m (at epoch 1087) Eary Stopping in: 0001   \r"
     ]
    },
    {
     "name": "stderr",
     "output_type": "stream",
     "text": [
      "[I 2024-05-09 11:45:40,409] Trial 467 finished with value: 0.018405089154839516 and parameters: {'std': 0.0176, 'num_layers': 2, 'units_0': 176, 'units_1': 128, 'freezed_layer_from_right': 1}. Best is trial 381 with value: 0.01678026281297207.\n"
     ]
    },
    {
     "name": "stdout",
     "output_type": "stream",
     "text": [
      "|\u001b[92m█\u001b[0m\u001b[92m█\u001b[0m\u001b[92m█\u001b[0m\u001b[30m█\u001b[0m\u001b[30m█\u001b[0m\u001b[30m█\u001b[0m\u001b[30m█\u001b[0m\u001b[30m█\u001b[0m\u001b[30m█\u001b[0m\u001b[30m█\u001b[0m\u001b[30m█\u001b[0m\u001b[30m█\u001b[0m\u001b[30m█\u001b[0m\u001b[30m█\u001b[0m\u001b[30m█\u001b[0m\u001b[30m█\u001b[0m\u001b[30m█\u001b[0m\u001b[30m█\u001b[0m\u001b[30m█\u001b[0m\u001b[30m█\u001b[0m|(1859/10000) (0.02s avg time) ETA: ~03 min -  MSE (TRAIN) : \u001b[93m0.087545\u001b[0m, MSE (VAL) : \u001b[96m0.084674\u001b[0m -- BEST Val Loss : \u001b[92m0.080850\u001b[0m (at epoch 1357) Eary Stopping in: 0001   \r"
     ]
    },
    {
     "name": "stderr",
     "output_type": "stream",
     "text": [
      "[I 2024-05-09 11:48:32,474] Trial 468 finished with value: 0.019724206998944283 and parameters: {'std': 0.0206, 'num_layers': 2, 'units_0': 176, 'units_1': 128, 'freezed_layer_from_right': 1}. Best is trial 381 with value: 0.01678026281297207.\n"
     ]
    },
    {
     "name": "stdout",
     "output_type": "stream",
     "text": [
      "|\u001b[92m█\u001b[0m\u001b[92m█\u001b[0m\u001b[30m█\u001b[0m\u001b[30m█\u001b[0m\u001b[30m█\u001b[0m\u001b[30m█\u001b[0m\u001b[30m█\u001b[0m\u001b[30m█\u001b[0m\u001b[30m█\u001b[0m\u001b[30m█\u001b[0m\u001b[30m█\u001b[0m\u001b[30m█\u001b[0m\u001b[30m█\u001b[0m\u001b[30m█\u001b[0m\u001b[30m█\u001b[0m\u001b[30m█\u001b[0m\u001b[30m█\u001b[0m\u001b[30m█\u001b[0m\u001b[30m█\u001b[0m\u001b[30m█\u001b[0m|(1408/10000) (0.02s avg time) ETA: ~04 min -  MSE (TRAIN) : \u001b[93m0.067565\u001b[0m, MSE (VAL) : \u001b[96m0.066928\u001b[0m -- BEST Val Loss : \u001b[92m0.065165\u001b[0m (at epoch 906) Eary Stopping in: 0001   \r"
     ]
    },
    {
     "name": "stderr",
     "output_type": "stream",
     "text": [
      "[I 2024-05-09 11:52:54,097] Trial 469 finished with value: 0.017991889268159866 and parameters: {'std': 0.0176, 'num_layers': 2, 'units_0': 176, 'units_1': 128, 'freezed_layer_from_right': 1}. Best is trial 381 with value: 0.01678026281297207.\n"
     ]
    },
    {
     "name": "stdout",
     "output_type": "stream",
     "text": [
      "|\u001b[92m█\u001b[0m\u001b[92m█\u001b[0m\u001b[30m█\u001b[0m\u001b[30m█\u001b[0m\u001b[30m█\u001b[0m\u001b[30m█\u001b[0m\u001b[30m█\u001b[0m\u001b[30m█\u001b[0m\u001b[30m█\u001b[0m\u001b[30m█\u001b[0m\u001b[30m█\u001b[0m\u001b[30m█\u001b[0m\u001b[30m█\u001b[0m\u001b[30m█\u001b[0m\u001b[30m█\u001b[0m\u001b[30m█\u001b[0m\u001b[30m█\u001b[0m\u001b[30m█\u001b[0m\u001b[30m█\u001b[0m\u001b[30m█\u001b[0m|(1388/10000) (0.02s avg time) ETA: ~04 min -  MSE (TRAIN) : \u001b[93m0.112757\u001b[0m, MSE (VAL) : \u001b[96m0.113949\u001b[0m -- BEST Val Loss : \u001b[92m0.110594\u001b[0m (at epoch 886) Eary Stopping in: 0001   \r"
     ]
    },
    {
     "name": "stderr",
     "output_type": "stream",
     "text": [
      "[I 2024-05-09 11:54:44,312] Trial 470 finished with value: 0.022016774863004684 and parameters: {'std': 0.0171, 'num_layers': 2, 'units_0': 176, 'units_1': 128, 'freezed_layer_from_right': 1}. Best is trial 381 with value: 0.01678026281297207.\n"
     ]
    },
    {
     "name": "stdout",
     "output_type": "stream",
     "text": [
      "|\u001b[92m█\u001b[0m\u001b[92m█\u001b[0m\u001b[30m█\u001b[0m\u001b[30m█\u001b[0m\u001b[30m█\u001b[0m\u001b[30m█\u001b[0m\u001b[30m█\u001b[0m\u001b[30m█\u001b[0m\u001b[30m█\u001b[0m\u001b[30m█\u001b[0m\u001b[30m█\u001b[0m\u001b[30m█\u001b[0m\u001b[30m█\u001b[0m\u001b[30m█\u001b[0m\u001b[30m█\u001b[0m\u001b[30m█\u001b[0m\u001b[30m█\u001b[0m\u001b[30m█\u001b[0m\u001b[30m█\u001b[0m\u001b[30m█\u001b[0m|(1486/10000) (0.02s avg time) ETA: ~04 min -  MSE (TRAIN) : \u001b[93m0.114607\u001b[0m, MSE (VAL) : \u001b[96m0.117791\u001b[0m -- BEST Val Loss : \u001b[92m0.109143\u001b[0m (at epoch 984) Eary Stopping in: 0001   \r"
     ]
    },
    {
     "name": "stderr",
     "output_type": "stream",
     "text": [
      "[I 2024-05-09 11:56:21,225] Trial 471 finished with value: 0.021375831216573715 and parameters: {'std': 0.0186, 'num_layers': 2, 'units_0': 176, 'units_1': 128, 'freezed_layer_from_right': 1}. Best is trial 381 with value: 0.01678026281297207.\n"
     ]
    },
    {
     "name": "stdout",
     "output_type": "stream",
     "text": [
      "|\u001b[92m█\u001b[0m\u001b[92m█\u001b[0m\u001b[30m█\u001b[0m\u001b[30m█\u001b[0m\u001b[30m█\u001b[0m\u001b[30m█\u001b[0m\u001b[30m█\u001b[0m\u001b[30m█\u001b[0m\u001b[30m█\u001b[0m\u001b[30m█\u001b[0m\u001b[30m█\u001b[0m\u001b[30m█\u001b[0m\u001b[30m█\u001b[0m\u001b[30m█\u001b[0m\u001b[30m█\u001b[0m\u001b[30m█\u001b[0m\u001b[30m█\u001b[0m\u001b[30m█\u001b[0m\u001b[30m█\u001b[0m\u001b[30m█\u001b[0m|(1305/10000) (0.02s avg time) ETA: ~04 min -  MSE (TRAIN) : \u001b[93m0.062013\u001b[0m, MSE (VAL) : \u001b[96m0.062229\u001b[0m -- BEST Val Loss : \u001b[92m0.061505\u001b[0m (at epoch 803) Eary Stopping in: 0001   \r"
     ]
    },
    {
     "name": "stderr",
     "output_type": "stream",
     "text": [
      "[I 2024-05-09 12:00:41,093] Trial 472 finished with value: 0.020183619111776352 and parameters: {'std': 0.0146, 'num_layers': 2, 'units_0': 176, 'units_1': 128, 'freezed_layer_from_right': 1}. Best is trial 381 with value: 0.01678026281297207.\n"
     ]
    },
    {
     "name": "stdout",
     "output_type": "stream",
     "text": [
      "|\u001b[92m█\u001b[0m\u001b[92m█\u001b[0m\u001b[30m█\u001b[0m\u001b[30m█\u001b[0m\u001b[30m█\u001b[0m\u001b[30m█\u001b[0m\u001b[30m█\u001b[0m\u001b[30m█\u001b[0m\u001b[30m█\u001b[0m\u001b[30m█\u001b[0m\u001b[30m█\u001b[0m\u001b[30m█\u001b[0m\u001b[30m█\u001b[0m\u001b[30m█\u001b[0m\u001b[30m█\u001b[0m\u001b[30m█\u001b[0m\u001b[30m█\u001b[0m\u001b[30m█\u001b[0m\u001b[30m█\u001b[0m\u001b[30m█\u001b[0m|(1371/10000) (0.02s avg time) ETA: ~04 min -  MSE (TRAIN) : \u001b[93m0.065534\u001b[0m, MSE (VAL) : \u001b[96m0.065209\u001b[0m -- BEST Val Loss : \u001b[92m0.064887\u001b[0m (at epoch 869) Eary Stopping in: 0001   \r"
     ]
    },
    {
     "name": "stderr",
     "output_type": "stream",
     "text": [
      "[I 2024-05-09 12:04:58,050] Trial 473 finished with value: 0.018454309552907944 and parameters: {'std': 0.0166, 'num_layers': 2, 'units_0': 176, 'units_1': 128, 'freezed_layer_from_right': 1}. Best is trial 381 with value: 0.01678026281297207.\n"
     ]
    },
    {
     "name": "stdout",
     "output_type": "stream",
     "text": [
      "|\u001b[92m█\u001b[0m\u001b[92m█\u001b[0m\u001b[92m█\u001b[0m\u001b[30m█\u001b[0m\u001b[30m█\u001b[0m\u001b[30m█\u001b[0m\u001b[30m█\u001b[0m\u001b[30m█\u001b[0m\u001b[30m█\u001b[0m\u001b[30m█\u001b[0m\u001b[30m█\u001b[0m\u001b[30m█\u001b[0m\u001b[30m█\u001b[0m\u001b[30m█\u001b[0m\u001b[30m█\u001b[0m\u001b[30m█\u001b[0m\u001b[30m█\u001b[0m\u001b[30m█\u001b[0m\u001b[30m█\u001b[0m\u001b[30m█\u001b[0m|(1850/10000) (0.02s avg time) ETA: ~03 min -  MSE (TRAIN) : \u001b[93m0.109292\u001b[0m, MSE (VAL) : \u001b[96m0.104650\u001b[0m -- BEST Val Loss : \u001b[92m0.100352\u001b[0m (at epoch 1348) Eary Stopping in: 0001   \r"
     ]
    },
    {
     "name": "stderr",
     "output_type": "stream",
     "text": [
      "[I 2024-05-09 12:06:48,075] Trial 474 finished with value: 0.02223055809736252 and parameters: {'std': 0.0211, 'num_layers': 2, 'units_0': 176, 'units_1': 128, 'freezed_layer_from_right': 1}. Best is trial 381 with value: 0.01678026281297207.\n"
     ]
    },
    {
     "name": "stdout",
     "output_type": "stream",
     "text": [
      "|\u001b[92m█\u001b[0m\u001b[92m█\u001b[0m\u001b[92m█\u001b[0m\u001b[92m█\u001b[0m\u001b[30m█\u001b[0m\u001b[30m█\u001b[0m\u001b[30m█\u001b[0m\u001b[30m█\u001b[0m\u001b[30m█\u001b[0m\u001b[30m█\u001b[0m\u001b[30m█\u001b[0m\u001b[30m█\u001b[0m\u001b[30m█\u001b[0m\u001b[30m█\u001b[0m\u001b[30m█\u001b[0m\u001b[30m█\u001b[0m\u001b[30m█\u001b[0m\u001b[30m█\u001b[0m\u001b[30m█\u001b[0m\u001b[30m█\u001b[0m|(2307/10000) (0.02s avg time) ETA: ~03 min -  MSE (TRAIN) : \u001b[93m0.055480\u001b[0m, MSE (VAL) : \u001b[96m0.059633\u001b[0m -- BEST Val Loss : \u001b[92m0.055526\u001b[0m (at epoch 1805) Eary Stopping in: 0001   \r"
     ]
    },
    {
     "name": "stderr",
     "output_type": "stream",
     "text": [
      "[I 2024-05-09 12:11:29,431] Trial 475 finished with value: 0.020888233557343483 and parameters: {'std': 0.0191, 'num_layers': 2, 'units_0': 176, 'units_1': 128, 'freezed_layer_from_right': 1}. Best is trial 381 with value: 0.01678026281297207.\n"
     ]
    },
    {
     "name": "stdout",
     "output_type": "stream",
     "text": [
      "|\u001b[92m█\u001b[0m\u001b[92m█\u001b[0m\u001b[30m█\u001b[0m\u001b[30m█\u001b[0m\u001b[30m█\u001b[0m\u001b[30m█\u001b[0m\u001b[30m█\u001b[0m\u001b[30m█\u001b[0m\u001b[30m█\u001b[0m\u001b[30m█\u001b[0m\u001b[30m█\u001b[0m\u001b[30m█\u001b[0m\u001b[30m█\u001b[0m\u001b[30m█\u001b[0m\u001b[30m█\u001b[0m\u001b[30m█\u001b[0m\u001b[30m█\u001b[0m\u001b[30m█\u001b[0m\u001b[30m█\u001b[0m\u001b[30m█\u001b[0m|(1462/10000) (0.02s avg time) ETA: ~04 min -  MSE (TRAIN) : \u001b[93m0.074926\u001b[0m, MSE (VAL) : \u001b[96m0.076725\u001b[0m -- BEST Val Loss : \u001b[92m0.076079\u001b[0m (at epoch 960) Eary Stopping in: 0001   \r"
     ]
    },
    {
     "name": "stderr",
     "output_type": "stream",
     "text": [
      "[I 2024-05-09 12:15:12,004] Trial 476 finished with value: 0.027239950373768806 and parameters: {'std': 0.0061, 'num_layers': 2, 'units_0': 176, 'units_1': 128, 'freezed_layer_from_right': 1}. Best is trial 381 with value: 0.01678026281297207.\n"
     ]
    },
    {
     "name": "stdout",
     "output_type": "stream",
     "text": [
      "|\u001b[92m█\u001b[0m\u001b[92m█\u001b[0m\u001b[30m█\u001b[0m\u001b[30m█\u001b[0m\u001b[30m█\u001b[0m\u001b[30m█\u001b[0m\u001b[30m█\u001b[0m\u001b[30m█\u001b[0m\u001b[30m█\u001b[0m\u001b[30m█\u001b[0m\u001b[30m█\u001b[0m\u001b[30m█\u001b[0m\u001b[30m█\u001b[0m\u001b[30m█\u001b[0m\u001b[30m█\u001b[0m\u001b[30m█\u001b[0m\u001b[30m█\u001b[0m\u001b[30m█\u001b[0m\u001b[30m█\u001b[0m\u001b[30m█\u001b[0m|(1296/10000) (0.02s avg time) ETA: ~04 min -  MSE (TRAIN) : \u001b[93m0.079566\u001b[0m, MSE (VAL) : \u001b[96m0.105162\u001b[0m -- BEST Val Loss : \u001b[92m0.079291\u001b[0m (at epoch 794) Eary Stopping in: 0001   \r"
     ]
    },
    {
     "name": "stderr",
     "output_type": "stream",
     "text": [
      "[I 2024-05-09 12:16:48,421] Trial 477 finished with value: 0.0232461616396904 and parameters: {'std': 0.0236, 'num_layers': 2, 'units_0': 176, 'units_1': 128, 'freezed_layer_from_right': 1}. Best is trial 381 with value: 0.01678026281297207.\n"
     ]
    },
    {
     "name": "stdout",
     "output_type": "stream",
     "text": [
      "|\u001b[92m█\u001b[0m\u001b[92m█\u001b[0m\u001b[30m█\u001b[0m\u001b[30m█\u001b[0m\u001b[30m█\u001b[0m\u001b[30m█\u001b[0m\u001b[30m█\u001b[0m\u001b[30m█\u001b[0m\u001b[30m█\u001b[0m\u001b[30m█\u001b[0m\u001b[30m█\u001b[0m\u001b[30m█\u001b[0m\u001b[30m█\u001b[0m\u001b[30m█\u001b[0m\u001b[30m█\u001b[0m\u001b[30m█\u001b[0m\u001b[30m█\u001b[0m\u001b[30m█\u001b[0m\u001b[30m█\u001b[0m\u001b[30m█\u001b[0m|(1495/10000) (0.02s avg time) ETA: ~04 min -  MSE (TRAIN) : \u001b[93m0.060955\u001b[0m, MSE (VAL) : \u001b[96m0.062145\u001b[0m -- BEST Val Loss : \u001b[92m0.060245\u001b[0m (at epoch 993) Eary Stopping in: 0001   \r"
     ]
    },
    {
     "name": "stderr",
     "output_type": "stream",
     "text": [
      "[I 2024-05-09 12:21:10,524] Trial 478 finished with value: 0.022016016766428947 and parameters: {'std': 0.0146, 'num_layers': 2, 'units_0': 176, 'units_1': 144, 'freezed_layer_from_right': 1}. Best is trial 381 with value: 0.01678026281297207.\n"
     ]
    },
    {
     "name": "stdout",
     "output_type": "stream",
     "text": [
      "|\u001b[92m█\u001b[0m\u001b[92m█\u001b[0m\u001b[30m█\u001b[0m\u001b[30m█\u001b[0m\u001b[30m█\u001b[0m\u001b[30m█\u001b[0m\u001b[30m█\u001b[0m\u001b[30m█\u001b[0m\u001b[30m█\u001b[0m\u001b[30m█\u001b[0m\u001b[30m█\u001b[0m\u001b[30m█\u001b[0m\u001b[30m█\u001b[0m\u001b[30m█\u001b[0m\u001b[30m█\u001b[0m\u001b[30m█\u001b[0m\u001b[30m█\u001b[0m\u001b[30m█\u001b[0m\u001b[30m█\u001b[0m\u001b[30m█\u001b[0m|(1087/10000) (0.02s avg time) ETA: ~04 min -  MSE (TRAIN) : \u001b[93m0.131388\u001b[0m, MSE (VAL) : \u001b[96m0.141555\u001b[0m -- BEST Val Loss : \u001b[92m0.130100\u001b[0m (at epoch 585) Eary Stopping in: 0001   \r"
     ]
    },
    {
     "name": "stderr",
     "output_type": "stream",
     "text": [
      "[I 2024-05-09 12:22:24,307] Trial 479 finished with value: 0.02035318687558174 and parameters: {'std': 0.0176, 'num_layers': 2, 'units_0': 176, 'units_1': 144, 'freezed_layer_from_right': 1}. Best is trial 381 with value: 0.01678026281297207.\n"
     ]
    },
    {
     "name": "stdout",
     "output_type": "stream",
     "text": [
      "|\u001b[92m█\u001b[0m\u001b[92m█\u001b[0m\u001b[92m█\u001b[0m\u001b[30m█\u001b[0m\u001b[30m█\u001b[0m\u001b[30m█\u001b[0m\u001b[30m█\u001b[0m\u001b[30m█\u001b[0m\u001b[30m█\u001b[0m\u001b[30m█\u001b[0m\u001b[30m█\u001b[0m\u001b[30m█\u001b[0m\u001b[30m█\u001b[0m\u001b[30m█\u001b[0m\u001b[30m█\u001b[0m\u001b[30m█\u001b[0m\u001b[30m█\u001b[0m\u001b[30m█\u001b[0m\u001b[30m█\u001b[0m\u001b[30m█\u001b[0m|(1578/10000) (0.02s avg time) ETA: ~03 min -  MSE (TRAIN) : \u001b[93m0.091357\u001b[0m, MSE (VAL) : \u001b[96m0.093916\u001b[0m -- BEST Val Loss : \u001b[92m0.090632\u001b[0m (at epoch 1076) Eary Stopping in: 0001   \r"
     ]
    },
    {
     "name": "stderr",
     "output_type": "stream",
     "text": [
      "[I 2024-05-09 12:24:30,711] Trial 480 finished with value: 0.018686864525079727 and parameters: {'std': 0.0201, 'num_layers': 2, 'units_0': 176, 'units_1': 128, 'freezed_layer_from_right': 1}. Best is trial 381 with value: 0.01678026281297207.\n"
     ]
    },
    {
     "name": "stdout",
     "output_type": "stream",
     "text": [
      "|\u001b[92m█\u001b[0m\u001b[92m█\u001b[0m\u001b[92m█\u001b[0m\u001b[30m█\u001b[0m\u001b[30m█\u001b[0m\u001b[30m█\u001b[0m\u001b[30m█\u001b[0m\u001b[30m█\u001b[0m\u001b[30m█\u001b[0m\u001b[30m█\u001b[0m\u001b[30m█\u001b[0m\u001b[30m█\u001b[0m\u001b[30m█\u001b[0m\u001b[30m█\u001b[0m\u001b[30m█\u001b[0m\u001b[30m█\u001b[0m\u001b[30m█\u001b[0m\u001b[30m█\u001b[0m\u001b[30m█\u001b[0m\u001b[30m█\u001b[0m|(1682/10000) (0.02s avg time) ETA: ~03 min -  MSE (TRAIN) : \u001b[93m0.060776\u001b[0m, MSE (VAL) : \u001b[96m0.061376\u001b[0m -- BEST Val Loss : \u001b[92m0.059809\u001b[0m (at epoch 1180) Eary Stopping in: 0001   \r"
     ]
    },
    {
     "name": "stderr",
     "output_type": "stream",
     "text": [
      "[I 2024-05-09 12:28:51,488] Trial 481 finished with value: 0.020359518006443977 and parameters: {'std': 0.0166, 'num_layers': 2, 'units_0': 176, 'units_1': 144, 'freezed_layer_from_right': 1}. Best is trial 381 with value: 0.01678026281297207.\n"
     ]
    },
    {
     "name": "stdout",
     "output_type": "stream",
     "text": [
      "|\u001b[92m█\u001b[0m\u001b[92m█\u001b[0m\u001b[92m█\u001b[0m\u001b[92m█\u001b[0m\u001b[30m█\u001b[0m\u001b[30m█\u001b[0m\u001b[30m█\u001b[0m\u001b[30m█\u001b[0m\u001b[30m█\u001b[0m\u001b[30m█\u001b[0m\u001b[30m█\u001b[0m\u001b[30m█\u001b[0m\u001b[30m█\u001b[0m\u001b[30m█\u001b[0m\u001b[30m█\u001b[0m\u001b[30m█\u001b[0m\u001b[30m█\u001b[0m\u001b[30m█\u001b[0m\u001b[30m█\u001b[0m\u001b[30m█\u001b[0m|(2298/10000) (0.03s avg time) ETA: ~04 min -  MSE (TRAIN) : \u001b[93m0.063596\u001b[0m, MSE (VAL) : \u001b[96m0.066635\u001b[0m -- BEST Val Loss : \u001b[92m0.062494\u001b[0m (at epoch 1796) Eary Stopping in: 0001   \r"
     ]
    },
    {
     "name": "stderr",
     "output_type": "stream",
     "text": [
      "[I 2024-05-09 12:34:17,584] Trial 482 finished with value: 0.021244922652840614 and parameters: {'std': 0.0121, 'num_layers': 4, 'units_0': 176, 'units_1': 144, 'units_2': 144, 'units_3': 48, 'freezed_layer_from_right': 2}. Best is trial 381 with value: 0.01678026281297207.\n"
     ]
    },
    {
     "name": "stdout",
     "output_type": "stream",
     "text": [
      "|\u001b[92m█\u001b[0m\u001b[92m█\u001b[0m\u001b[30m█\u001b[0m\u001b[30m█\u001b[0m\u001b[30m█\u001b[0m\u001b[30m█\u001b[0m\u001b[30m█\u001b[0m\u001b[30m█\u001b[0m\u001b[30m█\u001b[0m\u001b[30m█\u001b[0m\u001b[30m█\u001b[0m\u001b[30m█\u001b[0m\u001b[30m█\u001b[0m\u001b[30m█\u001b[0m\u001b[30m█\u001b[0m\u001b[30m█\u001b[0m\u001b[30m█\u001b[0m\u001b[30m█\u001b[0m\u001b[30m█\u001b[0m\u001b[30m█\u001b[0m|(1493/10000) (0.02s avg time) ETA: ~04 min -  MSE (TRAIN) : \u001b[93m0.060004\u001b[0m, MSE (VAL) : \u001b[96m0.063172\u001b[0m -- BEST Val Loss : \u001b[92m0.060594\u001b[0m (at epoch 991) Eary Stopping in: 0001   \r"
     ]
    },
    {
     "name": "stderr",
     "output_type": "stream",
     "text": [
      "[I 2024-05-09 12:38:41,063] Trial 483 finished with value: 0.018495967611670494 and parameters: {'std': 0.0146, 'num_layers': 2, 'units_0': 176, 'units_1': 144, 'freezed_layer_from_right': 1}. Best is trial 381 with value: 0.01678026281297207.\n"
     ]
    },
    {
     "name": "stdout",
     "output_type": "stream",
     "text": [
      "|\u001b[92m█\u001b[0m\u001b[92m█\u001b[0m\u001b[92m█\u001b[0m\u001b[92m█\u001b[0m\u001b[30m█\u001b[0m\u001b[30m█\u001b[0m\u001b[30m█\u001b[0m\u001b[30m█\u001b[0m\u001b[30m█\u001b[0m\u001b[30m█\u001b[0m\u001b[30m█\u001b[0m\u001b[30m█\u001b[0m\u001b[30m█\u001b[0m\u001b[30m█\u001b[0m\u001b[30m█\u001b[0m\u001b[30m█\u001b[0m\u001b[30m█\u001b[0m\u001b[30m█\u001b[0m\u001b[30m█\u001b[0m\u001b[30m█\u001b[0m|(2424/10000) (0.02s avg time) ETA: ~03 min -  MSE (TRAIN) : \u001b[93m0.099748\u001b[0m, MSE (VAL) : \u001b[96m0.100199\u001b[0m -- BEST Val Loss : \u001b[92m0.093946\u001b[0m (at epoch 1922) Eary Stopping in: 0001   \r"
     ]
    },
    {
     "name": "stderr",
     "output_type": "stream",
     "text": [
      "[I 2024-05-09 12:40:28,831] Trial 484 finished with value: 0.022514857351779938 and parameters: {'std': 0.022099999999999998, 'num_layers': 2, 'units_0': 176, 'units_1': 144, 'freezed_layer_from_right': 1}. Best is trial 381 with value: 0.01678026281297207.\n"
     ]
    },
    {
     "name": "stdout",
     "output_type": "stream",
     "text": [
      "|\u001b[92m█\u001b[0m\u001b[92m█\u001b[0m\u001b[30m█\u001b[0m\u001b[30m█\u001b[0m\u001b[30m█\u001b[0m\u001b[30m█\u001b[0m\u001b[30m█\u001b[0m\u001b[30m█\u001b[0m\u001b[30m█\u001b[0m\u001b[30m█\u001b[0m\u001b[30m█\u001b[0m\u001b[30m█\u001b[0m\u001b[30m█\u001b[0m\u001b[30m█\u001b[0m\u001b[30m█\u001b[0m\u001b[30m█\u001b[0m\u001b[30m█\u001b[0m\u001b[30m█\u001b[0m\u001b[30m█\u001b[0m\u001b[30m█\u001b[0m|(1160/10000) (0.02s avg time) ETA: ~04 min -  MSE (TRAIN) : \u001b[93m0.062525\u001b[0m, MSE (VAL) : \u001b[96m0.063181\u001b[0m -- BEST Val Loss : \u001b[92m0.062139\u001b[0m (at epoch 658) Eary Stopping in: 0001   \r"
     ]
    },
    {
     "name": "stderr",
     "output_type": "stream",
     "text": [
      "[I 2024-05-09 12:44:46,894] Trial 485 finished with value: 0.018353264778852463 and parameters: {'std': 0.0186, 'num_layers': 2, 'units_0': 176, 'units_1': 144, 'freezed_layer_from_right': 1}. Best is trial 381 with value: 0.01678026281297207.\n"
     ]
    },
    {
     "name": "stdout",
     "output_type": "stream",
     "text": [
      "|\u001b[92m█\u001b[0m\u001b[92m█\u001b[0m\u001b[30m█\u001b[0m\u001b[30m█\u001b[0m\u001b[30m█\u001b[0m\u001b[30m█\u001b[0m\u001b[30m█\u001b[0m\u001b[30m█\u001b[0m\u001b[30m█\u001b[0m\u001b[30m█\u001b[0m\u001b[30m█\u001b[0m\u001b[30m█\u001b[0m\u001b[30m█\u001b[0m\u001b[30m█\u001b[0m\u001b[30m█\u001b[0m\u001b[30m█\u001b[0m\u001b[30m█\u001b[0m\u001b[30m█\u001b[0m\u001b[30m█\u001b[0m\u001b[30m█\u001b[0m|(1359/10000) (0.02s avg time) ETA: ~04 min -  MSE (TRAIN) : \u001b[93m0.055578\u001b[0m, MSE (VAL) : \u001b[96m0.057513\u001b[0m -- BEST Val Loss : \u001b[92m0.056133\u001b[0m (at epoch 857) Eary Stopping in: 0001   \r"
     ]
    },
    {
     "name": "stderr",
     "output_type": "stream",
     "text": [
      "[I 2024-05-09 12:49:27,612] Trial 486 finished with value: 0.02635699324309826 and parameters: {'std': 0.0161, 'num_layers': 3, 'units_0': 176, 'units_1': 128, 'units_2': 48, 'freezed_layer_from_right': 2}. Best is trial 381 with value: 0.01678026281297207.\n"
     ]
    },
    {
     "name": "stdout",
     "output_type": "stream",
     "text": [
      "|\u001b[92m█\u001b[0m\u001b[92m█\u001b[0m\u001b[30m█\u001b[0m\u001b[30m█\u001b[0m\u001b[30m█\u001b[0m\u001b[30m█\u001b[0m\u001b[30m█\u001b[0m\u001b[30m█\u001b[0m\u001b[30m█\u001b[0m\u001b[30m█\u001b[0m\u001b[30m█\u001b[0m\u001b[30m█\u001b[0m\u001b[30m█\u001b[0m\u001b[30m█\u001b[0m\u001b[30m█\u001b[0m\u001b[30m█\u001b[0m\u001b[30m█\u001b[0m\u001b[30m█\u001b[0m\u001b[30m█\u001b[0m\u001b[30m█\u001b[0m|(1038/10000) (0.02s avg time) ETA: ~04 min -  MSE (TRAIN) : \u001b[93m0.087512\u001b[0m, MSE (VAL) : \u001b[96m0.085561\u001b[0m -- BEST Val Loss : \u001b[92m0.081400\u001b[0m (at epoch 536) Eary Stopping in: 0001   \r"
     ]
    },
    {
     "name": "stderr",
     "output_type": "stream",
     "text": [
      "[I 2024-05-09 12:51:15,801] Trial 487 finished with value: 0.021069418638944626 and parameters: {'std': 0.0206, 'num_layers': 2, 'units_0': 176, 'units_1': 160, 'freezed_layer_from_right': 1}. Best is trial 381 with value: 0.01678026281297207.\n"
     ]
    },
    {
     "name": "stdout",
     "output_type": "stream",
     "text": [
      "|\u001b[92m█\u001b[0m\u001b[92m█\u001b[0m\u001b[30m█\u001b[0m\u001b[30m█\u001b[0m\u001b[30m█\u001b[0m\u001b[30m█\u001b[0m\u001b[30m█\u001b[0m\u001b[30m█\u001b[0m\u001b[30m█\u001b[0m\u001b[30m█\u001b[0m\u001b[30m█\u001b[0m\u001b[30m█\u001b[0m\u001b[30m█\u001b[0m\u001b[30m█\u001b[0m\u001b[30m█\u001b[0m\u001b[30m█\u001b[0m\u001b[30m█\u001b[0m\u001b[30m█\u001b[0m\u001b[30m█\u001b[0m\u001b[30m█\u001b[0m|(1079/10000) (0.02s avg time) ETA: ~04 min -  MSE (TRAIN) : \u001b[93m0.111420\u001b[0m, MSE (VAL) : \u001b[96m0.110079\u001b[0m -- BEST Val Loss : \u001b[92m0.108427\u001b[0m (at epoch 577) Eary Stopping in: 0001   \r"
     ]
    },
    {
     "name": "stderr",
     "output_type": "stream",
     "text": [
      "[I 2024-05-09 12:52:56,827] Trial 488 finished with value: 0.024659432470798492 and parameters: {'std': 0.0181, 'num_layers': 2, 'units_0': 176, 'units_1': 144, 'freezed_layer_from_right': 1}. Best is trial 381 with value: 0.01678026281297207.\n"
     ]
    },
    {
     "name": "stdout",
     "output_type": "stream",
     "text": [
      "|\u001b[92m█\u001b[0m\u001b[92m█\u001b[0m\u001b[92m█\u001b[0m\u001b[30m█\u001b[0m\u001b[30m█\u001b[0m\u001b[30m█\u001b[0m\u001b[30m█\u001b[0m\u001b[30m█\u001b[0m\u001b[30m█\u001b[0m\u001b[30m█\u001b[0m\u001b[30m█\u001b[0m\u001b[30m█\u001b[0m\u001b[30m█\u001b[0m\u001b[30m█\u001b[0m\u001b[30m█\u001b[0m\u001b[30m█\u001b[0m\u001b[30m█\u001b[0m\u001b[30m█\u001b[0m\u001b[30m█\u001b[0m\u001b[30m█\u001b[0m|(1538/10000) (0.02s avg time) ETA: ~04 min -  MSE (TRAIN) : \u001b[93m0.059316\u001b[0m, MSE (VAL) : \u001b[96m0.060218\u001b[0m -- BEST Val Loss : \u001b[92m0.060047\u001b[0m (at epoch 1036) Eary Stopping in: 0001   \r"
     ]
    },
    {
     "name": "stderr",
     "output_type": "stream",
     "text": [
      "[I 2024-05-09 12:57:20,397] Trial 489 finished with value: 0.019919661805033684 and parameters: {'std': 0.0131, 'num_layers': 2, 'units_0': 176, 'units_1': 144, 'freezed_layer_from_right': 1}. Best is trial 381 with value: 0.01678026281297207.\n"
     ]
    },
    {
     "name": "stdout",
     "output_type": "stream",
     "text": [
      "|\u001b[92m█\u001b[0m\u001b[92m█\u001b[0m\u001b[92m█\u001b[0m\u001b[92m█\u001b[0m\u001b[30m█\u001b[0m\u001b[30m█\u001b[0m\u001b[30m█\u001b[0m\u001b[30m█\u001b[0m\u001b[30m█\u001b[0m\u001b[30m█\u001b[0m\u001b[30m█\u001b[0m\u001b[30m█\u001b[0m\u001b[30m█\u001b[0m\u001b[30m█\u001b[0m\u001b[30m█\u001b[0m\u001b[30m█\u001b[0m\u001b[30m█\u001b[0m\u001b[30m█\u001b[0m\u001b[30m█\u001b[0m\u001b[30m█\u001b[0m|(2032/10000) (0.02s avg time) ETA: ~03 min -  MSE (TRAIN) : \u001b[93m0.074481\u001b[0m, MSE (VAL) : \u001b[96m0.077729\u001b[0m -- BEST Val Loss : \u001b[92m0.070702\u001b[0m (at epoch 1530) Eary Stopping in: 0001   \r"
     ]
    },
    {
     "name": "stderr",
     "output_type": "stream",
     "text": [
      "[I 2024-05-09 13:00:20,471] Trial 490 finished with value: 0.018575288355350494 and parameters: {'std': 0.0246, 'num_layers': 2, 'units_0': 176, 'units_1': 128, 'freezed_layer_from_right': 1}. Best is trial 381 with value: 0.01678026281297207.\n"
     ]
    },
    {
     "name": "stdout",
     "output_type": "stream",
     "text": [
      "|\u001b[92m█\u001b[0m\u001b[92m█\u001b[0m\u001b[30m█\u001b[0m\u001b[30m█\u001b[0m\u001b[30m█\u001b[0m\u001b[30m█\u001b[0m\u001b[30m█\u001b[0m\u001b[30m█\u001b[0m\u001b[30m█\u001b[0m\u001b[30m█\u001b[0m\u001b[30m█\u001b[0m\u001b[30m█\u001b[0m\u001b[30m█\u001b[0m\u001b[30m█\u001b[0m\u001b[30m█\u001b[0m\u001b[30m█\u001b[0m\u001b[30m█\u001b[0m\u001b[30m█\u001b[0m\u001b[30m█\u001b[0m\u001b[30m█\u001b[0m|(1368/10000) (0.02s avg time) ETA: ~04 min -  MSE (TRAIN) : \u001b[93m0.081145\u001b[0m, MSE (VAL) : \u001b[96m0.083327\u001b[0m -- BEST Val Loss : \u001b[92m0.081142\u001b[0m (at epoch 866) Eary Stopping in: 0001   \r"
     ]
    },
    {
     "name": "stderr",
     "output_type": "stream",
     "text": [
      "[I 2024-05-09 13:04:40,118] Trial 491 finished with value: 0.025059381499886513 and parameters: {'std': 0.0156, 'num_layers': 2, 'units_0': 32, 'units_1': 112, 'freezed_layer_from_right': 1}. Best is trial 381 with value: 0.01678026281297207.\n"
     ]
    },
    {
     "name": "stdout",
     "output_type": "stream",
     "text": [
      "|\u001b[92m█\u001b[0m\u001b[92m█\u001b[0m\u001b[92m█\u001b[0m\u001b[92m█\u001b[0m\u001b[92m█\u001b[0m\u001b[30m█\u001b[0m\u001b[30m█\u001b[0m\u001b[30m█\u001b[0m\u001b[30m█\u001b[0m\u001b[30m█\u001b[0m\u001b[30m█\u001b[0m\u001b[30m█\u001b[0m\u001b[30m█\u001b[0m\u001b[30m█\u001b[0m\u001b[30m█\u001b[0m\u001b[30m█\u001b[0m\u001b[30m█\u001b[0m\u001b[30m█\u001b[0m\u001b[30m█\u001b[0m\u001b[30m█\u001b[0m|(2504/10000) (0.02s avg time) ETA: ~03 min -  MSE (TRAIN) : \u001b[93m0.080504\u001b[0m, MSE (VAL) : \u001b[96m0.081773\u001b[0m -- BEST Val Loss : \u001b[92m0.081100\u001b[0m (at epoch 2002) Eary Stopping in: 0001   \r"
     ]
    },
    {
     "name": "stderr",
     "output_type": "stream",
     "text": [
      "[I 2024-05-09 13:09:31,163] Trial 492 finished with value: 0.025010770186781883 and parameters: {'std': 0.0196, 'num_layers': 2, 'units_0': 16, 'units_1': 160, 'freezed_layer_from_right': 1}. Best is trial 381 with value: 0.01678026281297207.\n"
     ]
    },
    {
     "name": "stdout",
     "output_type": "stream",
     "text": [
      "|\u001b[92m█\u001b[0m\u001b[92m█\u001b[0m\u001b[30m█\u001b[0m\u001b[30m█\u001b[0m\u001b[30m█\u001b[0m\u001b[30m█\u001b[0m\u001b[30m█\u001b[0m\u001b[30m█\u001b[0m\u001b[30m█\u001b[0m\u001b[30m█\u001b[0m\u001b[30m█\u001b[0m\u001b[30m█\u001b[0m\u001b[30m█\u001b[0m\u001b[30m█\u001b[0m\u001b[30m█\u001b[0m\u001b[30m█\u001b[0m\u001b[30m█\u001b[0m\u001b[30m█\u001b[0m\u001b[30m█\u001b[0m\u001b[30m█\u001b[0m|(1212/10000) (0.02s avg time) ETA: ~04 min -  MSE (TRAIN) : \u001b[93m0.054851\u001b[0m, MSE (VAL) : \u001b[96m0.053442\u001b[0m -- BEST Val Loss : \u001b[92m0.052628\u001b[0m (at epoch 710) Eary Stopping in: 0001   \r"
     ]
    },
    {
     "name": "stderr",
     "output_type": "stream",
     "text": [
      "[I 2024-05-09 13:13:00,431] Trial 493 finished with value: 0.022852186113595963 and parameters: {'std': 0.0261, 'num_layers': 2, 'units_0': 176, 'units_1': 144, 'freezed_layer_from_right': 1}. Best is trial 381 with value: 0.01678026281297207.\n"
     ]
    },
    {
     "name": "stdout",
     "output_type": "stream",
     "text": [
      "|\u001b[92m█\u001b[0m\u001b[92m█\u001b[0m\u001b[92m█\u001b[0m\u001b[30m█\u001b[0m\u001b[30m█\u001b[0m\u001b[30m█\u001b[0m\u001b[30m█\u001b[0m\u001b[30m█\u001b[0m\u001b[30m█\u001b[0m\u001b[30m█\u001b[0m\u001b[30m█\u001b[0m\u001b[30m█\u001b[0m\u001b[30m█\u001b[0m\u001b[30m█\u001b[0m\u001b[30m█\u001b[0m\u001b[30m█\u001b[0m\u001b[30m█\u001b[0m\u001b[30m█\u001b[0m\u001b[30m█\u001b[0m\u001b[30m█\u001b[0m|(1976/10000) (0.02s avg time) ETA: ~04 min -  MSE (TRAIN) : \u001b[93m0.067374\u001b[0m, MSE (VAL) : \u001b[96m0.065343\u001b[0m -- BEST Val Loss : \u001b[92m0.064221\u001b[0m (at epoch 1474) Eary Stopping in: 0001   \r"
     ]
    },
    {
     "name": "stderr",
     "output_type": "stream",
     "text": [
      "[I 2024-05-09 13:16:22,513] Trial 494 finished with value: 0.023718461394309998 and parameters: {'std': 0.0216, 'num_layers': 2, 'units_0': 176, 'units_1': 144, 'freezed_layer_from_right': 1}. Best is trial 381 with value: 0.01678026281297207.\n"
     ]
    },
    {
     "name": "stdout",
     "output_type": "stream",
     "text": [
      "|\u001b[92m█\u001b[0m\u001b[92m█\u001b[0m\u001b[30m█\u001b[0m\u001b[30m█\u001b[0m\u001b[30m█\u001b[0m\u001b[30m█\u001b[0m\u001b[30m█\u001b[0m\u001b[30m█\u001b[0m\u001b[30m█\u001b[0m\u001b[30m█\u001b[0m\u001b[30m█\u001b[0m\u001b[30m█\u001b[0m\u001b[30m█\u001b[0m\u001b[30m█\u001b[0m\u001b[30m█\u001b[0m\u001b[30m█\u001b[0m\u001b[30m█\u001b[0m\u001b[30m█\u001b[0m\u001b[30m█\u001b[0m\u001b[30m█\u001b[0m|(1445/10000) (0.02s avg time) ETA: ~04 min -  MSE (TRAIN) : \u001b[93m0.057027\u001b[0m, MSE (VAL) : \u001b[96m0.058816\u001b[0m -- BEST Val Loss : \u001b[92m0.058013\u001b[0m (at epoch 943) Eary Stopping in: 0001   \r"
     ]
    },
    {
     "name": "stderr",
     "output_type": "stream",
     "text": [
      "[I 2024-05-09 13:20:45,429] Trial 495 finished with value: 0.022736862301826477 and parameters: {'std': 0.0101, 'num_layers': 2, 'units_0': 176, 'units_1': 144, 'freezed_layer_from_right': 1}. Best is trial 381 with value: 0.01678026281297207.\n"
     ]
    },
    {
     "name": "stdout",
     "output_type": "stream",
     "text": [
      "|\u001b[92m█\u001b[0m\u001b[92m█\u001b[0m\u001b[92m█\u001b[0m\u001b[30m█\u001b[0m\u001b[30m█\u001b[0m\u001b[30m█\u001b[0m\u001b[30m█\u001b[0m\u001b[30m█\u001b[0m\u001b[30m█\u001b[0m\u001b[30m█\u001b[0m\u001b[30m█\u001b[0m\u001b[30m█\u001b[0m\u001b[30m█\u001b[0m\u001b[30m█\u001b[0m\u001b[30m█\u001b[0m\u001b[30m█\u001b[0m\u001b[30m█\u001b[0m\u001b[30m█\u001b[0m\u001b[30m█\u001b[0m\u001b[30m█\u001b[0m|(1661/10000) (0.02s avg time) ETA: ~04 min -  MSE (TRAIN) : \u001b[93m0.079281\u001b[0m, MSE (VAL) : \u001b[96m0.085079\u001b[0m -- BEST Val Loss : \u001b[92m0.078598\u001b[0m (at epoch 1159) Eary Stopping in: 0001   \r"
     ]
    },
    {
     "name": "stderr",
     "output_type": "stream",
     "text": [
      "[I 2024-05-09 13:23:21,577] Trial 496 finished with value: 0.023014843463897705 and parameters: {'std': 0.0176, 'num_layers': 2, 'units_0': 176, 'units_1': 160, 'freezed_layer_from_right': 1}. Best is trial 381 with value: 0.01678026281297207.\n"
     ]
    },
    {
     "name": "stdout",
     "output_type": "stream",
     "text": [
      "|\u001b[92m█\u001b[0m\u001b[92m█\u001b[0m\u001b[92m█\u001b[0m\u001b[30m█\u001b[0m\u001b[30m█\u001b[0m\u001b[30m█\u001b[0m\u001b[30m█\u001b[0m\u001b[30m█\u001b[0m\u001b[30m█\u001b[0m\u001b[30m█\u001b[0m\u001b[30m█\u001b[0m\u001b[30m█\u001b[0m\u001b[30m█\u001b[0m\u001b[30m█\u001b[0m\u001b[30m█\u001b[0m\u001b[30m█\u001b[0m\u001b[30m█\u001b[0m\u001b[30m█\u001b[0m\u001b[30m█\u001b[0m\u001b[30m█\u001b[0m|(1561/10000) (0.02s avg time) ETA: ~04 min -  MSE (TRAIN) : \u001b[93m0.114786\u001b[0m, MSE (VAL) : \u001b[96m0.109535\u001b[0m -- BEST Val Loss : \u001b[92m0.107749\u001b[0m (at epoch 1059) Eary Stopping in: 0001   \r"
     ]
    },
    {
     "name": "stderr",
     "output_type": "stream",
     "text": [
      "[I 2024-05-09 13:26:16,908] Trial 497 finished with value: 0.020126307383179665 and parameters: {'std': 0.0146, 'num_layers': 2, 'units_0': 176, 'units_1': 112, 'freezed_layer_from_right': 1}. Best is trial 381 with value: 0.01678026281297207.\n"
     ]
    },
    {
     "name": "stdout",
     "output_type": "stream",
     "text": [
      "|\u001b[92m█\u001b[0m\u001b[92m█\u001b[0m\u001b[92m█\u001b[0m\u001b[92m█\u001b[0m\u001b[30m█\u001b[0m\u001b[30m█\u001b[0m\u001b[30m█\u001b[0m\u001b[30m█\u001b[0m\u001b[30m█\u001b[0m\u001b[30m█\u001b[0m\u001b[30m█\u001b[0m\u001b[30m█\u001b[0m\u001b[30m█\u001b[0m\u001b[30m█\u001b[0m\u001b[30m█\u001b[0m\u001b[30m█\u001b[0m\u001b[30m█\u001b[0m\u001b[30m█\u001b[0m\u001b[30m█\u001b[0m\u001b[30m█\u001b[0m|(2117/10000) (0.02s avg time) ETA: ~04 min -  MSE (TRAIN) : \u001b[93m0.089723\u001b[0m, MSE (VAL) : \u001b[96m0.085758\u001b[0m -- BEST Val Loss : \u001b[92m0.085248\u001b[0m (at epoch 1615) Eary Stopping in: 0001   \r"
     ]
    },
    {
     "name": "stderr",
     "output_type": "stream",
     "text": [
      "[I 2024-05-09 13:28:40,497] Trial 498 finished with value: 0.019584085792303085 and parameters: {'std': 0.0191, 'num_layers': 2, 'units_0': 176, 'units_1': 144, 'freezed_layer_from_right': 1}. Best is trial 381 with value: 0.01678026281297207.\n"
     ]
    },
    {
     "name": "stdout",
     "output_type": "stream",
     "text": [
      "|\u001b[92m█\u001b[0m\u001b[30m█\u001b[0m\u001b[30m█\u001b[0m\u001b[30m█\u001b[0m\u001b[30m█\u001b[0m\u001b[30m█\u001b[0m\u001b[30m█\u001b[0m\u001b[30m█\u001b[0m\u001b[30m█\u001b[0m\u001b[30m█\u001b[0m\u001b[30m█\u001b[0m\u001b[30m█\u001b[0m\u001b[30m█\u001b[0m\u001b[30m█\u001b[0m\u001b[30m█\u001b[0m\u001b[30m█\u001b[0m\u001b[30m█\u001b[0m\u001b[30m█\u001b[0m\u001b[30m█\u001b[0m\u001b[30m█\u001b[0m|(760/10000) (0.02s avg time) ETA: ~04 min -  MSE (TRAIN) : \u001b[93m0.066490\u001b[0m, MSE (VAL) : \u001b[96m0.069623\u001b[0m -- BEST Val Loss : \u001b[92m0.065843\u001b[0m (at epoch 258) Eary Stopping in: 0001   \r"
     ]
    },
    {
     "name": "stderr",
     "output_type": "stream",
     "text": [
      "[I 2024-05-09 13:32:34,824] Trial 499 finished with value: 0.01926419883966446 and parameters: {'std': 0.0166, 'num_layers': 2, 'units_0': 176, 'units_1': 128, 'freezed_layer_from_right': 1}. Best is trial 381 with value: 0.01678026281297207.\n"
     ]
    },
    {
     "name": "stdout",
     "output_type": "stream",
     "text": [
      "Best parameters: {'std': 0.0176, 'num_layers': 2, 'units_0': 160, 'units_1': 144, 'freezed_layer_from_right': 1}\n",
      "Best performance value: 0.01678026281297207\n"
     ]
    }
   ],
   "source": [
    "bnn_lf_model = BNN(\n",
    "    in_dim=len(input_labels),\n",
    "    out_dim=len(output_labels),\n",
    "    mu = 0,\n",
    "    std = 0.0126,\n",
    "    units = [176,176,144,176,176],\n",
    "    denseOut = False,\n",
    "    dropout = False,\n",
    "    device=DEVICE,\n",
    "    activation=nn.LeakyReLU(),\n",
    "    model_name=\"BNN LF\"\n",
    ")\n",
    "bnn_lf_model.load(\"AIModels/BSCW_bnn_tl_2.pt\")\n",
    "\n",
    "def objective(trial):\n",
    "    #mu = trial.suggest_float('mu', -1.5, 1.5, step=0.05)\n",
    "    #std = trial.suggest_float('std', 0.0001, 0.0996, step=0.0005)\n",
    "    units = [trial.suggest_int(f'units_{i}', 16, 176, step=16) for i in range(trial.suggest_int('num_layers', 2, 5, step=1))]\n",
    "    number_of_layers = len(units)\n",
    "    freezed_layer = trial.suggest_int(f'freezed_layer_from_right', 1, number_of_layers-1, step=1)\n",
    "\n",
    "    bnn_df_model = copy.deepcopy(bnn_lf_model)\n",
    "    all_layers = bnn_df_model.getAllLayersName()\n",
    "    bnn_df_model.setModelGradients(False)\n",
    "    bnn_df_model.setModelGradients(True, layers=all_layers[-freezed_layer:])\n",
    "\n",
    "    bnn_df_model.model_name = \"BNN TL\"\n",
    "    bnn_df_model.train(\n",
    "        train_mf,\n",
    "        valid_mf,\n",
    "        n_epochs=10000,\n",
    "        patience=500,\n",
    "        batch_size = BATCH_SIZE,\n",
    "        verbose=False,\n",
    "        plotHistory=False,\n",
    "        show_loadbar=True\n",
    "    )\n",
    "    bnn_df_model_fine_tuned = copy.deepcopy(bnn_df_model) \n",
    "    bnn_df_model_fine_tuned.model_name = \"BNN TL FT\"\n",
    "    bnn_df_model.setModelGradients(False)\n",
    "    bnn_df_model.setModelGradients(True,layers=[\"out_layer\"])\n",
    "    bnn_df_model_fine_tuned.train(\n",
    "        train_hf,\n",
    "        valid_hf,\n",
    "        n_epochs=8000,\n",
    "        lr=0.001,\n",
    "        restoreBestModel=True,\n",
    "        patience=500,\n",
    "        batch_size = 1,\n",
    "        earlyStopping=True\n",
    "    )\n",
    "\n",
    "    errors, _ = bnn_df_model.testModel(test_set=valid_hf,\n",
    "                            scaler=scaler,\n",
    "                            output_labels=output_labels,\n",
    "                            attempt=100)\n",
    "    total_errors = []\n",
    "    \n",
    "    for out_val in range(len(output_labels)):\n",
    "        error_on_output_i = np.array([t[out_val] for t in errors])\n",
    "        # cov_on_output_i = np.array([t[out_val] for t in cov])\n",
    "        # cov_on_output_i = ((cov_on_output_i) / scaler.scalers[output_labels[out_val]][1]) * 100\n",
    "        total_errors.append(np.mean(error_on_output_i))\n",
    "    \n",
    "    return np.sqrt(np.mean(np.array(total_errors)**2))\n",
    "\n",
    "# study_name = 'autoencoder_GCN_optimization_1'\n",
    "# storage_url = 'sqlite:///autoencoder_GCN_optimization_1.db'  # Change to your preferred storage URL\n",
    " \n",
    "# # Create a study object with TPE sampler (Bayesian optimization) and optimize hyperparameters\n",
    "# study = optuna.create_study(study_name=study_name, storage=storage_url, direction='minimize', sampler=optuna.samplers.TPESampler(seed = seed_value))\n",
    "# study.optimize(objective, n_trials=20)  \n",
    "\n",
    "study = optuna.create_study(direction='minimize', sampler=optuna.samplers.TPESampler(seed = SEED))\n",
    "study.optimize(objective, n_trials=N_TRIALS)\n",
    "\n",
    "# Stampa i risultati migliori\n",
    "print('Best parameters:', study.best_params)\n",
    "print('Best performance value:', study.best_value)"
   ]
  },
  {
   "cell_type": "code",
   "execution_count": 3,
   "metadata": {},
   "outputs": [
    {
     "data": {
      "text/plain": [
       "{'std': 0.0176,\n",
       " 'num_layers': 2,\n",
       " 'units_0': 160,\n",
       " 'units_1': 144,\n",
       " 'freezed_layer_from_right': 1}"
      ]
     },
     "execution_count": 3,
     "metadata": {},
     "output_type": "execute_result"
    }
   ],
   "source": [
    "study.best_params"
   ]
  }
 ],
 "metadata": {
  "kernelspec": {
   "display_name": "pytorch-env",
   "language": "python",
   "name": "python3"
  },
  "language_info": {
   "codemirror_mode": {
    "name": "ipython",
    "version": 3
   },
   "file_extension": ".py",
   "mimetype": "text/x-python",
   "name": "python",
   "nbconvert_exporter": "python",
   "pygments_lexer": "ipython3",
   "version": "3.8.18"
  }
 },
 "nbformat": 4,
 "nbformat_minor": 2
}
